{
 "cells": [
  {
   "cell_type": "code",
   "execution_count": 1,
   "id": "b88ee3af-d5b2-4678-854e-8efad4bc71fe",
   "metadata": {},
   "outputs": [],
   "source": [
    "import pandas as pd\n",
    "import pyreadr"
   ]
  },
  {
   "cell_type": "code",
   "execution_count": 5,
   "id": "1ed3b40a-d7dd-4d4e-8a4d-fc2d87583d00",
   "metadata": {},
   "outputs": [],
   "source": [
    "SPID_feats_path = '/home/labs/amit/noamsh/data/mm_2023/feats/spid_genes.csv'\n",
    "MARS_feats_path = '/home/labs/amit/noamsh/data/mm_2023/feats/mars_genes.csv'"
   ]
  },
  {
   "cell_type": "code",
   "execution_count": 10,
   "id": "977ef729-4724-49b5-b50c-13c27e434afa",
   "metadata": {},
   "outputs": [],
   "source": [
    "spid_genes = set(pd.read_csv(SPID_feats_path)['Unnamed: 0'])\n",
    "mars_genes = set(pd.read_csv(MARS_feats_path)['Unnamed: 0'])"
   ]
  },
  {
   "cell_type": "code",
   "execution_count": 21,
   "id": "04c69f22-50e9-4f44-84f8-a8fb3783074b",
   "metadata": {},
   "outputs": [],
   "source": [
    "combined_genes = mars_genes.union(spid_genes)\n",
    "common_genes = mars_genes.intersection(spid_genes)"
   ]
  },
  {
   "cell_type": "code",
   "execution_count": 22,
   "id": "aadd7f92-fbee-4398-8de2-b75c415eb364",
   "metadata": {},
   "outputs": [
    {
     "data": {
      "text/plain": [
       "(2387, 2259, 3862, 784)"
      ]
     },
     "execution_count": 22,
     "metadata": {},
     "output_type": "execute_result"
    }
   ],
   "source": [
    "len(spid_genes), len(mars_genes), len(combined_genes), len(common_genes)"
   ]
  },
  {
   "cell_type": "code",
   "execution_count": 25,
   "id": "466c336e-c0b9-4bf3-9211-f864a8e5bbe0",
   "metadata": {},
   "outputs": [],
   "source": [
    "pd.Series(list(combined_genes)).to_csv('/home/labs/amit/noamsh/data/mm_2023/feats/combined_genes.csv', index=False)\n",
    "pd.Series(list(common_genes)).to_csv('/home/labs/amit/noamsh/data/mm_2023/feats/common_genes.csv', index=False)"
   ]
  },
  {
   "cell_type": "code",
   "execution_count": null,
   "id": "e426b8d7-7e53-45ba-9c24-a22c21681b8e",
   "metadata": {},
   "outputs": [],
   "source": []
  }
 ],
 "metadata": {
  "kernelspec": {
   "display_name": "Python 3 (ipykernel)",
   "language": "python",
   "name": "python3"
  },
  "language_info": {
   "codemirror_mode": {
    "name": "ipython",
    "version": 3
   },
   "file_extension": ".py",
   "mimetype": "text/x-python",
   "name": "python",
   "nbconvert_exporter": "python",
   "pygments_lexer": "ipython3",
   "version": "3.9.18"
  }
 },
 "nbformat": 4,
 "nbformat_minor": 5
}
