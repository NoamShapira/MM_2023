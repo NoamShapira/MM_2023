{
 "cells": [
  {
   "cell_type": "code",
   "execution_count": 1,
   "id": "f6b2be7b-78c7-4f32-9da0-21a021b514ea",
   "metadata": {},
   "outputs": [],
   "source": [
    "%load_ext autoreload\n",
    "%autoreload 2"
   ]
  },
  {
   "cell_type": "code",
   "execution_count": 2,
   "id": "4cf82058-1623-4b9c-838b-7abb78446496",
   "metadata": {},
   "outputs": [],
   "source": [
    "import os\n",
    "import sys\n",
    "from pathlib import Path\n",
    "\n",
    "repo_dir = '/home/labs/amit/noamsh/repos/MM_2023'\n",
    "sys.path.append(repo_dir)"
   ]
  },
  {
   "cell_type": "code",
   "execution_count": 6,
   "id": "6ab38e88-e917-4f41-9650-6e20ada9719a",
   "metadata": {},
   "outputs": [],
   "source": [
    "import pandas as pd\n",
    "import pyreadr"
   ]
  },
  {
   "cell_type": "code",
   "execution_count": 7,
   "id": "83c29c0c-9037-435b-890b-3710550527ca",
   "metadata": {},
   "outputs": [],
   "source": [
    "shuangyi_MM_dir = '/home/labs/amit/shuangyi/Project_MM_2023/'\n",
    "spid_label_path = shuangyi_MM_dir + \"/ann_SPID_20231110_CD45.Rds\"\n",
    "mars_label_path = shuangyi_MM_dir + \"/ann_MARS_20231110_CD45.Rds\"\n",
    "\n",
    "mars_result = pyreadr.read_r(mars_label_path)\n",
    "spid_result = pyreadr.read_r(spid_label_path)\n",
    "\n",
    "df_mars_labels = mars_result[None] \n",
    "df_spid_labels = spid_result[None] \n",
    "\n",
    "label_col = \"Populations\"\n",
    "annot_labels = pd.concat([df_mars_labels[[label_col, \"cID\"]], df_spid_labels[[label_col, \"cID\"]]])"
   ]
  },
  {
   "cell_type": "code",
   "execution_count": 8,
   "id": "926d4b4d-0481-4bdd-8de4-6b183295f0e1",
   "metadata": {},
   "outputs": [],
   "source": [
    "cells_dir = \"/home/labs/amit/noamsh/data/mm_2023/cells\"\n",
    "spid_PC_cells_path = cells_dir + \"/spid_PC_cells.csv\"\n",
    "mars_PC_cells_path = cells_dir + \"/mars_PC_cells.csv\"\n",
    "\n",
    "mars_PC_cID = pd.read_csv(mars_PC_cells_path)['Unnamed: 0']\n",
    "spid_PC_cID = pd.read_csv(spid_PC_cells_path)['Unnamed: 0']\n",
    "\n",
    "# mars_PC_cID\n",
    "all_PC = pd.concat([mars_PC_cID, spid_PC_cID]).reset_index(drop=True)\n",
    "\n",
    "spid_CD45_cells_path = cells_dir + \"/spid_CD45_cells.csv\"\n",
    "mars_CD45_cells_path = cells_dir + \"/mars_CD45_cells.csv\"\n",
    "\n",
    "mars_CD45_cID = pd.read_csv(mars_CD45_cells_path)['Unnamed: 0']\n",
    "spid_CD45_cID = pd.read_csv(spid_CD45_cells_path)['Unnamed: 0']\n",
    "\n",
    "all_CD45 = pd.concat([mars_CD45_cID, spid_CD45_cID]).reset_index(drop=True)\n",
    "\n",
    "super_pop = \"super_Population\"\n",
    "super_pop_df = pd.concat([pd.DataFrame(data={\"cID\": all_PC, super_pop: \"PC\"}),\n",
    "                           pd.DataFrame(data={\"cID\": all_CD45, super_pop: \"CD45\"})]).reset_index(drop=True)"
   ]
  },
  {
   "cell_type": "code",
   "execution_count": 11,
   "id": "c2a0d4ae-7938-4566-95c7-26ce74d87b2d",
   "metadata": {},
   "outputs": [
    {
     "name": "stdout",
     "output_type": "stream",
     "text": [
      "\n",
      "annot - 182924,\n",
      "CD45 cells - 183507, \n",
      "PC cells - 170044,\n",
      "annot-CD45 intersection - 182924,\n",
      "annot-PC intersection - 0)\n",
      "\n"
     ]
    }
   ],
   "source": [
    "print(f\"\"\"\n",
    "annot - {len(annot_labels[\"cID\"])},\n",
    "CD45 cells - {len(all_CD45)}, \n",
    "PC cells - {len(all_PC)},\n",
    "annot-CD45 intersection - {len(set(annot_labels[\"cID\"]).intersection(all_CD45.values))},\n",
    "annot-PC intersection - {len(set(annot_labels[\"cID\"]).intersection(all_PC.values))})\n",
    "\"\"\")"
   ]
  },
  {
   "cell_type": "code",
   "execution_count": 12,
   "id": "cdd3ebcd-8e26-4e17-b791-7da4b6ddf4ee",
   "metadata": {},
   "outputs": [],
   "source": [
    "# from omegaconf import OmegaConf\n",
    "\n",
    "# config_path = Path(repo_dir, 'config.yaml')\n",
    "# conf = OmegaConf.load(config_path)\n",
    "\n",
    "# adata_path = Path(conf.outputs.output_dir, conf.outputs.processed_adata_file_name)\n",
    "# adata_pp = ad.read_h5ad(adata_path)\n",
    "\n",
    "# f\"\"\"\n",
    "# pp_adata - {len(adata_pp)}\n",
    "# pp_adata-CD45 intersection - {len(set(adata_pp.obs_names).intersection(all_CD45.values))} \n",
    "# pp_adata-PC intersection - {len(set(adata_pp.obs_names).intersection(all_PC.values))}\n",
    "# pp_adata-annot intersection - {len(set(adata_pp.obs_names).intersection(all_labels[\"cID\"]))}\n",
    "\n",
    "# pp_adata-no_label - {len(adata_pp) - len(set(adata_pp.obs_names).intersection(pd.concat([all_CD45, all_PC]).values))}\n",
    "# \"\"\")"
   ]
  },
  {
   "cell_type": "code",
   "execution_count": 14,
   "id": "8eddaff7-d60c-4abf-b9e8-e23effe885bc",
   "metadata": {},
   "outputs": [
    {
     "data": {
      "text/html": [
       "<div>\n",
       "<style scoped>\n",
       "    .dataframe tbody tr th:only-of-type {\n",
       "        vertical-align: middle;\n",
       "    }\n",
       "\n",
       "    .dataframe tbody tr th {\n",
       "        vertical-align: top;\n",
       "    }\n",
       "\n",
       "    .dataframe thead th {\n",
       "        text-align: right;\n",
       "    }\n",
       "</style>\n",
       "<table border=\"1\" class=\"dataframe\">\n",
       "  <thead>\n",
       "    <tr style=\"text-align: right;\">\n",
       "      <th></th>\n",
       "      <th>cID</th>\n",
       "      <th>super_Population</th>\n",
       "      <th>Populations</th>\n",
       "    </tr>\n",
       "  </thead>\n",
       "  <tbody>\n",
       "    <tr>\n",
       "      <th>0</th>\n",
       "      <td>W555665</td>\n",
       "      <td>PC</td>\n",
       "      <td>NaN</td>\n",
       "    </tr>\n",
       "    <tr>\n",
       "      <th>1</th>\n",
       "      <td>W555666</td>\n",
       "      <td>PC</td>\n",
       "      <td>NaN</td>\n",
       "    </tr>\n",
       "    <tr>\n",
       "      <th>2</th>\n",
       "      <td>W555667</td>\n",
       "      <td>PC</td>\n",
       "      <td>NaN</td>\n",
       "    </tr>\n",
       "    <tr>\n",
       "      <th>3</th>\n",
       "      <td>W555668</td>\n",
       "      <td>PC</td>\n",
       "      <td>NaN</td>\n",
       "    </tr>\n",
       "    <tr>\n",
       "      <th>4</th>\n",
       "      <td>W555669</td>\n",
       "      <td>PC</td>\n",
       "      <td>NaN</td>\n",
       "    </tr>\n",
       "    <tr>\n",
       "      <th>...</th>\n",
       "      <td>...</td>\n",
       "      <td>...</td>\n",
       "      <td>...</td>\n",
       "    </tr>\n",
       "    <tr>\n",
       "      <th>353546</th>\n",
       "      <td>W4560721</td>\n",
       "      <td>CD45</td>\n",
       "      <td>NK</td>\n",
       "    </tr>\n",
       "    <tr>\n",
       "      <th>353547</th>\n",
       "      <td>W4560722</td>\n",
       "      <td>CD45</td>\n",
       "      <td>Mo</td>\n",
       "    </tr>\n",
       "    <tr>\n",
       "      <th>353548</th>\n",
       "      <td>W4560724</td>\n",
       "      <td>CD45</td>\n",
       "      <td>NK</td>\n",
       "    </tr>\n",
       "    <tr>\n",
       "      <th>353549</th>\n",
       "      <td>W4560726</td>\n",
       "      <td>CD45</td>\n",
       "      <td>Mo_Pro</td>\n",
       "    </tr>\n",
       "    <tr>\n",
       "      <th>353550</th>\n",
       "      <td>W4560728</td>\n",
       "      <td>CD45</td>\n",
       "      <td>T_Effector_GZMB</td>\n",
       "    </tr>\n",
       "  </tbody>\n",
       "</table>\n",
       "<p>353551 rows × 3 columns</p>\n",
       "</div>"
      ],
      "text/plain": [
       "             cID super_Population      Populations\n",
       "0        W555665               PC              NaN\n",
       "1        W555666               PC              NaN\n",
       "2        W555667               PC              NaN\n",
       "3        W555668               PC              NaN\n",
       "4        W555669               PC              NaN\n",
       "...          ...              ...              ...\n",
       "353546  W4560721             CD45               NK\n",
       "353547  W4560722             CD45               Mo\n",
       "353548  W4560724             CD45               NK\n",
       "353549  W4560726             CD45           Mo_Pro\n",
       "353550  W4560728             CD45  T_Effector_GZMB\n",
       "\n",
       "[353551 rows x 3 columns]"
      ]
     },
     "execution_count": 14,
     "metadata": {},
     "output_type": "execute_result"
    }
   ],
   "source": [
    "all_labels = super_pop_df.merge(annot_labels, on=\"cID\", how=\"left\")\n",
    "all_labels"
   ]
  },
  {
   "cell_type": "code",
   "execution_count": 15,
   "id": "54bacb74-7ead-42b3-aac0-5a10c288be36",
   "metadata": {},
   "outputs": [],
   "source": [
    "all_annotation_path = Path(cells_dir, \"cells_snnotation_20231110.csv\")\n",
    "all_labels.to_csv(all_annotation_path, index=False)"
   ]
  },
  {
   "cell_type": "code",
   "execution_count": null,
   "id": "d44e7229-f719-4fa5-a057-dc477d0f4200",
   "metadata": {},
   "outputs": [],
   "source": []
  }
 ],
 "metadata": {
  "kernelspec": {
   "display_name": "Python 3 (ipykernel)",
   "language": "python",
   "name": "python3"
  },
  "language_info": {
   "codemirror_mode": {
    "name": "ipython",
    "version": 3
   },
   "file_extension": ".py",
   "mimetype": "text/x-python",
   "name": "python",
   "nbconvert_exporter": "python",
   "pygments_lexer": "ipython3",
   "version": "3.9.18"
  }
 },
 "nbformat": 4,
 "nbformat_minor": 5
}
