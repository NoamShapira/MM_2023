{
 "cells": [
  {
   "cell_type": "code",
   "execution_count": 1,
   "id": "937fadb2-7339-47ff-b9e9-0b46779c3172",
   "metadata": {},
   "outputs": [],
   "source": [
    "%load_ext autoreload\n",
    "%autoreload 2"
   ]
  },
  {
   "cell_type": "code",
   "execution_count": 2,
   "id": "6e7c2199-b307-4149-be1b-c0e74bc21b52",
   "metadata": {},
   "outputs": [],
   "source": [
    "import os\n",
    "import sys\n",
    "from pathlib import Path\n",
    "\n",
    "from omegaconf import OmegaConf\n",
    "\n",
    "import anndata as ad\n",
    "import pandas as pd\n",
    "import numpy as np\n",
    "\n",
    "repo_dir = '/home/labs/amit/noamsh/repos/MM_2023'\n",
    "sys.path.append(repo_dir)"
   ]
  },
  {
   "cell_type": "markdown",
   "id": "f65ea27c-b4a4-4a7d-9ab3-7950a55c454e",
   "metadata": {},
   "source": [
    "## MARS metadata data"
   ]
  },
  {
   "cell_type": "code",
   "execution_count": 3,
   "id": "3ea90142-db63-405a-88c9-5bbe812a702c",
   "metadata": {},
   "outputs": [
    {
     "name": "stdout",
     "output_type": "stream",
     "text": [
      "(1037, 17)\n"
     ]
    },
    {
     "data": {
      "text/html": [
       "<div>\n",
       "<style scoped>\n",
       "    .dataframe tbody tr th:only-of-type {\n",
       "        vertical-align: middle;\n",
       "    }\n",
       "\n",
       "    .dataframe tbody tr th {\n",
       "        vertical-align: top;\n",
       "    }\n",
       "\n",
       "    .dataframe thead th {\n",
       "        text-align: right;\n",
       "    }\n",
       "</style>\n",
       "<table border=\"1\" class=\"dataframe\">\n",
       "  <thead>\n",
       "    <tr style=\"text-align: right;\">\n",
       "      <th></th>\n",
       "      <th>Amp.Batch.ID</th>\n",
       "      <th>Seq.Batch.ID</th>\n",
       "      <th>Batch.Set.ID</th>\n",
       "      <th>Member</th>\n",
       "      <th>Description</th>\n",
       "      <th>Included</th>\n",
       "      <th>Tissue</th>\n",
       "      <th>Gating</th>\n",
       "      <th>Total.PC</th>\n",
       "      <th>Total.NonPC</th>\n",
       "      <th>Initial.Code</th>\n",
       "      <th>Disease</th>\n",
       "      <th>Project</th>\n",
       "      <th>Cohort</th>\n",
       "      <th>Weizmann.Code</th>\n",
       "      <th>Hospital.Code</th>\n",
       "      <th>Method</th>\n",
       "    </tr>\n",
       "  </thead>\n",
       "  <tbody>\n",
       "    <tr>\n",
       "      <th>0</th>\n",
       "      <td>AB2136</td>\n",
       "      <td>SB113</td>\n",
       "      <td>human_BM</td>\n",
       "      <td>Guy</td>\n",
       "      <td>hip5_PC_1</td>\n",
       "      <td>-</td>\n",
       "      <td>BM</td>\n",
       "      <td>PC</td>\n",
       "      <td>350.0</td>\n",
       "      <td>2.0</td>\n",
       "      <td>hip5</td>\n",
       "      <td>Healthy</td>\n",
       "      <td>Pilot</td>\n",
       "      <td>Healthy</td>\n",
       "      <td>hip1</td>\n",
       "      <td>hip1</td>\n",
       "      <td>MARS</td>\n",
       "    </tr>\n",
       "    <tr>\n",
       "      <th>1</th>\n",
       "      <td>AB2137</td>\n",
       "      <td>SB113</td>\n",
       "      <td>human_BM</td>\n",
       "      <td>Guy</td>\n",
       "      <td>hip5_PC_2</td>\n",
       "      <td>-</td>\n",
       "      <td>BM</td>\n",
       "      <td>PC</td>\n",
       "      <td>349.0</td>\n",
       "      <td>NaN</td>\n",
       "      <td>hip5</td>\n",
       "      <td>Healthy</td>\n",
       "      <td>Pilot</td>\n",
       "      <td>Healthy</td>\n",
       "      <td>hip1</td>\n",
       "      <td>hip1</td>\n",
       "      <td>MARS</td>\n",
       "    </tr>\n",
       "    <tr>\n",
       "      <th>2</th>\n",
       "      <td>AB2138</td>\n",
       "      <td>SB113</td>\n",
       "      <td>human_BM</td>\n",
       "      <td>Guy</td>\n",
       "      <td>hip5_PC_3</td>\n",
       "      <td>-</td>\n",
       "      <td>BM</td>\n",
       "      <td>PC</td>\n",
       "      <td>352.0</td>\n",
       "      <td>1.0</td>\n",
       "      <td>hip5</td>\n",
       "      <td>Healthy</td>\n",
       "      <td>Pilot</td>\n",
       "      <td>Healthy</td>\n",
       "      <td>hip1</td>\n",
       "      <td>hip1</td>\n",
       "      <td>MARS</td>\n",
       "    </tr>\n",
       "    <tr>\n",
       "      <th>3</th>\n",
       "      <td>AB2139</td>\n",
       "      <td>SB113</td>\n",
       "      <td>human_BM</td>\n",
       "      <td>Guy</td>\n",
       "      <td>hip5_hCD45_1</td>\n",
       "      <td>No</td>\n",
       "      <td>BM</td>\n",
       "      <td>CD45</td>\n",
       "      <td>1.0</td>\n",
       "      <td>289.0</td>\n",
       "      <td>hip5</td>\n",
       "      <td>Healthy</td>\n",
       "      <td>Pilot</td>\n",
       "      <td>Healthy</td>\n",
       "      <td>hip1</td>\n",
       "      <td>hip1</td>\n",
       "      <td>MARS</td>\n",
       "    </tr>\n",
       "    <tr>\n",
       "      <th>4</th>\n",
       "      <td>AB2140</td>\n",
       "      <td>SB113</td>\n",
       "      <td>human_BM</td>\n",
       "      <td>Guy</td>\n",
       "      <td>hip5_hCD45_2</td>\n",
       "      <td>No</td>\n",
       "      <td>BM</td>\n",
       "      <td>CD45</td>\n",
       "      <td>NaN</td>\n",
       "      <td>308.0</td>\n",
       "      <td>hip5</td>\n",
       "      <td>Healthy</td>\n",
       "      <td>Pilot</td>\n",
       "      <td>Healthy</td>\n",
       "      <td>hip1</td>\n",
       "      <td>hip1</td>\n",
       "      <td>MARS</td>\n",
       "    </tr>\n",
       "  </tbody>\n",
       "</table>\n",
       "</div>"
      ],
      "text/plain": [
       "  Amp.Batch.ID Seq.Batch.ID Batch.Set.ID Member   Description Included Tissue  \\\n",
       "0       AB2136        SB113     human_BM    Guy     hip5_PC_1        -     BM   \n",
       "1       AB2137        SB113     human_BM    Guy     hip5_PC_2        -     BM   \n",
       "2       AB2138        SB113     human_BM    Guy     hip5_PC_3        -     BM   \n",
       "3       AB2139        SB113     human_BM    Guy  hip5_hCD45_1       No     BM   \n",
       "4       AB2140        SB113     human_BM    Guy  hip5_hCD45_2       No     BM   \n",
       "\n",
       "  Gating  Total.PC  Total.NonPC Initial.Code   Disease Project    Cohort  \\\n",
       "0     PC     350.0          2.0         hip5  Healthy    Pilot  Healthy    \n",
       "1     PC     349.0          NaN         hip5  Healthy    Pilot  Healthy    \n",
       "2     PC     352.0          1.0         hip5  Healthy    Pilot  Healthy    \n",
       "3   CD45       1.0        289.0         hip5  Healthy    Pilot  Healthy    \n",
       "4   CD45       NaN        308.0         hip5  Healthy    Pilot  Healthy    \n",
       "\n",
       "  Weizmann.Code Hospital.Code Method  \n",
       "0          hip1          hip1   MARS  \n",
       "1          hip1          hip1   MARS  \n",
       "2          hip1          hip1   MARS  \n",
       "3          hip1          hip1   MARS  \n",
       "4          hip1          hip1   MARS  "
      ]
     },
     "execution_count": 3,
     "metadata": {},
     "output_type": "execute_result"
    }
   ],
   "source": [
    "mars_plates = pd.read_csv(\"/home/labs/amit/shuangyi/Project_MM_2023/metadata_MM_MARS_20230713.txt\", sep=\"\\t\")\n",
    "mars_plates[\"Method\"] = \"MARS\"\n",
    "print(mars_plates.shape)\n",
    "mars_plates.head()"
   ]
  },
  {
   "cell_type": "markdown",
   "id": "7bf9e279-e1e2-4692-9e63-65056086a096",
   "metadata": {},
   "source": [
    "## SPID metadata data"
   ]
  },
  {
   "cell_type": "code",
   "execution_count": 4,
   "id": "81c786d0-6ec9-4892-9f3a-adcf84287f3d",
   "metadata": {},
   "outputs": [
    {
     "name": "stdout",
     "output_type": "stream",
     "text": [
      "(508, 14)\n"
     ]
    },
    {
     "data": {
      "text/html": [
       "<div>\n",
       "<style scoped>\n",
       "    .dataframe tbody tr th:only-of-type {\n",
       "        vertical-align: middle;\n",
       "    }\n",
       "\n",
       "    .dataframe tbody tr th {\n",
       "        vertical-align: top;\n",
       "    }\n",
       "\n",
       "    .dataframe thead th {\n",
       "        text-align: right;\n",
       "    }\n",
       "</style>\n",
       "<table border=\"1\" class=\"dataframe\">\n",
       "  <thead>\n",
       "    <tr style=\"text-align: right;\">\n",
       "      <th></th>\n",
       "      <th>Amp.Batch.ID</th>\n",
       "      <th>Seq.Batch.ID</th>\n",
       "      <th>Batch.Set.ID</th>\n",
       "      <th>Included</th>\n",
       "      <th>Tissue</th>\n",
       "      <th>Gating</th>\n",
       "      <th>Total.PC</th>\n",
       "      <th>Total.NonPC</th>\n",
       "      <th>Initial.Code</th>\n",
       "      <th>Disease</th>\n",
       "      <th>Project</th>\n",
       "      <th>Cohort</th>\n",
       "      <th>Weizmann.Code</th>\n",
       "      <th>Method</th>\n",
       "    </tr>\n",
       "  </thead>\n",
       "  <tbody>\n",
       "    <tr>\n",
       "      <th>0</th>\n",
       "      <td>AB5597</td>\n",
       "      <td>SB173</td>\n",
       "      <td>Biomek SPID CIA06 1X 15min CD45_1</td>\n",
       "      <td>-</td>\n",
       "      <td>BM</td>\n",
       "      <td>CD45</td>\n",
       "      <td>1.0</td>\n",
       "      <td>65.0</td>\n",
       "      <td>TLV53</td>\n",
       "      <td>RRMM</td>\n",
       "      <td>TLV</td>\n",
       "      <td>TLV</td>\n",
       "      <td>TLV53</td>\n",
       "      <td>SPID</td>\n",
       "    </tr>\n",
       "    <tr>\n",
       "      <th>1</th>\n",
       "      <td>AB5598</td>\n",
       "      <td>SB173</td>\n",
       "      <td>Biomek SPID CIA06 1X 15min All cells</td>\n",
       "      <td>-</td>\n",
       "      <td>BM</td>\n",
       "      <td>NaN</td>\n",
       "      <td>2.0</td>\n",
       "      <td>30.0</td>\n",
       "      <td>TLV53</td>\n",
       "      <td>RRMM</td>\n",
       "      <td>TLV</td>\n",
       "      <td>TLV</td>\n",
       "      <td>TLV53</td>\n",
       "      <td>SPID</td>\n",
       "    </tr>\n",
       "    <tr>\n",
       "      <th>2</th>\n",
       "      <td>AB5599</td>\n",
       "      <td>SB173</td>\n",
       "      <td>Biomek SPID CIA06 Mechanic PC1</td>\n",
       "      <td>-</td>\n",
       "      <td>BM</td>\n",
       "      <td>PC</td>\n",
       "      <td>160.0</td>\n",
       "      <td>14.0</td>\n",
       "      <td>TLV53</td>\n",
       "      <td>RRMM</td>\n",
       "      <td>TLV</td>\n",
       "      <td>TLV</td>\n",
       "      <td>TLV53</td>\n",
       "      <td>SPID</td>\n",
       "    </tr>\n",
       "    <tr>\n",
       "      <th>3</th>\n",
       "      <td>AB5600</td>\n",
       "      <td>SB173</td>\n",
       "      <td>Biomek SPID CIA06 1X 15min PC_1</td>\n",
       "      <td>-</td>\n",
       "      <td>BM</td>\n",
       "      <td>PC</td>\n",
       "      <td>141.0</td>\n",
       "      <td>56.0</td>\n",
       "      <td>TLV53</td>\n",
       "      <td>RRMM</td>\n",
       "      <td>TLV</td>\n",
       "      <td>TLV</td>\n",
       "      <td>TLV53</td>\n",
       "      <td>SPID</td>\n",
       "    </tr>\n",
       "    <tr>\n",
       "      <th>4</th>\n",
       "      <td>AB5601</td>\n",
       "      <td>SB173</td>\n",
       "      <td>Biomek SPID CIA06 1X 15min PC_2</td>\n",
       "      <td>-</td>\n",
       "      <td>BM</td>\n",
       "      <td>PC</td>\n",
       "      <td>146.0</td>\n",
       "      <td>69.0</td>\n",
       "      <td>TLV53</td>\n",
       "      <td>RRMM</td>\n",
       "      <td>TLV</td>\n",
       "      <td>TLV</td>\n",
       "      <td>TLV53</td>\n",
       "      <td>SPID</td>\n",
       "    </tr>\n",
       "  </tbody>\n",
       "</table>\n",
       "</div>"
      ],
      "text/plain": [
       "  Amp.Batch.ID Seq.Batch.ID                          Batch.Set.ID Included  \\\n",
       "0       AB5597        SB173     Biomek SPID CIA06 1X 15min CD45_1        -   \n",
       "1       AB5598        SB173  Biomek SPID CIA06 1X 15min All cells        -   \n",
       "2       AB5599        SB173        Biomek SPID CIA06 Mechanic PC1        -   \n",
       "3       AB5600        SB173       Biomek SPID CIA06 1X 15min PC_1        -   \n",
       "4       AB5601        SB173       Biomek SPID CIA06 1X 15min PC_2        -   \n",
       "\n",
       "  Tissue Gating  Total.PC  Total.NonPC Initial.Code Disease Project Cohort  \\\n",
       "0     BM   CD45       1.0         65.0        TLV53    RRMM     TLV    TLV   \n",
       "1     BM    NaN       2.0         30.0        TLV53    RRMM     TLV    TLV   \n",
       "2     BM     PC     160.0         14.0        TLV53    RRMM     TLV    TLV   \n",
       "3     BM     PC     141.0         56.0        TLV53    RRMM     TLV    TLV   \n",
       "4     BM     PC     146.0         69.0        TLV53    RRMM     TLV    TLV   \n",
       "\n",
       "  Weizmann.Code Method  \n",
       "0         TLV53   SPID  \n",
       "1         TLV53   SPID  \n",
       "2         TLV53   SPID  \n",
       "3         TLV53   SPID  \n",
       "4         TLV53   SPID  "
      ]
     },
     "execution_count": 4,
     "metadata": {},
     "output_type": "execute_result"
    }
   ],
   "source": [
    "spid_plates = pd.read_csv(\"/home/labs/amit/shuangyi/Project_MM_2023/metadata_MM_SPID_20230621.txt\", sep=\"\\t\")\n",
    "spid_plates[\"Method\"] = \"SPID\"\n",
    "print(spid_plates.shape)\n",
    "spid_plates.head()"
   ]
  },
  {
   "cell_type": "markdown",
   "id": "c50fd722-cd68-4b9b-a7b0-ec5eb941b110",
   "metadata": {},
   "source": [
    "## combine plates meta data"
   ]
  },
  {
   "cell_type": "code",
   "execution_count": 6,
   "id": "2aedfd99-17a3-4465-afec-8e5b378a6eab",
   "metadata": {},
   "outputs": [
    {
     "name": "stdout",
     "output_type": "stream",
     "text": [
      "{'Hospital.Code', 'Member', 'Description'}\n",
      "set()\n"
     ]
    }
   ],
   "source": [
    "print(set(mars_plates.columns).difference(set(spid_plates.columns)))\n",
    "print(set(spid_plates.columns).difference(set(mars_plates.columns)))"
   ]
  },
  {
   "cell_type": "code",
   "execution_count": 7,
   "id": "cdefa35e-899f-4d28-9e55-282b818b3dd2",
   "metadata": {},
   "outputs": [
    {
     "data": {
      "text/plain": [
       "(1037, 14)"
      ]
     },
     "execution_count": 7,
     "metadata": {},
     "output_type": "execute_result"
    }
   ],
   "source": [
    "mars_plates = mars_plates[spid_plates.columns]\n",
    "mars_plates.shape"
   ]
  },
  {
   "cell_type": "code",
   "execution_count": 8,
   "id": "5d1d96de-07bc-4d9b-84d3-0301cb545004",
   "metadata": {},
   "outputs": [
    {
     "name": "stdout",
     "output_type": "stream",
     "text": [
      "(1545, 14)\n"
     ]
    },
    {
     "data": {
      "text/html": [
       "<div>\n",
       "<style scoped>\n",
       "    .dataframe tbody tr th:only-of-type {\n",
       "        vertical-align: middle;\n",
       "    }\n",
       "\n",
       "    .dataframe tbody tr th {\n",
       "        vertical-align: top;\n",
       "    }\n",
       "\n",
       "    .dataframe thead th {\n",
       "        text-align: right;\n",
       "    }\n",
       "</style>\n",
       "<table border=\"1\" class=\"dataframe\">\n",
       "  <thead>\n",
       "    <tr style=\"text-align: right;\">\n",
       "      <th></th>\n",
       "      <th>Amp.Batch.ID</th>\n",
       "      <th>Seq.Batch.ID</th>\n",
       "      <th>Batch.Set.ID</th>\n",
       "      <th>Included</th>\n",
       "      <th>Tissue</th>\n",
       "      <th>Gating</th>\n",
       "      <th>Total.PC</th>\n",
       "      <th>Total.NonPC</th>\n",
       "      <th>Initial.Code</th>\n",
       "      <th>Disease</th>\n",
       "      <th>Project</th>\n",
       "      <th>Cohort</th>\n",
       "      <th>Weizmann.Code</th>\n",
       "      <th>Method</th>\n",
       "    </tr>\n",
       "  </thead>\n",
       "  <tbody>\n",
       "    <tr>\n",
       "      <th>0</th>\n",
       "      <td>AB2136</td>\n",
       "      <td>SB113</td>\n",
       "      <td>human_BM</td>\n",
       "      <td>-</td>\n",
       "      <td>BM</td>\n",
       "      <td>PC</td>\n",
       "      <td>350.0</td>\n",
       "      <td>2.0</td>\n",
       "      <td>hip5</td>\n",
       "      <td>Healthy</td>\n",
       "      <td>Pilot</td>\n",
       "      <td>Healthy</td>\n",
       "      <td>hip1</td>\n",
       "      <td>MARS</td>\n",
       "    </tr>\n",
       "    <tr>\n",
       "      <th>1</th>\n",
       "      <td>AB2137</td>\n",
       "      <td>SB113</td>\n",
       "      <td>human_BM</td>\n",
       "      <td>-</td>\n",
       "      <td>BM</td>\n",
       "      <td>PC</td>\n",
       "      <td>349.0</td>\n",
       "      <td>NaN</td>\n",
       "      <td>hip5</td>\n",
       "      <td>Healthy</td>\n",
       "      <td>Pilot</td>\n",
       "      <td>Healthy</td>\n",
       "      <td>hip1</td>\n",
       "      <td>MARS</td>\n",
       "    </tr>\n",
       "    <tr>\n",
       "      <th>2</th>\n",
       "      <td>AB2138</td>\n",
       "      <td>SB113</td>\n",
       "      <td>human_BM</td>\n",
       "      <td>-</td>\n",
       "      <td>BM</td>\n",
       "      <td>PC</td>\n",
       "      <td>352.0</td>\n",
       "      <td>1.0</td>\n",
       "      <td>hip5</td>\n",
       "      <td>Healthy</td>\n",
       "      <td>Pilot</td>\n",
       "      <td>Healthy</td>\n",
       "      <td>hip1</td>\n",
       "      <td>MARS</td>\n",
       "    </tr>\n",
       "    <tr>\n",
       "      <th>3</th>\n",
       "      <td>AB2139</td>\n",
       "      <td>SB113</td>\n",
       "      <td>human_BM</td>\n",
       "      <td>No</td>\n",
       "      <td>BM</td>\n",
       "      <td>CD45</td>\n",
       "      <td>1.0</td>\n",
       "      <td>289.0</td>\n",
       "      <td>hip5</td>\n",
       "      <td>Healthy</td>\n",
       "      <td>Pilot</td>\n",
       "      <td>Healthy</td>\n",
       "      <td>hip1</td>\n",
       "      <td>MARS</td>\n",
       "    </tr>\n",
       "    <tr>\n",
       "      <th>4</th>\n",
       "      <td>AB2140</td>\n",
       "      <td>SB113</td>\n",
       "      <td>human_BM</td>\n",
       "      <td>No</td>\n",
       "      <td>BM</td>\n",
       "      <td>CD45</td>\n",
       "      <td>NaN</td>\n",
       "      <td>308.0</td>\n",
       "      <td>hip5</td>\n",
       "      <td>Healthy</td>\n",
       "      <td>Pilot</td>\n",
       "      <td>Healthy</td>\n",
       "      <td>hip1</td>\n",
       "      <td>MARS</td>\n",
       "    </tr>\n",
       "  </tbody>\n",
       "</table>\n",
       "</div>"
      ],
      "text/plain": [
       "  Amp.Batch.ID Seq.Batch.ID Batch.Set.ID Included Tissue Gating  Total.PC  \\\n",
       "0       AB2136        SB113     human_BM        -     BM     PC     350.0   \n",
       "1       AB2137        SB113     human_BM        -     BM     PC     349.0   \n",
       "2       AB2138        SB113     human_BM        -     BM     PC     352.0   \n",
       "3       AB2139        SB113     human_BM       No     BM   CD45       1.0   \n",
       "4       AB2140        SB113     human_BM       No     BM   CD45       NaN   \n",
       "\n",
       "   Total.NonPC Initial.Code   Disease Project    Cohort Weizmann.Code Method  \n",
       "0          2.0         hip5  Healthy    Pilot  Healthy           hip1   MARS  \n",
       "1          NaN         hip5  Healthy    Pilot  Healthy           hip1   MARS  \n",
       "2          1.0         hip5  Healthy    Pilot  Healthy           hip1   MARS  \n",
       "3        289.0         hip5  Healthy    Pilot  Healthy           hip1   MARS  \n",
       "4        308.0         hip5  Healthy    Pilot  Healthy           hip1   MARS  "
      ]
     },
     "execution_count": 8,
     "metadata": {},
     "output_type": "execute_result"
    }
   ],
   "source": [
    "first_columns = ['Amp.Batch.ID', 'Seq.Batch.ID', 'Batch.Set.ID']\n",
    "other_columns = [col for col in mars_plates.columns if col not in first_columns]\n",
    "combined_plates = pd.concat([mars_plates, spid_plates])[first_columns + other_columns]\n",
    "print(combined_plates.shape)\n",
    "combined_plates.head()"
   ]
  },
  {
   "cell_type": "code",
   "execution_count": 9,
   "id": "5fc04f46-9788-4837-ac47-7762955bacf4",
   "metadata": {},
   "outputs": [],
   "source": [
    "combined_plates_path = \"/home/labs/amit/noamsh/data/mm_2023/2024_2_13_MARS_SPID_COMBINED.tsv\"\n",
    "combined_plates.to_csv(combined_plates_path, index=False, sep='\\t')\n",
    "\n",
    "mars_plates.to_csv(\"/home/labs/amit/noamsh/data/mm_2023/2024_2_13_MARS.tsv\", index=False, sep='\\t')\n",
    "spid_plates.to_csv(\"/home/labs/amit/noamsh/data/mm_2023/2024_2_13_SPID.tsv\", index=False, sep='\\t')"
   ]
  },
  {
   "cell_type": "code",
   "execution_count": null,
   "id": "a49a2697-a591-4f91-b8b4-5acb83a5103d",
   "metadata": {},
   "outputs": [],
   "source": []
  },
  {
   "cell_type": "markdown",
   "id": "e68ec323-75b6-430d-bb44-5a90a32a7199",
   "metadata": {},
   "source": [
    "## test - load conbined"
   ]
  },
  {
   "cell_type": "code",
   "execution_count": 12,
   "id": "4fb37fc7-cb0b-49e0-bd43-997237bc3b2d",
   "metadata": {},
   "outputs": [],
   "source": [
    "config_path = Path(repo_dir, \"config.yaml\")\n",
    "conf = OmegaConf.load(config_path)"
   ]
  },
  {
   "cell_type": "code",
   "execution_count": 13,
   "id": "bd9be474-89a1-4d93-a3cd-49ec14824ad1",
   "metadata": {},
   "outputs": [],
   "source": [
    "conf.data_loading.plates.plates_data_path = combined_plates_path\n",
    "conf.data_loading.plates.plate_id_column_name = \"Amp.Batch.ID\"\n",
    "conf.data_loading.sc_sequencing.sc_sequencing_data_dir = \"/home/labs/amit/noamsh/data/mm_2023/all_scdata\""
   ]
  },
  {
   "cell_type": "code",
   "execution_count": 14,
   "id": "1849cc81-6ad3-4d40-a5a7-5639725d6594",
   "metadata": {},
   "outputs": [
    {
     "name": "stderr",
     "output_type": "stream",
     "text": [
      "/home/labs/amit/noamsh/repos/MM_2023/data_loading/anndata_loaders.py:62: TqdmWarning: Iterable length 1545 > 1000 but `chunksize` is not set. This may seriously degrade multiprocess performance. Set `chunksize=1` or more.\n",
      "  adatas = process_map(partial(self._get_single_plate, col_names=col_names),\n"
     ]
    },
    {
     "data": {
      "application/vnd.jupyter.widget-view+json": {
       "model_id": "dcd4595fb3b34193995f61db32241169",
       "version_major": 2,
       "version_minor": 0
      },
      "text/plain": [
       "loading relevant plates:   0%|          | 0/1545 [00:00<?, ?plate/s]"
      ]
     },
     "metadata": {},
     "output_type": "display_data"
    },
    {
     "name": "stderr",
     "output_type": "stream",
     "text": [
      "/home/labs/amit/noamsh/.conda/envs/CLL_2024/lib/python3.9/site-packages/anndata/_core/anndata.py:1906: UserWarning: Observation names are not unique. To make them unique, call `.obs_names_make_unique`.\n",
      "  utils.warn_names_duplicates(\"obs\")\n"
     ]
    }
   ],
   "source": [
    "from load_sc_data_to_anndata import load_sc_data_to_anndata\n",
    "adata_control = load_sc_data_to_anndata(conf)"
   ]
  },
  {
   "cell_type": "code",
   "execution_count": 15,
   "id": "b18dfec2-6dd7-4073-8a9d-d171c4eb1911",
   "metadata": {},
   "outputs": [
    {
     "data": {
      "text/plain": [
       "AnnData object with n_obs × n_vars = 593280 × 57874\n",
       "    obs: 'Amp.Batch.ID', 'Seq.Batch.ID', 'Batch.Set.ID', 'Member', 'Description', 'Included', 'Tissue', 'Gating', 'Total.PC', 'Total.NonPC', 'Initial.Code', 'Disease', 'Project', 'Cohort', 'Weizmann.Code', 'Hospital.Code'"
      ]
     },
     "execution_count": 15,
     "metadata": {},
     "output_type": "execute_result"
    }
   ],
   "source": [
    "adata_control"
   ]
  },
  {
   "cell_type": "code",
   "execution_count": null,
   "id": "edfbc352-9e07-4ec0-9c12-d504c6bea266",
   "metadata": {},
   "outputs": [],
   "source": []
  }
 ],
 "metadata": {
  "kernelspec": {
   "display_name": "Python 3 (ipykernel)",
   "language": "python",
   "name": "python3"
  },
  "language_info": {
   "codemirror_mode": {
    "name": "ipython",
    "version": 3
   },
   "file_extension": ".py",
   "mimetype": "text/x-python",
   "name": "python",
   "nbconvert_exporter": "python",
   "pygments_lexer": "ipython3",
   "version": "3.9.18"
  }
 },
 "nbformat": 4,
 "nbformat_minor": 5
}
