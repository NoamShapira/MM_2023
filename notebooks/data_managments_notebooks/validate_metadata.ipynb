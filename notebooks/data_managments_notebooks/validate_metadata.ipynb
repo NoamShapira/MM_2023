{
 "cells": [
  {
   "cell_type": "code",
   "execution_count": 2,
   "id": "e63ff52d-a341-414c-b703-3b1337e35569",
   "metadata": {},
   "outputs": [],
   "source": [
    "%load_ext autoreload\n",
    "%autoreload 2\n",
    "\n",
    "import sys\n",
    "repo_dir = '/home/labs/amit/noamsh/repos/MM_2023'\n",
    "sys.path.append(repo_dir)"
   ]
  },
  {
   "cell_type": "code",
   "execution_count": 4,
   "id": "419d1ff0-e994-4a67-9cab-c78205606596",
   "metadata": {},
   "outputs": [],
   "source": [
    "from pathlib import Path\n",
    "from datetime import date\n",
    "\n",
    "import pandas as pd\n",
    "import anndata as ad"
   ]
  },
  {
   "cell_type": "markdown",
   "id": "4db63066-101b-4c07-b99d-5322df3b6955",
   "metadata": {},
   "source": [
    "## validate snapshot is equal to source"
   ]
  },
  {
   "cell_type": "code",
   "execution_count": 26,
   "id": "66be8bd2-0585-44e1-9703-522fddc0bedd",
   "metadata": {},
   "outputs": [],
   "source": [
    "data_v = \"2024-06-19\""
   ]
  },
  {
   "cell_type": "code",
   "execution_count": 21,
   "id": "7b9547ad-645a-4133-b828-854bf129e55d",
   "metadata": {},
   "outputs": [],
   "source": [
    "data_dir = Path('/home/labs/amit/noamsh/data/mm_2023')\n",
    "\n",
    "metadata_file_path = Path(data_dir, 'Blueprint_MM_Plates.xlsx')\n",
    "metadata_snapshot_path = Path(data_dir, f'Blueprint_MM_Plates_{data_v}.xlsx')"
   ]
  },
  {
   "cell_type": "code",
   "execution_count": 22,
   "id": "188b32bc-eafe-456e-a334-4015feafae6d",
   "metadata": {},
   "outputs": [],
   "source": [
    "for sheet in [\"MM3_MARS\", \"MM3_SPID\", \"Blood_MARS\", \"Blood_SPID\"]:\n",
    "    orig_metadata = pd.read_excel(metadata_file_path, sheet_name=sheet)\n",
    "    snap_metadata = pd.read_excel(metadata_snapshot_path, sheet_name=sheet)\n",
    "    pd.testing.assert_frame_equal(snap_metadata, orig_metadata)"
   ]
  },
  {
   "cell_type": "markdown",
   "id": "d42095e9-543c-43e0-9ff7-fa7248db3d06",
   "metadata": {},
   "source": [
    "## split to csv, add Method columns"
   ]
  },
  {
   "cell_type": "code",
   "execution_count": null,
   "id": "c40b523f-fdaa-4833-a5a3-e78eaf95d733",
   "metadata": {},
   "outputs": [],
   "source": [
    "sheets_name_map = {\n",
    "    \"MM3_MARS\": \"BM_MARS\",\n",
    "    \"MM3_SPID\": \"BM_SPID\",\n",
    "    \"Blood_MARS\": \"Blood_MARS\",\n",
    "    \"Blood_SPID\": \"Blood_SPID\"\n",
    "}\n",
    "\n",
    "new_plates_csv_paths = []\n",
    "\n",
    "for sheet, new_name in sheets_name_map.items():\n",
    "    snap_metadata = pd.read_excel(metadata_snapshot_path, sheet_name=sheet)\n",
    "    snap_metadata[\"Method\"] = \"MARS\" if \"MARS\" in sheet else \"SPID\"\n",
    "    csv_name = f\"Blueprint_MM_{new_name}_Plates_{data_v}.csv\"\n",
    "    csv_path = Path(data_dir, csv_name)\n",
    "    \n",
    "    new_plates_csv_paths.append(csv_path)\n",
    "    snap_metadata.to_csv(csv_path)"
   ]
  },
  {
   "cell_type": "markdown",
   "id": "1aa02d35-f21d-4073-ac73-75c6de9f3820",
   "metadata": {},
   "source": [
    "### update metadata of .h5ad by current config"
   ]
  },
  {
   "cell_type": "code",
   "execution_count": 1,
   "id": "ab618ef1-dd16-4b60-98a5-5f39927d84b3",
   "metadata": {},
   "outputs": [],
   "source": [
    "## load adata\n",
    "adata_path = \n",
    "adata = ad.read(adata_path)"
   ]
  },
  {
   "cell_type": "code",
   "execution_count": null,
   "id": "fae2bd72-d741-48b7-bb23-7b944493781e",
   "metadata": {},
   "outputs": [],
   "source": [
    "## load current plate-level metadate\n",
    "data_v = \"2024-06-19\"\n",
    "data_dir = Path('/home/labs/amit/noamsh/data/mm_2023')\n",
    "metadata_snapshot_path = Path(data_dir, f'Blueprint_MM_Plates_{data_v}.xlsx')\n",
    "\n",
    "new_plates_data = pd.concat([pd.read_csv(df_path) for df_path in new_plates_csv_paths])"
   ]
  },
  {
   "cell_type": "code",
   "execution_count": 5,
   "id": "5d4816c0-1b9b-4e06-9da3-86f35a47f5e3",
   "metadata": {},
   "outputs": [],
   "source": [
    "def update_obs_by_columns(adata: ad.AnnData, metadata_df: pd.DataFrame, update_by:str):\n",
    "    df = metadata_df.copy()\n",
    "    df = df.set_index(update_by)\n",
    "    columns_to_update = df.columns\n",
    "    \n",
    "    adata.obs = adata.obs.drop(columns=[columns_to_update])\n",
    "    adata.obs = adata.obs.merge(df, how=\"left\", validate=\"m:1\", left_on=update_by, right_index=True)"
   ]
  },
  {
   "cell_type": "code",
   "execution_count": null,
   "id": "a316a4c8-573d-4796-a257-0b7d76f68fbd",
   "metadata": {},
   "outputs": [],
   "source": [
    "adata_updated = update_obs_by_columns(adata, new_plates_data, \"Amp.Batch\")"
   ]
  }
 ],
 "metadata": {
  "kernelspec": {
   "display_name": "Python 3 (ipykernel)",
   "language": "python",
   "name": "python3"
  },
  "language_info": {
   "codemirror_mode": {
    "name": "ipython",
    "version": 3
   },
   "file_extension": ".py",
   "mimetype": "text/x-python",
   "name": "python",
   "nbconvert_exporter": "python",
   "pygments_lexer": "ipython3",
   "version": "3.9.18"
  }
 },
 "nbformat": 4,
 "nbformat_minor": 5
}
