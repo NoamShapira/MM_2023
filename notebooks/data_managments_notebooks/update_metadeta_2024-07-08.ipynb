{
 "cells": [
  {
   "cell_type": "code",
   "execution_count": 3,
   "id": "ded54492-73a1-4f6d-8abb-b89c6c5cb852",
   "metadata": {},
   "outputs": [
    {
     "name": "stdout",
     "output_type": "stream",
     "text": [
      "The autoreload extension is already loaded. To reload it, use:\n",
      "  %reload_ext autoreload\n"
     ]
    }
   ],
   "source": [
    "%load_ext autoreload\n",
    "%autoreload 2\n",
    "import sys\n",
    "repo_dir = '/home/labs/amit/noamsh/repos/MM_2023'\n",
    "sys.path.append(repo_dir)"
   ]
  },
  {
   "cell_type": "code",
   "execution_count": 4,
   "id": "1fdee279-0a0f-496d-bd81-1314b773f521",
   "metadata": {},
   "outputs": [],
   "source": [
    "from pathlib import Path\n",
    "from omegaconf import OmegaConf\n",
    "\n",
    "import pandas as pd\n",
    "import numpy as np\n",
    "\n",
    "import anndata as ad\n",
    "\n",
    "from data_loading.utils import load_dataframe_from_file\n",
    "from io_utils import generate_path_in_output_dir"
   ]
  },
  {
   "cell_type": "code",
   "execution_count": 5,
   "id": "a2c56d39-bb64-4bee-ac7f-f55e53b5e553",
   "metadata": {},
   "outputs": [],
   "source": [
    "config_path = Path(repo_dir, 'config.yaml')\n",
    "conf = OmegaConf.load(config_path)"
   ]
  },
  {
   "cell_type": "markdown",
   "id": "b23038ee-a0f0-4ca9-b7ca-99b2746a5639",
   "metadata": {},
   "source": [
    "## load anndata and hospital data"
   ]
  },
  {
   "cell_type": "code",
   "execution_count": 6,
   "id": "b1ff7c14-06c7-4fbf-8c7f-8adc912be1b3",
   "metadata": {},
   "outputs": [
    {
     "data": {
      "text/plain": [
       "(262, 127)"
      ]
     },
     "execution_count": 6,
     "metadata": {},
     "output_type": "execute_result"
    }
   ],
   "source": [
    "new_hospital_path = Path('/home/labs/amit/noamsh/data/mm_2023/clinical_prediction/Annonymized_CRF_BP_07072024.xlsx')\n",
    "new_hospital_dataset = load_dataframe_from_file(new_hospital_path)\n",
    "new_hospital_dataset.shape"
   ]
  },
  {
   "cell_type": "code",
   "execution_count": 7,
   "id": "162ccfac-da16-4b29-b712-166f6ae58c37",
   "metadata": {},
   "outputs": [
    {
     "data": {
      "text/plain": [
       "PosixPath('/home/labs/amit/noamsh/repos/MM_2023/outputs/adata_with_scvi_annot_pred_data_v_20240619_ts_2024-06-28_only_pc_annotated_filtered.h5ad')"
      ]
     },
     "execution_count": 7,
     "metadata": {},
     "output_type": "execute_result"
    }
   ],
   "source": [
    "ouput_dir = Path(conf.outputs.output_dir)\n",
    "# adata_to_update_path = Path(ouput_dir, 'raw_adata_data_v_20240619.h5ad')\n",
    "# adata_to_update_path = Path(ouput_dir, 'pp_adata_data_v_20240619.h5ad')\n",
    "# adata_to_update_path = Path(ouput_dir, 'adata_with_scvi_annot_pred_data_v_20240619_ts_2024-06-20.h5ad')\n",
    "# adata_to_update_path = Path(ouput_dir, 'adata_with_scvi_annot_pred_data_v_20240619_ts_2024-06-20_only_pc_annotated_filtered.h5ad')\n",
    "adata_to_update_path = Path(ouput_dir, 'adata_with_scvi_annot_pred_data_v_20240619_ts_2024-06-28_only_pc_annotated_filtered.h5ad')\n",
    "adata_to_update_path"
   ]
  },
  {
   "cell_type": "code",
   "execution_count": 8,
   "id": "9a46d463-482b-4e02-b3fd-8f60817c8059",
   "metadata": {},
   "outputs": [
    {
     "data": {
      "text/plain": [
       "AnnData object with n_obs × n_vars = 163913 × 3862\n",
       "    obs: 'Amp.Batch.ID', 'Seq.Batch.ID', 'Batch.Set.ID', 'Included', 'Tissue', 'Gating', 'Total.PC', 'Total.NonPC', 'Initial.Code', 'Disease', 'Time', 'Project', 'Cohort', 'Weizmann.Code', 'Hospital.Code', 'Clinical.Data', 'Biopsy.Sequence', 'Previous.Hospital.Code', 'Method', 'cID', 'super_Population', 'Populations', 'n_genes', 'n_counts', 'n_genes_by_counts', 'total_counts', 'total_counts_mt', 'pct_counts_mt', '_scvi_batch', '_scvi_labels', 'leiden', 'Predicted', 'count_of_PC_in_neighborhood', 'count_of_CD45_in_neighborhood', 'pc_with_tme_environment', 'number_of_diffrent_patients_in_nighborhood', 'MGUS', 'SMM', 'NDMM', 'pc_annotation', 'Healthy', 'one_pateint_in_nighborhood', 'small_pateint_in_nighborhood', 'log_total_counts', 'noisy_malignant', 'noisy_malignant_by_umi'\n",
       "    var: 'n_cells', 'mt', 'n_cells_by_counts', 'mean_counts', 'pct_dropout_by_counts', 'total_counts'\n",
       "    uns: 'Disease_colors', 'Healthy_colors', 'MGUS_colors', 'Method_colors', 'NDMM_colors', 'PC_nighbors', 'SMM_colors', 'Tissue_colors', '_scvi_manager_uuid', '_scvi_uuid', 'leiden', 'leiden_colors', 'log1p', 'neighbors', 'one_pateint_in_nighborhood_colors', 'pc', 'pc_annotation_colors', 'pc_with_tme_environment_colors', 'small_pateint_in_nighborhood_colors', 'umap'\n",
       "    obsm: 'X_scVI', 'X_umap', 'pc_X_scVI'\n",
       "    layers: 'counts'\n",
       "    obsp: 'PC_nighbors_connectivities', 'PC_nighbors_distances', 'connectivities', 'distances', 'pc_connectivities', 'pc_distances'"
      ]
     },
     "execution_count": 8,
     "metadata": {},
     "output_type": "execute_result"
    }
   ],
   "source": [
    "adata = ad.read_h5ad(adata_to_update_path)\n",
    "adata"
   ]
  },
  {
   "cell_type": "code",
   "execution_count": 23,
   "id": "70b117c4-c149-4b78-a2db-55d914c7e329",
   "metadata": {},
   "outputs": [],
   "source": [
    "metadata_df = adata.obs"
   ]
  },
  {
   "cell_type": "markdown",
   "id": "aefba65b-5e21-44b1-b5d0-de3dacf0f3f0",
   "metadata": {},
   "source": [
    "## change transplantation Hospital.Code to lower case"
   ]
  },
  {
   "cell_type": "code",
   "execution_count": 25,
   "id": "0b1995b6-f408-4a6c-a717-b75874f02298",
   "metadata": {},
   "outputs": [
    {
     "data": {
      "text/plain": [
       "index\n",
       "W3435303    trans_TLV001\n",
       "W3435895    trans_TLV001\n",
       "W3436176    trans_TLV001\n",
       "W3436355    trans_TLV001\n",
       "W3436585    trans_TLV001\n",
       "                ...     \n",
       "W5348551    trans_TLV013\n",
       "W5348584    trans_TLV013\n",
       "W5348605    trans_TLV013\n",
       "W5348612    trans_TLV013\n",
       "W5348692    trans_TLV013\n",
       "Name: Hospital.Code, Length: 4126, dtype: object"
      ]
     },
     "execution_count": 25,
     "metadata": {},
     "output_type": "execute_result"
    }
   ],
   "source": [
    "metadata_df[\"Hospital.Code\"] = metadata_df[\"Hospital.Code\"].str.replace(\"Trans\", \"trans\")\n",
    "metadata_df[metadata_df[\"Hospital.Code\"].str.startswith(\"trans\")][\"Hospital.Code\"]"
   ]
  },
  {
   "cell_type": "markdown",
   "id": "31ec1c03-45bb-40a2-882a-3f2dc85bf0e0",
   "metadata": {},
   "source": [
    "## update Disease columns"
   ]
  },
  {
   "cell_type": "code",
   "execution_count": 133,
   "id": "44a93366-6dce-403d-9c2d-387afd8deb9c",
   "metadata": {},
   "outputs": [],
   "source": [
    "disease_col = \"Disease\""
   ]
  },
  {
   "cell_type": "markdown",
   "id": "a14a8e0e-8c5c-4a96-bc99-a2223575edf1",
   "metadata": {},
   "source": [
    "#### from clinical data"
   ]
  },
  {
   "cell_type": "code",
   "execution_count": 134,
   "id": "16906b03-b98d-44e1-8355-20c3bc5e860b",
   "metadata": {},
   "outputs": [],
   "source": [
    "hospital_stage = 'Plasma cell dyscrasia at Bx time(0=NDMM, 1=RRMM, 2=SMM 3=MGUS,4=NDAL, 5=RRAL, 6=NDSPC, 7=MGRS, 8=None)'\n",
    "hospital_stage_map = {0: 'NDMM', 1: \"RRMM\", 2: \"SMM\", 3: \"MGUS\", 4: \"AL\", 5:\"AL\", 6:\"MGUS\", 7:\"MGUS\", 8:None}\n",
    "    \n",
    "hispital_disease = new_hospital_dataset[[\"Code\", hospital_stage]].drop_duplicates().set_index(\"Code\")\n",
    "hispital_disease[disease_col] = hispital_disease[hospital_stage].map(hospital_stage_map)\n",
    "\n",
    "hispital_disease = dict(hispital_disease[disease_col])"
   ]
  },
  {
   "cell_type": "code",
   "execution_count": 135,
   "id": "4b87e1b8-0f1d-4586-b4c8-f12bef227f25",
   "metadata": {},
   "outputs": [],
   "source": [
    "def update_row_disease_if_in_hospital_data(row):\n",
    "    patient_id = row[\"Hospital.Code\"]\n",
    "    cur_disease = row[disease_col]\n",
    "    updated_disease = hispital_disease[patient_id] if patient_id in hispital_disease else cur_disease\n",
    "    return updated_disease"
   ]
  },
  {
   "cell_type": "code",
   "execution_count": 136,
   "id": "9ddba0a3-e15a-4bc9-9c13-5508c5d071f6",
   "metadata": {},
   "outputs": [
    {
     "data": {
      "text/plain": [
       "RRMM          103234\n",
       "NDMM           26126\n",
       "MGUS           11980\n",
       "SMM             7599\n",
       "AL              7300\n",
       "Healthy         6466\n",
       "MM_Unknown      1197\n",
       "Name: count, dtype: int64"
      ]
     },
     "execution_count": 136,
     "metadata": {},
     "output_type": "execute_result"
    }
   ],
   "source": [
    "new_disease_col = metadata_df[[disease_col, \"Hospital.Code\"]].apply(update_row_disease_if_in_hospital_data, axis=1)\n",
    "new_disease_col = new_disease_col.astype(\"category\")\n",
    "new_disease_col.value_counts()"
   ]
  },
  {
   "cell_type": "code",
   "execution_count": 137,
   "id": "9cf76328-9ae9-4ce7-b135-e1b3ba82e133",
   "metadata": {},
   "outputs": [],
   "source": [
    "metadata_df[disease_col] = new_disease_col"
   ]
  },
  {
   "cell_type": "markdown",
   "id": "e1eb6bc6-ab45-4db8-a538-4b9ff9c83828",
   "metadata": {},
   "source": [
    "#### change PRMM to RRMM"
   ]
  },
  {
   "cell_type": "code",
   "execution_count": 138,
   "id": "72aa8de5-df55-44f5-95de-e9329fbeff81",
   "metadata": {},
   "outputs": [],
   "source": [
    "metadata_df[disease_col] = metadata_df.apply(lambda row: \"RRMM\" if row[disease_col] == \"PRMM\" else row[disease_col], axis=1)"
   ]
  },
  {
   "cell_type": "code",
   "execution_count": 139,
   "id": "63f9428b-a97d-4bc2-a0bb-99c6849c8ed1",
   "metadata": {},
   "outputs": [
    {
     "data": {
      "text/plain": [
       "(163913, 46)"
      ]
     },
     "execution_count": 139,
     "metadata": {},
     "output_type": "execute_result"
    }
   ],
   "source": [
    "metadata_df.shape"
   ]
  },
  {
   "cell_type": "markdown",
   "id": "be868f80-ab8b-4b0c-b064-326df9326b9e",
   "metadata": {},
   "source": [
    "## update Time column"
   ]
  },
  {
   "cell_type": "code",
   "execution_count": 140,
   "id": "8e6f265f-e099-44bf-a504-feeec90f3d28",
   "metadata": {},
   "outputs": [],
   "source": [
    "time_col = \"Time\"\n",
    "metadata_df[time_col] = metadata_df.apply(lambda row: \"Post\" if (row[\"Hospital.Code\"] == \"CSA-01-03\") and (row[\"Seq.Batch.ID\"] == \"SB440\") else row[time_col], axis=1)"
   ]
  },
  {
   "cell_type": "code",
   "execution_count": 141,
   "id": "2fcf7ae6-a831-4b99-94b6-3a93a7463390",
   "metadata": {},
   "outputs": [
    {
     "data": {
      "text/plain": [
       "(163913, 46)"
      ]
     },
     "execution_count": 141,
     "metadata": {},
     "output_type": "execute_result"
    }
   ],
   "source": [
    "metadata_df.shape"
   ]
  },
  {
   "cell_type": "markdown",
   "id": "78aa6428-dfb0-40cb-a0c8-3816340609fc",
   "metadata": {},
   "source": [
    "## add Clinical.Trial column"
   ]
  },
  {
   "cell_type": "code",
   "execution_count": 142,
   "id": "ba6ecf32-b558-45f3-a95c-739be6db61d6",
   "metadata": {},
   "outputs": [],
   "source": [
    "allowed_MARS_trails = [\"CART\", \"KPT\", \"Kydar\", \"PPIA\"]\n",
    "allowed_SPID_trails =  [\"CART\", \"BISE JnJ\", \"Transplantation\"]\n",
    "\n",
    "def get_clinical_trail(row):\n",
    "    method = row['Method']\n",
    "    if method == \"MARS\":\n",
    "        clinical_trial = row['Project'] if row['Project'] in allowed_MARS_trails else None\n",
    "    if method == \"SPID\":\n",
    "        clinical_trial = row['Cohort'] if row['Cohort'] in allowed_SPID_trails else None\n",
    "    return clinical_trial\n",
    "\n",
    "metadata_df['Clinical.Trial'] = metadata_df.apply(get_clinical_trail, axis=1)\n",
    "metadata_df['Clinical.Trial'] = metadata_df['Clinical.Trial'].astype('category')"
   ]
  },
  {
   "cell_type": "code",
   "execution_count": 143,
   "id": "1e5bf337-68b2-4c3d-8cbb-561a30a64a3b",
   "metadata": {},
   "outputs": [],
   "source": [
    "metadata_df['Clinical.Trial'] = metadata_df.apply(get_clinical_trail, axis=1)\n",
    "metadata_df['Clinical.Trial'] = metadata_df['Clinical.Trial'].astype('category')"
   ]
  },
  {
   "cell_type": "code",
   "execution_count": 144,
   "id": "a26d3dbd-fca5-4d95-b260-04d0c2189aff",
   "metadata": {},
   "outputs": [
    {
     "name": "stdout",
     "output_type": "stream",
     "text": [
      "(163913, 47)\n"
     ]
    },
    {
     "data": {
      "text/plain": [
       "Clinical.Trial\n",
       "Kydar              40656\n",
       "BISE JnJ           25984\n",
       "CART               13807\n",
       "KPT                 9793\n",
       "PPIA                5386\n",
       "Transplantation     4126\n",
       "Name: count, dtype: int64"
      ]
     },
     "execution_count": 144,
     "metadata": {},
     "output_type": "execute_result"
    }
   ],
   "source": [
    "print(metadata_df.shape)\n",
    "metadata_df['Clinical.Trial'].value_counts()"
   ]
  },
  {
   "cell_type": "markdown",
   "id": "a582c072-562f-47e6-82d4-a9c3ff164db2",
   "metadata": {},
   "source": [
    "## save updated adata"
   ]
  },
  {
   "cell_type": "code",
   "execution_count": 145,
   "id": "ff2e5b35-4641-450f-8259-1b2ad95a7aa2",
   "metadata": {},
   "outputs": [
    {
     "data": {
      "text/plain": [
       "(163913, 47)"
      ]
     },
     "execution_count": 145,
     "metadata": {},
     "output_type": "execute_result"
    }
   ],
   "source": [
    "adata.obs = metadata_df\n",
    "adata.obs.shape"
   ]
  },
  {
   "cell_type": "code",
   "execution_count": 146,
   "id": "01227cd0-017c-43a6-a33b-8cac47cb36ba",
   "metadata": {},
   "outputs": [
    {
     "data": {
      "text/plain": [
       "'2024-07-21'"
      ]
     },
     "execution_count": 146,
     "metadata": {},
     "output_type": "execute_result"
    }
   ],
   "source": [
    "from datetime import date\n",
    "date.today().isoformat()"
   ]
  },
  {
   "cell_type": "code",
   "execution_count": 147,
   "id": "a618242a-1592-4cbd-beae-79918b3b8b07",
   "metadata": {},
   "outputs": [
    {
     "data": {
      "text/plain": [
       "PosixPath('/home/labs/amit/noamsh/repos/MM_2023/outputs/adata_with_scvi_annot_pred_data_v_20240619_ts_2024-06-28_only_pc_annotated_filtered_md_v_2024-07-21.h5ad')"
      ]
     },
     "execution_count": 147,
     "metadata": {},
     "output_type": "execute_result"
    }
   ],
   "source": [
    "adata_new_path = adata_to_update_path.with_stem(f\"{adata_to_update_path.stem}_md_v_{date.today().isoformat()}\")\n",
    "adata_new_path"
   ]
  },
  {
   "cell_type": "code",
   "execution_count": 148,
   "id": "55aaec1f-2c5b-4e9e-94f2-d9c5d4fdc671",
   "metadata": {},
   "outputs": [],
   "source": [
    "adata.write_h5ad(adata_new_path)"
   ]
  },
  {
   "cell_type": "code",
   "execution_count": null,
   "id": "9a66e569-1332-4756-b09f-e352f0b28ce7",
   "metadata": {},
   "outputs": [],
   "source": []
  }
 ],
 "metadata": {
  "kernelspec": {
   "display_name": "Python 3 (ipykernel)",
   "language": "python",
   "name": "python3"
  },
  "language_info": {
   "codemirror_mode": {
    "name": "ipython",
    "version": 3
   },
   "file_extension": ".py",
   "mimetype": "text/x-python",
   "name": "python",
   "nbconvert_exporter": "python",
   "pygments_lexer": "ipython3",
   "version": "3.9.18"
  }
 },
 "nbformat": 4,
 "nbformat_minor": 5
}
