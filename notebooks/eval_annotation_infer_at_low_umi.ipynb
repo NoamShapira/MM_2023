{
 "cells": [
  {
   "cell_type": "code",
   "execution_count": 1,
   "id": "9995d4c4-fd2f-4046-85ae-ba26e2120248",
   "metadata": {},
   "outputs": [],
   "source": [
    "%load_ext autoreload\n",
    "%autoreload 2"
   ]
  },
  {
   "cell_type": "code",
   "execution_count": 2,
   "id": "7701551b-7671-4fee-8f6b-06e28deec48b",
   "metadata": {},
   "outputs": [],
   "source": [
    "import sys\n",
    "repo_dir = '/home/labs/amit/noamsh/repos/MM_2023'\n",
    "sys.path.append(repo_dir)"
   ]
  },
  {
   "cell_type": "code",
   "execution_count": 3,
   "id": "af6db8bd-afb9-47c2-b198-7ad387384a60",
   "metadata": {},
   "outputs": [],
   "source": [
    "from pathlib import Path\n",
    "from datetime import date\n",
    "from omegaconf import OmegaConf\n",
    "\n",
    "import scanpy as sc\n"
   ]
  },
  {
   "cell_type": "code",
   "execution_count": 4,
   "id": "dafe0e24-9952-4ece-9df1-858c893b6ff4",
   "metadata": {},
   "outputs": [],
   "source": [
    "config_path = Path(repo_dir, 'config.yaml')\n",
    "conf = OmegaConf.load(config_path)"
   ]
  },
  {
   "cell_type": "code",
   "execution_count": 5,
   "id": "05fb75a2-05db-4d9a-9a5b-109f1e499427",
   "metadata": {},
   "outputs": [],
   "source": [
    "ts_iso = date.today().isoformat()\n",
    "figures_dir = Path(conf.outputs.output_dir, \"figures\", ts_iso)"
   ]
  },
  {
   "cell_type": "markdown",
   "id": "64a8d50f-85d3-41ba-b0a6-9226158ee268",
   "metadata": {},
   "source": [
    "### "
   ]
  },
  {
   "cell_type": "code",
   "execution_count": 11,
   "id": "ef7b604e-bd22-470e-91af-6004b0fbb687",
   "metadata": {},
   "outputs": [],
   "source": [
    "from pp_adata import pre_process\n",
    "from train_scvi_model import norm_and_hvg\n",
    "from infer_annotation import infer_annotation_of_unlabeled_cells"
   ]
  },
  {
   "cell_type": "code",
   "execution_count": 8,
   "id": "5981a234-1889-48b3-8b6f-531695591e67",
   "metadata": {},
   "outputs": [
    {
     "name": "stderr",
     "output_type": "stream",
     "text": [
      "/home/labs/amit/noamsh/.conda/envs/CLL_2024/lib/python3.9/site-packages/scanpy/preprocessing/_simple.py:275: ImplicitModificationWarning: Trying to modify attribute `.var` of view, initializing view as actual.\n",
      "  adata.var[\"n_cells\"] = number\n",
      "/home/labs/amit/noamsh/.conda/envs/CLL_2024/lib/python3.9/site-packages/anndata/_core/anndata.py:1301: ImplicitModificationWarning: Trying to modify attribute `.obs` of view, initializing view as actual.\n",
      "  df[key] = c\n",
      "/home/labs/amit/noamsh/.conda/envs/CLL_2024/lib/python3.9/site-packages/anndata/_core/anndata.py:1301: ImplicitModificationWarning: Trying to modify attribute `.obs` of view, initializing view as actual.\n",
      "  df[key] = c\n",
      "/home/labs/amit/noamsh/.conda/envs/CLL_2024/lib/python3.9/site-packages/anndata/_core/anndata.py:1301: ImplicitModificationWarning: Trying to modify attribute `.obs` of view, initializing view as actual.\n",
      "  df[key] = c\n",
      "/home/labs/amit/noamsh/repos/MM_2023/train_scvi_model.py:47: ImplicitModificationWarning: Setting element `.layers['counts']` of view, initializing view as actual.\n",
      "  adata.layers[counts_layer] = adata.X.copy()  # preserve counts needed for normalize_and_choose_genes\n"
     ]
    },
    {
     "data": {
      "text/plain": [
       "AnnData object with n_obs × n_vars = 187019 × 3862\n",
       "    obs: 'Amp.Batch.ID', 'Seq.Batch.ID', 'Batch.Set.ID', 'Included', 'Tissue', 'Gating', 'Total.PC', 'Total.NonPC', 'Initial.Code', 'Disease', 'Time', 'Project', 'Cohort', 'Weizmann.Code', 'Hospital.Code', 'Clinical.Data', 'Method', 'cID', 'super_Population', 'Populations', 'n_genes', 'n_counts', 'n_genes_by_counts', 'total_counts', 'total_counts_mt', 'pct_counts_mt'\n",
       "    var: 'n_cells', 'mt', 'n_cells_by_counts', 'mean_counts', 'pct_dropout_by_counts', 'total_counts'\n",
       "    uns: 'log1p'\n",
       "    layers: 'counts'"
      ]
     },
     "execution_count": 8,
     "metadata": {},
     "output_type": "execute_result"
    }
   ],
   "source": [
    "conf.pp.min_num_genes_per_cell = 500\n",
    "bad_SPID_plates_sb = set([f\"SB{i}\" for i in range(190, 220)])\n",
    "\n",
    "pp_adata = pre_process(conf)\n",
    "good_spid_sb_mask = (pp_adata.obs['Seq.Batch.ID'].apply(lambda x: x not in bad_SPID_plates_sb)) & (pp_adata.obs['Method'] == \"SPID\")\n",
    "pp_adata = pp_adata[good_spid_sb_mask | (pp_adata.obs['Method'] == \"MARS\")]\n",
    "\n",
    "good_cells_adata = norm_and_hvg(pp_adata, conf)\n",
    "good_cells_adata"
   ]
  },
  {
   "cell_type": "code",
   "execution_count": null,
   "id": "fbb89eca-6a14-490a-adf1-54e54ee2ea07",
   "metadata": {},
   "outputs": [
    {
     "name": "stderr",
     "output_type": "stream",
     "text": [
      "/home/labs/amit/noamsh/.conda/envs/CLL_2024/lib/python3.9/abc.py:119: FutureWarning: SparseDataset is deprecated and will be removed in late 2024. It has been replaced by the public classes CSRDataset and CSCDataset.\n",
      "\n",
      "For instance checks, use `isinstance(X, (anndata.experimental.CSRDataset, anndata.experimental.CSCDataset))` instead.\n",
      "\n",
      "For creation, use `anndata.experimental.sparse_dataset(X)` instead.\n",
      "\n",
      "  return _abc_instancecheck(cls, instance)\n"
     ]
    },
    {
     "name": "stdout",
     "output_type": "stream",
     "text": [
      "\u001b[34mINFO    \u001b[0m File                                                                                                      \n",
      "         \u001b[35m/home/labs/amit/noamsh/repos/MM_2023/outputs/scvi_model_MARS_SPID_combined_genes_ts_2024-05-21/\u001b[0m\u001b[95mmodel.pt\u001b[0m   \n",
      "         already downloaded                                                                                        \n"
     ]
    },
    {
     "name": "stderr",
     "output_type": "stream",
     "text": [
      "/home/labs/amit/noamsh/.conda/envs/CLL_2024/lib/python3.9/abc.py:119: FutureWarning: SparseDataset is deprecated and will be removed in late 2024. It has been replaced by the public classes CSRDataset and CSCDataset.\n",
      "\n",
      "For instance checks, use `isinstance(X, (anndata.experimental.CSRDataset, anndata.experimental.CSCDataset))` instead.\n",
      "\n",
      "For creation, use `anndata.experimental.sparse_dataset(X)` instead.\n",
      "\n",
      "  return _abc_instancecheck(cls, instance)\n",
      "/home/labs/amit/noamsh/repos/MM_2023/infer_annotation.py:54: FutureWarning: In the future, the default backend for leiden will be igraph instead of leidenalg.\n",
      "\n",
      " To achieve the future defaults please pass: flavor=\"igraph\" and n_iterations=2.  directed must also be False to work with igraph's implementation.\n",
      "  sc.tl.leiden(adata, resolution=res, neighbors_key=neighborhood_key)\n"
     ]
    }
   ],
   "source": [
    "good_cells_adata_with_annotaion = infer_annotation_of_unlabeled_cells(conf, on_adata=good_cells_adata)\n",
    "good_cells_adata_with_annotaion"
   ]
  },
  {
   "cell_type": "code",
   "execution_count": null,
   "id": "7feb08e0-76cc-4555-a1ed-e6937e1a4696",
   "metadata": {},
   "outputs": [],
   "source": [
    "sc.pl.umap(good_cells_adata_with_annotaion, color=)"
   ]
  },
  {
   "cell_type": "markdown",
   "id": "436686b7-befd-4119-bd50-e0edded45c3b",
   "metadata": {},
   "source": [
    "###"
   ]
  },
  {
   "cell_type": "code",
   "execution_count": null,
   "id": "7b8f2ce8-05d7-4a30-91da-d4eee463f986",
   "metadata": {},
   "outputs": [],
   "source": [
    "from sklearn.model_selection import train_test_split\n",
    "cell_train, cell_test = train_test_split(good_cells_adata_with_annotaion.obs_names)\n",
    "for sample_proprotion in [0.]"
   ]
  }
 ],
 "metadata": {
  "kernelspec": {
   "display_name": "Python 3 (ipykernel)",
   "language": "python",
   "name": "python3"
  },
  "language_info": {
   "codemirror_mode": {
    "name": "ipython",
    "version": 3
   },
   "file_extension": ".py",
   "mimetype": "text/x-python",
   "name": "python",
   "nbconvert_exporter": "python",
   "pygments_lexer": "ipython3",
   "version": "3.9.18"
  }
 },
 "nbformat": 4,
 "nbformat_minor": 5
}
