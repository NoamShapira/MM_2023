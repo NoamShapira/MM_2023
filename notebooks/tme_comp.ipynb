{
 "cells": [
  {
   "cell_type": "code",
   "execution_count": null,
   "id": "d27e63ba-20ef-4a10-8585-28c207cc2f5c",
   "metadata": {},
   "outputs": [],
   "source": [
    "%load_ext autoreload\n",
    "%autoreload 2"
   ]
  },
  {
   "cell_type": "code",
   "execution_count": null,
   "id": "85065c22-bb06-48b1-995f-141bb1e8f3ed",
   "metadata": {},
   "outputs": [],
   "source": [
    "import sys\n",
    "repo_dir = '/home/labs/amit/noamsh/repos/MM_2023'\n",
    "sys.path.append(repo_dir)"
   ]
  },
  {
   "cell_type": "code",
   "execution_count": null,
   "id": "e2f2aa74-ed51-499c-a784-95af107d8932",
   "metadata": {},
   "outputs": [],
   "source": [
    "from pathlib import Path\n",
    "from omegaconf import OmegaConf\n",
    "\n",
    "import anndata as ad\n",
    "import pandas as pd\n",
    "import scanpy as sc\n",
    "\n",
    "import pyreadr\n",
    "import matplotlib.pyplot as plt\n",
    "import seaborn as sns\n",
    "import plotly.express as px"
   ]
  },
  {
   "cell_type": "code",
   "execution_count": null,
   "id": "be0f4763-8743-48e4-ad44-0219f32239e2",
   "metadata": {},
   "outputs": [],
   "source": [
    "plt.rcParams['figure.figsize'] = [6.4, 4.8] # default [6.4, 4.8]\n",
    "config_path = Path(repo_dir, 'config.yaml')\n",
    "conf = OmegaConf.load(config_path)"
   ]
  },
  {
   "cell_type": "markdown",
   "id": "90de4ae1-38a6-4142-9040-b1e60a748a14",
   "metadata": {},
   "source": [
    "## data_loading"
   ]
  },
  {
   "cell_type": "code",
   "execution_count": null,
   "id": "c799b655-474f-47bd-9330-e6ba4a6c236f",
   "metadata": {},
   "outputs": [],
   "source": [
    "from io_utils import generate_path_in_output_dir"
   ]
  },
  {
   "cell_type": "code",
   "execution_count": null,
   "id": "19c6a300-3976-474b-baaf-ca263e512683",
   "metadata": {},
   "outputs": [],
   "source": [
    "load_ts_iso = \"2024-05-21\" # \"2024-05-19\"\n",
    "data_version = \"20240519\"  # \"20240515\"\n",
    "\n",
    "adata = ad.read_h5ad(generate_path_in_output_dir(conf, conf.outputs.inferred_missing_annotation_file_name,\n",
    "                                                 with_version=data_version, with_date_timestamp=load_ts_iso))\n",
    "adata = adata[adata.obs['Gating'] == \"CD45\"]\n",
    "adata"
   ]
  },
  {
   "cell_type": "code",
   "execution_count": null,
   "id": "19f672d6-a1b9-447e-94ac-e627b5d086cd",
   "metadata": {},
   "outputs": [],
   "source": [
    "raw_adata = ad.read_h5ad(generate_path_in_output_dir(conf, conf.outputs.loaded_adata_file_name, with_version=data_version))\n",
    "raw_adata = raw_adata[raw_adata.obs['Gating'] == \"CD45\"]\n",
    "sc.pp.calculate_qc_metrics(raw_adata,  percent_top=None, log1p=False, inplace=True)\n",
    "raw_adata"
   ]
  },
  {
   "cell_type": "code",
   "execution_count": null,
   "id": "7d5f70fd-70e6-4884-a85c-ea9264407cd0",
   "metadata": {},
   "outputs": [],
   "source": [
    "label_col = \"Populations\"\n",
    "super_pop = \"super_Population\"\n",
    "sample_col = 'Hospital.Code'\n",
    "time_col = \"Time\"\n",
    "method_col = 'Method'\n",
    "\n",
    "p_id_col_name = f\"{sample_col}|{time_col}|{method_col}\"\n",
    "\n",
    "all_cols = [sample_col, time_col, method_col, label_col]\n",
    "\n",
    "comp_df = adata.obs[(adata.obs[\"Gating\"]==\"CD45\") & (adata.obs[super_pop] == \"CD45\")][all_cols].dropna()\n",
    "comp_df.shape\n"
   ]
  },
  {
   "cell_type": "code",
   "execution_count": null,
   "id": "dc0b5caa-d79b-4482-9525-eaf9cab38bd0",
   "metadata": {},
   "outputs": [],
   "source": [
    "comp_df[p_id_col_name] = comp_df.apply(lambda row: f\"{row[sample_col]}|{row[time_col]}|{row[method_col]}\", axis=1)\n",
    "comp_df = comp_df[[p_id_col_name, label_col]]\n",
    "comp_df.head()"
   ]
  },
  {
   "cell_type": "code",
   "execution_count": null,
   "id": "1d28791b-393a-4f24-bd12-d053a2cb6887",
   "metadata": {},
   "outputs": [],
   "source": [
    "adata.obs[p_id_col_name] = adata.obs.apply(lambda row: f\"{row[sample_col]}|{row[time_col]}|{row[method_col]}\", axis=1)\n",
    "raw_adata.obs[p_id_col_name] = raw_adata.obs.apply(lambda row: f\"{row[sample_col]}|{row[time_col]}|{row[method_col]}\", axis=1)\n",
    "adata.obs[p_id_col_name].value_counts()"
   ]
  },
  {
   "cell_type": "code",
   "execution_count": null,
   "id": "2256282f-cc2d-4d4b-8cd4-984360adb201",
   "metadata": {},
   "outputs": [],
   "source": [
    "population_counts = comp_df.reset_index().groupby([p_id_col_name, label_col]).count()\n",
    "comp_table = population_counts.unstack(level=-1)\n",
    "comp_table = comp_table.droplevel(None, axis=1)\n",
    "comp_table[\"TOTAL\"] = comp_table.sum(axis=1)\n",
    "comp_table"
   ]
  },
  {
   "cell_type": "markdown",
   "id": "3560e5dd-7f22-40b5-986e-94ea90021504",
   "metadata": {},
   "source": [
    "## QC at sample level"
   ]
  },
  {
   "cell_type": "code",
   "execution_count": null,
   "id": "97ecf668-22ba-4303-90c4-0803402bd320",
   "metadata": {},
   "outputs": [],
   "source": [
    "bad_SPID_plates_sb = set([f\"SB{i}\" for i in range(190, 220)])"
   ]
  },
  {
   "cell_type": "code",
   "execution_count": null,
   "id": "15ef90e4-0c8d-4817-8542-c7d6c60b15ff",
   "metadata": {},
   "outputs": [],
   "source": [
    "adata.obs['from_bad_SB'] = (adata.obs['Seq.Batch.ID'].apply(lambda x: x in bad_SPID_plates_sb)) & (adata.obs['Method'] == \"SPID\")"
   ]
  },
  {
   "cell_type": "code",
   "execution_count": null,
   "id": "04f9e7d0-bc21-41f9-926d-1a5d68cf07d0",
   "metadata": {},
   "outputs": [],
   "source": [
    "df = adata.obs[[p_id_col_name,'from_bad_SB', 'Method']].groupby(p_id_col_name).agg(pd.Series.mode)\n",
    "df = df.reset_index().groupby(['from_bad_SB', 'Method']).count().reset_index()\n",
    "fig = px.bar(df, x='from_bad_SB',y=p_id_col_name, color='Method', height=400, title=\"from bad spid seq batches\")\n",
    "fig.show()"
   ]
  },
  {
   "cell_type": "code",
   "execution_count": null,
   "id": "0b8b86a8-2a05-49e0-ad25-f17234096335",
   "metadata": {},
   "outputs": [],
   "source": [
    "df[p_id_col_name].sum()"
   ]
  },
  {
   "cell_type": "code",
   "execution_count": null,
   "id": "96c7b5ad-d0c5-4ada-a6f1-9c1796755405",
   "metadata": {},
   "outputs": [],
   "source": [
    "adata.obs['from_bad_SB'] = adata.obs['from_bad_SB'].astype(int)\n",
    "adata_both_methods = adata.copy()\n",
    "adata = adata[adata.obs[\"Method\"]==\"SPID\"]"
   ]
  },
  {
   "cell_type": "code",
   "execution_count": null,
   "id": "0e8fb6a6-95f4-489a-93a8-c976bb58427f",
   "metadata": {},
   "outputs": [],
   "source": [
    "comp_table.columns"
   ]
  },
  {
   "cell_type": "code",
   "execution_count": null,
   "id": "37fcdc53-bae5-4e3a-b82a-337384b03c55",
   "metadata": {},
   "outputs": [],
   "source": [
    "mye = ['Mf', 'Mo', 'Mo_CD16', 'Mo_Pro', 'DC', 'DC_IRF8']\n",
    "T = ['T_Effector', 'T_Effector_GZMB', 'T_Naive', 'NK']\n",
    "mye_proportions = comp_table[mye].sum(axis=1) / comp_table[\"TOTAL\"]\n",
    "T_proportions = comp_table[T].sum(axis=1) / comp_table[\"TOTAL\"]"
   ]
  },
  {
   "cell_type": "code",
   "execution_count": null,
   "id": "a78d5b12-57a9-446a-ae52-65e1e7964a07",
   "metadata": {},
   "outputs": [],
   "source": [
    "p_data = []\n",
    "for p_id, group in adata.obs[['from_bad_SB', \"Amp.Batch.ID\", p_id_col_name]].groupby(p_id_col_name):\n",
    "    n_plates = group[\"Amp.Batch.ID\"].nunique()\n",
    "    n_cells = len(group)\n",
    "    good_cell_prop = n_cells / (n_plates * 380)\n",
    "    proporion_from_bad_plates = (group['from_bad_SB']).mean()\n",
    "    mye_proportion = mye_proportions[p_id]\n",
    "    T_proportion = T_proportions[p_id]\n",
    "    p_data.append((p_id, n_plates, n_cells, proporion_from_bad_plates, good_cell_prop, mye_proportion, T_proportion))\n",
    "pdf = pd.DataFrame(p_data, columns=(\"p_id\", \"n_plates\", \"n_cells\", \"proporion_from_bad_plates\", \"good_cell_prop\", \"mye_proportion\", \"T_proportion\"))"
   ]
  },
  {
   "cell_type": "code",
   "execution_count": null,
   "id": "3fda31d8-fd38-4646-be21-92672ace15a5",
   "metadata": {},
   "outputs": [],
   "source": [
    "\n",
    "fig = px.scatter(pdf, x=\"mye_proportion\", y=\"good_cell_prop\", color=\"proporion_from_bad_plates\",\n",
    "                 title=\"SPID patients\", hover_data=['n_plates', 'p_id'], trendline=\"ols\",width=800, height=400)\n",
    "fig.show()\n",
    "fig = px.scatter(pdf, x=\"T_proportion\", y=\"good_cell_prop\", color=\"proporion_from_bad_plates\",\n",
    "                 title=\"SPID patients\", hover_data=['n_plates', 'p_id'], trendline=\"ols\", width=800, height=400)\n",
    "fig.show()"
   ]
  },
  {
   "cell_type": "code",
   "execution_count": null,
   "id": "7aa7e07e-0249-4e7a-9f70-b3394b4c1c4c",
   "metadata": {},
   "outputs": [],
   "source": [
    "# adata.obs[['from_bad_SB', p_id_col_name]].groupby(p_id_col_name).value_counts(normalize=True).value_counts()\n",
    "adata.obs[['from_bad_SB', p_id_col_name]].groupby(p_id_col_name).count().hist(bins=100)"
   ]
  },
  {
   "cell_type": "markdown",
   "id": "07935bfa-ecf4-4206-a12a-e566424f46b4",
   "metadata": {
    "jp-MarkdownHeadingCollapsed": true
   },
   "source": [
    "### simulation and violin"
   ]
  },
  {
   "cell_type": "code",
   "execution_count": null,
   "id": "603757d8-8782-4728-8166-1a59318ea5ea",
   "metadata": {},
   "outputs": [],
   "source": [
    "order_path = \"/home/labs/amit/shuangyi/Project_MM3/Atlas/Notebooks/pct_MM3_CD45_PID_order.Rds\"\n",
    "\n",
    "order_result = pyreadr.read_r(order_path)\n",
    "order_df = order_result[None]\n",
    "order_df.head()"
   ]
  },
  {
   "cell_type": "code",
   "execution_count": null,
   "id": "58248198-16b3-4d43-84c2-4d9153fbb559",
   "metadata": {},
   "outputs": [],
   "source": [
    "adata = adata[adata.obs[p_id_col_name].apply(lambda x: x in order_df['value'].values)]\n",
    "raw_adata = raw_adata[raw_adata.obs[p_id_col_name].apply(lambda x: x in order_df['value'].values)]\n",
    "adata"
   ]
  },
  {
   "cell_type": "code",
   "execution_count": null,
   "id": "15c36441-5f37-4353-8ca8-7293245b6a50",
   "metadata": {},
   "outputs": [],
   "source": [
    "from datetime import date\n",
    "figures_dir = ts_iso = date.today().isoformat()\n",
    "figures_dir = Path(conf.outputs.output_dir, \"figures\", ts_iso)"
   ]
  },
  {
   "cell_type": "code",
   "execution_count": null,
   "id": "b52e17d5-ee04-47a2-84ee-c1a5190cf798",
   "metadata": {},
   "outputs": [],
   "source": [
    "figures_dir"
   ]
  },
  {
   "cell_type": "code",
   "execution_count": null,
   "id": "1d374574-7a53-4672-9286-785d28534619",
   "metadata": {},
   "outputs": [],
   "source": [
    "def simulate_goodcells_ratio(thresh):\n",
    "    adata_thresh = raw_adata[raw_adata.obs['total_counts'] >= thresh]\n",
    "    good_cells_ratio = adata_thresh.obs.groupby(p_id_col_name).Time.count() / raw_adata.obs.groupby(p_id_col_name).Time.count()\n",
    "    name = f\"good_cells_ratio_{thresh}\"\n",
    "    good_cells_ratio = good_cells_ratio.rename(name)\n",
    "    return good_cells_ratio"
   ]
  },
  {
   "cell_type": "code",
   "execution_count": null,
   "id": "35c685b4-5df1-4cb1-9df1-d39cef444832",
   "metadata": {},
   "outputs": [],
   "source": [
    "tresholds_to_simulate = [200, 300, 700]\n",
    "cur_good_cells_ratio = adata.obs.groupby(p_id_col_name).Time.count() / raw_adata.obs.groupby(p_id_col_name).Time.count()\n",
    "cur_good_cells_ratio = cur_good_cells_ratio.rename(\"good_cells_ratio_400\")\n",
    "sim_ratios = [simulate_goodcells_ratio(thresh) for thresh in tresholds_to_simulate]"
   ]
  },
  {
   "cell_type": "code",
   "execution_count": null,
   "id": "3af0e48a-001f-4518-b8f0-c1df2576e618",
   "metadata": {},
   "outputs": [],
   "source": [
    "df = pd.concat([cur_good_cells_ratio] + sim_ratios, axis=1)\n",
    "df = df.reindex(list(order_df['value']))\n",
    "df = df.reset_index()\n",
    "df"
   ]
  },
  {
   "cell_type": "code",
   "execution_count": null,
   "id": "6bc683d7-aa06-4b0b-a0cd-8355283053c6",
   "metadata": {},
   "outputs": [],
   "source": [
    "df.set_index(p_id_col_name)['good_cells_ratio_400'].sort_values().to_csv(\"/home/labs/amit/noamsh/repos/MM_2023/outputs/good_cells_ratio.csv\")"
   ]
  },
  {
   "cell_type": "code",
   "execution_count": null,
   "id": "c30f2e4e-33e9-4146-b3f0-eaec4d43a25b",
   "metadata": {},
   "outputs": [],
   "source": [
    "import matplotlib.pyplot as pyplt\n",
    "\n",
    "pyplt.rcParams[\"figure.figsize\"] = (40, 6)\n",
    "\n",
    "fig, ax = plt.subplots()\n",
    "for col in df.columns:\n",
    "    if \"good_cells_ratio\" in col:\n",
    "        ax.plot(df[\"Hospital.Code|Time|Method\"], df[col], label=col)\n",
    "\n",
    "ax.set(xlabel=\"Hospital.Code|Time|Method\", ylabel='good_cells_ratio')\n",
    "ax.set_xticklabels(df[\"Hospital.Code|Time|Method\"], rotation=90)\n",
    "ax.grid()\n",
    "\n",
    "# fig.savefig(\"test.png\")\n",
    "plt.legend() \n",
    "plt.show()\n"
   ]
  },
  {
   "cell_type": "code",
   "execution_count": null,
   "id": "d78e5376-a13d-4bc2-9e51-43fae428cb2b",
   "metadata": {},
   "outputs": [],
   "source": [
    "cut_df = df.set_index(\"Hospital.Code|Time|Method\")\n",
    "(cut_df >= 0.6).mean()\n"
   ]
  },
  {
   "cell_type": "code",
   "execution_count": null,
   "id": "7ca624b7-0c0a-4ee6-9bab-e8913d0fff3c",
   "metadata": {},
   "outputs": [],
   "source": [
    "with plt.rc_context():  # Use this to set figure params like size and dpi\n",
    "\n",
    "    sc.set_figure_params(figsize = [40, 6], dpi=300, fontsize=12)\n",
    "    sc.pl.violin(adata, keys='total_counts', groupby=p_id_col_name, rotation=90, log=True, order=list(order_df['value']), show=False)\n",
    "    plt.savefig(Path(figures_dir, \"pp_data_counts_per_patient.pdf\"), bbox_inches=\"tight\", format=\"pdf\")"
   ]
  },
  {
   "cell_type": "code",
   "execution_count": null,
   "id": "c37a1326-d390-4066-8c94-c570290aeefe",
   "metadata": {
    "scrolled": true
   },
   "outputs": [],
   "source": [
    "with plt.rc_context():  # Use this to set figure params like size and dpi\n",
    "    sc.set_figure_params(figsize = [40, 6], dpi=300, fontsize=12)\n",
    "    sc.pl.violin(raw_adata, keys='total_counts', groupby=p_id_col_name, rotation=90, log=True, order=list(order_df['value']), show=False)\n",
    "    plt.savefig(Path(figures_dir, \"raw_data_counts_per_patient.pdf\"), bbox_inches=\"tight\", format=\"pdf\")"
   ]
  },
  {
   "cell_type": "markdown",
   "id": "b47df29a-3dc5-401c-bfb3-005a356b7658",
   "metadata": {},
   "source": [
    "# save orgenize cell type counts for analysis"
   ]
  },
  {
   "cell_type": "code",
   "execution_count": null,
   "id": "1c847f80-71bc-4568-8132-ad3cc78cccc1",
   "metadata": {},
   "outputs": [],
   "source": [
    "good_cell_prop_dict = {}\n",
    "for p_id, group in adata_both_methods.obs[['from_bad_SB', \"Amp.Batch.ID\", p_id_col_name]].groupby(p_id_col_name):\n",
    "    n_plates = group[\"Amp.Batch.ID\"].nunique()\n",
    "    n_cells = len(group)\n",
    "    good_cell_prop = n_cells / (n_plates * 380)\n",
    "    good_cell_prop_dict[p_id] = good_cell_prop\n",
    "\n",
    "good_cell_prop_series = pd.Series(good_cell_prop_dict)\n",
    "good_cell_prop_series.shape"
   ]
  },
  {
   "cell_type": "code",
   "execution_count": null,
   "id": "3c9ea5ff-0563-4c0a-b774-4d91aa469b5a",
   "metadata": {},
   "outputs": [],
   "source": [
    "comp_table[\"good_cell_prop\"] = good_cell_prop_series\n",
    "comp_table"
   ]
  },
  {
   "cell_type": "code",
   "execution_count": null,
   "id": "e98e9f94-64a3-4548-94bc-de664dbf9c8c",
   "metadata": {},
   "outputs": [],
   "source": [
    "comp_tbl_path = Path(conf.outputs.output_dir, f\"composition_table_data_v_{data_version}_ts_{load_ts_iso}.csv\")\n",
    "comp_table.to_csv(comp_tbl_path)"
   ]
  },
  {
   "cell_type": "code",
   "execution_count": null,
   "id": "eacf1dd5-25a6-4304-9159-7696a39d023a",
   "metadata": {},
   "outputs": [],
   "source": [
    "pd.read_csv(comp_tbl_path)\n"
   ]
  },
  {
   "cell_type": "code",
   "execution_count": null,
   "id": "ebbf1f9d-b182-4d75-a626-872c5cf76acb",
   "metadata": {},
   "outputs": [],
   "source": [
    "comp_tbl_path"
   ]
  },
  {
   "cell_type": "code",
   "execution_count": null,
   "id": "7f85d6c4-ff25-4e24-b79a-d71833b73d59",
   "metadata": {},
   "outputs": [],
   "source": []
  }
 ],
 "metadata": {
  "kernelspec": {
   "display_name": "Python 3 (ipykernel)",
   "language": "python",
   "name": "python3"
  },
  "language_info": {
   "codemirror_mode": {
    "name": "ipython",
    "version": 3
   },
   "file_extension": ".py",
   "mimetype": "text/x-python",
   "name": "python",
   "nbconvert_exporter": "python",
   "pygments_lexer": "ipython3",
   "version": "3.9.18"
  }
 },
 "nbformat": 4,
 "nbformat_minor": 5
}
