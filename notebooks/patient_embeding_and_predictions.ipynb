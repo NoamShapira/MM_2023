{
 "cells": [
  {
   "cell_type": "code",
   "execution_count": null,
   "id": "e060cd15-5093-441f-860b-c653f9a84ee9",
   "metadata": {},
   "outputs": [],
   "source": [
    "import sys\n",
    "repo_dir = '/home/labs/amit/noamsh/repos/MM_2023'\n",
    "sys.path.append(repo_dir)\n",
    "\n",
    "%load_ext autoreload\n",
    "%autoreload 2"
   ]
  },
  {
   "cell_type": "code",
   "execution_count": null,
   "id": "0d7377c5-afaa-411e-89cb-6dc76cb2e79b",
   "metadata": {},
   "outputs": [],
   "source": [
    "from pathlib import Path\n",
    "from omegaconf import OmegaConf\n",
    "\n",
    "import numpy as np\n",
    "import pandas as pd\n",
    "from sklearn.decomposition import PCA\n",
    "from sklearn.metrics import confusion_matrix, ConfusionMatrixDisplay\n",
    "import pyreadr\n",
    "\n",
    "import anndata as ad\n",
    "import scanpy as sc\n",
    "\n",
    "from data_loading.utils import load_dataframe_from_file\n",
    "from clinical_predictions.clinical_data_loading import load_and_process_clinical_data\n",
    "from data_loading.utils import get_updated_disease_col\n",
    "from data_loading.utils import extract_samples_metadata"
   ]
  },
  {
   "cell_type": "code",
   "execution_count": null,
   "id": "87b55e4c-33a7-4a88-a9c4-789ad0ef4a28",
   "metadata": {},
   "outputs": [],
   "source": [
    "config_path = Path(repo_dir, 'config.yaml')\n",
    "conf = OmegaConf.load(config_path)"
   ]
  },
  {
   "cell_type": "markdown",
   "id": "ea3c0f4c-80f5-4f92-9f4e-8dab12fc5a9d",
   "metadata": {},
   "source": [
    "## patient history data"
   ]
  },
  {
   "cell_type": "code",
   "execution_count": null,
   "id": "26268b20-1649-4293-8f1e-fd1957fd2fac",
   "metadata": {},
   "outputs": [],
   "source": [
    "sample_level = True"
   ]
  },
  {
   "cell_type": "markdown",
   "id": "77bd2310-2556-41ee-9ae9-d52dd8f619d2",
   "metadata": {
    "jp-MarkdownHeadingCollapsed": true
   },
   "source": [
    "### samples data loading"
   ]
  },
  {
   "cell_type": "code",
   "execution_count": null,
   "id": "5638c305-6f08-44c5-9f7f-61fcd0eb06ae",
   "metadata": {
    "scrolled": true
   },
   "outputs": [],
   "source": [
    "adata = ad.read_h5ad(Path(conf.outputs.output_dir, \"adata_with_scvi_annot_pred_data_v_20240813_ts_2024-08-18_only_pc_annotated_filtered.h5ad\"))\n",
    "adata.obs['Hospital.Code'] = adata.obs['Hospital.Code'].apply(lambda h_code: f\"cart_p{h_code.replace('cart','')}\" if h_code in ('cart13', 'cart21') else h_code)\n",
    "\n",
    "all_samples = extract_samples_metadata(adata, ['Disease', 'Project', 'Cohort'], \n",
    "                                       split_by_method=True, split_by_sample=True,\n",
    "                                       generate_architype_id=True, generate_hl_architype_id=True,\n",
    "                                       generate_sample_level_ids=sample_level,\n",
    "                                       code_lower_case=True)\n",
    "all_samples"
   ]
  },
  {
   "cell_type": "markdown",
   "id": "b0246de6-5b10-4201-a8ef-6876eb654c3a",
   "metadata": {},
   "source": [
    "#### all smaples with clinical history"
   ]
  },
  {
   "cell_type": "code",
   "execution_count": null,
   "id": "00eda375-2a18-4259-bc4d-29380ec2062d",
   "metadata": {
    "scrolled": true
   },
   "outputs": [],
   "source": [
    "new_hospital_path = Path('/home/labs/amit/noamsh/data/mm_2023/clinical_prediction/Anonymized_CRF_BP_01082024.xlsx')\n",
    "clinical_data = load_and_process_clinical_data(new_hospital_path, \n",
    "                                               code_lower_case=True, get_treatment_history=True, get_pfs_data=True,\n",
    "                                               get_hospital_stage=False, get_post_treatment=True, get_combination_exposure=False, \n",
    "                                              get_fish_data=True)\n",
    "clinical_data.shape"
   ]
  },
  {
   "cell_type": "code",
   "execution_count": null,
   "id": "b0832195-9e74-4f20-b77a-2a31b77e4bb7",
   "metadata": {
    "scrolled": true
   },
   "outputs": [],
   "source": [
    "all_samples_with_clinical_data = all_samples.merge(clinical_data, how='left', \n",
    "                                                   left_on=['Hospital.Code', 'Biopsy.Sequence'],\n",
    "                                                   right_on=['Code', 'Biopsy sequence No.'])\n",
    "\n",
    "all_samples_with_clinical_data.drop(columns=['Code', 'Biopsy sequence No.'], inplace=True)\n",
    "all_samples_with_clinical_data.shape"
   ]
  },
  {
   "cell_type": "code",
   "execution_count": null,
   "id": "14941afa-f34a-4d02-8b1c-7e08480265de",
   "metadata": {},
   "outputs": [],
   "source": [
    "## this aggregaton is relevant only if later PID encoding (z-score) is not the same as current sample level\n",
    "### prefer later Biopsy.Sequence\n",
    "### on post data: prefer sensitive over Reff\n",
    "### on pre data: prefer Reff over exposed\n",
    "if not sample_level:\n",
    "    numeric_cols = all_samples_with_clinical_data.select_dtypes(include=np.number).columns.tolist()\n",
    "    non_numric_cols = list(set(all_samples_with_clinical_data.columns) - set(numeric_cols))\n",
    "    \n",
    "    agg_gict = {non_numeric_col: pd.Series.mode for non_numeric_col in non_numric_cols}\n",
    "    agg_gict.update({numeric_col: max for numeric_col in numeric_cols})  \n",
    "    \n",
    "    all_samples_with_clinical_data = all_samples_with_clinical_data.groupby('PID').agg(agg_gict)\n",
    "    all_samples_with_clinical_data.drop(columns=[\"PID\"], inplace=True)\n",
    "else:\n",
    "    all_samples_with_clinical_data = all_samples_with_clinical_data.set_index(\"SID\")\n",
    "all_samples_with_clinical_data"
   ]
  },
  {
   "cell_type": "markdown",
   "id": "c1727b0f-61b2-4c13-8df4-91eedb0f1077",
   "metadata": {
    "jp-MarkdownHeadingCollapsed": true
   },
   "source": [
    "#### arch and z-score"
   ]
  },
  {
   "cell_type": "code",
   "execution_count": null,
   "id": "91085166-a160-4309-94c7-ca366c4ba578",
   "metadata": {
    "scrolled": true
   },
   "outputs": [],
   "source": [
    "if sample_level:\n",
    "    # nmf_path = \"/home/labs/amit/annaku/repos/MM_2024_AK/Shuang_scripts/outputs/arch_sample_v5_without_drivers.csv\"\n",
    "    nmf_path = \"/home/labs/amit/annaku/repos/MM_2024_AK/Shuang_scripts/outputs/arch_sample_v5_with_drivers.csv\"\n",
    "else:\n",
    "    nmf_path = \"/home/labs/amit/annaku/repos/MM_2024_AK/Shuang_scripts/outputs/arch_sample_v4_without_drivers.csv\"\n",
    "\n",
    "# load old shuang architypes to rename our new ones\n",
    "path_sh = '/home/labs/amit/shuangyi/Project_MM3/Atlas/scvi_diff/z_v4_cl_clus.Rds'\n",
    "result = pyreadr.read_r(path_sh)\n",
    "df_sh = result[None]\n",
    "df_sh['PID'] = df_sh['PID'].str.lower()\n",
    "\n",
    "if not sample_level:\n",
    "    arch_score_df = pd.read_csv(nmf_path)\n",
    "    arch_score_df['index'] = arch_score_df['index'].str.lower()\n",
    "    arch_score_df = arch_score_df.set_index('index').drop(columns=['Unnamed: 0', 'Row.names'])\n",
    "    \n",
    "    print(\"make sure that the following manual cluster map match the print\")\n",
    "    print(pd.concat([arch_score_df['Cluster'], df_sh.set_index(\"PID\")['clus_new']], axis=1).value_counts().sort_index())\n",
    "    arch_map = {'1': '2', '2': '8', '3': '7', '4':'6', '5':'5', '6':'1', '7':'4', '8':'3'}\n",
    "    \n",
    "    arch_score_df = arch_score_df.rename(columns=arch_map)\n",
    "    arch_score_df = arch_score_df.drop(columns='Cluster')\n",
    "    arch_score_df = arch_score_df.merge(df_sh[[\"PID\", \"clus_new\"]], how='inner', left_index=True, right_on='PID')\n",
    "    arch_score_df = arch_score_df.set_index('PID')\n",
    "    arch_score_df = arch_score_df.rename(columns={'clus_new': 'architype'})\n",
    "    arch_score_df['architype'] = arch_score_df['architype'].astype(str)\n",
    "else:\n",
    "    arch_score_df = arch_score_df = pd.read_csv(nmf_path)\n",
    "    arch_score_df['index'] = arch_score_df['index'].str.lower()\n",
    "    arch_score_df['SID'] = arch_score_df['index']\n",
    "    arch_score_df = arch_score_df.set_index('SID').drop(columns=['Unnamed: 0', 'Row.names', 'index'])\n",
    "    arch_score_df = arch_score_df.rename(columns={'Cluster': 'architype'})\n",
    "\n",
    "    print(\"make sure that the following manual cluster map match the print\")\n",
    "    arch_score_df['PID'] = pd.Series([str(sid)[:-2] for sid in arch_score_df.index], index=arch_score_df.index)\n",
    "    cm = confusion_matrix(arch_score_df.merge(df_sh, how='inner', on=\"PID\")['clus_new'].astype(int),\n",
    "                      arch_score_df.merge(df_sh, how='inner', on=\"PID\")['architype'].astype(int))\n",
    "    disp = ConfusionMatrixDisplay(confusion_matrix=cm,\n",
    "                                  display_labels=[int(i) for i in range(1,9)])\n",
    "    disp.plot()\n",
    "    disp.ax_.set_title('before renameing')\n",
    "    \n",
    "    # arch_map = {'1': '4', '2': '2', '3': '3', '4': '5', '5': '6', '6': '8',  '7': '1', '8': '7'} # for version with no MM drivers\n",
    "    arch_map = {'1': '8', '2': '3', '3': '5', '4': '4', '5': '7', '6': '1', '7': '6', '8': '2'}\n",
    "    \n",
    "    arch_score_df = arch_score_df.rename(columns=arch_map)\n",
    "    arch_score_df['architype'] = arch_score_df['architype'].apply(lambda x: arch_map[str(x)])\n",
    "    \n",
    "    cm = confusion_matrix(arch_score_df.merge(df_sh, how='inner', on=\"PID\")['clus_new'].astype(int),\n",
    "                      arch_score_df.merge(df_sh, how='inner', on=\"PID\")['architype'].astype(int))\n",
    "    disp = ConfusionMatrixDisplay(confusion_matrix=cm,\n",
    "                                  display_labels=[int(i) for i in range(1,9)])\n",
    "    disp.plot()\n",
    "    disp.ax_.set_title('after renameing')\n"
   ]
  },
  {
   "cell_type": "code",
   "execution_count": null,
   "id": "232dbd69-00e4-45a0-893a-d0fb00f1958e",
   "metadata": {},
   "outputs": [],
   "source": [
    "arch_score_df"
   ]
  },
  {
   "cell_type": "markdown",
   "id": "2a8cbc37-aa98-4526-ab26-d80051421bb3",
   "metadata": {
    "jp-MarkdownHeadingCollapsed": true
   },
   "source": [
    "#### exploration"
   ]
  },
  {
   "cell_type": "code",
   "execution_count": null,
   "id": "ac5e2754-c1ea-45f3-9148-4ef65eed36a1",
   "metadata": {
    "scrolled": true
   },
   "outputs": [],
   "source": [
    "## exploration of patients with multiple clinical data points \n",
    "### some from MARS, SPID split\n",
    "### some from multple timepoints split\n",
    "\n",
    "patients_sample_count = all_samples_with_clinical_data['Hospital.Code'].value_counts()\n",
    "duplicated_patients = list(patients_sample_count[patients_sample_count > 1].index)\n",
    "\n",
    "multi_sample_patints = all_samples_with_clinical_data[all_samples_with_clinical_data[\"Hospital.Code\"].apply(lambda x: x in duplicated_patients)]\n",
    "multi_sample_patints\n"
   ]
  },
  {
   "cell_type": "markdown",
   "id": "99b09f7c-b1a5-4611-81cc-fd770ffac0f3",
   "metadata": {
    "jp-MarkdownHeadingCollapsed": true
   },
   "source": [
    "## adata createion"
   ]
  },
  {
   "cell_type": "code",
   "execution_count": null,
   "id": "432fba1d-9d61-41f1-b41c-4626a05921aa",
   "metadata": {},
   "outputs": [],
   "source": [
    "if sample_level:\n",
    "    zstat_path = Path('/home/labs/amit/annaku/repos/MM_2024_AK/Shuang_scripts/outputs/zstat_Atlas_v5_full.txt')\n",
    "    zstat_df = load_dataframe_from_file(zstat_path).rename(columns={'Unnamed: 0':\"gene_name\"}).set_index(\"gene_name\").T\n",
    "    zstat_df.index = zstat_df.index.str.lower()\n",
    "    zstat_df\n",
    "else:\n",
    "    zstat_path = Path(\"/home/labs/amit/shuangyi/Project_MM3/Atlas/scvi_diff/zstat_Atlas_20240519_full.txt\")\n",
    "    zstat_df = load_dataframe_from_file(zstat_path).rename(columns={'Unnamed: 0':\"gene_name\"}).set_index(\"gene_name\").T\n",
    "    zstat_df.index = zstat_df.index.str.lower()\n",
    "zstat_df"
   ]
  },
  {
   "cell_type": "code",
   "execution_count": null,
   "id": "a9933395-014e-44aa-bde9-c984cf4de184",
   "metadata": {},
   "outputs": [],
   "source": [
    "if sample_level:\n",
    "    method = pd.Series(zstat_df.index).apply(lambda x: x.split(\"_\")[0].split(\".\")[1])\n",
    "    mal_or_healthy = pd.Series(zstat_df.index).apply(lambda x: x.split(\"_\")[1])\n",
    "    hospital_code = pd.Series(zstat_df.index).apply(lambda x: \"\".join(x[:-2].split(\"_\")[-1]))\n",
    "else:\n",
    "    method = pd.Series(zstat_df.index).apply(lambda x: x.split(\"_\")[0].split(\".\")[1])\n",
    "    mal_or_healthy = pd.Series(zstat_df.index).apply(lambda x: x.split(\"_\")[1])\n",
    "    hospital_code = pd.Series(zstat_df.index).apply(lambda x: \"\".join(x.split(\"_\")[-1]))\n",
    "# hospital_code.value_counts()"
   ]
  },
  {
   "cell_type": "code",
   "execution_count": null,
   "id": "ea57468d-3f3c-4a17-bfd1-4d94712a8e69",
   "metadata": {},
   "outputs": [],
   "source": [
    "def np_relu(x):\n",
    "    return np.maximum(x, 0)\n",
    "    \n",
    "filtered_genes = list(zstat_df.columns[((((zstat_df >= 3).sum(axis=0) > 1)) & (np_relu(zstat_df).std() > 0.5))])\n",
    "if 'KCNN3' not in filtered_genes:\n",
    "    print(\"adding KCNN3\")\n",
    "    filtered_genes.append('KCNN3')\n",
    "filtered_zstat_df = zstat_df[filtered_genes]\n",
    "filtered_zstat_df"
   ]
  },
  {
   "cell_type": "code",
   "execution_count": null,
   "id": "9b411abe-62d9-48ca-8cd2-2402b9c332f9",
   "metadata": {},
   "outputs": [],
   "source": [
    "\n",
    "obs = pd.DataFrame(data=zip(mal_or_healthy, zstat_df.index),  columns=[\"mal_or_healthy\", \"id\"]).set_index(\"id\")\n",
    "obs = obs.merge(all_samples_with_clinical_data,\n",
    "                how=\"inner\", left_index=True, right_index=True, validate=\"1:1\", indicator=True)\n",
    "\n",
    "adata_patients = ad.AnnData(zstat_df.loc[obs.index],  obs, zstat_df.columns.to_frame())\n",
    "adata_patients.raw = adata_patients\n",
    "\n",
    "adata_patients = adata_patients[:, list(filtered_zstat_df.columns)]\n",
    "\n",
    "treatment_names = [\"Bortezomib\", \"Ixazomib\", \"Carfilzomib\", \"Lenalidomide\", \"Thalidomide\", \"Pomalidomide\",\n",
    "                               \"Cyclophosphamide\", \"Chemotherapy\", \"Venetoclax\", \"Dexamethasone\", \"Prednisone\",\n",
    "                               \"Daratumumab\", \"Elotuzumab\", \"Belantamab\", \"Talquetamab\", \"Teclistamab\", \"Cevostamab\",\n",
    "                               \"Selinexor\", \"Auto-SCT\", \"CART\"]\n",
    "\n",
    "adata_patients.obs['Project'] = adata_patients.obs['Project'].astype(str).astype('category')"
   ]
  },
  {
   "cell_type": "code",
   "execution_count": null,
   "id": "17f62799-722b-4afb-b57b-8b964d110c86",
   "metadata": {},
   "outputs": [],
   "source": [
    "adata_patients.obs = adata_patients.obs.merge(arch_score_df, how=\"left\", right_index=True, left_index=True)\n",
    "adata_patients"
   ]
  },
  {
   "cell_type": "code",
   "execution_count": null,
   "id": "10ab9277-5af6-4e03-adfa-123f0f8e9dd0",
   "metadata": {},
   "outputs": [],
   "source": [
    "adata_patients = adata_patients[adata_patients.obs[\"Disease\"] != 'Healthy']\n",
    "adata_patients"
   ]
  },
  {
   "cell_type": "markdown",
   "id": "e379e364-d646-4132-9df0-fa81209eed07",
   "metadata": {
    "jp-MarkdownHeadingCollapsed": true
   },
   "source": [
    "#### visaliztation genes per arch"
   ]
  },
  {
   "cell_type": "code",
   "execution_count": null,
   "id": "31e2ca98-da87-4331-b16b-6e2aeb4df9b8",
   "metadata": {
    "scrolled": true
   },
   "outputs": [],
   "source": [
    "import plotly.graph_objects as go\n",
    "\n",
    "genes_of_interset = ['FCRLA', 'TNFRSF13B', 'KCNN3', 'CCR10']\n",
    "box_df = pd.concat([adata_patients[:, genes_of_interset].to_df(), adata_patients.obs['architype']], axis=1)\n",
    "\n",
    "figs = []\n",
    "for gene in genes_of_interset:\n",
    "    fig = go.Figure()\n",
    "    for arch in pd.Series(box_df['architype'].unique()).sort_values():\n",
    "        if arch != '1':\n",
    "            color_thresh = 0.9\n",
    "            scores = box_df[box_df['architype']==arch][gene]\n",
    "            color = 'black' if np.median(scores) >= color_thresh else 'gray'\n",
    "            fig.add_trace(go.Box(x=scores, name=arch, marker_color=color))\n",
    "    fig.add_vline(x=color_thresh, line_width=1, line_dash=\"dash\", line_color=\"black\")\n",
    "    fig.add_vline(x=0, line_width=1, line_dash=\"dash\", line_color=\"black\")\n",
    "    \n",
    "    fig.update_layout(title=gene, \n",
    "                      width=300, height=500, \n",
    "                      showlegend=False,\n",
    "                    plot_bgcolor='white')\n",
    "    fig.update_layout(yaxis=dict(title_text=\"Architype\"),\n",
    "                      xaxis=dict(title_text=\"Z score\", dtick = 1.5))\n",
    "    fig.update_xaxes(\n",
    "        mirror=True,\n",
    "        ticks='outside',\n",
    "        showline=True,\n",
    "        linecolor='black',\n",
    "        gridcolor='lightgrey'\n",
    "    )\n",
    "    fig.update_yaxes(\n",
    "        mirror=True,\n",
    "        ticks='outside',\n",
    "        showline=True,\n",
    "        linecolor='black',\n",
    "        gridcolor='lightgrey'\n",
    "    )\n",
    "\n",
    "    figs.append(fig)\n",
    "    fig.show()"
   ]
  },
  {
   "cell_type": "code",
   "execution_count": null,
   "id": "2c20d0a4-1110-4400-bc33-b43aa8e2693a",
   "metadata": {
    "scrolled": true
   },
   "outputs": [],
   "source": [
    "from plotly.subplots import make_subplots\n",
    "\n",
    "n_cols = len(genes_of_interset)\n",
    "n_rows = 1\n",
    "fig = make_subplots(n_rows, cols=n_cols, subplot_titles=genes_of_interset) \n",
    "\n",
    "shapes = []\n",
    "for i, figure in enumerate(figs):\n",
    "    row = i\n",
    "    col = 1\n",
    "    for trace in range(len(figure[\"data\"])):\n",
    "        fig.add_trace(figure[\"data\"][trace], row=1, col=i+1)\n",
    "        # fig.add_trace(figure[\"layout\"]['shapes'], row=1, col=i+1)\n",
    "        # shapes.append(figure[\"layout\"]['shapes'])\n",
    "    \n",
    "\n",
    "fig.update_layout(height=500, width=300*n_cols, showlegend=False, plot_bgcolor='white')\n",
    "fig.update_layout(yaxis=dict(title_text=\"Architype\"))\n",
    "fig.update_xaxes(\n",
    "    mirror=True,\n",
    "    ticks='outside',\n",
    "    showline=True,\n",
    "    linecolor='black',\n",
    "    gridcolor='lightgrey',\n",
    "    dtick = 1.5,\n",
    "    title_text=\"Z score\"\n",
    ")\n",
    "fig.update_yaxes(\n",
    "    mirror=True,\n",
    "    ticks='outside',\n",
    "    showline=True,\n",
    "    linecolor='black',\n",
    "    gridcolor='lightgrey'\n",
    ")\n",
    "\n",
    "fig.show()"
   ]
  },
  {
   "cell_type": "markdown",
   "id": "ad9b3633-e663-4341-9ea7-a2471dd73a45",
   "metadata": {
    "jp-MarkdownHeadingCollapsed": true
   },
   "source": [
    "## labels engeneering - history"
   ]
  },
  {
   "cell_type": "code",
   "execution_count": null,
   "id": "80f55598-10d7-494f-800d-8fe481c0d294",
   "metadata": {
    "scrolled": true
   },
   "outputs": [],
   "source": [
    "y = adata_patients.obs[treatment_names]\n",
    "labels_count = y.count(axis=1)\n",
    "print(f\"mean number of labels: {labels_count.mean()}\")\n",
    "labels_count.hist(bins=20)\n",
    "y.count()"
   ]
  },
  {
   "cell_type": "code",
   "execution_count": null,
   "id": "2dce94f5-2855-4935-8eac-a3b61d0a9bec",
   "metadata": {},
   "outputs": [],
   "source": [
    "covered_treatments = list(y.count()[y.count() > 11].index)\n",
    "y = y[covered_treatments]\n",
    "adata_patients.obs[\"num_exposed_treatments\"] = adata_patients.obs[covered_treatments].count(axis=1)\n",
    "labels_count = y.count(axis=1)\n",
    "print(f\"mean number of labels: {labels_count.mean()}\")\n",
    "labels_count.hist(bins=20)\n",
    "y.count()"
   ]
  },
  {
   "cell_type": "code",
   "execution_count": null,
   "id": "d674eb89-7259-4094-9cfd-f2f72d96c8b3",
   "metadata": {},
   "outputs": [],
   "source": [
    "target_2_treatments = {\n",
    "   'Proteasome': ['Bortezomib', 'Carfilzomib', 'Ixazomib'],\n",
    "   'IMIDs': ['Lenalidomide', 'Pomalidomide', 'Thalidomide'],\n",
    "   'CD38_target': ['Daratumumab'],\n",
    "   'BCMA': ['Belantamab', 'Teclistamab', 'CAR-T'],\n",
    "   # 'GPRC5D': ['Talquetamab'],\n",
    "   # 'CART': ['CART'],\n",
    "   # 'Nuclear_Export_Inhibitor': ['Selinexor'],\n",
    "   # 'Steroid': ['Dexamethasone'], #would not even look at this….. most regimens have steroids, synergistic to other drugs\n",
    "   'Chemo': ['Chemo', 'Auto-SCT', 'Cyclophosphamide']\n",
    "}\n",
    "\n",
    "treatment_2_target = {}\n",
    "for target, treatments in target_2_treatments.items():\n",
    "    for treatment in treatments:\n",
    "        treatment_2_target[treatment] = target\n"
   ]
  },
  {
   "cell_type": "code",
   "execution_count": null,
   "id": "46d2e558-78fe-4534-85ca-53382713cebf",
   "metadata": {},
   "outputs": [],
   "source": [
    "def transform_drugs_history_to_targets_history(y: pd.DataFrame):\n",
    "    target_history_dict = {}\n",
    "    n_patients = len(y)\n",
    "    for target, treatments in target_2_treatments.items():\n",
    "        y_target = pd.Series([np.nan]*n_patients, index=y.index)\n",
    "        for treamtent in treatments:\n",
    "            if treamtent in y.columns:\n",
    "                value = np.nanmax(pd.concat([y_target, y[treamtent]], axis=1), axis=1)\n",
    "                y_target = pd.Series(value, y.index)\n",
    "        target_history_dict[target] = y_target\n",
    "    for treamtent in y.columns:\n",
    "        if treamtent not in treatment_2_target:\n",
    "            target_history_dict[treamtent] = y[treatment]\n",
    "    return pd.DataFrame(target_history_dict)\n"
   ]
  },
  {
   "cell_type": "code",
   "execution_count": null,
   "id": "7b88852a-beb4-4e64-8b2b-05afb4393472",
   "metadata": {},
   "outputs": [],
   "source": [
    "y_targets = transform_drugs_history_to_targets_history(y).dropna(axis=1, how='all')\n"
   ]
  },
  {
   "cell_type": "code",
   "execution_count": null,
   "id": "598f4b33-b29a-45e4-b426-1c2105af4e80",
   "metadata": {},
   "outputs": [],
   "source": [
    "labels_count = y_targets.count(axis=1)\n",
    "print(f\"mean number of labels: {labels_count.mean()}\")\n",
    "labels_count.hist(bins=20)\n",
    "y_targets.count()"
   ]
  },
  {
   "cell_type": "code",
   "execution_count": null,
   "id": "663eccde-9001-45f1-b367-13af831bf592",
   "metadata": {},
   "outputs": [],
   "source": [
    "y_exposed_and_ref = ~y.isna()\n",
    "y_ref = y == 2\n",
    "y_any = ~ (y_exposed_and_ref == 0).all(axis=1)\n",
    "y_any.value_counts()"
   ]
  },
  {
   "cell_type": "code",
   "execution_count": null,
   "id": "3430a12e-a6b8-4233-a725-1906443e0e9f",
   "metadata": {},
   "outputs": [],
   "source": [
    "import seaborn as sns\n",
    "sns.clustermap(pd.DataFrame(np.corrcoef(y_exposed_and_ref.T),\n",
    "                            index=covered_treatments,\n",
    "                            columns=covered_treatments\n",
    "                           ), annot=True)"
   ]
  },
  {
   "cell_type": "code",
   "execution_count": null,
   "id": "08cf455d-cd7a-4b2f-ad9a-8bcc9bf7ff58",
   "metadata": {},
   "outputs": [],
   "source": [
    "y_target_exposed_and_ref = ~y_targets.isna()\n",
    "y_target_ref = y_targets == 2\n",
    "y_target_any = ~ (y_target_exposed_and_ref == 0).all(axis=1)\n",
    "y_target_any.value_counts()"
   ]
  },
  {
   "cell_type": "code",
   "execution_count": null,
   "id": "292b76d5-bc6b-49c2-9526-74283d8c6613",
   "metadata": {
    "scrolled": true
   },
   "outputs": [],
   "source": [
    "covered_targets = list(y_target_exposed_and_ref.columns)\n",
    "sns.clustermap(pd.DataFrame(np.corrcoef(y_target_exposed_and_ref.T),\n",
    "                            index=covered_targets,\n",
    "                            columns=covered_targets\n",
    "                           ), annot=True)"
   ]
  },
  {
   "cell_type": "markdown",
   "id": "d9c5f663-6037-4a31-9011-3abe3f4b3960",
   "metadata": {
    "jp-MarkdownHeadingCollapsed": true
   },
   "source": [
    "## baseline - architypes"
   ]
  },
  {
   "cell_type": "code",
   "execution_count": null,
   "id": "a0b552ea-d52a-4c4e-bcd8-53617793e2c7",
   "metadata": {},
   "outputs": [],
   "source": [
    "nmf_emb = 'NMF_emb'\n",
    "nmf_neighborhood = 'NMF_neighborhod'\n",
    "adata_patients.obsm[nmf_emb] = adata_patients.obs[[str(i) for i in range(1,9)]]"
   ]
  },
  {
   "cell_type": "code",
   "execution_count": null,
   "id": "f94be0b1-b5fd-4ceb-9053-34309cd1f821",
   "metadata": {},
   "outputs": [],
   "source": [
    "# adata_patients[adata_patients.obsm[nmf_emb].isna().sum(axis=1) != 0].obs\n",
    "adata_patients = adata_patients[~adata_patients.obs['architype'].isna()]"
   ]
  },
  {
   "cell_type": "code",
   "execution_count": null,
   "id": "4dea5dca-34a7-455f-b0b6-faaa6988efa0",
   "metadata": {},
   "outputs": [],
   "source": [
    "adata_patients"
   ]
  },
  {
   "cell_type": "code",
   "execution_count": null,
   "id": "2527a3dc-c758-4c26-a9f6-227ead5e4361",
   "metadata": {},
   "outputs": [],
   "source": [
    "sc.pp.neighbors(adata_patients, use_rep=nmf_emb, n_neighbors=7, key_added=nmf_neighborhood, metric='l2')\n",
    "sc.tl.umap(adata_patients, min_dist=0.5, neighbors_key=nmf_neighborhood)\n",
    "sc.tl.leiden(adata_patients, resolution=0.5, neighbors_key=nmf_neighborhood)"
   ]
  },
  {
   "cell_type": "code",
   "execution_count": null,
   "id": "49f6c7e4-fca7-45eb-97c9-029ba41846ff",
   "metadata": {},
   "outputs": [],
   "source": [
    "sc.pl.umap(adata_patients, color=[\"Method\", \"leiden\", 'Disease', 'architype', 'num_exposed_treatments', 'Biopsy.Sequence', 'mal_or_healthy'], ncols=3)"
   ]
  },
  {
   "cell_type": "code",
   "execution_count": null,
   "id": "8d60af9c-de19-4e9c-b50d-a75cab3a4563",
   "metadata": {},
   "outputs": [],
   "source": [
    "sc.pl.umap(adata_patients, color=[str(i) for i in range(1,9)], ncols=3)"
   ]
  },
  {
   "cell_type": "code",
   "execution_count": null,
   "id": "c3bfa58f-1213-402f-8a89-544fa7cf6afb",
   "metadata": {},
   "outputs": [],
   "source": [
    "# arch_programs_values = adata_patients.obs[[str(i) for i in range(1,9)]]\n",
    "# arch_programs_values"
   ]
  },
  {
   "cell_type": "code",
   "execution_count": null,
   "id": "358b521a-6047-4fb4-b432-1c0b0cd9b168",
   "metadata": {
    "scrolled": true
   },
   "outputs": [],
   "source": [
    "program_thresh = 0.15\n",
    "for i in range(1,9):\n",
    "    adata_patients.obs[f\"is_{i}\"] = adata_patients.obs[str(i)] >= program_thresh\n",
    "\n",
    "arch_programs_values = adata_patients.obs[[str(i) for i in range(1,9)]]\n",
    "\n",
    "adata_patients.obs[f\"is_low\"] = (arch_programs_values <= program_thresh).all(axis=1)\n",
    "has_multiprograms = (arch_programs_values >= program_thresh).sum(axis=1) > 1\n",
    "adata_patients.obs[f\"is_multiprograms\"] = (has_multiprograms)\n",
    "\n",
    "second_largest = arch_programs_values.apply(lambda row: row.nlargest(2).values[-1],axis=1)\n",
    "adata_patients.obs[f\"is_anbigius\"] = (arch_programs_values.max(axis=1) - second_largest) < (0.15 *arch_programs_values.max(axis=1))\n",
    "\n",
    "sc.pl.umap(adata_patients, color=[f\"is_{i}\" for i in range(1,9)], ncols=3)\n",
    "sc.pl.umap(adata_patients, color=\"is_low\")\n",
    "sc.pl.umap(adata_patients, color=\"is_anbigius\")"
   ]
  },
  {
   "cell_type": "markdown",
   "id": "49356102-fe19-40ba-bfd0-ba4571cc8143",
   "metadata": {},
   "source": [
    "## baseline - pca"
   ]
  },
  {
   "cell_type": "code",
   "execution_count": null,
   "id": "e447ed8a-d6e0-457e-8ea1-5dc9f0b99f9b",
   "metadata": {},
   "outputs": [],
   "source": [
    "n_emb = 20\n",
    "pca = PCA(n_components=n_emb)\n",
    "\n",
    "zstat_pca = pca.fit_transform(adata_patients.X)"
   ]
  },
  {
   "cell_type": "code",
   "execution_count": null,
   "id": "1f1149e6-1f44-47a0-85a9-414b2d6d02bb",
   "metadata": {},
   "outputs": [],
   "source": [
    "pca_emb = 'pca_emb'\n",
    "pca_neighborhood = 'pca_neirborhod'\n",
    "adata_patients.obsm[pca_emb] = zstat_pca\n",
    "\n",
    "sc.pp.neighbors(adata_patients, use_rep=pca_emb, n_neighbors=7, key_added=pca_neighborhood)\n",
    "sc.tl.umap(adata_patients, min_dist=0.4, neighbors_key=pca_neighborhood)\n",
    "sc.tl.draw_graph(adata_patients, layout='fr', neighbors_key=pca_neighborhood)\n",
    "sc.tl.leiden(adata_patients, resolution=0.5, neighbors_key=pca_neighborhood)\n"
   ]
  },
  {
   "cell_type": "code",
   "execution_count": null,
   "id": "684c37f2-00e8-406a-b37a-d80720980013",
   "metadata": {},
   "outputs": [],
   "source": [
    "samples_clustered_by_pca_not = adata_patients[adata_patients.obs['leiden']=='4'].obs_names\n",
    "# list(patietns_clustered_mix_arc)\n",
    "\n",
    "samples_low_on_all_arch = adata_patients[adata_patients.obs['is_low']].obs_names\n",
    "# list(samples_low_on_all_arch)\n",
    "\n",
    "samples_low_on_arch_in_pca_arc = list(set(samples_clustered_by_pca_not).intersection(set(samples_low_on_all_arch)))\n",
    "# samples_low_on_arch_in_pca_arc\n",
    "\n",
    "samples_low_on_arch_not_in_pca_arc = list(set(samples_low_on_all_arch).difference(set(samples_clustered_by_pca_not)))\n",
    "# samples_low_on_arch_not_in_pca_arc"
   ]
  },
  {
   "cell_type": "code",
   "execution_count": null,
   "id": "3306345e-50a8-4322-9424-5d90bcb6cbf1",
   "metadata": {
    "scrolled": true
   },
   "outputs": [],
   "source": [
    "sc.pl.umap(adata_patients, color=[\"Method\", \"leiden\", 'Disease', 'architype', 'num_exposed_treatments', 'Biopsy.Sequence', 'mal_or_healthy'], ncols=3)\n",
    "# sc.pl.draw_graph(adata_patients, color=[\"Method_x\", \"leiden\", 'Disease', 'architype', 'num_exposed_treatments', 'Biopsy.Sequence', 'mal_or_healthy'], ncols=3)"
   ]
  },
  {
   "cell_type": "code",
   "execution_count": null,
   "id": "efb5852b-159b-4955-b787-b98944c44a95",
   "metadata": {},
   "outputs": [],
   "source": [
    "sc.pl.umap(adata_patients, color=[str(i) for i in range(1,9)], ncols=4)\n",
    "# sc.pl.draw_graph(adata_patients, color=[str(i) for i in range(1,9)], ncols=3)"
   ]
  },
  {
   "cell_type": "code",
   "execution_count": null,
   "id": "75e5c94f-0997-49aa-a3cd-97993b343e2f",
   "metadata": {},
   "outputs": [],
   "source": [
    "# sc.pl.umap(adata_patients, color=[f\"is_{i}\" for i in range(1,9)], ncols=3)\n",
    "sc.pl.umap(adata_patients, color=[\"is_low\", \"is_anbigius\"])\n",
    "adata_patients.obs[['mal_or_healthy', \"is_low\", \"is_anbigius\"]].value_counts()\n",
    "# sc.pl.draw_graph(adata_patients, color=[f\"is_{i}\" for i in range(1,9)], ncols=3)\n",
    "# sc.pl.draw_graph(adata_patients, color=\"is_low\")"
   ]
  },
  {
   "cell_type": "code",
   "execution_count": null,
   "id": "8a00fb1f-e918-4885-bb73-784f5c5f5357",
   "metadata": {},
   "outputs": [],
   "source": [
    "# adata_patients.obs[(adata_patients.obs['is_low'] & adata_patients.obs['is_anbigius'])]['architype'].value_counts()\n",
    "adata_patients.obs[adata_patients.obs['is_anbigius']]['architype'].value_counts()\n",
    "# adata_patients.obs[adata_patients.obs['is_low']]['architype'].value_counts()\n"
   ]
  },
  {
   "cell_type": "code",
   "execution_count": null,
   "id": "fdb8ada4-dbec-4e39-94a0-a349faf28c3a",
   "metadata": {
    "scrolled": true
   },
   "outputs": [],
   "source": [
    "for i in range(20):\n",
    "    adata_patients.obs[f\"PC_{i}\"] = zstat_pca[:,i]\n",
    "sc.pl.umap(adata_patients, color=[f\"PC_{i}\" for i in range(20)], ncols=4)"
   ]
  },
  {
   "cell_type": "markdown",
   "id": "19eb5239-51dc-4672-b2f2-ad42d36dcb40",
   "metadata": {
    "jp-MarkdownHeadingCollapsed": true
   },
   "source": [
    "## prediction of clinical history"
   ]
  },
  {
   "cell_type": "code",
   "execution_count": null,
   "id": "51bffc62-d1c0-47c4-8387-29960047acab",
   "metadata": {},
   "outputs": [],
   "source": [
    "patient_emb = nmf_emb\n",
    "X = adata_patients.obsm[patient_emb]\n",
    "X = pd.DataFrame(X, index=adata_patients.obs_names)"
   ]
  },
  {
   "cell_type": "code",
   "execution_count": null,
   "id": "8a8f6475-baef-44b2-bd71-49ba423449ff",
   "metadata": {},
   "outputs": [],
   "source": [
    "from sklearn.ensemble import RandomForestClassifier\n",
    "from sklearn.linear_model import RidgeClassifier\n",
    "from sklearn.linear_model import LogisticRegressionCV, LogisticRegression\n",
    "from sklearn.neighbors import KNeighborsClassifier\n",
    "\n",
    "from sklearn.model_selection import train_test_split\n",
    "import sklearn.metrics as metrics"
   ]
  },
  {
   "cell_type": "code",
   "execution_count": null,
   "id": "5e7a0063-7ce7-458e-9311-adcb23d568e9",
   "metadata": {},
   "outputs": [],
   "source": [
    "covered_targets_no_dex = covered_targets.copy()\n",
    "covered_targets_no_dex.remove('Dexamethasone')\n",
    "covered_targets_no_dex"
   ]
  },
  {
   "cell_type": "code",
   "execution_count": null,
   "id": "32773bcb-c655-4034-a3ac-f98de4d4d051",
   "metadata": {},
   "outputs": [],
   "source": [
    "y_target_exposed_and_ref.loc[X.index]"
   ]
  },
  {
   "cell_type": "code",
   "execution_count": null,
   "id": "88bd19f8-a7d6-4608-9675-dc5199c5d607",
   "metadata": {},
   "outputs": [],
   "source": [
    "X_train, X_test, y_train, y_test = train_test_split(X, y_target_exposed_and_ref.loc[X.index][covered_targets_no_dex])\n",
    "# X_train, X_test, y_train, y_test = train_test_split(X, y_any)"
   ]
  },
  {
   "cell_type": "code",
   "execution_count": null,
   "id": "c6559cb8-d01c-4e73-b8fc-347887c27918",
   "metadata": {},
   "outputs": [],
   "source": [
    "# clf = LogisticRegression()\n",
    "clf = KNeighborsClassifier(n_neighbors=3)\n",
    "# clf = RandomForestClassifier(max_depth=2,n_estimators=400, random_state=0)\n",
    "# clf = RandomForestClassifier(max_depth=3, random_state=0, class_weight='balanced')\n",
    "\n",
    "clf.fit(X_train, y_train)"
   ]
  },
  {
   "cell_type": "code",
   "execution_count": null,
   "id": "ed171d39-f310-4750-9fe6-83e1913f2b0f",
   "metadata": {},
   "outputs": [],
   "source": [
    "if len(y_train.shape) >1 :\n",
    "    y_pred_train = pd.DataFrame(clf.predict(X_train), index=X_train.index, columns=y_train.columns)\n",
    "    y_proba_train = pd.DataFrame([probas[:,1] for probas in clf.predict_proba(X_train)]).T\n",
    "    y_proba_train.index = X_train.index\n",
    "    y_proba_train.columns = y_train.columns\n",
    "    \n",
    "    y_pred_test = pd.DataFrame(clf.predict(X_test) , index=X_test.index, columns=y_test.columns)\n",
    "    y_proba_test = pd.DataFrame([probas[:,1] for probas in clf.predict_proba(X_test)]).T\n",
    "    y_proba_test.index = X_test.index\n",
    "    y_proba_test.columns = y_test.columns\n",
    "\n",
    "else:\n",
    "    y_pred_train = clf.predict(X_train)\n",
    "    y_proba_train = clf.predict_proba(X_train)\n",
    "    \n",
    "    y_pred_test = clf.predict(X_test)\n",
    "    y_proba_test = clf.predict_proba(X_test)\n"
   ]
  },
  {
   "cell_type": "code",
   "execution_count": null,
   "id": "0a9365ee-df51-4161-b779-59ba0fe4f6e7",
   "metadata": {},
   "outputs": [],
   "source": [
    "print(metrics.classification_report(y_true=y_train, y_pred=y_pred_train))\n",
    "if len(y_train.shape) >1 :\n",
    "    print(y_train.columns)\n",
    "else:\n",
    "    print(f\"{sum(y_pred_train)} predicted positive\")"
   ]
  },
  {
   "cell_type": "code",
   "execution_count": null,
   "id": "0e8f3113-c182-49fd-b405-a56a14bff0ef",
   "metadata": {
    "scrolled": true
   },
   "outputs": [],
   "source": [
    "if len(y_train.shape) >1 :\n",
    "    for treat_name in y_train.columns:\n",
    "        y_train_treat = y_train[treat_name]\n",
    "        y_pred_train_treat = y_pred_train[treat_name]\n",
    "        print(f\"{treat_name}, {sum(y_pred_train_treat)} predicted positive\")\n",
    "        print(metrics.classification_report(y_true=y_train_treat, y_pred=y_pred_train_treat))"
   ]
  },
  {
   "cell_type": "code",
   "execution_count": null,
   "id": "0f41e657-9365-4b18-b3c3-99324b337ce2",
   "metadata": {},
   "outputs": [],
   "source": [
    "# multilabel metrics\n",
    "if len(y_train.shape) >1 :\n",
    "    print(metrics.classification_report(y_test, y_pred_test))\n",
    "    \n",
    "    print(metrics.label_ranking_loss(y_train, y_proba_train))\n",
    "    print(metrics.label_ranking_loss(y_test, y_proba_test))\n",
    "    \n",
    "    print(metrics.label_ranking_average_precision_score(y_train, y_proba_train))\n",
    "    print(metrics.label_ranking_average_precision_score(y_test, y_proba_test))\n",
    "else:\n",
    "    print(f\"{sum(y_pred_test)} predicted positive\")\n",
    "    print(metrics.classification_report(y_test, y_pred_test))"
   ]
  },
  {
   "cell_type": "code",
   "execution_count": null,
   "id": "2ed399c2-bdc5-43cb-b5d7-5b6894c85c72",
   "metadata": {},
   "outputs": [],
   "source": [
    "sc.pl.umap(adata_patients, color=covered_treatments)"
   ]
  },
  {
   "cell_type": "code",
   "execution_count": null,
   "id": "02344f04-0c4a-4717-818a-45ff62c65958",
   "metadata": {},
   "outputs": [],
   "source": [
    "y_pred_train.columns = [f\"{col}_pred_train\" for col in y_train.columns]\n",
    "y_pred_test.columns = [f\"{col}_pred_test\" for col in y_train.columns]\n",
    "# pd.concat([y_pred_train, y_pred_test])"
   ]
  },
  {
   "cell_type": "code",
   "execution_count": null,
   "id": "852f4d60-82cf-40e0-a5ea-e1d0c5df7bba",
   "metadata": {},
   "outputs": [],
   "source": [
    "y_target_labels = y_target_exposed_and_ref[covered_targets_no_dex]\n",
    "y_target_labels.columns = [f\"{col}_label\" for col in y_train.columns]"
   ]
  },
  {
   "cell_type": "code",
   "execution_count": null,
   "id": "3e7ae004-e910-4143-93e0-d47e9bea9bce",
   "metadata": {},
   "outputs": [],
   "source": [
    "combined_obs = pd.concat([adata_patients.obs, y_targets.loc[adata_patients.obs.index]], axis=1)\n",
    "adata_patients.obs = combined_obs.loc[:,~combined_obs.columns.duplicated()].copy()\n",
    "sc.pl.umap(adata_patients, color=covered_targets)\n"
   ]
  },
  {
   "cell_type": "code",
   "execution_count": null,
   "id": "6914470d-181a-454e-8c04-58d3392a5fa7",
   "metadata": {},
   "outputs": [],
   "source": [
    "combined_obs = pd.concat([adata_patients.obs, y_pred_train, y_pred_test, y_target_labels], axis=1)\n",
    "adata_patients.obs = combined_obs.loc[:,~combined_obs.columns.duplicated()].copy()\n",
    "sc.pl.umap(adata_patients, color=[f\"{col}_pred_train\" for col in y_train.columns] + [f\"{col}_pred_test\" for col in y_train.columns] + [f\"{col}_label\" for col in y_train.columns])"
   ]
  },
  {
   "cell_type": "markdown",
   "id": "eb9cb5c1-91cf-485a-b75e-65def1e37372",
   "metadata": {
    "jp-MarkdownHeadingCollapsed": true
   },
   "source": [
    "## AE"
   ]
  },
  {
   "cell_type": "code",
   "execution_count": null,
   "id": "ce578377-4a3d-4716-93e5-89f467baa67a",
   "metadata": {},
   "outputs": [],
   "source": [
    "covered_targets"
   ]
  },
  {
   "cell_type": "markdown",
   "id": "aa04af9c-d223-468e-99df-d06d0441281e",
   "metadata": {},
   "source": [
    "## prediction treatment outcome"
   ]
  },
  {
   "cell_type": "code",
   "execution_count": null,
   "id": "a4402e80-5bcb-403e-ba89-0672f19b663a",
   "metadata": {},
   "outputs": [],
   "source": [
    "adata_post_treatment_pred = adata_patients[(adata_patients.obs['Biopsy.Sequence']==1) & (adata_patients.obs['mal_or_healthy']=='malignant')]\n",
    "adata_post_treatment_pred"
   ]
  },
  {
   "cell_type": "markdown",
   "id": "47076eba-d884-41f6-8087-f743e449ee1b",
   "metadata": {},
   "source": [
    "#### feature_selection"
   ]
  },
  {
   "cell_type": "code",
   "execution_count": null,
   "id": "8ffb4f86-1bb5-498a-a045-3d03516e2d18",
   "metadata": {},
   "outputs": [],
   "source": [
    "use_fish_features_for_prediction = False\n",
    "use_genes = True \n",
    "use_nmf = False\n",
    "\n",
    "feats = []"
   ]
  },
  {
   "cell_type": "code",
   "execution_count": null,
   "id": "97904035-3ea1-46bd-abc5-46e97046f3e1",
   "metadata": {},
   "outputs": [],
   "source": [
    "fish_feats = [col for col in adata_patients.obs.columns if \"t(\" in col or \"del(\" in col or col in ['1q21+', 'IGH rearrangement', 'Cytogenetics Risk (0=standard risk, 1=single hit, 2=2+ hits)']]\n",
    "if use_fish_features_for_prediction:\n",
    "    adata_patients.obs[fish_feats] = adata_patients.obs[fish_cols].fillna(-1) ## need to check this if want to use fish features\n",
    "    feats += fish_feats\n",
    "\n",
    "genes_feats = list(adata_post_treatment_pred.var_names)\n",
    "if use_genes:\n",
    "    feats += genes_feats\n",
    "\n",
    "nmf_feats = [str(i) for i in range(1,9)]\n",
    "if use_nmf:\n",
    "    feats += nmf_feats"
   ]
  },
  {
   "cell_type": "code",
   "execution_count": null,
   "id": "a23e320b-01d7-4650-b9fd-0349dd2f3bb2",
   "metadata": {},
   "outputs": [],
   "source": [
    "X_all_feats = pd.concat([adata_post_treatment_pred.to_df(), adata_post_treatment_pred.obs[nmf_feats + fish_feats]] , axis=1)\n",
    "X_all_feats.shape"
   ]
  },
  {
   "cell_type": "code",
   "execution_count": null,
   "id": "1948ae8f-c3c5-4f13-8cda-0534355247e7",
   "metadata": {},
   "outputs": [],
   "source": [
    "X_all = X_all_feats[feats]\n",
    "X_all.shape"
   ]
  },
  {
   "cell_type": "markdown",
   "id": "8d0ef888-2676-47cb-b607-10581079ab0c",
   "metadata": {},
   "source": [
    "#### lebel engeneering"
   ]
  },
  {
   "cell_type": "code",
   "execution_count": null,
   "id": "4a3317a7-05d0-42d6-b132-daa8e6d030c9",
   "metadata": {
    "scrolled": true
   },
   "outputs": [],
   "source": [
    "from clinical_predictions.clinical_data_loading import add_CART_response, add_Kydar_response, add_general_response\n",
    "\n",
    "all_metadata_df = adata_post_treatment_pred.obs\n",
    "all_metadata_df = add_general_response(all_metadata_df, pfs_thresh_months=9)\n",
    "all_metadata_df = add_Kydar_response(all_metadata_df, number_of_months=9)\n",
    "\n",
    "CAR_T_full_clinical_data_path = Path('/home/labs/amit/noamsh/data/mm_2023/clinical_prediction/CART MM responder vs non responder 160424.xlsx')\n",
    "CAR_T_full_clinical_data = load_dataframe_from_file(CAR_T_full_clinical_data_path)\n",
    "all_metadata_df = add_CART_response(all_metadata_df, full_clinical_df=CAR_T_full_clinical_data, pfs_policy=\"9M PFS\")\n",
    "\n",
    "all_metadata_df = all_metadata_df.set_index(adata_post_treatment_pred.obs_names)"
   ]
  },
  {
   "cell_type": "code",
   "execution_count": null,
   "id": "16469d37-6d05-4d68-8e3b-d86913ca60ec",
   "metadata": {},
   "outputs": [],
   "source": [
    "response_cols = all_metadata_df.columns[all_metadata_df.columns.str.contains('_response')]\n",
    "\n",
    "v_counts = []\n",
    "for col in response_cols:\n",
    "    v_counts.append(all_metadata_df[col].value_counts().rename(col))\n",
    "pd.concat(v_counts, axis=1)"
   ]
  },
  {
   "cell_type": "code",
   "execution_count": null,
   "id": "ab35b478-7080-4c2a-bd6c-cf0982083451",
   "metadata": {},
   "outputs": [],
   "source": [
    "treatmetns_with_response = ['general', 'general_pfs', 'Kydar', 'CART']\n",
    "datasets = {}\n",
    "for treatment in treatmetns_with_response:\n",
    "    y_treatment = all_metadata_df[f'{treatment}_response'].dropna()\n",
    "    y_treatment = (y_treatment == 'R').astype(int)\n",
    "    datasets[treatment] = (X_all.loc[y_treatment.index], y_treatment)\n"
   ]
  },
  {
   "cell_type": "code",
   "execution_count": null,
   "id": "d253f26e-a370-411a-ab74-bf9f394da178",
   "metadata": {},
   "outputs": [],
   "source": [
    "from sklearn.model_selection import train_test_split\n",
    "from clinical_predictions.optuna_optimization import get_best_model_with_optuna\n",
    "from clinical_predictions.evaluation import train_and_eval_model"
   ]
  },
  {
   "cell_type": "code",
   "execution_count": null,
   "id": "104b607d-4fbc-40be-9a8e-2b8d48276f87",
   "metadata": {},
   "outputs": [],
   "source": [
    "monitors = {}\n",
    "for treatment, (X, y) in datasets.items():\n",
    "    X_train, X_test, y_train, y_test = train_test_split(X, y, test_size=0.3, random_state=42, stratify=y)\n",
    "    best_model, best_trail = get_best_model_with_optuna(X_train, y_train, precision_alpha = 0, n_trials=100)\n",
    "    monitors[treatment] = train_and_eval_model(X_train, X_test, y_train, y_test, best_model, \n",
    "                                               extra_for_report=pd.DataFrame(best_trail.user_attrs[\"scores\"]))"
   ]
  },
  {
   "cell_type": "code",
   "execution_count": null,
   "id": "037cd564-e460-465c-8ce6-3f0884232630",
   "metadata": {},
   "outputs": [],
   "source": [
    "from clinical_predictions.evaluation import generate_datasets_summerization\n",
    "generate_datasets_summerization(monitors)"
   ]
  },
  {
   "cell_type": "code",
   "execution_count": null,
   "id": "80aca728-b6cf-4cde-8748-14e2be910978",
   "metadata": {},
   "outputs": [],
   "source": [
    "monitors['general_pfs'].report['extra']"
   ]
  }
 ],
 "metadata": {
  "kernelspec": {
   "display_name": "Python 3 (ipykernel)",
   "language": "python",
   "name": "python3"
  },
  "language_info": {
   "codemirror_mode": {
    "name": "ipython",
    "version": 3
   },
   "file_extension": ".py",
   "mimetype": "text/x-python",
   "name": "python",
   "nbconvert_exporter": "python",
   "pygments_lexer": "ipython3",
   "version": "3.9.18"
  }
 },
 "nbformat": 4,
 "nbformat_minor": 5
}
