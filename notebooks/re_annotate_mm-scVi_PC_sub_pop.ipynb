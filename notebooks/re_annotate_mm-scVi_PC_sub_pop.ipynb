{
 "cells": [
  {
   "cell_type": "code",
   "execution_count": null,
   "id": "5f91b899-01b2-4f4d-8ea6-d63be6975dd0",
   "metadata": {},
   "outputs": [],
   "source": [
    "%load_ext autoreload\n",
    "%autoreload 2"
   ]
  },
  {
   "cell_type": "code",
   "execution_count": null,
   "id": "0ffa5ea4-244a-4f87-ab70-b7d001b63e9f",
   "metadata": {},
   "outputs": [],
   "source": [
    "import sys\n",
    "repo_dir = '/home/labs/amit/noamsh/repos/MM_2023'\n",
    "sys.path.append(repo_dir)"
   ]
  },
  {
   "cell_type": "code",
   "execution_count": null,
   "id": "4872f816-c7fe-481d-ad47-8c9e4d907f3e",
   "metadata": {},
   "outputs": [],
   "source": [
    "from pathlib import Path\n",
    "import os\n",
    "\n",
    "from omegaconf import OmegaConf\n",
    "import scanpy as sc\n",
    "import numpy as np\n",
    "import pandas as pd\n",
    "\n",
    "import anndata as ad\n",
    "import scvi\n",
    "import pyreadr\n",
    "\n",
    "from sklearn.model_selection import train_test_split\n",
    "from sklearn.metrics import confusion_matrix\n",
    "from sklearn.neighbors import KNeighborsClassifier\n",
    "from sklearn.svm import SVC\n",
    "from xgboost import XGBClassifier, XGBRFClassifier\n",
    "\n",
    "import matplotlib.pyplot as plt\n",
    "import plotly.express as px\n",
    "import seaborn as sns\n",
    "\n",
    "from evaluation.visualizations import make_confusion_matrix\n",
    "from data_loading.utils import load_dataframe_from_file, merge_labels_to_adata\n",
    "from sc_classification.var_genes import normalize_and_choose_genes, shuang_genes_to_keep\n",
    "from io_utils import generate_path_in_output_dir"
   ]
  },
  {
   "cell_type": "code",
   "execution_count": null,
   "id": "1a7fb42e-6cbb-4850-940e-4abeb4c7bc3a",
   "metadata": {},
   "outputs": [],
   "source": [
    "config_path = Path(repo_dir, 'config.yaml')\n",
    "conf = OmegaConf.load(config_path)\n",
    "update_results = False"
   ]
  },
  {
   "cell_type": "code",
   "execution_count": null,
   "id": "6a427756-8ccd-4533-8a0d-b8add4fe6d5d",
   "metadata": {},
   "outputs": [],
   "source": [
    "from datetime import date\n",
    "ts_iso = date.today().isoformat()\n",
    "\n",
    "sc.set_figure_params(dpi=150, dpi_save=300)\n",
    "figures_dir = Path(conf.outputs.output_dir, \"figures\", ts_iso)\n",
    "update_figures = True"
   ]
  },
  {
   "cell_type": "code",
   "execution_count": null,
   "id": "768706cb-6d62-49ee-baa3-080eafb55f1f",
   "metadata": {},
   "outputs": [],
   "source": [
    "# load_ts_iso = \"2024-05-19\"\n",
    "# data_version = \"20240515\"\n",
    "\n",
    "# load_ts_iso = \"2024-05-21\"\n",
    "# data_version = \"20240519\"\n",
    "\n",
    "load_ts_iso = \"2024-08-18\"\n",
    "data_version = \"20240813\"\n",
    "\n",
    "adata_for_clustering = ad.read_h5ad(generate_path_in_output_dir(conf, conf.outputs.inferred_missing_annotation_file_name,\n",
    "                                                 with_version=data_version, with_date_timestamp=load_ts_iso))\n",
    "# adata_with_annot_and_scvi_path = Path(conf.outputs.output_dir, f\"adata_with_scvi_annot_pred_data_v_{data_version}_ts_{load_ts_iso}.h5ad\")\n",
    "# adata_for_clustering = ad.read_h5ad(adata_with_annot_and_scvi_path)\n",
    "adata_for_clustering"
   ]
  },
  {
   "cell_type": "code",
   "execution_count": null,
   "id": "aae85cd7-863f-474d-8e94-f8186944e9ad",
   "metadata": {},
   "outputs": [],
   "source": [
    "super_pop = conf.annotation.major_cell_type_column\n",
    "SCVI_LATENT_KEY = conf.scvi_settings.scvi_latent_key\n",
    "label_col = conf.annotation.cell_type_column"
   ]
  },
  {
   "cell_type": "code",
   "execution_count": null,
   "id": "5754c31d-622b-40da-aded-429102e39aee",
   "metadata": {},
   "outputs": [],
   "source": [
    "from pre_processing.utils import count_number_of_annotation_in_neighborhood"
   ]
  },
  {
   "cell_type": "code",
   "execution_count": null,
   "id": "2902471f-861d-4dda-a1fd-4e5a209eed96",
   "metadata": {},
   "outputs": [],
   "source": [
    "count_number_of_annotation_in_neighborhood(adata_for_clustering, super_pop, \"PC\")\n",
    "count_number_of_annotation_in_neighborhood(adata_for_clustering, super_pop, \"CD45\")"
   ]
  },
  {
   "cell_type": "code",
   "execution_count": null,
   "id": "fbeda09a-a490-4b67-aa28-ad0d95ab071f",
   "metadata": {},
   "outputs": [],
   "source": [
    "adata_for_clustering[adata_for_clustering.obs[super_pop]==\"PC\"].obs['count_of_PC_in_neighborhood'].hist(bins=125)\n",
    "adata_for_clustering[adata_for_clustering.obs[super_pop]==\"PC\"].obs['count_of_CD45_in_neighborhood'].hist(bins=125)"
   ]
  },
  {
   "cell_type": "code",
   "execution_count": null,
   "id": "990a448f-7eb8-4370-875d-9f90203d52a8",
   "metadata": {},
   "outputs": [],
   "source": [
    "adata_for_clustering.obs[\"bad_pcs\"] = (adata_for_clustering.obs[super_pop]==\"PC\") & (adata_for_clustering.obs['count_of_PC_in_neighborhood'] < adata_for_clustering.obs['count_of_CD45_in_neighborhood'])\n",
    "# adata_for_clustering.obs[\"bad_pcs\"] = adata_for_clustering.obs[\"bad_pcs\"].astype('category')"
   ]
  },
  {
   "cell_type": "code",
   "execution_count": null,
   "id": "9ef11acc-a10b-4f97-b00a-c6ba5322a796",
   "metadata": {},
   "outputs": [],
   "source": [
    "adata_for_clustering.obs[\"bad_pcs\"].sum()"
   ]
  },
  {
   "cell_type": "code",
   "execution_count": null,
   "id": "f2d95d99-07da-4150-9531-a76094b30aef",
   "metadata": {
    "scrolled": true
   },
   "outputs": [],
   "source": [
    "sc.pl.umap(adata_for_clustering, color=['count_of_PC_in_neighborhood', super_pop,'leiden', label_col], ncols=2, legend_loc=\"on data\")\n",
    "sc.pl.umap(adata_for_clustering[adata_for_clustering.obs[\"bad_pcs\"]], color=['Method'], ncols=1, size=50) #, legend_loc=\"on data\"\n"
   ]
  },
  {
   "cell_type": "code",
   "execution_count": null,
   "id": "b48d5934-cf5e-465c-a280-508e75dd6473",
   "metadata": {},
   "outputs": [],
   "source": [
    "cluster_annot = {}\n",
    "for c, group in adata_for_clustering.obs[[\"leiden\", super_pop]].groupby(\"leiden\"):\n",
    "    cluster_annot[c] = group.value_counts().index[0][1]\n",
    "# cluster_annot"
   ]
  },
  {
   "cell_type": "code",
   "execution_count": null,
   "id": "f1f49a05-7d3e-4185-b42f-7ae059f6bde5",
   "metadata": {},
   "outputs": [],
   "source": [
    "adata_for_clustering.obs[\"bad_pcs_leiden\"] = (adata_for_clustering.obs[super_pop]==\"PC\") & (adata_for_clustering.obs['leiden'].apply(lambda x: cluster_annot[x]==\"CD45\"))\n",
    "adata_for_clustering.obs[\"bad_pcs_leiden\"].sum()"
   ]
  },
  {
   "cell_type": "code",
   "execution_count": null,
   "id": "374886b0-1988-4293-b6fd-b7593c3b105e",
   "metadata": {},
   "outputs": [],
   "source": [
    "sc.pl.umap(adata_for_clustering[adata_for_clustering.obs[\"bad_pcs_leiden\"]], color=['Method'], ncols=1, size=50)#  , legend_loc=\"on data\""
   ]
  },
  {
   "cell_type": "code",
   "execution_count": null,
   "id": "b0419eb1-1415-41c0-9fa6-0b63d6941ce7",
   "metadata": {},
   "outputs": [],
   "source": [
    "adata_for_clustering.obs[\"bad_pcs_all\"] = ((adata_for_clustering.obs[\"bad_pcs_leiden\"]) | (adata_for_clustering.obs[\"bad_pcs\"]))\n",
    "adata_for_clustering.obs[\"bad_pcs_all\"].sum()"
   ]
  },
  {
   "cell_type": "code",
   "execution_count": null,
   "id": "ddca5c1d-fa01-4446-982e-ed861e40c758",
   "metadata": {},
   "outputs": [],
   "source": [
    "pc_close_other_pc_col = \"pc_close_other_pc\"\n",
    "adata_for_clustering.obs[pc_close_other_pc_col] = (adata_for_clustering.obs[super_pop] =='PC') & (~ adata_for_clustering.obs[\"bad_pcs_all\"])\n",
    "adata_for_clustering.obs[pc_close_other_pc_col] = adata_for_clustering.obs[pc_close_other_pc_col].astype(\"category\")"
   ]
  },
  {
   "cell_type": "code",
   "execution_count": null,
   "id": "124a3c42-e4c0-41df-8804-72d8f6bd218d",
   "metadata": {
    "scrolled": true
   },
   "outputs": [],
   "source": [
    "sc.pl.umap(adata_for_clustering, color=['Method', super_pop, label_col, 'leiden'], ncols=1, legend_loc=\"on data\")"
   ]
  },
  {
   "cell_type": "markdown",
   "id": "069c79ce-ff02-432b-a576-47d6df82f458",
   "metadata": {},
   "source": [
    "#### view PC UMAP"
   ]
  },
  {
   "cell_type": "code",
   "execution_count": null,
   "id": "08d3d384-fc1d-4293-8cbb-fa10a3e2c79a",
   "metadata": {
    "scrolled": true
   },
   "outputs": [],
   "source": [
    "sc.pl.umap(adata_for_clustering[adata_for_clustering.obs[pc_close_other_pc_col]==True], color=[label_col, 'Method','Disease'], ncols=2, palette=\"Set1\")"
   ]
  },
  {
   "cell_type": "markdown",
   "id": "70718a86-4ed1-44ac-8397-095e8f64eb47",
   "metadata": {},
   "source": [
    "# pc adata"
   ]
  },
  {
   "cell_type": "markdown",
   "id": "fde15c76-ce07-4538-a051-ae0a00f9a0b1",
   "metadata": {},
   "source": [
    "## load - only pc adata"
   ]
  },
  {
   "cell_type": "code",
   "execution_count": null,
   "id": "f0ca2d9e-a9b9-4266-8f85-5da5b1a90ab0",
   "metadata": {},
   "outputs": [],
   "source": [
    "# load_ts_iso = \"2024-05-21\"\n",
    "# data_version = \"20240519\"\n",
    "\n",
    "# load_ts_iso = \"2024-06-20\"\n",
    "# data_version = \"20240619\"\n",
    "\n",
    "adata_pc_with_annot_and_scvi_path = Path(conf.outputs.output_dir, f\"adata_with_scvi_annot_pred_data_v_{data_version}_ts_{load_ts_iso}_only_pc.h5ad\")\n",
    "adata_only_pc = ad.read_h5ad(adata_pc_with_annot_and_scvi_path)\n",
    "adata_only_pc"
   ]
  },
  {
   "cell_type": "markdown",
   "id": "47b7bcf1-437b-4c39-822c-8ef6ce264b18",
   "metadata": {},
   "source": [
    "## view only pc neigborhood"
   ]
  },
  {
   "cell_type": "code",
   "execution_count": null,
   "id": "e36f3283-637d-4019-8c3c-c531c97685d5",
   "metadata": {},
   "outputs": [],
   "source": [
    "from clinical_predictions.clinical_data_loading import load_and_process_clinical_data\n",
    "from data_loading.utils import get_updated_disease_col\n",
    "\n",
    "new_hospital_path = Path('/home/labs/amit/noamsh/data/mm_2023/clinical_prediction/Anonymized_CRF_BP_01082024.xlsx')\n",
    "clinical_data_df = load_and_process_clinical_data(new_hospital_path, code_lower_case=True, get_hospital_stage=True, \n",
    "                                                  get_post_treatment=False, get_treatment_history=False)\n",
    "clinical_data_df['Disease Stage Hospital'].value_counts()\n"
   ]
  },
  {
   "cell_type": "code",
   "execution_count": null,
   "id": "c4abd3c5-1abc-4e4d-96ef-3625eea1528c",
   "metadata": {},
   "outputs": [],
   "source": [
    "adata_only_pc.obs['Hospital.Code'] = adata_only_pc.obs['Hospital.Code'].str.lower()\n",
    "adata_only_pc.obs['Biopsy.Sequence'] = adata_only_pc.obs['Biopsy.Sequence'].astype(int)\n",
    "merged = adata_only_pc.obs.merge(clinical_data_df, how='left', left_on=['Hospital.Code', 'Biopsy.Sequence'],\n",
    "                                       right_on=['Code', 'Biopsy sequence No.'])\n",
    "\n",
    "merged['updated_Disease'] = get_updated_disease_col(merged, \n",
    "                      disease_col='Disease', hospital_disease_col='Disease Stage Hospital',\n",
    "                      update_non_naive_NDMM=False, remove_PRMM=True)\n",
    "\n",
    "merged.index = adata_only_pc.obs_names\n",
    "adata_only_pc.obs['Disease'] = merged['updated_Disease']"
   ]
  },
  {
   "cell_type": "code",
   "execution_count": null,
   "id": "f0a33091-5815-4364-927a-23d81792b578",
   "metadata": {},
   "outputs": [],
   "source": [
    "adata_only_pc.obs[\"MGUS\"] = (adata_only_pc.obs['Disease'] == \"MGUS\").astype(\"category\")\n",
    "adata_only_pc.obs[\"SMM\"] = (adata_only_pc.obs['Disease'] == \"SMM\").astype(\"category\")\n",
    "adata_only_pc.obs[\"NDMM\"] = (adata_only_pc.obs['Disease'] == \"NDMM\").astype(\"category\")\n",
    "adata_only_pc.obs[\"non_naive_NDMM\"] = (adata_only_pc.obs['Disease'] == \"non_naive_NDMM\").astype(\"category\")\n",
    "sc.pl.umap(adata_only_pc, color=['MGUS', 'SMM', \"NDMM\", \"non_naive_NDMM\"], ncols=3, palette=\"Paired\")"
   ]
  },
  {
   "cell_type": "code",
   "execution_count": null,
   "id": "3548d8af-c2ba-4299-868c-634a90689580",
   "metadata": {
    "scrolled": true
   },
   "outputs": [],
   "source": [
    "if update_figures:\n",
    "    with plt.rc_context():  # Use this to set figure params like size and dpi\n",
    "        sc.pl.umap(adata_only_pc, color=['Disease', 'Method', 'Tissue', 'pc_with_tme_environment'], ncols=2, palette=\"Paired\", show=False)\n",
    "        plt.savefig(Path(figures_dir, \"pc_umap_annotation_method.pdf\"), bbox_inches=\"tight\", format=\"pdf\")\n",
    "        \n",
    "else:\n",
    "    sc.pl.umap(adata_only_pc, color=['Cohort', 'Method','Tissue','pc_with_tme_environment'], ncols=2, palette=\"Paired\")"
   ]
  },
  {
   "cell_type": "code",
   "execution_count": null,
   "id": "62ffec10-25d6-41a2-9c22-d5fc25a18e63",
   "metadata": {},
   "outputs": [],
   "source": [
    "small_clusters = adata_only_pc.obs['leiden'].value_counts()[adata_only_pc.obs['leiden'].value_counts() < 20]\n",
    "adata_only_pc.obs['leiden'] = adata_only_pc.obs['leiden'].apply(lambda x: np.nan if x in small_clusters.index else x)"
   ]
  },
  {
   "cell_type": "code",
   "execution_count": null,
   "id": "9bd38da2-9a89-4519-9a04-8dfe8db96de7",
   "metadata": {},
   "outputs": [],
   "source": [
    "if update_figures:\n",
    "    with plt.rc_context():  # Use this to set figure params like size and dpi\n",
    "        sc.pl.umap(adata_only_pc, color=['leiden'], ncols=1, legend_loc='on data', palette=\"plasma\", show=False) # hsv\n",
    "        plt.savefig(Path(figures_dir, \"pc_umap_leiden.pdf\"), bbox_inches=\"tight\", format=\"pdf\")\n",
    "        \n",
    "else:\n",
    "    sc.pl.umap(adata_only_pc, color=['leiden'], ncols=1, legend_loc='on data', palette=\"plasma\")\n"
   ]
  },
  {
   "cell_type": "code",
   "execution_count": null,
   "id": "414656db-9e78-4523-a11f-592d9921b1a8",
   "metadata": {},
   "outputs": [],
   "source": [
    "healthy_clusters = ['0','3', '4']\n",
    "healthy_like_clusters = ['6', '25']\n",
    "\n",
    "def _transform_clusters_to_pc_annotation(leidein_caluster):\n",
    "    if leidein_caluster in healthy_clusters:\n",
    "        return \"Healthy\"\n",
    "    if leidein_caluster in healthy_like_clusters:\n",
    "        return \"Healthy_Like\"\n",
    "    else:\n",
    "        return \"Malignant\"\n",
    "        \n",
    "adata_only_pc.obs[\"pc_annotation\"] = adata_only_pc.obs[\"leiden\"].apply(_transform_clusters_to_pc_annotation)\n",
    "\n",
    "if update_figures:\n",
    "    with plt.rc_context():  # Use this to set figure params like size and dpi\n",
    "        sc.pl.umap(adata_only_pc, color=['pc_annotation'], ncols=1, legend_loc='on data', palette=\"Paired\", show=False) \n",
    "        plt.savefig(Path(figures_dir, \"pc_umap_healthy_annotation.pdf\"), bbox_inches=\"tight\", format=\"pdf\")\n",
    "        \n",
    "else:\n",
    "    sc.pl.umap(adata_only_pc, color=['pc_annotation'], ncols=1, legend_loc='on data', palette=\"Paired\")\n"
   ]
  },
  {
   "cell_type": "code",
   "execution_count": null,
   "id": "6f4070a4-7614-4d8b-b0d8-60f31f78ddaa",
   "metadata": {
    "scrolled": true
   },
   "outputs": [],
   "source": [
    "genes_of_interst = [\"CD38\", \"TXNIP\", \"FCRL5\", \"SSR4\", \"SDC1\", \"TNFRSF17\", \"DERL3\", \"MZB1\", \"CCND1\", \"FRZB\", \"LAMP5\", \"NSD2\", \"FGFR3\", \"ITGB7\", \"CDR1\", \"SPP1\", \"PPIA\", \"GPRC5D\", \"CCND2\"]\n",
    "\n",
    "if update_figures:\n",
    "    with plt.rc_context():  # Use this to set figure params like size and dpi\n",
    "        sc.pl.umap(adata_only_pc, color=genes_of_interst, ncols=3, show=False)\n",
    "        plt.savefig(Path(figures_dir, \"pc_umap_marker_genes.pdf\"), bbox_inches=\"tight\", format=\"pdf\")    \n",
    "else:\n",
    "    sc.pl.umap(adata_only_pc, color=genes_of_interst, ncols=3)"
   ]
  },
  {
   "cell_type": "code",
   "execution_count": null,
   "id": "0ee52c89-e55e-4232-997f-f71324319eb6",
   "metadata": {},
   "outputs": [],
   "source": [
    "# number of umis to consider noisy malignant\n",
    "np.exp(6.5)"
   ]
  },
  {
   "cell_type": "code",
   "execution_count": null,
   "id": "4d23b82c-fc8f-45ba-927e-526f2b849016",
   "metadata": {},
   "outputs": [],
   "source": [
    "cell_patients_count = adata_only_pc.obs[\"number_of_diffrent_patients_in_nighborhood\"]\n",
    "adata_only_pc.obs[\"one_pateint_in_nighborhood\"] = (cell_patients_count == 1).astype(\"category\")\n",
    "adata_only_pc.obs[\"small_pateint_in_nighborhood\"] = (cell_patients_count.apply(lambda x: x in (1,2,3))).astype(\"category\")\n",
    "adata_only_pc.obs['log_total_counts'] = np.log(adata_only_pc.obs['total_counts'])\n",
    "adata_only_pc.obs['noisy_malignant'] = ((adata_only_pc.obs[\"number_of_diffrent_patients_in_nighborhood\"] > 15) & \n",
    "                                        (adata_only_pc.obs['pc_annotation']!=\"Healthy\")).astype(\"category\")\n",
    "adata_only_pc.obs['noisy_malignant_by_umi'] = ((adata_only_pc.obs[\"log_total_counts\"] < 6.5) & \n",
    "                                        (adata_only_pc.obs['pc_annotation']!=\"Healthy\")).astype(\"category\")\n"
   ]
  },
  {
   "cell_type": "code",
   "execution_count": null,
   "id": "f2351cd1-d946-4bc3-9a83-7ea178d7131b",
   "metadata": {
    "scrolled": true
   },
   "outputs": [],
   "source": [
    "if update_figures:\n",
    "    with plt.rc_context():  # Use this to set figure params like size and dpi\n",
    "        sc.pl.umap(adata_only_pc,\n",
    "               color=[\"number_of_diffrent_patients_in_nighborhood\", \"one_pateint_in_nighborhood\", \"small_pateint_in_nighborhood\", 'log_total_counts'],\n",
    "               ncols=2 ,color_map=\"magma\", palette='Paired', show=False)\n",
    "        plt.savefig(Path(figures_dir, \"pc_umap_patients_in_neigborhood.pdf\"), bbox_inches=\"tight\", format=\"pdf\")    \n",
    "else:\n",
    "    sc.pl.umap(adata_only_pc,\n",
    "               color=[\"number_of_diffrent_patients_in_nighborhood\", \"one_pateint_in_nighborhood\", \"small_pateint_in_nighborhood\", 'log_total_counts',\n",
    "                        'pct_counts_mt', 'noisy_malignant', 'noisy_malignant_by_umi'],\n",
    "               ncols=2 ,color_map=\"magma\", palette='Paired')"
   ]
  },
  {
   "cell_type": "code",
   "execution_count": null,
   "id": "2066a465-3e87-40c9-b824-39524876da28",
   "metadata": {
    "scrolled": true
   },
   "outputs": [],
   "source": [
    "df = adata_only_pc.obs\n",
    "fig = px.violin(df, y=\"number_of_diffrent_patients_in_nighborhood\",x=\"pc_annotation\", box=True)\n",
    "fig.show()\n",
    "# fig = px.violin(df, y=\"n_genes_by_counts\",x=\"noisy_malignant\", box=True)\n",
    "# fig.show()"
   ]
  },
  {
   "cell_type": "code",
   "execution_count": null,
   "id": "ce247959-a13c-4ad0-989a-9659363e4071",
   "metadata": {},
   "outputs": [],
   "source": [
    "rows = []\n",
    "count_thesholds = [400, 450, 500, 550, 600, 650, 700]\n",
    "n_mal_per_patient = [20, 30, 40, 50, 70, 100]\n",
    "for thresh in count_thesholds:\n",
    "    _adata = adata_only_pc[adata_only_pc.obs[\"total_counts\"] >= thresh]\n",
    "    _mal_adata = _adata[_adata.obs['pc_annotation']!=\"Healthy\"]\n",
    "    for n_mal_thresh in n_mal_per_patient:\n",
    "        n_patients_by_malignat_pcs = (_mal_adata.obs['Hospital.Code'].value_counts() >= n_mal_thresh).sum()\n",
    "        rows.append((n_patients_by_malignat_pcs, thresh, n_mal_thresh))"
   ]
  },
  {
   "cell_type": "code",
   "execution_count": null,
   "id": "af687f8f-bdfb-4c15-bd33-2cf9e30a35a5",
   "metadata": {},
   "outputs": [],
   "source": [
    "df = pd.DataFrame(rows, columns=[\"n_patients\", \"cell_thresh_count\", \"n_malignant_per_patient\"])\n",
    "px.line(df, x=\"cell_thresh_count\", y=\"n_patients\", color=\"n_malignant_per_patient\")"
   ]
  },
  {
   "cell_type": "code",
   "execution_count": null,
   "id": "23bc56ff-f72c-43e7-920d-536ed3560de6",
   "metadata": {},
   "outputs": [],
   "source": [
    "non_noisy_malignant = adata_only_pc[adata_only_pc.obs['noisy_malignant_by_umi']==False]\n",
    "non_noisy_malignant"
   ]
  },
  {
   "cell_type": "code",
   "execution_count": null,
   "id": "87c1bde1-e760-4c6d-b662-ae5004e20b0b",
   "metadata": {},
   "outputs": [],
   "source": [
    "only_pc_neighbors_key = \"PC_nighbors\"\n",
    "sc.pp.neighbors(non_noisy_malignant, use_rep='X_scVI', n_neighbors=30, key_added=only_pc_neighbors_key)\n",
    "sc.tl.umap(non_noisy_malignant, min_dist=0.3, neighbors_key=only_pc_neighbors_key)"
   ]
  },
  {
   "cell_type": "code",
   "execution_count": null,
   "id": "2be2e667-fb5b-4339-8260-6d261263c61b",
   "metadata": {},
   "outputs": [],
   "source": [
    "sc.pl.umap(non_noisy_malignant,\n",
    "               color=[\"number_of_diffrent_patients_in_nighborhood\", \"one_pateint_in_nighborhood\", \"small_pateint_in_nighborhood\", 'pc_annotation'],\n",
    "               ncols=2 ,color_map=\"magma\", palette='Paired')"
   ]
  },
  {
   "cell_type": "code",
   "execution_count": null,
   "id": "39a0feb6-9ba1-4642-9dea-d75a3d3e1f90",
   "metadata": {
    "scrolled": true
   },
   "outputs": [],
   "source": [
    "if update_figures:\n",
    "    with plt.rc_context():  # Use this to set figure params like size and dpi\n",
    "        sc.pl.umap(non_noisy_malignant, color=genes_of_interst, ncols=3, show=False)\n",
    "        plt.savefig(Path(figures_dir, \"pc_filtered_umap_marker_genes.pdf\"), bbox_inches=\"tight\", format=\"pdf\")    \n",
    "else:\n",
    "    sc.pl.umap(non_noisy_malignant, color=genes_of_interst, ncols=3)"
   ]
  },
  {
   "cell_type": "code",
   "execution_count": null,
   "id": "6381d9dc-ffb3-429f-ba43-5fb62fb35efd",
   "metadata": {},
   "outputs": [],
   "source": [
    "non_noisy_malignant.obs.groupby('Hospital.Code')['Disease'].nunique().value_counts()"
   ]
  },
  {
   "cell_type": "markdown",
   "id": "bab9b175-89bf-437f-a930-b8ce5eb94851",
   "metadata": {},
   "source": [
    "### save"
   ]
  },
  {
   "cell_type": "code",
   "execution_count": null,
   "id": "f426d0ed-db67-4633-a000-a89eae61d0ef",
   "metadata": {},
   "outputs": [],
   "source": [
    "data_version, load_ts_iso"
   ]
  },
  {
   "cell_type": "code",
   "execution_count": null,
   "id": "541008ee-83cb-4fc4-9b9f-e3fbeb2f8b86",
   "metadata": {},
   "outputs": [],
   "source": [
    "annotated_only_pc_path = Path(conf.outputs.output_dir, f\"adata_with_scvi_annot_pred_data_v_{data_version}_ts_{load_ts_iso}_only_pc_annotated.h5ad\")\n",
    "annotated_filtered_only_pc_path = Path(conf.outputs.output_dir, f\"adata_with_scvi_annot_pred_data_v_{data_version}_ts_{load_ts_iso}_only_pc_annotated_filtered.h5ad\")\n",
    "\n",
    "adata_only_pc.write(annotated_only_pc_path)\n",
    "non_noisy_malignant.write(annotated_filtered_only_pc_path)"
   ]
  },
  {
   "cell_type": "code",
   "execution_count": null,
   "id": "72cac239-008e-4be4-b083-34b14d275ab1",
   "metadata": {},
   "outputs": [],
   "source": [
    "annotated_only_pc_path = Path(conf.outputs.output_dir, f\"adata_with_scvi_annot_pred_data_v_{data_version}_ts_{load_ts_iso}_only_pc_annotated.h5ad\")\n",
    "annotated_filtered_only_pc_path = Path(conf.outputs.output_dir, f\"adata_with_scvi_annot_pred_data_v_{data_version}_ts_{load_ts_iso}_only_pc_annotated_filtered.h5ad\")\n",
    "\n",
    "adata_only_pc = ad.read_h5ad(annotated_only_pc_path)\n",
    "non_noisy_malignant = ad.read_h5ad(annotated_filtered_only_pc_path)\n"
   ]
  },
  {
   "cell_type": "code",
   "execution_count": null,
   "id": "dcbef5d3-0c9f-4a45-b168-fc6b59849de9",
   "metadata": {
    "scrolled": true
   },
   "outputs": [],
   "source": [
    "Diseases = non_noisy_malignant.obs['Disease'].unique()\n",
    "for d in Diseases:\n",
    "    non_noisy_malignant.obs[d] = (non_noisy_malignant.obs['Disease'] == d).astype(\"category\")\n",
    "\n",
    "sc.pl.umap(non_noisy_malignant, color=Diseases, ncols=2, palette=\"Paired\")"
   ]
  },
  {
   "cell_type": "code",
   "execution_count": null,
   "id": "4568ed26-cbfb-493f-bfa1-555749376334",
   "metadata": {},
   "outputs": [],
   "source": [
    "non_noisy_malignant.obs[\"Hospital.Code\"]"
   ]
  },
  {
   "cell_type": "code",
   "execution_count": null,
   "id": "e3133d36-0923-4ff0-8d4f-b11134ead34b",
   "metadata": {},
   "outputs": [],
   "source": [
    "from sc_classification.train_test_split import split_adata\n",
    "patrint_id_col = \"Hospital.Code\"\n",
    "train_adata, test_adata = split_adata(adata_only_pc, split_by_obs_column=patrint_id_col, seed=42)"
   ]
  },
  {
   "cell_type": "code",
   "execution_count": null,
   "id": "9fbd8f47-7b1e-4424-8e5d-02b28518643f",
   "metadata": {},
   "outputs": [],
   "source": [
    "label_col = \"pc_annotation\"\n",
    "train_adata.obs[label_col].value_counts()"
   ]
  },
  {
   "cell_type": "code",
   "execution_count": null,
   "id": "e56c5b44-5197-4c73-bb90-dad063f8251c",
   "metadata": {},
   "outputs": [],
   "source": [
    "train_X = train_adata.obsm[SCVI_LATENT_KEY]\n",
    "test_X = test_adata.obsm[SCVI_LATENT_KEY]\n",
    "\n",
    "class_map = {'Healthy':1, 'Healthy_Like':1, 'Malignant':0}\n",
    "\n",
    "train_y = train_adata.obs[label_col].map(class_map)\n",
    "test_y = test_adata.obs[label_col].map(class_map)"
   ]
  },
  {
   "cell_type": "code",
   "execution_count": null,
   "id": "30de514b-4a4a-43fb-9a22-28baa006a70e",
   "metadata": {},
   "outputs": [],
   "source": [
    "model = KNeighborsClassifier(n_neighbors=35)\n",
    "# model = SVC(C=1.0, gamma='auto')\n",
    "model = XGBRFClassifier(max_depth=6, n_estimators=256)\n",
    "model.fit(train_X, train_y)\n",
    "test_y_pred = model.predict(test_X)\n",
    "train_y_pred = model.predict(train_X)\n",
    "model"
   ]
  },
  {
   "cell_type": "code",
   "execution_count": null,
   "id": "233a9cff-fab3-4ed6-81aa-b071cc96559b",
   "metadata": {
    "scrolled": true
   },
   "outputs": [],
   "source": [
    "print(\"train\")\n",
    "cats = list(model.classes_)\n",
    "cm = confusion_matrix(train_y, train_y_pred, labels=cats)\n",
    "make_confusion_matrix(cm , categories=cats, figsize=(12, 9))\n",
    "\n",
    "print(\"test\")\n",
    "cats = list(model.classes_)\n",
    "cm = confusion_matrix(test_y, test_y_pred, labels=cats)\n",
    "make_confusion_matrix(cm , categories=cats, figsize=(12, 9))"
   ]
  },
  {
   "cell_type": "code",
   "execution_count": null,
   "id": "1e52cabb-2203-40ef-a8a0-cf011779bfed",
   "metadata": {},
   "outputs": [],
   "source": [
    "mars_adata = adata_only_pc[adata_only_pc.obs['Method']==\"MARS\"]\n",
    "spid_adata = adata_only_pc[adata_only_pc.obs['Method']==\"SPID\"]\n",
    "\n",
    "mars_X = mars_adata.obsm[SCVI_LATENT_KEY]\n",
    "spid_X = spid_adata.obsm[SCVI_LATENT_KEY]\n",
    "\n",
    "mars_y = mars_adata.obs[label_col]\n",
    "spid_y = spid_adata.obs[label_col]"
   ]
  },
  {
   "cell_type": "code",
   "execution_count": null,
   "id": "7c87e0e0-780e-4b35-a8f1-f2626ab53796",
   "metadata": {},
   "outputs": [],
   "source": [
    "mars_model = KNeighborsClassifier(n_neighbors=35)\n",
    "mars_model.fit(mars_X, mars_y)"
   ]
  },
  {
   "cell_type": "code",
   "execution_count": null,
   "id": "52a6d9a3-8ce0-4e42-b672-dc93bc15be14",
   "metadata": {},
   "outputs": [],
   "source": [
    "spid_y_pred = mars_model.predict(spid_X)"
   ]
  },
  {
   "cell_type": "code",
   "execution_count": null,
   "id": "50b95a9b-8d31-4899-abe8-62273a6c0fdf",
   "metadata": {},
   "outputs": [],
   "source": [
    "cats = list(mars_model.classes_)\n",
    "cm = confusion_matrix(spid_y, spid_y_pred, labels=cats)\n",
    "make_confusion_matrix(cm , categories=cats, figsize=(12, 9))"
   ]
  },
  {
   "cell_type": "code",
   "execution_count": null,
   "id": "a2d19e90-61f1-4d9a-a741-30c8c6f0bda6",
   "metadata": {},
   "outputs": [],
   "source": [
    "spid_model = KNeighborsClassifier(n_neighbors=35)\n",
    "spid_model.fit(spid_X, spid_y)"
   ]
  },
  {
   "cell_type": "code",
   "execution_count": null,
   "id": "4430d60a-f6b5-4181-bca3-167bb8672804",
   "metadata": {},
   "outputs": [],
   "source": [
    "mars_y_pred = spid_model.predict(mars_X)"
   ]
  },
  {
   "cell_type": "code",
   "execution_count": null,
   "id": "5fba02d7-46f9-4b71-b137-faa847182db5",
   "metadata": {},
   "outputs": [],
   "source": [
    "cats = list(spid_model.classes_)\n",
    "cm = confusion_matrix(mars_y, mars_y_pred, labels=cats)\n",
    "make_confusion_matrix(cm , categories=cats, figsize=(14, 10))"
   ]
  },
  {
   "cell_type": "markdown",
   "id": "d876d989-c233-46a2-a9a6-d026a8ecd949",
   "metadata": {},
   "source": [
    "#### healthy tumor classification"
   ]
  },
  {
   "cell_type": "code",
   "execution_count": null,
   "id": "38702d2d-7020-4b09-b495-b2d28ccd1a1b",
   "metadata": {
    "scrolled": true
   },
   "outputs": [],
   "source": [
    "\n",
    "train_y_pred = pd.Series(index=train_y.index, data=train_y_pred)\n",
    "test_y_pred = pd.Series(index=test_y.index, data=test_y_pred)\n",
    "# pd.concat([test_y_pred, train_y_pred]).astype(\"category\")"
   ]
  },
  {
   "cell_type": "code",
   "execution_count": null,
   "id": "42b026f4-db01-4f04-8c60-4969e1487e1a",
   "metadata": {},
   "outputs": [],
   "source": [
    "pred_col = \"pred\" \n",
    "adata_only_pc.obs[pred_col] = pd.concat([test_y_pred, train_y_pred]).astype(\"category\")\n",
    "adata_only_pc.obs[\"false_healty\"] = ((adata_only_pc.obs[pred_col] == 1) & (adata_only_pc.obs[label_col] == 'Malignant')).astype(\"category\")\n",
    "adata_only_pc.obs[\"false_malignant\"] = ((adata_only_pc.obs[pred_col] == 0) & (adata_only_pc.obs[label_col] == 'Healthy')).astype(\"category\")"
   ]
  },
  {
   "cell_type": "code",
   "execution_count": null,
   "id": "2a26fb70-2a3c-488b-8110-f514a0f3da2e",
   "metadata": {
    "scrolled": true
   },
   "outputs": [],
   "source": [
    "sc.pl.umap(adata_only_pc, color=[label_col, pred_col , \"false_healty\", \"false_malignant\"], ncols=2 , palette='Paired') # palette='tab2'"
   ]
  },
  {
   "cell_type": "code",
   "execution_count": null,
   "id": "1a987ad1-d858-4c84-976a-bdcdfaf49371",
   "metadata": {},
   "outputs": [],
   "source": [
    "# sc.tl.embedding_density(adata_only_pc, basis='umap', groupby='false_healty')\n",
    "# sc.pl.embedding_density(adata_only_pc, basis=\"umap\", key='umap_density_false_healty')"
   ]
  },
  {
   "cell_type": "markdown",
   "id": "359a6f1c-5d9e-45a5-aaa5-c01da505bdd4",
   "metadata": {},
   "source": [
    "# evaluation of gene expession"
   ]
  },
  {
   "cell_type": "code",
   "execution_count": null,
   "id": "64b5f66e-188e-4b48-b34b-8d87b015dd14",
   "metadata": {
    "scrolled": true
   },
   "outputs": [],
   "source": [
    "sc.tl.rank_genes_groups(adata, 'pc_annotation', method='logreg')\n",
    "sc.pl.rank_genes_groups(adata, n_genes=25, sharey=False)"
   ]
  }
 ],
 "metadata": {
  "kernelspec": {
   "display_name": "Python 3 (ipykernel)",
   "language": "python",
   "name": "python3"
  },
  "language_info": {
   "codemirror_mode": {
    "name": "ipython",
    "version": 3
   },
   "file_extension": ".py",
   "mimetype": "text/x-python",
   "name": "python",
   "nbconvert_exporter": "python",
   "pygments_lexer": "ipython3",
   "version": "3.9.18"
  }
 },
 "nbformat": 4,
 "nbformat_minor": 5
}
