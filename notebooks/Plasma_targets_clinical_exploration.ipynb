{
 "cells": [
  {
   "cell_type": "code",
   "execution_count": null,
   "id": "30df061f-71e6-484d-8e72-b6b8e04a872b",
   "metadata": {},
   "outputs": [],
   "source": [
    "%load_ext autoreload\n",
    "%autoreload 2\n",
    "import sys\n",
    "repo_dir = '/home/labs/amit/noamsh/repos/MM_2023'\n",
    "sys.path.append(repo_dir)"
   ]
  },
  {
   "cell_type": "code",
   "execution_count": null,
   "id": "2c514028-cb74-4a31-a484-04ee46ea9391",
   "metadata": {},
   "outputs": [],
   "source": [
    "from pathlib import Path\n",
    "from omegaconf import OmegaConf\n",
    "\n",
    "import pandas as pd\n",
    "import numpy as np\n",
    "import anndata as ad\n",
    "import scanpy as sc\n",
    "\n",
    "from matplotlib.pyplot import rc_context\n",
    "\n",
    "\n",
    "from data_loading.utils import load_dataframe_from_file\n",
    "from io_utils import generate_path_in_output_dir"
   ]
  },
  {
   "cell_type": "code",
   "execution_count": null,
   "id": "62f2e0cf-ed62-4bda-a517-f95baa56b555",
   "metadata": {},
   "outputs": [],
   "source": [
    "config_path = Path(repo_dir, 'config.yaml')\n",
    "conf = OmegaConf.load(config_path)"
   ]
  },
  {
   "cell_type": "code",
   "execution_count": null,
   "id": "9dadfa07-63a3-4f33-8f5f-229541f05c58",
   "metadata": {},
   "outputs": [],
   "source": [
    "markers = ['FCRL2', 'BTLA', 'PERP', 'P2RX5', 'RASGRP3', 'FCRLA', 'KCNN3', 'TNFRSF13B', 'CCR10']"
   ]
  },
  {
   "cell_type": "code",
   "execution_count": null,
   "id": "223e15e6-efe5-495f-93f6-9c615383086f",
   "metadata": {},
   "outputs": [],
   "source": [
    "# load_ts_iso = \"2024-06-20\"\n",
    "load_ts_iso = \"2024-06-28\"\n",
    "data_version = \"20240619\""
   ]
  },
  {
   "cell_type": "code",
   "execution_count": null,
   "id": "a6336c2b-acca-4cfd-a8db-2376aa7ccc30",
   "metadata": {},
   "outputs": [],
   "source": [
    "from datetime import date\n",
    "ts_iso = date.today().isoformat()\n",
    "\n",
    "sc.set_figure_params(dpi=150, dpi_save=300)\n",
    "figures_dir = Path(conf.outputs.output_dir, \"figures\", ts_iso)"
   ]
  },
  {
   "cell_type": "markdown",
   "id": "df0c3cde-8e48-490f-8e06-92f1daad5d12",
   "metadata": {},
   "source": [
    "### general evaluation of markers"
   ]
  },
  {
   "cell_type": "code",
   "execution_count": null,
   "id": "b28590fb-86e2-4703-9e2f-e3b3dc86d281",
   "metadata": {},
   "outputs": [],
   "source": [
    "annotated_filtered_only_pc_path = Path(conf.outputs.output_dir,\n",
    "                                       f\"adata_with_scvi_annot_pred_data_v_{data_version}_ts_{load_ts_iso}_only_pc_annotated_filtered.h5ad\")\n",
    "pc_adata = ad.read_h5ad(annotated_filtered_only_pc_path)\n",
    "pc_adata"
   ]
  },
  {
   "cell_type": "code",
   "execution_count": null,
   "id": "92cf8431-06d9-4bb4-b74e-7474ca5443a4",
   "metadata": {},
   "outputs": [],
   "source": [
    "patients_with_more_than_20_pc = pc_adata.obs[\"Hospital.Code\"].value_counts() > 20\n",
    "pc_adata = pc_adata[pc_adata.obs[\"Hospital.Code\"].map(patients_with_more_than_20_pc)]"
   ]
  },
  {
   "cell_type": "code",
   "execution_count": null,
   "id": "a8b4d819-c164-465c-a6c6-9017c6ad4bc3",
   "metadata": {},
   "outputs": [],
   "source": [
    "adf = pc_adata.to_df()\n",
    "adf[\"pid\"] = pc_adata.obs[\"Hospital.Code\"]\n",
    "adf_mal = pc_adata[pc_adata.obs['pc_annotation'] == 'Malignant'].to_df()\n",
    "adf_mal[\"pid\"] = pc_adata.obs[\"Hospital.Code\"]"
   ]
  },
  {
   "cell_type": "code",
   "execution_count": null,
   "id": "8168fb4b-8855-488a-8f6a-f24fb594104e",
   "metadata": {},
   "outputs": [],
   "source": [
    "def count_patients_geneapearance(sc_gene_df, genes, patient_col, apearance_thresh=0, cell_percentage_thresh=None):\n",
    "    agg_markers = sc_gene_df.groupby(patient_col)[genes].agg({target: lambda x: np.mean(x>apearance_thresh) for target in genes})\n",
    "    pp_thresholds = [cell_percentage_thresh] if cell_percentage_thresh is not None else [0.05, 0.07, 0.1, 0.15, 0.2, 0.3, 0.5]\n",
    "    \n",
    "    gene_apearances = {}\n",
    "    for pp_thresh in pp_thresholds:\n",
    "        gene_apearances[pp_thresh] = (agg_markers > pp_thresh).sum()\n",
    "    \n",
    "    patient_apearance = pd.DataFrame(gene_apearances)\n",
    "    patient_apearance.columns.name = \"precentage of cells expressing gene per patient\"\n",
    "    return patient_apearance\n",
    "    "
   ]
  },
  {
   "cell_type": "code",
   "execution_count": null,
   "id": "4b8cd624-c797-47b2-b4c1-1f8b5ba020b2",
   "metadata": {},
   "outputs": [],
   "source": [
    "count_patients_geneapearance(adf, markers, 'pid')"
   ]
  },
  {
   "cell_type": "code",
   "execution_count": null,
   "id": "93cae6f5-ff40-4d63-b1ee-3bb1ac7406e1",
   "metadata": {},
   "outputs": [],
   "source": [
    "count_patients_geneapearance(adf_mal, markers, 'pid')"
   ]
  },
  {
   "cell_type": "code",
   "execution_count": null,
   "id": "fdfde26e-d95c-4705-a14f-1e6930a97b08",
   "metadata": {},
   "outputs": [],
   "source": [
    "sc.tl.dendrogram(pc_adata, var_names=markers, groupby=\"Hospital.Code\")\n",
    "sc.pl.dotplot(pc_adata, markers, groupby=\"Hospital.Code\", dendrogram=True, swap_axes=True)"
   ]
  },
  {
   "cell_type": "code",
   "execution_count": null,
   "id": "fbe5c6a7-b83d-434f-b2bc-b3377039cf73",
   "metadata": {},
   "outputs": [],
   "source": [
    "with rc_context({\"figure.figsize\": (16, 2)}):\n",
    "    sc.pl.violin(pc_adata, markers, groupby=\"Hospital.Code\", rotation=90, show=False)\n",
    "    plt.savefig(Path(figures_dir, f\"target_vs_patient_violins.pdf\"), bbox_inches=\"tight\", format=\"pdf\")    "
   ]
  },
  {
   "cell_type": "code",
   "execution_count": null,
   "id": "5d6a3c37-a553-4e45-b0cf-7a2fd6c92bdc",
   "metadata": {},
   "outputs": [],
   "source": [
    "sc.tl.dendrogram(pc_adata, var_names=markers, groupby=\"Disease\")\n",
    "sc.pl.dotplot(pc_adata, markers, groupby=\"Disease\", dendrogram=True, swap_axes=True)"
   ]
  },
  {
   "cell_type": "code",
   "execution_count": null,
   "id": "7ebd7c50-a8c2-49e9-9734-38d01514ad74",
   "metadata": {},
   "outputs": [],
   "source": [
    "\n",
    "allowed_MARS_trails = [\"CART\", \"KPT\", \"KYDAR\", \"PPIA\"]\n",
    "allowed_SPID_trails =  [\"CART\", \"BISE JnJ\", \"Transplantation\"]\n",
    "\n",
    "def get_clinical_trail(row):\n",
    "    method = row['Method']\n",
    "    if method == \"MARS\":\n",
    "        clinical_trial = row['Project'] if row['Project'] in allowed_MARS_trails else None\n",
    "    if method == \"SPID\":\n",
    "        clinical_trial = row['Cohort'] if row['Cohort'] in allowed_SPID_trails else None\n",
    "    return clinical_trial\n"
   ]
  },
  {
   "cell_type": "code",
   "execution_count": null,
   "id": "02dc87af-d10b-4e23-a480-1e4f93a0de15",
   "metadata": {},
   "outputs": [],
   "source": [
    "pc_adata.obs['Clinical.Trial'] = pc_adata.obs.apply(get_clinical_trail, axis=1)\n",
    "pc_adata.obs['Clinical.Trial'] = pc_adata.obs['Clinical.Trial'].astype('category')"
   ]
  },
  {
   "cell_type": "code",
   "execution_count": null,
   "id": "a86b1e68-9bc5-49bf-b96e-2dc769d3b28a",
   "metadata": {},
   "outputs": [],
   "source": [
    "sc.tl.dendrogram(pc_adata, var_names=markers, groupby='Clinical.Trial')\n",
    "sc.pl.dotplot(pc_adata, markers, groupby='Clinical.Trial', dendrogram=True, swap_axes=True, figsize=(4,4))"
   ]
  },
  {
   "cell_type": "markdown",
   "id": "12d018c9-10ec-4e8c-b221-4af6c24f7108",
   "metadata": {},
   "source": [
    "### clinical evalutaion of markers"
   ]
  },
  {
   "cell_type": "code",
   "execution_count": null,
   "id": "cccf0360-6279-465d-91a0-c0bfebf74b36",
   "metadata": {},
   "outputs": [],
   "source": [
    "new_hospital_path = Path(conf.annotation.clinical_data.clinical_data_file_path)\n",
    "new_hospital_dataset = load_dataframe_from_file(new_hospital_path)"
   ]
  },
  {
   "cell_type": "code",
   "execution_count": null,
   "id": "cffafc94-0aad-4161-8178-0b81a409e066",
   "metadata": {},
   "outputs": [],
   "source": [
    "pc_adata.obs['Biopsy.Sequence'] = pc_adata.obs['Biopsy.Sequence'].astype(int)"
   ]
  },
  {
   "cell_type": "code",
   "execution_count": null,
   "id": "81ec95c4-ba06-4377-a730-7c35add28d0a",
   "metadata": {},
   "outputs": [],
   "source": [
    "pc_adata.obs[\"Hospital.Code\"] = pc_adata.obs[\"Hospital.Code\"].str.lower()\n",
    "new_hospital_dataset[\"Code\"] = new_hospital_dataset[\"Code\"].str.lower()"
   ]
  },
  {
   "cell_type": "code",
   "execution_count": null,
   "id": "0c049efb-54ef-424b-9c72-28c82a5c93b1",
   "metadata": {},
   "outputs": [],
   "source": [
    "pc_adata.obs = pc_adata.obs.merge(new_hospital_dataset, how='left', left_on=['Hospital.Code', 'Biopsy.Sequence'], right_on=['Code', 'Biopsy sequence No.'], validate='m:1')\n",
    "pc_adata.obs.shape"
   ]
  },
  {
   "cell_type": "code",
   "execution_count": null,
   "id": "86b3c18b-d351-4183-a55e-fee7fe20af3a",
   "metadata": {
    "scrolled": true
   },
   "outputs": [],
   "source": [
    "pc_adata"
   ]
  },
  {
   "cell_type": "code",
   "execution_count": null,
   "id": "20b9a62b-104f-4e8a-b089-45bdea1f9e2c",
   "metadata": {
    "scrolled": true
   },
   "outputs": [],
   "source": [
    "import matplotlib.pyplot as plt\n",
    "\n",
    "ref_cols = ['Bortezomib ref.', 'Ixazomib ref.', 'Carfilzomib ref.', 'Lenalidomide ref.', 'Thalidomide ref.', 'Pomalidomide ref.', 'Cyclophosphamide ref.', 'Daratumumab ref.', 'Belantamab ref.', 'Talquetamab ref.', 'Cevostamab ref.', 'Selinexor ref.', 'Auto-SCT ref.', 'CART ref.']\n",
    "for col in ref_cols:\n",
    "    with plt.rc_context():  \n",
    "        pc_adata.obs[col] = pc_adata.obs[col].astype(\"category\")\n",
    "        sc.pl.violin(pc_adata, markers, groupby=col, show=False)\n",
    "        plt.savefig(Path(figures_dir, f\"violin_of_{col}.pdf\"), bbox_inches=\"tight\", format=\"pdf\")    \n",
    "        "
   ]
  },
  {
   "cell_type": "code",
   "execution_count": null,
   "id": "a46e5395-393d-4100-96bf-87f26361a75c",
   "metadata": {},
   "outputs": [],
   "source": [
    "pc_adata.obs['Cytogenetics Risk (1=standard risk, 2=single hit, 3=2+ hits)'] = pc_adata.obs['Cytogenetics Risk (1=standard risk, 2=single hit, 3=2+ hits)'].astype(\"category\")\n",
    "sc.tl.dendrogram(pc_adata, var_names=markers, groupby='Cytogenetics Risk (1=standard risk, 2=single hit, 3=2+ hits)')\n",
    "sc.pl.dotplot(pc_adata, markers, groupby='Cytogenetics Risk (1=standard risk, 2=single hit, 3=2+ hits)', dendrogram=True, swap_axes=True, figsize=(6,4), show=False)\n",
    "plt.savefig(Path(figures_dir, f\"Cytogenetics_Risk_vs_targets.pdf\"), bbox_inches=\"tight\", format=\"pdf\")    "
   ]
  },
  {
   "cell_type": "code",
   "execution_count": null,
   "id": "1c64a71a-86fa-4806-8eb9-980ed93b5ef6",
   "metadata": {},
   "outputs": [],
   "source": []
  }
 ],
 "metadata": {
  "kernelspec": {
   "display_name": "Python 3 (ipykernel)",
   "language": "python",
   "name": "python3"
  },
  "language_info": {
   "codemirror_mode": {
    "name": "ipython",
    "version": 3
   },
   "file_extension": ".py",
   "mimetype": "text/x-python",
   "name": "python",
   "nbconvert_exporter": "python",
   "pygments_lexer": "ipython3",
   "version": "3.9.18"
  }
 },
 "nbformat": 4,
 "nbformat_minor": 5
}
