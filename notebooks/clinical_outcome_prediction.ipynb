{
 "cells": [
  {
   "cell_type": "code",
   "execution_count": 1,
   "metadata": {
    "is_executing": true
   },
   "outputs": [],
   "source": [
    "%load_ext autoreload\n",
    "%autoreload 2\n",
    "import sys\n",
    "sys.path.append('/home/labs/amit/noamsh/repos/MM_2023')"
   ]
  },
  {
   "cell_type": "code",
   "execution_count": 2,
   "metadata": {
    "collapsed": false,
    "is_executing": true,
    "jupyter": {
     "outputs_hidden": false
    }
   },
   "outputs": [],
   "source": [
    "import pandas as pd\n",
    "import numpy as np\n",
    "from tqdm import tqdm\n",
    "\n",
    "import matplotlib.pyplot as plt\n",
    "from sklearn.datasets import make_classification\n",
    "from sklearn.metrics import confusion_matrix, ConfusionMatrixDisplay"
   ]
  },
  {
   "cell_type": "code",
   "execution_count": 3,
   "metadata": {},
   "outputs": [],
   "source": [
    "from clinical_predictions.clinical_data_loading import generate_refracrotines_dataset \n",
    "from clinical_predictions.utils import balanced_subsample"
   ]
  },
  {
   "cell_type": "code",
   "execution_count": 4,
   "metadata": {},
   "outputs": [],
   "source": [
    "from clinical_predictions.evaluation import train_and_eval_model, generate_datasets_summerization"
   ]
  },
  {
   "cell_type": "code",
   "execution_count": 5,
   "metadata": {},
   "outputs": [],
   "source": [
    "from clinical_predictions.optuna_optimization import get_best_model_with_optuna"
   ]
  },
  {
   "cell_type": "markdown",
   "metadata": {
    "collapsed": false,
    "jupyter": {
     "outputs_hidden": false
    }
   },
   "source": [
    "## loading"
   ]
  },
  {
   "cell_type": "code",
   "execution_count": 6,
   "metadata": {
    "ExecuteTime": {
     "end_time": "2023-11-30T14:16:40.637199400Z",
     "start_time": "2023-11-30T14:16:40.626192100Z"
    },
    "collapsed": false,
    "jupyter": {
     "outputs_hidden": false
    }
   },
   "outputs": [],
   "source": [
    "dataset_path = '/home/labs/amit/noamsh/repos/MM_2023/notebooks/tmp_data/zstat_MARS_SPID_20231130/MARS_SPID_exp_clin_nmf.xlsx'\n",
    "raw_hospital_path = '/home/labs/amit/noamsh/repos/MM_2023/notebooks/tmp_data/zstat_MARS_SPID_20231130/Annonymized_CRF_BP_14112023S_SYW.xlsx'"
   ]
  },
  {
   "cell_type": "code",
   "execution_count": 7,
   "metadata": {
    "ExecuteTime": {
     "end_time": "2023-11-30T14:16:43.387729600Z",
     "start_time": "2023-11-30T14:16:41.931863800Z"
    },
    "collapsed": false,
    "jupyter": {
     "outputs_hidden": false
    }
   },
   "outputs": [
    {
     "name": "stderr",
     "output_type": "stream",
     "text": [
      "Workbook contains no default style, apply openpyxl's default\n"
     ]
    },
    {
     "name": "stdout",
     "output_type": "stream",
     "text": [
      "(262, 539)\n"
     ]
    }
   ],
   "source": [
    "raw_dataset = pd.read_excel(dataset_path)\n",
    "raw_hospital_dataset = pd.read_excel(raw_hospital_path)\n",
    "print(raw_dataset.shape)\n",
    "# raw_dataset.head()"
   ]
  },
  {
   "cell_type": "code",
   "execution_count": 8,
   "metadata": {},
   "outputs": [
    {
     "name": "stdout",
     "output_type": "stream",
     "text": [
      "(211, 111)\n"
     ]
    }
   ],
   "source": [
    "print(raw_hospital_dataset.shape)\n",
    "# raw_hospital_dataset.head()"
   ]
  },
  {
   "cell_type": "markdown",
   "metadata": {
    "collapsed": false,
    "jupyter": {
     "outputs_hidden": false
    }
   },
   "source": [
    "## general data filter"
   ]
  },
  {
   "cell_type": "code",
   "execution_count": 9,
   "metadata": {},
   "outputs": [],
   "source": [
    "from clinical_predictions.clinical_data_loading import merge_transcriptom_data_to_raw_hospital\n",
    "\n",
    "# remove no-transcriptom patients\n",
    "# add post treatment columns from hospital\n",
    "# add data to TAL_3 patients\n",
    "\n",
    "dataset = merge_transcriptom_data_to_raw_hospital(raw_dataset, raw_hospital_dataset)"
   ]
  },
  {
   "cell_type": "code",
   "execution_count": 10,
   "metadata": {},
   "outputs": [],
   "source": [
    "# path = '/home/labs/amit/noamsh/repos/MM_2023/notebooks/tmp_data/zstat_MARS_SPID_20231130/MARS_SPID_merged_with_hospital_231203.xlsx'\n",
    "# dataset.to_excel(path)"
   ]
  },
  {
   "cell_type": "markdown",
   "metadata": {},
   "source": [
    "### features selection"
   ]
  },
  {
   "cell_type": "code",
   "execution_count": 11,
   "metadata": {},
   "outputs": [
    {
     "name": "stdout",
     "output_type": "stream",
     "text": [
      "(211, 111)\n"
     ]
    },
    {
     "data": {
      "text/html": [
       "<div>\n",
       "<style scoped>\n",
       "    .dataframe tbody tr th:only-of-type {\n",
       "        vertical-align: middle;\n",
       "    }\n",
       "\n",
       "    .dataframe tbody tr th {\n",
       "        vertical-align: top;\n",
       "    }\n",
       "\n",
       "    .dataframe thead th {\n",
       "        text-align: right;\n",
       "    }\n",
       "</style>\n",
       "<table border=\"1\" class=\"dataframe\">\n",
       "  <thead>\n",
       "    <tr style=\"text-align: right;\">\n",
       "      <th></th>\n",
       "      <th>1q21+</th>\n",
       "      <th>del(1p)</th>\n",
       "      <th>del(13q)</th>\n",
       "      <th>del(17p)</th>\n",
       "      <th>t(11:14)</th>\n",
       "      <th>t(4:14)</th>\n",
       "      <th>t(14:16)</th>\n",
       "      <th>t(14:20)</th>\n",
       "      <th>IGH rearrangement</th>\n",
       "      <th>Cytogenetics Risk (0=standard risk, 1=single hit, 2=2+ hits)</th>\n",
       "    </tr>\n",
       "  </thead>\n",
       "  <tbody>\n",
       "    <tr>\n",
       "      <th>-1.0</th>\n",
       "      <td>54.0</td>\n",
       "      <td>55.0</td>\n",
       "      <td>57.0</td>\n",
       "      <td>54.0</td>\n",
       "      <td>53.0</td>\n",
       "      <td>54.0</td>\n",
       "      <td>56.0</td>\n",
       "      <td>59.0</td>\n",
       "      <td>59.0</td>\n",
       "      <td>59.0</td>\n",
       "    </tr>\n",
       "    <tr>\n",
       "      <th>1.0</th>\n",
       "      <td>41.0</td>\n",
       "      <td>13.0</td>\n",
       "      <td>17.0</td>\n",
       "      <td>21.0</td>\n",
       "      <td>25.0</td>\n",
       "      <td>7.0</td>\n",
       "      <td>3.0</td>\n",
       "      <td>1.0</td>\n",
       "      <td>20.0</td>\n",
       "      <td>26.0</td>\n",
       "    </tr>\n",
       "    <tr>\n",
       "      <th>0.0</th>\n",
       "      <td>40.0</td>\n",
       "      <td>67.0</td>\n",
       "      <td>61.0</td>\n",
       "      <td>60.0</td>\n",
       "      <td>57.0</td>\n",
       "      <td>74.0</td>\n",
       "      <td>76.0</td>\n",
       "      <td>75.0</td>\n",
       "      <td>56.0</td>\n",
       "      <td>NaN</td>\n",
       "    </tr>\n",
       "    <tr>\n",
       "      <th>2.0</th>\n",
       "      <td>NaN</td>\n",
       "      <td>NaN</td>\n",
       "      <td>NaN</td>\n",
       "      <td>NaN</td>\n",
       "      <td>NaN</td>\n",
       "      <td>NaN</td>\n",
       "      <td>NaN</td>\n",
       "      <td>NaN</td>\n",
       "      <td>NaN</td>\n",
       "      <td>36.0</td>\n",
       "    </tr>\n",
       "    <tr>\n",
       "      <th>3.0</th>\n",
       "      <td>NaN</td>\n",
       "      <td>NaN</td>\n",
       "      <td>NaN</td>\n",
       "      <td>NaN</td>\n",
       "      <td>NaN</td>\n",
       "      <td>NaN</td>\n",
       "      <td>NaN</td>\n",
       "      <td>NaN</td>\n",
       "      <td>NaN</td>\n",
       "      <td>14.0</td>\n",
       "    </tr>\n",
       "  </tbody>\n",
       "</table>\n",
       "</div>"
      ],
      "text/plain": [
       "      1q21+  del(1p)  del(13q)  del(17p)  t(11:14)  t(4:14)  t(14:16)  \\\n",
       "-1.0   54.0     55.0      57.0      54.0      53.0     54.0      56.0   \n",
       " 1.0   41.0     13.0      17.0      21.0      25.0      7.0       3.0   \n",
       " 0.0   40.0     67.0      61.0      60.0      57.0     74.0      76.0   \n",
       " 2.0    NaN      NaN       NaN       NaN       NaN      NaN       NaN   \n",
       " 3.0    NaN      NaN       NaN       NaN       NaN      NaN       NaN   \n",
       "\n",
       "      t(14:20)  IGH rearrangement  \\\n",
       "-1.0      59.0               59.0   \n",
       " 1.0       1.0               20.0   \n",
       " 0.0      75.0               56.0   \n",
       " 2.0       NaN                NaN   \n",
       " 3.0       NaN                NaN   \n",
       "\n",
       "      Cytogenetics Risk (0=standard risk, 1=single hit, 2=2+ hits)  \n",
       "-1.0                                               59.0             \n",
       " 1.0                                               26.0             \n",
       " 0.0                                                NaN             \n",
       " 2.0                                               36.0             \n",
       " 3.0                                               14.0             "
      ]
     },
     "execution_count": 11,
     "metadata": {},
     "output_type": "execute_result"
    }
   ],
   "source": [
    "fish_cols = [col for col in raw_hospital_dataset.columns if \"t(\" in col or \"del(\" in col or col in ['1q21+', 'IGH rearrangement', 'Cytogenetics Risk (0=standard risk, 1=single hit, 2=2+ hits)']]\n",
    "print(raw_hospital_dataset.shape)\n",
    "dataset[fish_cols] = dataset[fish_cols].fillna(-1)\n",
    "pd.concat([dataset[fish_col].value_counts().rename(fish_col) for fish_col in fish_cols], axis=1)"
   ]
  },
  {
   "cell_type": "code",
   "execution_count": 12,
   "metadata": {
    "ExecuteTime": {
     "end_time": "2023-11-30T14:16:49.442377Z",
     "start_time": "2023-11-30T14:16:49.436371200Z"
    },
    "collapsed": false,
    "jupyter": {
     "outputs_hidden": false
    }
   },
   "outputs": [],
   "source": [
    "nmf_features = [f\"X{i + 1}\" for i in range(6)]\n",
    "npc_composition = [\"B\", \"B_Pro\", \"DC\", \"DC_IRF8\", \"Erythrocytes\", \"Fibro\", \"Mast\", \"Mf\", \"Mo\", \"Mo_CD16\", \"Neu_Pro\",\n",
    "                   \"NK\", \"pDC\", \"T_Effector\", \"T_Effector_GZMB\", \"T_Naive\", \"UN\"]\n",
    "fish_cols = [col for col in raw_hospital_dataset.columns if \"t(11:14)\" == col or \"del(\" in col or col in ['1q21+', 'IGH rearrangement', 'Cytogenetics Risk (0=standard risk, 1=single hit, 2=2+ hits)']]\n",
    "\n",
    "feats = nmf_features # + fish_cols\n",
    "# feats = fish_cols"
   ]
  },
  {
   "cell_type": "code",
   "execution_count": 13,
   "metadata": {},
   "outputs": [],
   "source": [
    "cols_series = pd.Series(raw_dataset.columns)\n",
    "genes_start_index = cols_series[cols_series == 'Transcriptom'].index[0] + 1\n",
    "genes_end_index = cols_series[cols_series == 'Stage'].index[0] \n",
    "genes_cols = cols_series.iloc[genes_start_index: genes_end_index]\n",
    "feats += list(genes_cols)\n"
   ]
  },
  {
   "cell_type": "markdown",
   "metadata": {},
   "source": [
    "### label selection"
   ]
  },
  {
   "cell_type": "code",
   "execution_count": 14,
   "metadata": {
    "ExecuteTime": {
     "end_time": "2023-11-30T14:16:54.976405Z",
     "start_time": "2023-11-30T14:16:54.966404300Z"
    },
    "collapsed": false,
    "jupyter": {
     "outputs_hidden": false
    }
   },
   "outputs": [],
   "source": [
    "datasets = {}\n",
    "for treatment in [\"Carfilzomib\", \"Lenalidomide\", \"Pomalidomide\", \"DARA\", \"CART\", \"Bortezomib\", \"Belantamab\"]:\n",
    "\n",
    "    if treatment == \"CART\":\n",
    "        non_ref_policy = \"NDMM-POST_TREATMENT_REF\"\n",
    "    else:\n",
    "        non_ref_policy = \"NDMM\"\n",
    "\n",
    "    # non_ref_policy = \"NON_EXPOSED\"\n",
    "\n",
    "    X,y = generate_refracrotines_dataset(dataset, treatment, non_ref_policy, feats)\n",
    "    \n",
    "    datasets[treatment] = (X, y)"
   ]
  },
  {
   "cell_type": "code",
   "execution_count": 15,
   "metadata": {},
   "outputs": [],
   "source": [
    "for group in [\"Triple.Ref\" ,\"Triple.Exp\" ,\"Penta.Ref\" ,\"Penta.Exp\" ,\"IMiD.Resistance.Len.Pom.Thali\" ,\"PI.Resistance.Bort.Carf.Ixa\" ]:\n",
    "    dataset_copy = dataset.copy()\n",
    "    mask = ~ dataset_copy[group].isna()\n",
    "    X = dataset_copy[mask][feats]\n",
    "    y = dataset_copy[mask][group] == 1\n",
    "    y = y.astype(int)\n",
    "\n",
    "    datasets[group] = (X, y)"
   ]
  },
  {
   "cell_type": "code",
   "execution_count": 16,
   "metadata": {
    "collapsed": false,
    "is_executing": true,
    "jupyter": {
     "outputs_hidden": false
    }
   },
   "outputs": [
    {
     "data": {
      "text/html": [
       "<div>\n",
       "<style scoped>\n",
       "    .dataframe tbody tr th:only-of-type {\n",
       "        vertical-align: middle;\n",
       "    }\n",
       "\n",
       "    .dataframe tbody tr th {\n",
       "        vertical-align: top;\n",
       "    }\n",
       "\n",
       "    .dataframe thead th {\n",
       "        text-align: right;\n",
       "    }\n",
       "</style>\n",
       "<table border=\"1\" class=\"dataframe\">\n",
       "  <thead>\n",
       "    <tr style=\"text-align: right;\">\n",
       "      <th></th>\n",
       "      <th>Carfilzomib</th>\n",
       "      <th>Lenalidomide</th>\n",
       "      <th>Pomalidomide</th>\n",
       "      <th>DARA</th>\n",
       "      <th>CART</th>\n",
       "      <th>Bortezomib</th>\n",
       "      <th>Belantamab</th>\n",
       "      <th>Triple.Ref</th>\n",
       "      <th>Triple.Exp</th>\n",
       "      <th>Penta.Ref</th>\n",
       "      <th>Penta.Exp</th>\n",
       "      <th>IMiD.Resistance.Len.Pom.Thali</th>\n",
       "      <th>PI.Resistance.Bort.Carf.Ixa</th>\n",
       "    </tr>\n",
       "  </thead>\n",
       "  <tbody>\n",
       "    <tr>\n",
       "      <th>0</th>\n",
       "      <td>24</td>\n",
       "      <td>24</td>\n",
       "      <td>24</td>\n",
       "      <td>24</td>\n",
       "      <td>40</td>\n",
       "      <td>24</td>\n",
       "      <td>24</td>\n",
       "      <td>82</td>\n",
       "      <td>71</td>\n",
       "      <td>105</td>\n",
       "      <td>95</td>\n",
       "      <td>63</td>\n",
       "      <td>55</td>\n",
       "    </tr>\n",
       "    <tr>\n",
       "      <th>1</th>\n",
       "      <td>20</td>\n",
       "      <td>60</td>\n",
       "      <td>31</td>\n",
       "      <td>46</td>\n",
       "      <td>3</td>\n",
       "      <td>51</td>\n",
       "      <td>7</td>\n",
       "      <td>28</td>\n",
       "      <td>39</td>\n",
       "      <td>5</td>\n",
       "      <td>15</td>\n",
       "      <td>47</td>\n",
       "      <td>55</td>\n",
       "    </tr>\n",
       "  </tbody>\n",
       "</table>\n",
       "</div>"
      ],
      "text/plain": [
       "   Carfilzomib  Lenalidomide  Pomalidomide  DARA  CART  Bortezomib  \\\n",
       "0           24            24            24    24    40          24   \n",
       "1           20            60            31    46     3          51   \n",
       "\n",
       "   Belantamab  Triple.Ref  Triple.Exp  Penta.Ref  Penta.Exp  \\\n",
       "0          24          82          71        105         95   \n",
       "1           7          28          39          5         15   \n",
       "\n",
       "   IMiD.Resistance.Len.Pom.Thali  PI.Resistance.Bort.Carf.Ixa  \n",
       "0                             63                           55  \n",
       "1                             47                           55  "
      ]
     },
     "execution_count": 16,
     "metadata": {},
     "output_type": "execute_result"
    }
   ],
   "source": [
    "pd.concat([y.value_counts().rename(treatment) for treatment, (_, y) in datasets.items()], axis=1)"
   ]
  },
  {
   "cell_type": "code",
   "execution_count": 17,
   "metadata": {},
   "outputs": [],
   "source": [
    "good_treatments_data_sets = [\"Bortezomib\", \"Carfilzomib\", \"Lenalidomide\", \"Pomalidomide\", \"DARA\"] + [\"Triple.Ref\", \"IMiD.Resistance.Len.Pom.Thali\" ,\"PI.Resistance.Bort.Carf.Ixa\" ]"
   ]
  },
  {
   "cell_type": "markdown",
   "metadata": {},
   "source": [
    "## model training"
   ]
  },
  {
   "cell_type": "code",
   "execution_count": 18,
   "metadata": {},
   "outputs": [],
   "source": [
    "from sklearn.model_selection import train_test_split, GridSearchCV\n",
    "\n",
    "good_splited_datasets = {}\n",
    "\n",
    "for treatment in good_treatments_data_sets:\n",
    "    X, y = datasets[treatment]\n",
    "    X_train, X_test, y_train, y_test = train_test_split(X, y, test_size=0.3, random_state=42)\n",
    "    good_splited_datasets[treatment] = X_train, X_test, y_train, y_test\n"
   ]
  },
  {
   "cell_type": "code",
   "execution_count": null,
   "metadata": {
    "collapsed": false,
    "is_executing": true,
    "jupyter": {
     "outputs_hidden": false
    },
    "scrolled": true
   },
   "outputs": [
    {
     "name": "stderr",
     "output_type": "stream",
     "text": [
      "  0%|          | 0/8 [00:00<?, ?it/s]\u001b[32m[I 2023-12-12 18:33:29,598]\u001b[0m A new study created in memory with name: no-name-b2d0ebb2-c4fb-4228-931d-0431e20e7c66\u001b[0m\n",
      "\u001b[32m[I 2023-12-12 18:33:29,656]\u001b[0m Trial 0 finished with value: 1.1187010985604335 and parameters: {'classifier': 'LogisticRegression', 'logistic_regression_c': 1.4948685398787631, 'logr_penalty': 'l1'}. Best is trial 0 with value: 1.1187010985604335.\u001b[0m\n",
      "\u001b[32m[I 2023-12-12 18:33:31,250]\u001b[0m Trial 1 finished with value: 0.9610810656417064 and parameters: {'classifier': 'XGBoost', 'xgb_booster': 'dart', 'xgb_n_estimators': 13, 'xgb_max_depth': 4}. Best is trial 0 with value: 1.1187010985604335.\u001b[0m\n",
      "Precision is ill-defined and being set to 0.0 due to no predicted samples. Use `zero_division` parameter to control this behavior.\n",
      "Precision is ill-defined and being set to 0.0 due to no predicted samples. Use `zero_division` parameter to control this behavior.\n",
      "Precision is ill-defined and being set to 0.0 due to no predicted samples. Use `zero_division` parameter to control this behavior.\n",
      "Precision is ill-defined and being set to 0.0 due to no predicted samples. Use `zero_division` parameter to control this behavior.\n",
      "Precision is ill-defined and being set to 0.0 due to no predicted samples. Use `zero_division` parameter to control this behavior.\n",
      "\u001b[32m[I 2023-12-12 18:33:31,299]\u001b[0m Trial 2 finished with value: 0.2083399209486166 and parameters: {'classifier': 'LogisticRegression', 'logistic_regression_c': 0.009041242410563064, 'logr_penalty': 'l1'}. Best is trial 0 with value: 1.1187010985604335.\u001b[0m\n",
      "\u001b[32m[I 2023-12-12 18:33:32,194]\u001b[0m Trial 3 finished with value: 0.9743534816315137 and parameters: {'classifier': 'XGBoost', 'xgb_booster': 'dart', 'xgb_n_estimators': 11, 'xgb_max_depth': 4}. Best is trial 0 with value: 1.1187010985604335.\u001b[0m\n",
      "\u001b[32m[I 2023-12-12 18:33:33,876]\u001b[0m Trial 4 finished with value: 0.9610810656417064 and parameters: {'classifier': 'XGBoost', 'xgb_booster': 'dart', 'xgb_n_estimators': 14, 'xgb_max_depth': 3}. Best is trial 0 with value: 1.1187010985604335.\u001b[0m\n",
      "\u001b[32m[I 2023-12-12 18:33:35,205]\u001b[0m Trial 5 finished with value: 1.0389561839127057 and parameters: {'classifier': 'XGBoost', 'xgb_booster': 'dart', 'xgb_n_estimators': 3, 'xgb_max_depth': 1}. Best is trial 0 with value: 1.1187010985604335.\u001b[0m\n",
      "\u001b[32m[I 2023-12-12 18:33:35,257]\u001b[0m Trial 6 finished with value: 1.0338626373626374 and parameters: {'classifier': 'LogisticRegression', 'logistic_regression_c': 0.000134698752347538, 'logr_penalty': 'l2'}. Best is trial 0 with value: 1.1187010985604335.\u001b[0m\n",
      "Precision is ill-defined and being set to 0.0 due to no predicted samples. Use `zero_division` parameter to control this behavior.\n",
      "Precision is ill-defined and being set to 0.0 due to no predicted samples. Use `zero_division` parameter to control this behavior.\n",
      "Precision is ill-defined and being set to 0.0 due to no predicted samples. Use `zero_division` parameter to control this behavior.\n",
      "Precision is ill-defined and being set to 0.0 due to no predicted samples. Use `zero_division` parameter to control this behavior.\n",
      "Precision is ill-defined and being set to 0.0 due to no predicted samples. Use `zero_division` parameter to control this behavior.\n",
      "\u001b[32m[I 2023-12-12 18:33:35,307]\u001b[0m Trial 7 finished with value: 0.2083399209486166 and parameters: {'classifier': 'LogisticRegression', 'logistic_regression_c': 0.009983061919330282, 'logr_penalty': 'l1'}. Best is trial 0 with value: 1.1187010985604335.\u001b[0m\n",
      "\u001b[32m[I 2023-12-12 18:33:36,320]\u001b[0m Trial 8 finished with value: 0.9694061771561773 and parameters: {'classifier': 'XGBoost', 'xgb_booster': 'gbtree', 'xgb_n_estimators': 2, 'xgb_max_depth': 2}. Best is trial 0 with value: 1.1187010985604335.\u001b[0m\n",
      "\u001b[32m[I 2023-12-12 18:33:36,374]\u001b[0m Trial 9 finished with value: 1.135400444965662 and parameters: {'classifier': 'LogisticRegression', 'logistic_regression_c': 0.5158710577071548, 'logr_penalty': 'l1'}. Best is trial 9 with value: 1.135400444965662.\u001b[0m\n",
      "\u001b[32m[I 2023-12-12 18:33:36,436]\u001b[0m Trial 10 finished with value: 1.218222193773681 and parameters: {'classifier': 'LogisticRegression', 'logistic_regression_c': 4.691891431448681, 'logr_penalty': 'l2'}. Best is trial 10 with value: 1.218222193773681.\u001b[0m\n",
      "\u001b[32m[I 2023-12-12 18:33:36,498]\u001b[0m Trial 11 finished with value: 1.218222193773681 and parameters: {'classifier': 'LogisticRegression', 'logistic_regression_c': 7.036078902327016, 'logr_penalty': 'l2'}. Best is trial 10 with value: 1.218222193773681.\u001b[0m\n",
      "\u001b[32m[I 2023-12-12 18:33:36,561]\u001b[0m Trial 12 finished with value: 1.218222193773681 and parameters: {'classifier': 'LogisticRegression', 'logistic_regression_c': 9.685944746742821, 'logr_penalty': 'l2'}. Best is trial 10 with value: 1.218222193773681.\u001b[0m\n",
      "\u001b[32m[I 2023-12-12 18:33:36,623]\u001b[0m Trial 13 finished with value: 1.218222193773681 and parameters: {'classifier': 'LogisticRegression', 'logistic_regression_c': 8.585916417491685, 'logr_penalty': 'l2'}. Best is trial 10 with value: 1.218222193773681.\u001b[0m\n",
      "\u001b[32m[I 2023-12-12 18:33:36,686]\u001b[0m Trial 14 finished with value: 1.1936334491849365 and parameters: {'classifier': 'LogisticRegression', 'logistic_regression_c': 0.41314397175298956, 'logr_penalty': 'l2'}. Best is trial 10 with value: 1.218222193773681.\u001b[0m\n",
      "\u001b[32m[I 2023-12-12 18:33:36,746]\u001b[0m Trial 15 finished with value: 1.1936334491849365 and parameters: {'classifier': 'LogisticRegression', 'logistic_regression_c': 0.08112129438843918, 'logr_penalty': 'l2'}. Best is trial 10 with value: 1.218222193773681.\u001b[0m\n",
      "\u001b[32m[I 2023-12-12 18:33:36,808]\u001b[0m Trial 16 finished with value: 1.218222193773681 and parameters: {'classifier': 'LogisticRegression', 'logistic_regression_c': 2.229161050798803, 'logr_penalty': 'l2'}. Best is trial 10 with value: 1.218222193773681.\u001b[0m\n",
      "\u001b[32m[I 2023-12-12 18:33:36,868]\u001b[0m Trial 17 finished with value: 1.1936334491849365 and parameters: {'classifier': 'LogisticRegression', 'logistic_regression_c': 0.12465149140289154, 'logr_penalty': 'l2'}. Best is trial 10 with value: 1.218222193773681.\u001b[0m\n",
      "\u001b[32m[I 2023-12-12 18:33:36,921]\u001b[0m Trial 18 finished with value: 1.0490395100069012 and parameters: {'classifier': 'LogisticRegression', 'logistic_regression_c': 0.0005135744204119351, 'logr_penalty': 'l2'}. Best is trial 10 with value: 1.218222193773681.\u001b[0m\n",
      "\u001b[32m[I 2023-12-12 18:33:36,980]\u001b[0m Trial 19 finished with value: 1.218222193773681 and parameters: {'classifier': 'LogisticRegression', 'logistic_regression_c': 1.2857869529222243, 'logr_penalty': 'l2'}. Best is trial 10 with value: 1.218222193773681.\u001b[0m\n",
      "\u001b[32m[I 2023-12-12 18:33:37,037]\u001b[0m Trial 20 finished with value: 1.218222193773681 and parameters: {'classifier': 'LogisticRegression', 'logistic_regression_c': 1.0422759194238316, 'logr_penalty': 'l2'}. Best is trial 10 with value: 1.218222193773681.\u001b[0m\n",
      "\u001b[32m[I 2023-12-12 18:33:37,093]\u001b[0m Trial 21 finished with value: 1.218222193773681 and parameters: {'classifier': 'LogisticRegression', 'logistic_regression_c': 7.901946710904351, 'logr_penalty': 'l2'}. Best is trial 10 with value: 1.218222193773681.\u001b[0m\n",
      "\u001b[32m[I 2023-12-12 18:33:37,149]\u001b[0m Trial 22 finished with value: 1.218222193773681 and parameters: {'classifier': 'LogisticRegression', 'logistic_regression_c': 1.6617322288089744, 'logr_penalty': 'l2'}. Best is trial 10 with value: 1.218222193773681.\u001b[0m\n",
      "\u001b[32m[I 2023-12-12 18:33:37,203]\u001b[0m Trial 23 finished with value: 1.218222193773681 and parameters: {'classifier': 'LogisticRegression', 'logistic_regression_c': 0.5751364925681293, 'logr_penalty': 'l2'}. Best is trial 10 with value: 1.218222193773681.\u001b[0m\n",
      "\u001b[32m[I 2023-12-12 18:33:37,258]\u001b[0m Trial 24 finished with value: 1.218222193773681 and parameters: {'classifier': 'LogisticRegression', 'logistic_regression_c': 3.7478653319788835, 'logr_penalty': 'l2'}. Best is trial 10 with value: 1.218222193773681.\u001b[0m\n",
      "\u001b[32m[I 2023-12-12 18:33:37,314]\u001b[0m Trial 25 finished with value: 1.218222193773681 and parameters: {'classifier': 'LogisticRegression', 'logistic_regression_c': 9.998200380979576, 'logr_penalty': 'l2'}. Best is trial 10 with value: 1.218222193773681.\u001b[0m\n",
      "\u001b[32m[I 2023-12-12 18:33:39,000]\u001b[0m Trial 26 finished with value: 1.0734468599033817 and parameters: {'classifier': 'XGBoost', 'xgb_booster': 'gbtree', 'xgb_n_estimators': 5, 'xgb_max_depth': 1}. Best is trial 10 with value: 1.218222193773681.\u001b[0m\n",
      "\u001b[32m[I 2023-12-12 18:33:39,055]\u001b[0m Trial 27 finished with value: 1.1936334491849365 and parameters: {'classifier': 'LogisticRegression', 'logistic_regression_c': 0.3156823287546178, 'logr_penalty': 'l2'}. Best is trial 10 with value: 1.218222193773681.\u001b[0m\n",
      "\u001b[32m[I 2023-12-12 18:33:39,111]\u001b[0m Trial 28 finished with value: 1.218222193773681 and parameters: {'classifier': 'LogisticRegression', 'logistic_regression_c': 3.566051036447489, 'logr_penalty': 'l2'}. Best is trial 10 with value: 1.218222193773681.\u001b[0m\n",
      "\u001b[32m[I 2023-12-12 18:33:39,162]\u001b[0m Trial 29 finished with value: 1.1187010985604335 and parameters: {'classifier': 'LogisticRegression', 'logistic_regression_c': 2.879173481202499, 'logr_penalty': 'l1'}. Best is trial 10 with value: 1.218222193773681.\u001b[0m\n",
      " 12%|█▎        | 1/8 [00:09<01:07,  9.58s/it]\u001b[32m[I 2023-12-12 18:33:39,179]\u001b[0m A new study created in memory with name: no-name-72be20a8-99a2-4ae7-bb58-91a4a7a2e41e\u001b[0m\n",
      "\u001b[32m[I 2023-12-12 18:33:41,382]\u001b[0m Trial 0 finished with value: 1.4140952380952378 and parameters: {'classifier': 'XGBoost', 'xgb_booster': 'dart', 'xgb_n_estimators': 10, 'xgb_max_depth': 2}. Best is trial 0 with value: 1.4140952380952378.\u001b[0m\n",
      "\u001b[32m[I 2023-12-12 18:33:42,653]\u001b[0m Trial 1 finished with value: 1.4140952380952378 and parameters: {'classifier': 'XGBoost', 'xgb_booster': 'dart', 'xgb_n_estimators': 5, 'xgb_max_depth': 2}. Best is trial 0 with value: 1.4140952380952378.\u001b[0m\n",
      "\u001b[32m[I 2023-12-12 18:33:42,703]\u001b[0m Trial 2 finished with value: 1.2655806415806414 and parameters: {'classifier': 'LogisticRegression', 'logistic_regression_c': 0.1618776424222389, 'logr_penalty': 'l1'}. Best is trial 0 with value: 1.4140952380952378.\u001b[0m\n",
      "\u001b[32m[I 2023-12-12 18:33:45,487]\u001b[0m Trial 3 finished with value: 1.31431746031746 and parameters: {'classifier': 'XGBoost', 'xgb_booster': 'gbtree', 'xgb_n_estimators': 4, 'xgb_max_depth': 4}. Best is trial 0 with value: 1.4140952380952378.\u001b[0m\n",
      "\u001b[32m[I 2023-12-12 18:33:47,302]\u001b[0m Trial 4 finished with value: 1.2612063492063492 and parameters: {'classifier': 'XGBoost', 'xgb_booster': 'gbtree', 'xgb_n_estimators': 3, 'xgb_max_depth': 3}. Best is trial 0 with value: 1.4140952380952378.\u001b[0m\n",
      "\u001b[32m[I 2023-12-12 18:33:48,552]\u001b[0m Trial 5 finished with value: 1.4140952380952378 and parameters: {'classifier': 'XGBoost', 'xgb_booster': 'dart', 'xgb_n_estimators': 9, 'xgb_max_depth': 3}. Best is trial 0 with value: 1.4140952380952378.\u001b[0m\n",
      "\u001b[32m[I 2023-12-12 18:33:48,603]\u001b[0m Trial 6 finished with value: 1.2655806415806414 and parameters: {'classifier': 'LogisticRegression', 'logistic_regression_c': 1.0581229352826724, 'logr_penalty': 'l1'}. Best is trial 0 with value: 1.4140952380952378.\u001b[0m\n",
      "Precision is ill-defined and being set to 0.0 due to no predicted samples. Use `zero_division` parameter to control this behavior.\n",
      "Precision is ill-defined and being set to 0.0 due to no predicted samples. Use `zero_division` parameter to control this behavior.\n",
      "Precision is ill-defined and being set to 0.0 due to no predicted samples. Use `zero_division` parameter to control this behavior.\n",
      "Precision is ill-defined and being set to 0.0 due to no predicted samples. Use `zero_division` parameter to control this behavior.\n",
      "Precision is ill-defined and being set to 0.0 due to no predicted samples. Use `zero_division` parameter to control this behavior.\n",
      "\u001b[32m[I 2023-12-12 18:33:48,652]\u001b[0m Trial 7 finished with value: 0.4354521295697766 and parameters: {'classifier': 'LogisticRegression', 'logistic_regression_c': 0.0005391973435100239, 'logr_penalty': 'l1'}. Best is trial 0 with value: 1.4140952380952378.\u001b[0m\n",
      "\u001b[32m[I 2023-12-12 18:33:51,336]\u001b[0m Trial 8 finished with value: 1.4140952380952378 and parameters: {'classifier': 'XGBoost', 'xgb_booster': 'dart', 'xgb_n_estimators': 15, 'xgb_max_depth': 4}. Best is trial 0 with value: 1.4140952380952378.\u001b[0m\n",
      "Precision is ill-defined and being set to 0.0 due to no predicted samples. Use `zero_division` parameter to control this behavior.\n",
      "Precision is ill-defined and being set to 0.0 due to no predicted samples. Use `zero_division` parameter to control this behavior.\n",
      "Precision is ill-defined and being set to 0.0 due to no predicted samples. Use `zero_division` parameter to control this behavior.\n",
      "Precision is ill-defined and being set to 0.0 due to no predicted samples. Use `zero_division` parameter to control this behavior.\n",
      "Precision is ill-defined and being set to 0.0 due to no predicted samples. Use `zero_division` parameter to control this behavior.\n",
      "\u001b[32m[I 2023-12-12 18:33:51,387]\u001b[0m Trial 9 finished with value: 0.4354521295697766 and parameters: {'classifier': 'LogisticRegression', 'logistic_regression_c': 0.01166816490343702, 'logr_penalty': 'l1'}. Best is trial 0 with value: 1.4140952380952378.\u001b[0m\n",
      "\u001b[32m[I 2023-12-12 18:33:53,730]\u001b[0m Trial 10 finished with value: 1.4140952380952378 and parameters: {'classifier': 'XGBoost', 'xgb_booster': 'dart', 'xgb_n_estimators': 9, 'xgb_max_depth': 1}. Best is trial 0 with value: 1.4140952380952378.\u001b[0m\n",
      "\u001b[32m[I 2023-12-12 18:33:55,024]\u001b[0m Trial 11 finished with value: 1.2840952380952382 and parameters: {'classifier': 'XGBoost', 'xgb_booster': 'dart', 'xgb_n_estimators': 2, 'xgb_max_depth': 1}. Best is trial 0 with value: 1.4140952380952378.\u001b[0m\n",
      "\u001b[32m[I 2023-12-12 18:33:55,820]\u001b[0m Trial 12 finished with value: 1.4140952380952378 and parameters: {'classifier': 'XGBoost', 'xgb_booster': 'dart', 'xgb_n_estimators': 7, 'xgb_max_depth': 2}. Best is trial 0 with value: 1.4140952380952378.\u001b[0m\n",
      "\u001b[32m[I 2023-12-12 18:33:57,317]\u001b[0m Trial 13 finished with value: 1.4140952380952378 and parameters: {'classifier': 'XGBoost', 'xgb_booster': 'dart', 'xgb_n_estimators': 15, 'xgb_max_depth': 2}. Best is trial 0 with value: 1.4140952380952378.\u001b[0m\n",
      "\u001b[32m[I 2023-12-12 18:33:59,663]\u001b[0m Trial 14 finished with value: 1.4140952380952378 and parameters: {'classifier': 'XGBoost', 'xgb_booster': 'dart', 'xgb_n_estimators': 5, 'xgb_max_depth': 2}. Best is trial 0 with value: 1.4140952380952378.\u001b[0m\n",
      "\u001b[32m[I 2023-12-12 18:34:01,331]\u001b[0m Trial 15 finished with value: 1.3685396825396823 and parameters: {'classifier': 'XGBoost', 'xgb_booster': 'gbtree', 'xgb_n_estimators': 6, 'xgb_max_depth': 2}. Best is trial 0 with value: 1.4140952380952378.\u001b[0m\n"
     ]
    }
   ],
   "source": [
    "from xgboost import XGBClassifier\n",
    "from sklearn.linear_model import LogisticRegression, Lasso\n",
    "\n",
    "from sklearn.metrics import confusion_matrix, ConfusionMatrixDisplay, classification_report\n",
    "from sklearn.svm import SVC\n",
    "\n",
    "monitor = {}\n",
    "\n",
    "for treatment in tqdm(good_splited_datasets):\n",
    "    X_train, X_test, y_train, y_test = good_splited_datasets[treatment]\n",
    "    model, best_trial = get_best_model_with_optuna(X_train, y_train, n_trials=30)\n",
    "    monitor[treatment] = train_and_eval_model(X_train, X_test, y_train, y_test, model, extra_for_report=best_trial.params)\n"
   ]
  },
  {
   "cell_type": "code",
   "execution_count": 54,
   "metadata": {},
   "outputs": [
    {
     "data": {
      "text/html": [
       "<div>\n",
       "<style scoped>\n",
       "    .dataframe tbody tr th:only-of-type {\n",
       "        vertical-align: middle;\n",
       "    }\n",
       "\n",
       "    .dataframe tbody tr th {\n",
       "        vertical-align: top;\n",
       "    }\n",
       "\n",
       "    .dataframe thead th {\n",
       "        text-align: right;\n",
       "    }\n",
       "</style>\n",
       "<table border=\"1\" class=\"dataframe\">\n",
       "  <thead>\n",
       "    <tr style=\"text-align: right;\">\n",
       "      <th></th>\n",
       "      <th>1_y_train</th>\n",
       "      <th>0_y_train</th>\n",
       "      <th>1_y_test</th>\n",
       "      <th>0_y_test</th>\n",
       "      <th>1_y_pred</th>\n",
       "      <th>0_y_pred</th>\n",
       "      <th>precision_report</th>\n",
       "      <th>recall_report</th>\n",
       "      <th>f1-score_report</th>\n",
       "      <th>support_report</th>\n",
       "      <th>accuracy_report</th>\n",
       "      <th>precision_baseline</th>\n",
       "      <th>recall_baseline</th>\n",
       "      <th>f1-score_baseline</th>\n",
       "      <th>support_baseline</th>\n",
       "      <th>accuracy_baseline</th>\n",
       "      <th>model</th>\n",
       "      <th>extra</th>\n",
       "    </tr>\n",
       "  </thead>\n",
       "  <tbody>\n",
       "    <tr>\n",
       "      <th>Bortezomib</th>\n",
       "      <td>34</td>\n",
       "      <td>18</td>\n",
       "      <td>17</td>\n",
       "      <td>6</td>\n",
       "      <td>20</td>\n",
       "      <td>3</td>\n",
       "      <td>0.800000</td>\n",
       "      <td>0.941176</td>\n",
       "      <td>0.864865</td>\n",
       "      <td>17.0</td>\n",
       "      <td>0.782609</td>\n",
       "      <td>0.705882</td>\n",
       "      <td>0.705882</td>\n",
       "      <td>0.705882</td>\n",
       "      <td>17.0</td>\n",
       "      <td>0.565217</td>\n",
       "      <td>LogisticRegression(C=5.502004429600403, solver...</td>\n",
       "      <td>{'classifier': 'LogisticRegression', 'logistic...</td>\n",
       "    </tr>\n",
       "    <tr>\n",
       "      <th>Carfilzomib</th>\n",
       "      <td>14</td>\n",
       "      <td>16</td>\n",
       "      <td>6</td>\n",
       "      <td>8</td>\n",
       "      <td>6</td>\n",
       "      <td>8</td>\n",
       "      <td>0.833333</td>\n",
       "      <td>0.833333</td>\n",
       "      <td>0.833333</td>\n",
       "      <td>6.0</td>\n",
       "      <td>0.857143</td>\n",
       "      <td>0.500000</td>\n",
       "      <td>0.666667</td>\n",
       "      <td>0.571429</td>\n",
       "      <td>6.0</td>\n",
       "      <td>0.571429</td>\n",
       "      <td>XGBClassifier(base_score=None, booster='dart',...</td>\n",
       "      <td>{'classifier': 'XGBoost', 'xgb_booster': 'dart...</td>\n",
       "    </tr>\n",
       "    <tr>\n",
       "      <th>Lenalidomide</th>\n",
       "      <td>40</td>\n",
       "      <td>18</td>\n",
       "      <td>20</td>\n",
       "      <td>6</td>\n",
       "      <td>18</td>\n",
       "      <td>8</td>\n",
       "      <td>0.777778</td>\n",
       "      <td>0.700000</td>\n",
       "      <td>0.736842</td>\n",
       "      <td>20.0</td>\n",
       "      <td>0.615385</td>\n",
       "      <td>0.789474</td>\n",
       "      <td>0.750000</td>\n",
       "      <td>0.769231</td>\n",
       "      <td>20.0</td>\n",
       "      <td>0.653846</td>\n",
       "      <td>LogisticRegression(C=1.02625866098346, penalty...</td>\n",
       "      <td>{'classifier': 'LogisticRegression', 'logistic...</td>\n",
       "    </tr>\n",
       "    <tr>\n",
       "      <th>Pomalidomide</th>\n",
       "      <td>22</td>\n",
       "      <td>16</td>\n",
       "      <td>9</td>\n",
       "      <td>8</td>\n",
       "      <td>9</td>\n",
       "      <td>8</td>\n",
       "      <td>0.888889</td>\n",
       "      <td>0.888889</td>\n",
       "      <td>0.888889</td>\n",
       "      <td>9.0</td>\n",
       "      <td>0.882353</td>\n",
       "      <td>0.533333</td>\n",
       "      <td>0.888889</td>\n",
       "      <td>0.666667</td>\n",
       "      <td>9.0</td>\n",
       "      <td>0.529412</td>\n",
       "      <td>LogisticRegression(C=5.505053338271812, penalt...</td>\n",
       "      <td>{'classifier': 'LogisticRegression', 'logistic...</td>\n",
       "    </tr>\n",
       "    <tr>\n",
       "      <th>DARA</th>\n",
       "      <td>32</td>\n",
       "      <td>17</td>\n",
       "      <td>14</td>\n",
       "      <td>7</td>\n",
       "      <td>15</td>\n",
       "      <td>6</td>\n",
       "      <td>0.800000</td>\n",
       "      <td>0.857143</td>\n",
       "      <td>0.827586</td>\n",
       "      <td>14.0</td>\n",
       "      <td>0.761905</td>\n",
       "      <td>0.571429</td>\n",
       "      <td>0.571429</td>\n",
       "      <td>0.571429</td>\n",
       "      <td>14.0</td>\n",
       "      <td>0.428571</td>\n",
       "      <td>LogisticRegression(C=0.5398110952583985, solve...</td>\n",
       "      <td>{'classifier': 'LogisticRegression', 'logistic...</td>\n",
       "    </tr>\n",
       "    <tr>\n",
       "      <th>Triple.Ref</th>\n",
       "      <td>21</td>\n",
       "      <td>56</td>\n",
       "      <td>7</td>\n",
       "      <td>26</td>\n",
       "      <td>4</td>\n",
       "      <td>29</td>\n",
       "      <td>0.500000</td>\n",
       "      <td>0.285714</td>\n",
       "      <td>0.363636</td>\n",
       "      <td>7.0</td>\n",
       "      <td>0.787879</td>\n",
       "      <td>0.272727</td>\n",
       "      <td>0.428571</td>\n",
       "      <td>0.333333</td>\n",
       "      <td>7.0</td>\n",
       "      <td>0.636364</td>\n",
       "      <td>XGBClassifier(base_score=None, booster='gbtree...</td>\n",
       "      <td>{'classifier': 'XGBoost', 'xgb_booster': 'gbtr...</td>\n",
       "    </tr>\n",
       "    <tr>\n",
       "      <th>IMiD.Resistance.Len.Pom.Thali</th>\n",
       "      <td>36</td>\n",
       "      <td>41</td>\n",
       "      <td>11</td>\n",
       "      <td>22</td>\n",
       "      <td>10</td>\n",
       "      <td>23</td>\n",
       "      <td>0.500000</td>\n",
       "      <td>0.454545</td>\n",
       "      <td>0.476190</td>\n",
       "      <td>11.0</td>\n",
       "      <td>0.666667</td>\n",
       "      <td>0.111111</td>\n",
       "      <td>0.090909</td>\n",
       "      <td>0.100000</td>\n",
       "      <td>11.0</td>\n",
       "      <td>0.454545</td>\n",
       "      <td>LogisticRegression(C=0.4547621452980507, solve...</td>\n",
       "      <td>{'classifier': 'LogisticRegression', 'logistic...</td>\n",
       "    </tr>\n",
       "    <tr>\n",
       "      <th>PI.Resistance.Bort.Carf.Ixa</th>\n",
       "      <td>43</td>\n",
       "      <td>34</td>\n",
       "      <td>12</td>\n",
       "      <td>21</td>\n",
       "      <td>22</td>\n",
       "      <td>11</td>\n",
       "      <td>0.454545</td>\n",
       "      <td>0.833333</td>\n",
       "      <td>0.588235</td>\n",
       "      <td>12.0</td>\n",
       "      <td>0.575758</td>\n",
       "      <td>0.444444</td>\n",
       "      <td>0.666667</td>\n",
       "      <td>0.533333</td>\n",
       "      <td>12.0</td>\n",
       "      <td>0.575758</td>\n",
       "      <td>XGBClassifier(base_score=None, booster='dart',...</td>\n",
       "      <td>{'classifier': 'XGBoost', 'xgb_booster': 'dart...</td>\n",
       "    </tr>\n",
       "  </tbody>\n",
       "</table>\n",
       "</div>"
      ],
      "text/plain": [
       "                               1_y_train  0_y_train  1_y_test  0_y_test  \\\n",
       "Bortezomib                            34         18        17         6   \n",
       "Carfilzomib                           14         16         6         8   \n",
       "Lenalidomide                          40         18        20         6   \n",
       "Pomalidomide                          22         16         9         8   \n",
       "DARA                                  32         17        14         7   \n",
       "Triple.Ref                            21         56         7        26   \n",
       "IMiD.Resistance.Len.Pom.Thali         36         41        11        22   \n",
       "PI.Resistance.Bort.Carf.Ixa           43         34        12        21   \n",
       "\n",
       "                               1_y_pred  0_y_pred  precision_report  \\\n",
       "Bortezomib                           20         3          0.800000   \n",
       "Carfilzomib                           6         8          0.833333   \n",
       "Lenalidomide                         18         8          0.777778   \n",
       "Pomalidomide                          9         8          0.888889   \n",
       "DARA                                 15         6          0.800000   \n",
       "Triple.Ref                            4        29          0.500000   \n",
       "IMiD.Resistance.Len.Pom.Thali        10        23          0.500000   \n",
       "PI.Resistance.Bort.Carf.Ixa          22        11          0.454545   \n",
       "\n",
       "                               recall_report  f1-score_report  support_report  \\\n",
       "Bortezomib                          0.941176         0.864865            17.0   \n",
       "Carfilzomib                         0.833333         0.833333             6.0   \n",
       "Lenalidomide                        0.700000         0.736842            20.0   \n",
       "Pomalidomide                        0.888889         0.888889             9.0   \n",
       "DARA                                0.857143         0.827586            14.0   \n",
       "Triple.Ref                          0.285714         0.363636             7.0   \n",
       "IMiD.Resistance.Len.Pom.Thali       0.454545         0.476190            11.0   \n",
       "PI.Resistance.Bort.Carf.Ixa         0.833333         0.588235            12.0   \n",
       "\n",
       "                               accuracy_report  precision_baseline  \\\n",
       "Bortezomib                            0.782609            0.705882   \n",
       "Carfilzomib                           0.857143            0.500000   \n",
       "Lenalidomide                          0.615385            0.789474   \n",
       "Pomalidomide                          0.882353            0.533333   \n",
       "DARA                                  0.761905            0.571429   \n",
       "Triple.Ref                            0.787879            0.272727   \n",
       "IMiD.Resistance.Len.Pom.Thali         0.666667            0.111111   \n",
       "PI.Resistance.Bort.Carf.Ixa           0.575758            0.444444   \n",
       "\n",
       "                               recall_baseline  f1-score_baseline  \\\n",
       "Bortezomib                            0.705882           0.705882   \n",
       "Carfilzomib                           0.666667           0.571429   \n",
       "Lenalidomide                          0.750000           0.769231   \n",
       "Pomalidomide                          0.888889           0.666667   \n",
       "DARA                                  0.571429           0.571429   \n",
       "Triple.Ref                            0.428571           0.333333   \n",
       "IMiD.Resistance.Len.Pom.Thali         0.090909           0.100000   \n",
       "PI.Resistance.Bort.Carf.Ixa           0.666667           0.533333   \n",
       "\n",
       "                               support_baseline  accuracy_baseline  \\\n",
       "Bortezomib                                 17.0           0.565217   \n",
       "Carfilzomib                                 6.0           0.571429   \n",
       "Lenalidomide                               20.0           0.653846   \n",
       "Pomalidomide                                9.0           0.529412   \n",
       "DARA                                       14.0           0.428571   \n",
       "Triple.Ref                                  7.0           0.636364   \n",
       "IMiD.Resistance.Len.Pom.Thali              11.0           0.454545   \n",
       "PI.Resistance.Bort.Carf.Ixa                12.0           0.575758   \n",
       "\n",
       "                                                                           model  \\\n",
       "Bortezomib                     LogisticRegression(C=5.502004429600403, solver...   \n",
       "Carfilzomib                    XGBClassifier(base_score=None, booster='dart',...   \n",
       "Lenalidomide                   LogisticRegression(C=1.02625866098346, penalty...   \n",
       "Pomalidomide                   LogisticRegression(C=5.505053338271812, penalt...   \n",
       "DARA                           LogisticRegression(C=0.5398110952583985, solve...   \n",
       "Triple.Ref                     XGBClassifier(base_score=None, booster='gbtree...   \n",
       "IMiD.Resistance.Len.Pom.Thali  LogisticRegression(C=0.4547621452980507, solve...   \n",
       "PI.Resistance.Bort.Carf.Ixa    XGBClassifier(base_score=None, booster='dart',...   \n",
       "\n",
       "                                                                           extra  \n",
       "Bortezomib                     {'classifier': 'LogisticRegression', 'logistic...  \n",
       "Carfilzomib                    {'classifier': 'XGBoost', 'xgb_booster': 'dart...  \n",
       "Lenalidomide                   {'classifier': 'LogisticRegression', 'logistic...  \n",
       "Pomalidomide                   {'classifier': 'LogisticRegression', 'logistic...  \n",
       "DARA                           {'classifier': 'LogisticRegression', 'logistic...  \n",
       "Triple.Ref                     {'classifier': 'XGBoost', 'xgb_booster': 'gbtr...  \n",
       "IMiD.Resistance.Len.Pom.Thali  {'classifier': 'LogisticRegression', 'logistic...  \n",
       "PI.Resistance.Bort.Carf.Ixa    {'classifier': 'XGBoost', 'xgb_booster': 'dart...  "
      ]
     },
     "execution_count": 54,
     "metadata": {},
     "output_type": "execute_result"
    }
   ],
   "source": [
    "generate_datasets_summerization(monitor)"
   ]
  },
  {
   "cell_type": "code",
   "execution_count": 55,
   "metadata": {},
   "outputs": [
    {
     "data": {
      "text/plain": [
       "[\"{'classifier': 'LogisticRegression', 'logistic_regression_c': 5.502004429600403, 'logr_penalty': 'l2'}\",\n",
       " \"{'classifier': 'XGBoost', 'xgb_booster': 'dart', 'xgb_n_estimators': 9, 'xgb_max_depth': 3}\",\n",
       " \"{'classifier': 'LogisticRegression', 'logistic_regression_c': 1.02625866098346, 'logr_penalty': 'l1'}\",\n",
       " \"{'classifier': 'LogisticRegression', 'logistic_regression_c': 5.505053338271812, 'logr_penalty': 'l1'}\",\n",
       " \"{'classifier': 'LogisticRegression', 'logistic_regression_c': 0.5398110952583985, 'logr_penalty': 'l2'}\",\n",
       " \"{'classifier': 'XGBoost', 'xgb_booster': 'gbtree', 'xgb_n_estimators': 15, 'xgb_max_depth': 1}\",\n",
       " \"{'classifier': 'LogisticRegression', 'logistic_regression_c': 0.4547621452980507, 'logr_penalty': 'l2'}\",\n",
       " \"{'classifier': 'XGBoost', 'xgb_booster': 'dart', 'xgb_n_estimators': 15, 'xgb_max_depth': 2}\"]"
      ]
     },
     "execution_count": 55,
     "metadata": {},
     "output_type": "execute_result"
    }
   ],
   "source": [
    "list(generate_datasets_summerization(monitor)[\"extra\"])"
   ]
  },
  {
   "cell_type": "markdown",
   "metadata": {},
   "source": [
    "## train a stage model"
   ]
  },
  {
   "cell_type": "code",
   "execution_count": 56,
   "metadata": {},
   "outputs": [
    {
     "data": {
      "text/plain": [
       "Stage\n",
       "3.0    98\n",
       "2.0    17\n",
       "1.0     7\n",
       "0.0     3\n",
       "Name: count, dtype: int64"
      ]
     },
     "execution_count": 56,
     "metadata": {},
     "output_type": "execute_result"
    }
   ],
   "source": [
    "mask = ~ dataset[\"Stage\"].isna()\n",
    "X_stage = dataset[mask][feats]\n",
    "y_stage = dataset[mask][\"Stage\"]\n",
    "y_is_stage_3 = (y_stage == 3).astype(int)\n",
    "y_0_is_1 = y_stage.apply(lambda x: x if x == 0 else x-1).astype(int)\n",
    "y_stage.value_counts()"
   ]
  },
  {
   "cell_type": "code",
   "execution_count": 57,
   "metadata": {
    "scrolled": true
   },
   "outputs": [
    {
     "name": "stderr",
     "output_type": "stream",
     "text": [
      "\u001b[32m[I 2023-12-07 22:31:36,097]\u001b[0m A new study created in memory with name: no-name-8842a7c1-8ba0-47f6-aa81-235edec483ad\u001b[0m\n",
      "/home/labs/amit/noamsh/.conda/envs/sc_clustering_noam/lib/python3.9/site-packages/sklearn/metrics/_classification.py:1248: UndefinedMetricWarning:\n",
      "\n",
      "Precision is ill-defined and being set to 0.0 due to no predicted samples. Use `zero_division` parameter to control this behavior.\n",
      "\n",
      "/home/labs/amit/noamsh/.conda/envs/sc_clustering_noam/lib/python3.9/site-packages/sklearn/metrics/_classification.py:1248: UndefinedMetricWarning:\n",
      "\n",
      "Precision is ill-defined and being set to 0.0 due to no predicted samples. Use `zero_division` parameter to control this behavior.\n",
      "\n",
      "/home/labs/amit/noamsh/.conda/envs/sc_clustering_noam/lib/python3.9/site-packages/sklearn/metrics/_classification.py:1248: UndefinedMetricWarning:\n",
      "\n",
      "Precision is ill-defined and being set to 0.0 due to no predicted samples. Use `zero_division` parameter to control this behavior.\n",
      "\n",
      "/home/labs/amit/noamsh/.conda/envs/sc_clustering_noam/lib/python3.9/site-packages/sklearn/metrics/_classification.py:1248: UndefinedMetricWarning:\n",
      "\n",
      "Precision is ill-defined and being set to 0.0 due to no predicted samples. Use `zero_division` parameter to control this behavior.\n",
      "\n",
      "/home/labs/amit/noamsh/.conda/envs/sc_clustering_noam/lib/python3.9/site-packages/sklearn/metrics/_classification.py:1248: UndefinedMetricWarning:\n",
      "\n",
      "Precision is ill-defined and being set to 0.0 due to no predicted samples. Use `zero_division` parameter to control this behavior.\n",
      "\n",
      "\u001b[32m[I 2023-12-07 22:31:36,151]\u001b[0m Trial 0 finished with value: 0.07202059202059201 and parameters: {'classifier': 'LogisticRegression', 'logistic_regression_c': 0.0012278993655632066, 'logr_penalty': 'l1'}. Best is trial 0 with value: 0.07202059202059201.\u001b[0m\n",
      "\u001b[32m[I 2023-12-07 22:31:36,739]\u001b[0m Trial 1 finished with value: 1.4077443358384536 and parameters: {'classifier': 'XGBoost', 'xgb_booster': 'gbtree', 'xgb_n_estimators': 2, 'xgb_max_depth': 3}. Best is trial 1 with value: 1.4077443358384536.\u001b[0m\n",
      "\u001b[32m[I 2023-12-07 22:31:37,516]\u001b[0m Trial 2 finished with value: 1.4036747093577282 and parameters: {'classifier': 'XGBoost', 'xgb_booster': 'dart', 'xgb_n_estimators': 7, 'xgb_max_depth': 3}. Best is trial 1 with value: 1.4077443358384536.\u001b[0m\n",
      "\u001b[32m[I 2023-12-07 22:31:37,588]\u001b[0m Trial 3 finished with value: 1.4674313101398209 and parameters: {'classifier': 'LogisticRegression', 'logistic_regression_c': 1.498356175083778, 'logr_penalty': 'l2'}. Best is trial 3 with value: 1.4674313101398209.\u001b[0m\n",
      "/home/labs/amit/noamsh/.conda/envs/sc_clustering_noam/lib/python3.9/site-packages/sklearn/metrics/_classification.py:1248: UndefinedMetricWarning:\n",
      "\n",
      "Precision is ill-defined and being set to 0.0 due to no predicted samples. Use `zero_division` parameter to control this behavior.\n",
      "\n",
      "/home/labs/amit/noamsh/.conda/envs/sc_clustering_noam/lib/python3.9/site-packages/sklearn/metrics/_classification.py:1248: UndefinedMetricWarning:\n",
      "\n",
      "Precision is ill-defined and being set to 0.0 due to no predicted samples. Use `zero_division` parameter to control this behavior.\n",
      "\n",
      "/home/labs/amit/noamsh/.conda/envs/sc_clustering_noam/lib/python3.9/site-packages/sklearn/metrics/_classification.py:1248: UndefinedMetricWarning:\n",
      "\n",
      "Precision is ill-defined and being set to 0.0 due to no predicted samples. Use `zero_division` parameter to control this behavior.\n",
      "\n",
      "/home/labs/amit/noamsh/.conda/envs/sc_clustering_noam/lib/python3.9/site-packages/sklearn/metrics/_classification.py:1248: UndefinedMetricWarning:\n",
      "\n",
      "Precision is ill-defined and being set to 0.0 due to no predicted samples. Use `zero_division` parameter to control this behavior.\n",
      "\n",
      "/home/labs/amit/noamsh/.conda/envs/sc_clustering_noam/lib/python3.9/site-packages/sklearn/metrics/_classification.py:1248: UndefinedMetricWarning:\n",
      "\n",
      "Precision is ill-defined and being set to 0.0 due to no predicted samples. Use `zero_division` parameter to control this behavior.\n",
      "\n",
      "\u001b[32m[I 2023-12-07 22:31:37,638]\u001b[0m Trial 4 finished with value: 0.07202059202059201 and parameters: {'classifier': 'LogisticRegression', 'logistic_regression_c': 0.0005094595966163354, 'logr_penalty': 'l1'}. Best is trial 3 with value: 1.4674313101398209.\u001b[0m\n",
      "\u001b[32m[I 2023-12-07 22:31:37,701]\u001b[0m Trial 5 finished with value: 1.4735068018477957 and parameters: {'classifier': 'LogisticRegression', 'logistic_regression_c': 0.07041214139774021, 'logr_penalty': 'l2'}. Best is trial 5 with value: 1.4735068018477957.\u001b[0m\n",
      "\u001b[32m[I 2023-12-07 22:31:38,448]\u001b[0m Trial 6 finished with value: 1.354451265870333 and parameters: {'classifier': 'XGBoost', 'xgb_booster': 'dart', 'xgb_n_estimators': 3, 'xgb_max_depth': 4}. Best is trial 5 with value: 1.4735068018477957.\u001b[0m\n",
      "\u001b[32m[I 2023-12-07 22:31:38,975]\u001b[0m Trial 7 finished with value: 1.3707143877239736 and parameters: {'classifier': 'XGBoost', 'xgb_booster': 'gbtree', 'xgb_n_estimators': 3, 'xgb_max_depth': 2}. Best is trial 5 with value: 1.4735068018477957.\u001b[0m\n",
      "\u001b[32m[I 2023-12-07 22:31:39,842]\u001b[0m Trial 8 finished with value: 1.3980395945860706 and parameters: {'classifier': 'XGBoost', 'xgb_booster': 'gbtree', 'xgb_n_estimators': 4, 'xgb_max_depth': 3}. Best is trial 5 with value: 1.4735068018477957.\u001b[0m\n",
      "\u001b[32m[I 2023-12-07 22:31:39,896]\u001b[0m Trial 9 finished with value: 1.3097904382957772 and parameters: {'classifier': 'LogisticRegression', 'logistic_regression_c': 0.0001728226962511281, 'logr_penalty': 'l2'}. Best is trial 5 with value: 1.4735068018477957.\u001b[0m\n",
      "\u001b[32m[I 2023-12-07 22:31:39,964]\u001b[0m Trial 10 finished with value: 1.473408352677918 and parameters: {'classifier': 'LogisticRegression', 'logistic_regression_c': 0.15041664634676638, 'logr_penalty': 'l2'}. Best is trial 5 with value: 1.4735068018477957.\u001b[0m\n",
      "\u001b[32m[I 2023-12-07 22:31:40,032]\u001b[0m Trial 11 finished with value: 1.473408352677918 and parameters: {'classifier': 'LogisticRegression', 'logistic_regression_c': 0.1607168702906434, 'logr_penalty': 'l2'}. Best is trial 5 with value: 1.4735068018477957.\u001b[0m\n",
      "\u001b[32m[I 2023-12-07 22:31:40,096]\u001b[0m Trial 12 finished with value: 1.4841111580607378 and parameters: {'classifier': 'LogisticRegression', 'logistic_regression_c': 0.03597530554999342, 'logr_penalty': 'l2'}. Best is trial 12 with value: 1.4841111580607378.\u001b[0m\n",
      "\u001b[32m[I 2023-12-07 22:31:40,157]\u001b[0m Trial 13 finished with value: 1.4672938294820645 and parameters: {'classifier': 'LogisticRegression', 'logistic_regression_c': 0.01222967779157803, 'logr_penalty': 'l2'}. Best is trial 12 with value: 1.4841111580607378.\u001b[0m\n",
      "\u001b[32m[I 2023-12-07 22:31:40,218]\u001b[0m Trial 14 finished with value: 1.4813360617595912 and parameters: {'classifier': 'LogisticRegression', 'logistic_regression_c': 0.01641686768945337, 'logr_penalty': 'l2'}. Best is trial 12 with value: 1.4841111580607378.\u001b[0m\n",
      "\u001b[32m[I 2023-12-07 22:31:40,278]\u001b[0m Trial 15 finished with value: 1.4535822206400213 and parameters: {'classifier': 'LogisticRegression', 'logistic_regression_c': 0.006370520438077022, 'logr_penalty': 'l2'}. Best is trial 12 with value: 1.4841111580607378.\u001b[0m\n",
      "\u001b[32m[I 2023-12-07 22:31:40,338]\u001b[0m Trial 16 finished with value: 1.4242878054963162 and parameters: {'classifier': 'LogisticRegression', 'logistic_regression_c': 3.6605271499228564, 'logr_penalty': 'l1'}. Best is trial 12 with value: 1.4841111580607378.\u001b[0m\n",
      "\u001b[32m[I 2023-12-07 22:31:40,396]\u001b[0m Trial 17 finished with value: 1.4138025361582824 and parameters: {'classifier': 'LogisticRegression', 'logistic_regression_c': 0.003913375475340345, 'logr_penalty': 'l2'}. Best is trial 12 with value: 1.4841111580607378.\u001b[0m\n",
      "\u001b[32m[I 2023-12-07 22:31:40,465]\u001b[0m Trial 18 finished with value: 1.473408352677918 and parameters: {'classifier': 'LogisticRegression', 'logistic_regression_c': 0.5369350706338328, 'logr_penalty': 'l2'}. Best is trial 12 with value: 1.4841111580607378.\u001b[0m\n",
      "\u001b[32m[I 2023-12-07 22:31:40,520]\u001b[0m Trial 19 finished with value: 1.4182401287476918 and parameters: {'classifier': 'LogisticRegression', 'logistic_regression_c': 0.029483346345060626, 'logr_penalty': 'l1'}. Best is trial 12 with value: 1.4841111580607378.\u001b[0m\n",
      "\u001b[32m[I 2023-12-07 22:31:40,582]\u001b[0m Trial 20 finished with value: 1.4841111580607378 and parameters: {'classifier': 'LogisticRegression', 'logistic_regression_c': 0.024098710006135626, 'logr_penalty': 'l2'}. Best is trial 12 with value: 1.4841111580607378.\u001b[0m\n",
      "\u001b[32m[I 2023-12-07 22:31:40,645]\u001b[0m Trial 21 finished with value: 1.4841111580607378 and parameters: {'classifier': 'LogisticRegression', 'logistic_regression_c': 0.02573857405365329, 'logr_penalty': 'l2'}. Best is trial 12 with value: 1.4841111580607378.\u001b[0m\n",
      "\u001b[32m[I 2023-12-07 22:31:40,709]\u001b[0m Trial 22 finished with value: 1.4735068018477957 and parameters: {'classifier': 'LogisticRegression', 'logistic_regression_c': 0.06921709334884266, 'logr_penalty': 'l2'}. Best is trial 12 with value: 1.4841111580607378.\u001b[0m\n",
      "\u001b[32m[I 2023-12-07 22:31:40,767]\u001b[0m Trial 23 finished with value: 1.3995719305936345 and parameters: {'classifier': 'LogisticRegression', 'logistic_regression_c': 0.0034612505603263738, 'logr_penalty': 'l2'}. Best is trial 12 with value: 1.4841111580607378.\u001b[0m\n",
      "\u001b[32m[I 2023-12-07 22:31:40,830]\u001b[0m Trial 24 finished with value: 1.4841111580607378 and parameters: {'classifier': 'LogisticRegression', 'logistic_regression_c': 0.0451441369832195, 'logr_penalty': 'l2'}. Best is trial 12 with value: 1.4841111580607378.\u001b[0m\n",
      "\u001b[32m[I 2023-12-07 22:31:40,899]\u001b[0m Trial 25 finished with value: 1.473408352677918 and parameters: {'classifier': 'LogisticRegression', 'logistic_regression_c': 0.3443036228783936, 'logr_penalty': 'l2'}. Best is trial 12 with value: 1.4841111580607378.\u001b[0m\n",
      "\u001b[32m[I 2023-12-07 22:31:42,160]\u001b[0m Trial 26 finished with value: 1.3938852310033323 and parameters: {'classifier': 'XGBoost', 'xgb_booster': 'dart', 'xgb_n_estimators': 15, 'xgb_max_depth': 1}. Best is trial 12 with value: 1.4841111580607378.\u001b[0m\n",
      "\u001b[32m[I 2023-12-07 22:31:42,292]\u001b[0m Trial 27 finished with value: 1.4871167014719813 and parameters: {'classifier': 'LogisticRegression', 'logistic_regression_c': 0.10877300026433646, 'logr_penalty': 'l2'}. Best is trial 27 with value: 1.4871167014719813.\u001b[0m\n",
      "\u001b[32m[I 2023-12-07 22:31:42,362]\u001b[0m Trial 28 finished with value: 1.473408352677918 and parameters: {'classifier': 'LogisticRegression', 'logistic_regression_c': 0.7723385510714827, 'logr_penalty': 'l2'}. Best is trial 27 with value: 1.4871167014719813.\u001b[0m\n",
      "\u001b[32m[I 2023-12-07 22:31:42,421]\u001b[0m Trial 29 finished with value: 1.432449092357603 and parameters: {'classifier': 'LogisticRegression', 'logistic_regression_c': 9.070126048744278, 'logr_penalty': 'l1'}. Best is trial 27 with value: 1.4871167014719813.\u001b[0m\n",
      "\u001b[32m[I 2023-12-07 22:31:42,487]\u001b[0m Trial 30 finished with value: 1.473408352677918 and parameters: {'classifier': 'LogisticRegression', 'logistic_regression_c': 0.13285094170714168, 'logr_penalty': 'l2'}. Best is trial 27 with value: 1.4871167014719813.\u001b[0m\n",
      "\u001b[32m[I 2023-12-07 22:31:42,550]\u001b[0m Trial 31 finished with value: 1.4841111580607378 and parameters: {'classifier': 'LogisticRegression', 'logistic_regression_c': 0.03168114922539863, 'logr_penalty': 'l2'}. Best is trial 27 with value: 1.4871167014719813.\u001b[0m\n",
      "\u001b[32m[I 2023-12-07 22:31:42,610]\u001b[0m Trial 32 finished with value: 1.4535822206400213 and parameters: {'classifier': 'LogisticRegression', 'logistic_regression_c': 0.007857694251003987, 'logr_penalty': 'l2'}. Best is trial 27 with value: 1.4871167014719813.\u001b[0m\n",
      "\u001b[32m[I 2023-12-07 22:31:42,670]\u001b[0m Trial 33 finished with value: 1.4897294635647576 and parameters: {'classifier': 'LogisticRegression', 'logistic_regression_c': 0.022238791021191934, 'logr_penalty': 'l2'}. Best is trial 33 with value: 1.4897294635647576.\u001b[0m\n",
      "\u001b[32m[I 2023-12-07 22:31:44,060]\u001b[0m Trial 34 finished with value: 1.3764020184667085 and parameters: {'classifier': 'XGBoost', 'xgb_booster': 'gbtree', 'xgb_n_estimators': 16, 'xgb_max_depth': 1}. Best is trial 33 with value: 1.4897294635647576.\u001b[0m\n",
      "\u001b[32m[I 2023-12-07 22:31:44,203]\u001b[0m Trial 35 finished with value: 1.4735068018477957 and parameters: {'classifier': 'LogisticRegression', 'logistic_regression_c': 0.07262123274727311, 'logr_penalty': 'l2'}. Best is trial 33 with value: 1.4897294635647576.\u001b[0m\n",
      "\u001b[32m[I 2023-12-07 22:31:44,282]\u001b[0m Trial 36 finished with value: 1.473408352677918 and parameters: {'classifier': 'LogisticRegression', 'logistic_regression_c': 0.2080994225970778, 'logr_penalty': 'l2'}. Best is trial 33 with value: 1.4897294635647576.\u001b[0m\n",
      "\u001b[32m[I 2023-12-07 22:31:46,053]\u001b[0m Trial 37 finished with value: 1.3965845531371373 and parameters: {'classifier': 'XGBoost', 'xgb_booster': 'dart', 'xgb_n_estimators': 8, 'xgb_max_depth': 4}. Best is trial 33 with value: 1.4897294635647576.\u001b[0m\n",
      "/home/labs/amit/noamsh/.conda/envs/sc_clustering_noam/lib/python3.9/site-packages/sklearn/metrics/_classification.py:1248: UndefinedMetricWarning:\n",
      "\n",
      "Precision is ill-defined and being set to 0.0 due to no predicted samples. Use `zero_division` parameter to control this behavior.\n",
      "\n",
      "/home/labs/amit/noamsh/.conda/envs/sc_clustering_noam/lib/python3.9/site-packages/sklearn/metrics/_classification.py:1248: UndefinedMetricWarning:\n",
      "\n",
      "Precision is ill-defined and being set to 0.0 due to no predicted samples. Use `zero_division` parameter to control this behavior.\n",
      "\n",
      "/home/labs/amit/noamsh/.conda/envs/sc_clustering_noam/lib/python3.9/site-packages/sklearn/metrics/_classification.py:1248: UndefinedMetricWarning:\n",
      "\n",
      "Precision is ill-defined and being set to 0.0 due to no predicted samples. Use `zero_division` parameter to control this behavior.\n",
      "\n",
      "/home/labs/amit/noamsh/.conda/envs/sc_clustering_noam/lib/python3.9/site-packages/sklearn/metrics/_classification.py:1248: UndefinedMetricWarning:\n",
      "\n",
      "Precision is ill-defined and being set to 0.0 due to no predicted samples. Use `zero_division` parameter to control this behavior.\n",
      "\n",
      "/home/labs/amit/noamsh/.conda/envs/sc_clustering_noam/lib/python3.9/site-packages/sklearn/metrics/_classification.py:1248: UndefinedMetricWarning:\n",
      "\n",
      "Precision is ill-defined and being set to 0.0 due to no predicted samples. Use `zero_division` parameter to control this behavior.\n",
      "\n",
      "\u001b[32m[I 2023-12-07 22:31:46,108]\u001b[0m Trial 38 finished with value: 0.07202059202059201 and parameters: {'classifier': 'LogisticRegression', 'logistic_regression_c': 0.0022047893587527193, 'logr_penalty': 'l1'}. Best is trial 33 with value: 1.4897294635647576.\u001b[0m\n",
      "\u001b[32m[I 2023-12-07 22:31:46,173]\u001b[0m Trial 39 finished with value: 1.4712457637600496 and parameters: {'classifier': 'LogisticRegression', 'logistic_regression_c': 0.05669244883142958, 'logr_penalty': 'l2'}. Best is trial 33 with value: 1.4897294635647576.\u001b[0m\n",
      "\u001b[32m[I 2023-12-07 22:31:47,357]\u001b[0m Trial 40 finished with value: 1.4183995289825477 and parameters: {'classifier': 'XGBoost', 'xgb_booster': 'dart', 'xgb_n_estimators': 9, 'xgb_max_depth': 2}. Best is trial 33 with value: 1.4897294635647576.\u001b[0m\n",
      "\u001b[32m[I 2023-12-07 22:31:47,425]\u001b[0m Trial 41 finished with value: 1.4813360617595912 and parameters: {'classifier': 'LogisticRegression', 'logistic_regression_c': 0.0160712714955342, 'logr_penalty': 'l2'}. Best is trial 33 with value: 1.4897294635647576.\u001b[0m\n",
      "\u001b[32m[I 2023-12-07 22:31:47,490]\u001b[0m Trial 42 finished with value: 1.4841111580607378 and parameters: {'classifier': 'LogisticRegression', 'logistic_regression_c': 0.03218562693075312, 'logr_penalty': 'l2'}. Best is trial 33 with value: 1.4897294635647576.\u001b[0m\n",
      "\u001b[32m[I 2023-12-07 22:31:47,550]\u001b[0m Trial 43 finished with value: 1.4535822206400213 and parameters: {'classifier': 'LogisticRegression', 'logistic_regression_c': 0.00858430140267531, 'logr_penalty': 'l2'}. Best is trial 33 with value: 1.4897294635647576.\u001b[0m\n",
      "\u001b[32m[I 2023-12-07 22:31:47,611]\u001b[0m Trial 44 finished with value: 1.4813360617595912 and parameters: {'classifier': 'LogisticRegression', 'logistic_regression_c': 0.01909505244059689, 'logr_penalty': 'l2'}. Best is trial 33 with value: 1.4897294635647576.\u001b[0m\n",
      "\u001b[32m[I 2023-12-07 22:31:47,675]\u001b[0m Trial 45 finished with value: 1.4841111580607378 and parameters: {'classifier': 'LogisticRegression', 'logistic_regression_c': 0.051481697301568756, 'logr_penalty': 'l2'}. Best is trial 33 with value: 1.4897294635647576.\u001b[0m\n",
      "\u001b[32m[I 2023-12-07 22:31:47,730]\u001b[0m Trial 46 finished with value: 1.3829337930043812 and parameters: {'classifier': 'LogisticRegression', 'logistic_regression_c': 0.07579994714335757, 'logr_penalty': 'l1'}. Best is trial 33 with value: 1.4897294635647576.\u001b[0m\n",
      "\u001b[32m[I 2023-12-07 22:31:47,786]\u001b[0m Trial 47 finished with value: 1.3343119249312367 and parameters: {'classifier': 'LogisticRegression', 'logistic_regression_c': 0.001127789029344986, 'logr_penalty': 'l2'}. Best is trial 33 with value: 1.4897294635647576.\u001b[0m\n",
      "\u001b[32m[I 2023-12-07 22:31:48,504]\u001b[0m Trial 48 finished with value: 1.3369422527158377 and parameters: {'classifier': 'XGBoost', 'xgb_booster': 'gbtree', 'xgb_n_estimators': 2, 'xgb_max_depth': 1}. Best is trial 33 with value: 1.4897294635647576.\u001b[0m\n",
      "\u001b[32m[I 2023-12-07 22:31:48,572]\u001b[0m Trial 49 finished with value: 1.473408352677918 and parameters: {'classifier': 'LogisticRegression', 'logistic_regression_c': 0.1150406847481737, 'logr_penalty': 'l2'}. Best is trial 33 with value: 1.4897294635647576.\u001b[0m\n"
     ]
    },
    {
     "name": "stdout",
     "output_type": "stream",
     "text": [
      "{'classifier': 'LogisticRegression', 'logistic_regression_c': 0.022238791021191934, 'logr_penalty': 'l2'}\n"
     ]
    }
   ],
   "source": [
    "X_train, X_test, y_train, y_test = train_test_split(X_stage, y_is_stage_3, test_size=0.2, random_state=42)\n",
    "\n",
    "model, best_trial = get_best_model_with_optuna(X_train, y_train, n_trials=50)\n",
    "\n",
    "monitor_stage = {}\n",
    "monitor_stage[\"Stage\"] = train_and_eval_model(X_train, X_test, y_train, y_test, model)\n",
    "print(best_trial.params)"
   ]
  },
  {
   "cell_type": "code",
   "execution_count": 58,
   "metadata": {},
   "outputs": [
    {
     "data": {
      "text/html": [
       "<div>\n",
       "<style scoped>\n",
       "    .dataframe tbody tr th:only-of-type {\n",
       "        vertical-align: middle;\n",
       "    }\n",
       "\n",
       "    .dataframe tbody tr th {\n",
       "        vertical-align: top;\n",
       "    }\n",
       "\n",
       "    .dataframe thead th {\n",
       "        text-align: right;\n",
       "    }\n",
       "</style>\n",
       "<table border=\"1\" class=\"dataframe\">\n",
       "  <thead>\n",
       "    <tr style=\"text-align: right;\">\n",
       "      <th></th>\n",
       "      <th>1_y_train</th>\n",
       "      <th>0_y_train</th>\n",
       "      <th>1_y_test</th>\n",
       "      <th>0_y_test</th>\n",
       "      <th>1_y_pred</th>\n",
       "      <th>0_y_pred</th>\n",
       "      <th>precision_report</th>\n",
       "      <th>recall_report</th>\n",
       "      <th>f1-score_report</th>\n",
       "      <th>support_report</th>\n",
       "      <th>accuracy_report</th>\n",
       "      <th>precision_baseline</th>\n",
       "      <th>recall_baseline</th>\n",
       "      <th>f1-score_baseline</th>\n",
       "      <th>support_baseline</th>\n",
       "      <th>accuracy_baseline</th>\n",
       "      <th>model</th>\n",
       "      <th>extra</th>\n",
       "    </tr>\n",
       "  </thead>\n",
       "  <tbody>\n",
       "    <tr>\n",
       "      <th>Stage</th>\n",
       "      <td>78</td>\n",
       "      <td>22</td>\n",
       "      <td>20</td>\n",
       "      <td>5</td>\n",
       "      <td>21</td>\n",
       "      <td>4</td>\n",
       "      <td>0.809524</td>\n",
       "      <td>0.85</td>\n",
       "      <td>0.829268</td>\n",
       "      <td>20.0</td>\n",
       "      <td>0.72</td>\n",
       "      <td>0.85</td>\n",
       "      <td>0.85</td>\n",
       "      <td>0.85</td>\n",
       "      <td>20.0</td>\n",
       "      <td>0.76</td>\n",
       "      <td>LogisticRegression(C=0.022238791021191934, sol...</td>\n",
       "      <td></td>\n",
       "    </tr>\n",
       "  </tbody>\n",
       "</table>\n",
       "</div>"
      ],
      "text/plain": [
       "       1_y_train  0_y_train  1_y_test  0_y_test  1_y_pred  0_y_pred  \\\n",
       "Stage         78         22        20         5        21         4   \n",
       "\n",
       "       precision_report  recall_report  f1-score_report  support_report  \\\n",
       "Stage          0.809524           0.85         0.829268            20.0   \n",
       "\n",
       "       accuracy_report  precision_baseline  recall_baseline  \\\n",
       "Stage             0.72                0.85             0.85   \n",
       "\n",
       "       f1-score_baseline  support_baseline  accuracy_baseline  \\\n",
       "Stage               0.85              20.0               0.76   \n",
       "\n",
       "                                                   model extra  \n",
       "Stage  LogisticRegression(C=0.022238791021191934, sol...        "
      ]
     },
     "execution_count": 58,
     "metadata": {},
     "output_type": "execute_result"
    }
   ],
   "source": [
    "generate_datasets_summerization(monitor_stage)"
   ]
  },
  {
   "cell_type": "code",
   "execution_count": 59,
   "metadata": {},
   "outputs": [
    {
     "data": {
      "text/plain": [
       "LogisticRegression(C=0.022238791021191934, solver='liblinear')"
      ]
     },
     "execution_count": 59,
     "metadata": {},
     "output_type": "execute_result"
    }
   ],
   "source": [
    "monitor_stage[\"Stage\"].model"
   ]
  },
  {
   "cell_type": "code",
   "execution_count": 60,
   "metadata": {},
   "outputs": [
    {
     "data": {
      "image/png": "[encoded data removed]",
      "text/plain": [
       "<Figure size 432x288 with 2 Axes>"
      ]
     },
     "metadata": {
      "needs_background": "light"
     },
     "output_type": "display_data"
    }
   ],
   "source": [
    "X_train, X_test, y_train, y_test = train_test_split(X_stage, y_is_stage_3, test_size=0.3, random_state=42)\n",
    "\n",
    "exp_data = train_and_eval_model(X_train, X_test, y_train, y_test, monitor_stage[\"Stage\"].model)\n",
    "\n",
    "y_pred = exp_data.y_pred\n",
    "y_test = exp_data.y_test\n",
    "cm = confusion_matrix(y_test, y_pred, labels=model.classes_)\n",
    "disp = ConfusionMatrixDisplay(confusion_matrix=cm, display_labels=model.classes_)\n",
    "disp.plot()\n",
    "plt.show()"
   ]
  },
  {
   "cell_type": "markdown",
   "metadata": {},
   "source": [
    "### train no search with cm"
   ]
  },
  {
   "cell_type": "code",
   "execution_count": 61,
   "metadata": {},
   "outputs": [
    {
     "data": {
      "text/html": [
       "<div>\n",
       "<style scoped>\n",
       "    .dataframe tbody tr th:only-of-type {\n",
       "        vertical-align: middle;\n",
       "    }\n",
       "\n",
       "    .dataframe tbody tr th {\n",
       "        vertical-align: top;\n",
       "    }\n",
       "\n",
       "    .dataframe thead th {\n",
       "        text-align: right;\n",
       "    }\n",
       "</style>\n",
       "<table border=\"1\" class=\"dataframe\">\n",
       "  <thead>\n",
       "    <tr style=\"text-align: right;\">\n",
       "      <th></th>\n",
       "      <th>1_y_train</th>\n",
       "      <th>0_y_train</th>\n",
       "      <th>1_y_test</th>\n",
       "      <th>0_y_test</th>\n",
       "      <th>1_y_pred</th>\n",
       "      <th>0_y_pred</th>\n",
       "      <th>precision_report</th>\n",
       "      <th>recall_report</th>\n",
       "      <th>f1-score_report</th>\n",
       "      <th>support_report</th>\n",
       "      <th>accuracy_report</th>\n",
       "      <th>precision_baseline</th>\n",
       "      <th>recall_baseline</th>\n",
       "      <th>f1-score_baseline</th>\n",
       "      <th>support_baseline</th>\n",
       "      <th>accuracy_baseline</th>\n",
       "      <th>model</th>\n",
       "      <th>extra</th>\n",
       "    </tr>\n",
       "  </thead>\n",
       "  <tbody>\n",
       "    <tr>\n",
       "      <th>Stage</th>\n",
       "      <td>78</td>\n",
       "      <td>22</td>\n",
       "      <td>20</td>\n",
       "      <td>5</td>\n",
       "      <td>21</td>\n",
       "      <td>4</td>\n",
       "      <td>0.809524</td>\n",
       "      <td>0.85</td>\n",
       "      <td>0.829268</td>\n",
       "      <td>20.0</td>\n",
       "      <td>0.72</td>\n",
       "      <td>0.85</td>\n",
       "      <td>0.85</td>\n",
       "      <td>0.85</td>\n",
       "      <td>20.0</td>\n",
       "      <td>0.76</td>\n",
       "      <td>LogisticRegression(C=0.022238791021191934, sol...</td>\n",
       "      <td></td>\n",
       "    </tr>\n",
       "  </tbody>\n",
       "</table>\n",
       "</div>"
      ],
      "text/plain": [
       "       1_y_train  0_y_train  1_y_test  0_y_test  1_y_pred  0_y_pred  \\\n",
       "Stage         78         22        20         5        21         4   \n",
       "\n",
       "       precision_report  recall_report  f1-score_report  support_report  \\\n",
       "Stage          0.809524           0.85         0.829268            20.0   \n",
       "\n",
       "       accuracy_report  precision_baseline  recall_baseline  \\\n",
       "Stage             0.72                0.85             0.85   \n",
       "\n",
       "       f1-score_baseline  support_baseline  accuracy_baseline  \\\n",
       "Stage               0.85              20.0               0.76   \n",
       "\n",
       "                                                   model extra  \n",
       "Stage  LogisticRegression(C=0.022238791021191934, sol...        "
      ]
     },
     "execution_count": 61,
     "metadata": {},
     "output_type": "execute_result"
    }
   ],
   "source": [
    "monitor_stage_fixed = {}\n",
    "\n",
    "model = XGBClassifier(n_estimators=5, max_depth=3, learning_rate=1)\n",
    "\n",
    "X_train, X_test, y_train, y_test = train_test_split(X_stage, y_is_stage_3, test_size=0.3, random_state=42)\n",
    "\n",
    "monitor_stage_fixed[\"Stage\"] = train_and_eval_model(X_train, X_test, y_train, y_test, model)\n",
    "\n",
    "generate_datasets_summerization(monitor_stage)"
   ]
  },
  {
   "cell_type": "code",
   "execution_count": 62,
   "metadata": {},
   "outputs": [
    {
     "data": {
      "image/png": "[encoded data removed]",
      "text/plain": [
       "<Figure size 432x288 with 2 Axes>"
      ]
     },
     "metadata": {
      "needs_background": "light"
     },
     "output_type": "display_data"
    }
   ],
   "source": [
    "y_pred = monitor_stage_fixed[\"Stage\"].y_pred\n",
    "y_test = monitor_stage_fixed[\"Stage\"].y_test\n",
    "cm = confusion_matrix(y_test, y_pred, labels=model.classes_)\n",
    "disp = ConfusionMatrixDisplay(confusion_matrix=cm, display_labels=model.classes_)\n",
    "disp.plot()\n",
    "plt.show()"
   ]
  },
  {
   "cell_type": "code",
   "execution_count": 63,
   "metadata": {},
   "outputs": [],
   "source": [
    "import shap\n",
    "\n",
    "def print_shap_plots(model, X):\n",
    "    try: # tree\n",
    "        explainer = shap.TreeExplainer(model)\n",
    "        # shap_values = explainer(X)\n",
    "        # shap.plots.beeswarm(explanation)\n",
    "        # shap.plots.bar(explanation)\n",
    "    except:\n",
    "        explainer = shap.Explainer(model, X)\n",
    "    shap_values = explainer(X)\n",
    "    shap.plots.beeswarm(shap_values)\n",
    "    shap.plots.bar(shap_values, max_display=8)\n",
    "    return shap_values\n",
    "\n"
   ]
  },
  {
   "cell_type": "code",
   "execution_count": 64,
   "metadata": {},
   "outputs": [
    {
     "name": "stderr",
     "output_type": "stream",
     "text": [
      "/home/labs/amit/noamsh/.conda/envs/sc_clustering_noam/lib/python3.9/site-packages/xgboost/core.py:160: UserWarning:\n",
      "\n",
      "[22:31:49] WARNING: /workspace/src/c_api/c_api.cc:1240: Saving into deprecated binary model format, please consider using `json` or `ubj`. Model format will default to JSON in XGBoost 2.2 if not specified.\n",
      "\n"
     ]
    },
    {
     "data": {
      "image/png": "[encoded data removed]",
      "text/plain": [
       "<Figure size 576x396 with 2 Axes>"
      ]
     },
     "metadata": {
      "needs_background": "light"
     },
     "output_type": "display_data"
    },
    {
     "data": {
      "image/png": "[encoded data removed]",
      "text/plain": [
       "<Figure size 576x396 with 1 Axes>"
      ]
     },
     "metadata": {},
     "output_type": "display_data"
    }
   ],
   "source": [
    "_ = print_shap_plots(monitor_stage_fixed[\"Stage\"].model, X_stage)"
   ]
  },
  {
   "cell_type": "code",
   "execution_count": 65,
   "metadata": {},
   "outputs": [
    {
     "data": {
      "text/plain": [
       "PID\n",
       "HMC17    2.0\n",
       "TLV15    2.0\n",
       "TLV26    1.0\n",
       "TLV59    2.0\n",
       "HMC09    0.0\n",
       "TLV53    2.0\n",
       "Name: Stage, dtype: float64"
      ]
     },
     "execution_count": 65,
     "metadata": {},
     "output_type": "execute_result"
    }
   ],
   "source": [
    "FP = y_test[(y_test==0).values & (y_pred==1).values] \n",
    "y_stage.loc[FP.index]"
   ]
  },
  {
   "cell_type": "markdown",
   "metadata": {},
   "source": [
    "### FINAL EVALUATAION"
   ]
  },
  {
   "cell_type": "code",
   "execution_count": 66,
   "metadata": {},
   "outputs": [],
   "source": [
    "def bootstap_model_metric_distribution(model, X, y, n_samples, metric_name=\"f1-score\"):\n",
    "    baseline_f1_list = []\n",
    "    model_f1_list = []\n",
    "    for i in tqdm(range(n_samples)):\n",
    "        X_train, X_test, y_train, y_test = train_test_split(X_stage, y_is_stage_3, test_size=0.3, random_state=42+i)\n",
    "        exp_data = train_and_eval_model(X_train, X_test, y_train, y_test, model)\n",
    "        model_f1_list.append(exp_data.report[\"1\"][metric_name])\n",
    "        baseline_f1_list.append(exp_data.report[\"baseline\"][\"1\"][metric_name])\n",
    "    return model_f1_list, baseline_f1_list"
   ]
  },
  {
   "cell_type": "code",
   "execution_count": 67,
   "metadata": {},
   "outputs": [],
   "source": [
    "def build_f1_df(model_f1_list, baseline_f1_list, contranst_name, metric_name):\n",
    "    f1_df = pd.DataFrame({\"method\":[\"model\"] * len(model_f1_list) + [\"baseline - random\"] * len(baseline_f1_list),\n",
    "                      metric_name :model_f1_list + baseline_f1_list})\n",
    "    f1_df[\"contrast\"] = contranst_name\n",
    "    return f1_df"
   ]
  },
  {
   "cell_type": "code",
   "execution_count": 68,
   "metadata": {
    "scrolled": true
   },
   "outputs": [
    {
     "name": "stderr",
     "output_type": "stream",
     "text": [
      "100%|██████████| 20/20 [00:00<00:00, 52.53it/s]\n",
      "100%|██████████| 20/20 [00:07<00:00,  2.68it/s]\n",
      "100%|██████████| 20/20 [00:00<00:00, 68.09it/s]\n",
      "100%|██████████| 20/20 [00:00<00:00, 67.38it/s]\n",
      "100%|██████████| 20/20 [00:00<00:00, 58.14it/s]\n",
      " 30%|███       | 6/20 [00:00<00:02,  6.83it/s]/home/labs/amit/noamsh/.conda/envs/sc_clustering_noam/lib/python3.9/site-packages/sklearn/metrics/_classification.py:1248: UndefinedMetricWarning:\n",
      "\n",
      "Precision and F-score are ill-defined and being set to 0.0 in labels with no predicted samples. Use `zero_division` parameter to control this behavior.\n",
      "\n",
      "/home/labs/amit/noamsh/.conda/envs/sc_clustering_noam/lib/python3.9/site-packages/sklearn/metrics/_classification.py:1248: UndefinedMetricWarning:\n",
      "\n",
      "Precision and F-score are ill-defined and being set to 0.0 in labels with no predicted samples. Use `zero_division` parameter to control this behavior.\n",
      "\n",
      "/home/labs/amit/noamsh/.conda/envs/sc_clustering_noam/lib/python3.9/site-packages/sklearn/metrics/_classification.py:1248: UndefinedMetricWarning:\n",
      "\n",
      "Precision and F-score are ill-defined and being set to 0.0 in labels with no predicted samples. Use `zero_division` parameter to control this behavior.\n",
      "\n",
      " 55%|█████▌    | 11/20 [00:01<00:01,  7.31it/s]/home/labs/amit/noamsh/.conda/envs/sc_clustering_noam/lib/python3.9/site-packages/sklearn/metrics/_classification.py:1248: UndefinedMetricWarning:\n",
      "\n",
      "Precision and F-score are ill-defined and being set to 0.0 in labels with no predicted samples. Use `zero_division` parameter to control this behavior.\n",
      "\n",
      "/home/labs/amit/noamsh/.conda/envs/sc_clustering_noam/lib/python3.9/site-packages/sklearn/metrics/_classification.py:1248: UndefinedMetricWarning:\n",
      "\n",
      "Precision and F-score are ill-defined and being set to 0.0 in labels with no predicted samples. Use `zero_division` parameter to control this behavior.\n",
      "\n",
      "/home/labs/amit/noamsh/.conda/envs/sc_clustering_noam/lib/python3.9/site-packages/sklearn/metrics/_classification.py:1248: UndefinedMetricWarning:\n",
      "\n",
      "Precision and F-score are ill-defined and being set to 0.0 in labels with no predicted samples. Use `zero_division` parameter to control this behavior.\n",
      "\n",
      " 90%|█████████ | 18/20 [00:02<00:00,  7.53it/s]/home/labs/amit/noamsh/.conda/envs/sc_clustering_noam/lib/python3.9/site-packages/sklearn/metrics/_classification.py:1248: UndefinedMetricWarning:\n",
      "\n",
      "Precision and F-score are ill-defined and being set to 0.0 in labels with no predicted samples. Use `zero_division` parameter to control this behavior.\n",
      "\n",
      "/home/labs/amit/noamsh/.conda/envs/sc_clustering_noam/lib/python3.9/site-packages/sklearn/metrics/_classification.py:1248: UndefinedMetricWarning:\n",
      "\n",
      "Precision and F-score are ill-defined and being set to 0.0 in labels with no predicted samples. Use `zero_division` parameter to control this behavior.\n",
      "\n",
      "/home/labs/amit/noamsh/.conda/envs/sc_clustering_noam/lib/python3.9/site-packages/sklearn/metrics/_classification.py:1248: UndefinedMetricWarning:\n",
      "\n",
      "Precision and F-score are ill-defined and being set to 0.0 in labels with no predicted samples. Use `zero_division` parameter to control this behavior.\n",
      "\n",
      "100%|██████████| 20/20 [00:02<00:00,  6.98it/s]\n",
      "100%|██████████| 20/20 [00:00<00:00, 55.03it/s]\n",
      " 90%|█████████ | 18/20 [00:04<00:00,  4.21it/s]/home/labs/amit/noamsh/.conda/envs/sc_clustering_noam/lib/python3.9/site-packages/sklearn/metrics/_classification.py:1248: UndefinedMetricWarning:\n",
      "\n",
      "Precision and F-score are ill-defined and being set to 0.0 in labels with no predicted samples. Use `zero_division` parameter to control this behavior.\n",
      "\n",
      "/home/labs/amit/noamsh/.conda/envs/sc_clustering_noam/lib/python3.9/site-packages/sklearn/metrics/_classification.py:1248: UndefinedMetricWarning:\n",
      "\n",
      "Precision and F-score are ill-defined and being set to 0.0 in labels with no predicted samples. Use `zero_division` parameter to control this behavior.\n",
      "\n",
      "/home/labs/amit/noamsh/.conda/envs/sc_clustering_noam/lib/python3.9/site-packages/sklearn/metrics/_classification.py:1248: UndefinedMetricWarning:\n",
      "\n",
      "Precision and F-score are ill-defined and being set to 0.0 in labels with no predicted samples. Use `zero_division` parameter to control this behavior.\n",
      "\n",
      "100%|██████████| 20/20 [00:04<00:00,  4.03it/s]\n",
      "100%|██████████| 20/20 [00:00<00:00, 60.42it/s]\n"
     ]
    }
   ],
   "source": [
    "f1_dfs = []\n",
    "metric_name = \"accuracy\" # recall, precision, f1-score, accuracy\n",
    "n_samples = 20\n",
    "for treatment in good_treatments_data_sets:\n",
    "    # for treatment, exp_data in monitor.items():\n",
    "    exp_data = monitor[treatment]\n",
    "    best_model = exp_data.model\n",
    "    X = pd.concat([exp_data.X_train, exp_data.X_test], axis=0)\n",
    "    y = pd.concat([exp_data.y_train, exp_data.y_test], axis=0)\n",
    "    \n",
    "    model_f1_list, baseline_f1_list = bootstap_model_metric_distribution(best_model, X, y, n_samples=n_samples, metric_name=metric_name)\n",
    "    \n",
    "    f1_dfs.append(build_f1_df(model_f1_list, baseline_f1_list, treatment, metric_name))\n",
    "\n",
    "model_stage = monitor_stage[\"Stage\"].model\n",
    "# model_f1_list, baseline_f1_list = bootstap_model_metric_distribution(XGBClassifier(n_estimators=10, max_depth=3, learning_rate=1),\n",
    "#                                                                  X_stage, y_is_stage_3, n_samples=n_samples, metric_name=metric_name)\n",
    "model_f1_list, baseline_f1_list = bootstap_model_metric_distribution(model_stage,\n",
    "                                                                 X_stage, y_is_stage_3, n_samples=n_samples, metric_name=metric_name)\n",
    "f1_dfs.append(build_f1_df(model_f1_list, baseline_f1_list, \"Stage\", metric_name))\n",
    "f1_df = pd.concat(f1_dfs, axis=0)"
   ]
  },
  {
   "cell_type": "code",
   "execution_count": 1,
   "metadata": {},
   "outputs": [],
   "source": [
    "# list(monitor.keys())"
   ]
  },
  {
   "cell_type": "code",
   "execution_count": 70,
   "metadata": {},
   "outputs": [
    {
     "data": {
      "application/vnd.plotly.v1+json": {
       "config": {
        "plotlyServerURL": "https://plot.ly"
       },
       "data": [
        {
         "alignmentgroup": "True",
         "boxpoints": "all",
         "hovertemplate": "method=model<br>contrast=%{x}<br>accuracy=%{y}<extra></extra>",
         "legendgroup": "model",
         "marker": {
          "color": "#636efa"
         },
         "name": "model",
         "notched": false,
         "offsetgroup": "model",
         "orientation": "v",
         "showlegend": true,
         "type": "box",
         "x": [
          "Bortezomib",
          "Bortezomib",
          "Bortezomib",
          "Bortezomib",
          "Bortezomib",
          "Bortezomib",
          "Bortezomib",
          "Bortezomib",
          "Bortezomib",
          "Bortezomib",
          "Bortezomib",
          "Bortezomib",
          "Bortezomib",
          "Bortezomib",
          "Bortezomib",
          "Bortezomib",
          "Bortezomib",
          "Bortezomib",
          "Bortezomib",
          "Bortezomib",
          "Carfilzomib",
          "Carfilzomib",
          "Carfilzomib",
          "Carfilzomib",
          "Carfilzomib",
          "Carfilzomib",
          "Carfilzomib",
          "Carfilzomib",
          "Carfilzomib",
          "Carfilzomib",
          "Carfilzomib",
          "Carfilzomib",
          "Carfilzomib",
          "Carfilzomib",
          "Carfilzomib",
          "Carfilzomib",
          "Carfilzomib",
          "Carfilzomib",
          "Carfilzomib",
          "Carfilzomib",
          "Lenalidomide",
          "Lenalidomide",
          "Lenalidomide",
          "Lenalidomide",
          "Lenalidomide",
          "Lenalidomide",
          "Lenalidomide",
          "Lenalidomide",
          "Lenalidomide",
          "Lenalidomide",
          "Lenalidomide",
          "Lenalidomide",
          "Lenalidomide",
          "Lenalidomide",
          "Lenalidomide",
          "Lenalidomide",
          "Lenalidomide",
          "Lenalidomide",
          "Lenalidomide",
          "Lenalidomide",
          "Pomalidomide",
          "Pomalidomide",
          "Pomalidomide",
          "Pomalidomide",
          "Pomalidomide",
          "Pomalidomide",
          "Pomalidomide",
          "Pomalidomide",
          "Pomalidomide",
          "Pomalidomide",
          "Pomalidomide",
          "Pomalidomide",
          "Pomalidomide",
          "Pomalidomide",
          "Pomalidomide",
          "Pomalidomide",
          "Pomalidomide",
          "Pomalidomide",
          "Pomalidomide",
          "Pomalidomide",
          "DARA",
          "DARA",
          "DARA",
          "DARA",
          "DARA",
          "DARA",
          "DARA",
          "DARA",
          "DARA",
          "DARA",
          "DARA",
          "DARA",
          "DARA",
          "DARA",
          "DARA",
          "DARA",
          "DARA",
          "DARA",
          "DARA",
          "DARA"
         ],
         "x0": " ",
         "xaxis": "x",
         "y": [
          0.7894736842105263,
          0.7368421052631579,
          0.7631578947368421,
          0.8947368421052632,
          0.8157894736842105,
          0.7894736842105263,
          0.7368421052631579,
          0.7105263157894737,
          0.8421052631578947,
          0.7894736842105263,
          0.8157894736842105,
          0.8157894736842105,
          0.7368421052631579,
          0.8421052631578947,
          0.7368421052631579,
          0.7631578947368421,
          0.7368421052631579,
          0.868421052631579,
          0.8157894736842105,
          0.8157894736842105,
          0.7631578947368421,
          0.7631578947368421,
          0.7105263157894737,
          0.7105263157894737,
          0.8157894736842105,
          0.7631578947368421,
          0.6578947368421053,
          0.6842105263157895,
          0.8157894736842105,
          0.7368421052631579,
          0.7894736842105263,
          0.7368421052631579,
          0.7894736842105263,
          0.8157894736842105,
          0.7631578947368421,
          0.7894736842105263,
          0.8157894736842105,
          0.7368421052631579,
          0.6578947368421053,
          0.7368421052631579,
          0.7631578947368421,
          0.7105263157894737,
          0.6578947368421053,
          0.7631578947368421,
          0.7894736842105263,
          0.7368421052631579,
          0.631578947368421,
          0.7368421052631579,
          0.8421052631578947,
          0.7631578947368421,
          0.8157894736842105,
          0.7105263157894737,
          0.6842105263157895,
          0.8157894736842105,
          0.6842105263157895,
          0.5526315789473685,
          0.7105263157894737,
          0.8421052631578947,
          0.7368421052631579,
          0.7894736842105263,
          0.6842105263157895,
          0.6578947368421053,
          0.6578947368421053,
          0.7368421052631579,
          0.7631578947368421,
          0.7105263157894737,
          0.6052631578947368,
          0.7631578947368421,
          0.8157894736842105,
          0.7631578947368421,
          0.8157894736842105,
          0.7105263157894737,
          0.631578947368421,
          0.8157894736842105,
          0.7105263157894737,
          0.5263157894736842,
          0.6842105263157895,
          0.8157894736842105,
          0.7105263157894737,
          0.8421052631578947,
          0.7894736842105263,
          0.7631578947368421,
          0.7631578947368421,
          0.8947368421052632,
          0.8421052631578947,
          0.7894736842105263,
          0.7368421052631579,
          0.7631578947368421,
          0.8421052631578947,
          0.7894736842105263,
          0.8421052631578947,
          0.8157894736842105,
          0.7368421052631579,
          0.8421052631578947,
          0.7368421052631579,
          0.7631578947368421,
          0.7368421052631579,
          0.868421052631579,
          0.7894736842105263,
          0.7894736842105263
         ],
         "y0": " ",
         "yaxis": "y"
        },
        {
         "alignmentgroup": "True",
         "boxpoints": "all",
         "hovertemplate": "method=baseline - random<br>contrast=%{x}<br>accuracy=%{y}<extra></extra>",
         "legendgroup": "baseline - random",
         "marker": {
          "color": "#EF553B"
         },
         "name": "baseline - random",
         "notched": false,
         "offsetgroup": "baseline - random",
         "orientation": "v",
         "showlegend": true,
         "type": "box",
         "x": [
          "Bortezomib",
          "Bortezomib",
          "Bortezomib",
          "Bortezomib",
          "Bortezomib",
          "Bortezomib",
          "Bortezomib",
          "Bortezomib",
          "Bortezomib",
          "Bortezomib",
          "Bortezomib",
          "Bortezomib",
          "Bortezomib",
          "Bortezomib",
          "Bortezomib",
          "Bortezomib",
          "Bortezomib",
          "Bortezomib",
          "Bortezomib",
          "Bortezomib",
          "Carfilzomib",
          "Carfilzomib",
          "Carfilzomib",
          "Carfilzomib",
          "Carfilzomib",
          "Carfilzomib",
          "Carfilzomib",
          "Carfilzomib",
          "Carfilzomib",
          "Carfilzomib",
          "Carfilzomib",
          "Carfilzomib",
          "Carfilzomib",
          "Carfilzomib",
          "Carfilzomib",
          "Carfilzomib",
          "Carfilzomib",
          "Carfilzomib",
          "Carfilzomib",
          "Carfilzomib",
          "Lenalidomide",
          "Lenalidomide",
          "Lenalidomide",
          "Lenalidomide",
          "Lenalidomide",
          "Lenalidomide",
          "Lenalidomide",
          "Lenalidomide",
          "Lenalidomide",
          "Lenalidomide",
          "Lenalidomide",
          "Lenalidomide",
          "Lenalidomide",
          "Lenalidomide",
          "Lenalidomide",
          "Lenalidomide",
          "Lenalidomide",
          "Lenalidomide",
          "Lenalidomide",
          "Lenalidomide",
          "Pomalidomide",
          "Pomalidomide",
          "Pomalidomide",
          "Pomalidomide",
          "Pomalidomide",
          "Pomalidomide",
          "Pomalidomide",
          "Pomalidomide",
          "Pomalidomide",
          "Pomalidomide",
          "Pomalidomide",
          "Pomalidomide",
          "Pomalidomide",
          "Pomalidomide",
          "Pomalidomide",
          "Pomalidomide",
          "Pomalidomide",
          "Pomalidomide",
          "Pomalidomide",
          "Pomalidomide",
          "DARA",
          "DARA",
          "DARA",
          "DARA",
          "DARA",
          "DARA",
          "DARA",
          "DARA",
          "DARA",
          "DARA",
          "DARA",
          "DARA",
          "DARA",
          "DARA",
          "DARA",
          "DARA",
          "DARA",
          "DARA",
          "DARA",
          "DARA"
         ],
         "x0": " ",
         "xaxis": "x",
         "y": [
          0.6578947368421053,
          0.631578947368421,
          0.6578947368421053,
          0.8157894736842105,
          0.7631578947368421,
          0.5263157894736842,
          0.6052631578947368,
          0.7894736842105263,
          0.6842105263157895,
          0.7105263157894737,
          0.8157894736842105,
          0.6842105263157895,
          0.631578947368421,
          0.7105263157894737,
          0.7105263157894737,
          0.631578947368421,
          0.7368421052631579,
          0.631578947368421,
          0.5526315789473685,
          0.6842105263157895,
          0.631578947368421,
          0.631578947368421,
          0.8421052631578947,
          0.6052631578947368,
          0.631578947368421,
          0.5263157894736842,
          0.6578947368421053,
          0.5789473684210527,
          0.631578947368421,
          0.6842105263157895,
          0.6052631578947368,
          0.6842105263157895,
          0.631578947368421,
          0.631578947368421,
          0.5789473684210527,
          0.6842105263157895,
          0.7631578947368421,
          0.5263157894736842,
          0.5789473684210527,
          0.7631578947368421,
          0.6578947368421053,
          0.6052631578947368,
          0.6578947368421053,
          0.5789473684210527,
          0.631578947368421,
          0.6842105263157895,
          0.6578947368421053,
          0.6578947368421053,
          0.6052631578947368,
          0.631578947368421,
          0.6842105263157895,
          0.7105263157894737,
          0.5526315789473685,
          0.8157894736842105,
          0.5526315789473685,
          0.6842105263157895,
          0.5789473684210527,
          0.5,
          0.5526315789473685,
          0.7368421052631579,
          0.6842105263157895,
          0.7631578947368421,
          0.6842105263157895,
          0.631578947368421,
          0.631578947368421,
          0.6578947368421053,
          0.631578947368421,
          0.6052631578947368,
          0.7894736842105263,
          0.631578947368421,
          0.6052631578947368,
          0.6052631578947368,
          0.6578947368421053,
          0.7105263157894737,
          0.5789473684210527,
          0.7368421052631579,
          0.6052631578947368,
          0.6842105263157895,
          0.6052631578947368,
          0.631578947368421,
          0.7631578947368421,
          0.7894736842105263,
          0.5526315789473685,
          0.6842105263157895,
          0.7105263157894737,
          0.6052631578947368,
          0.5526315789473685,
          0.5,
          0.7894736842105263,
          0.7368421052631579,
          0.6842105263157895,
          0.6052631578947368,
          0.5,
          0.6052631578947368,
          0.6578947368421053,
          0.631578947368421,
          0.7105263157894737,
          0.6052631578947368,
          0.5526315789473685,
          0.5789473684210527
         ],
         "y0": " ",
         "yaxis": "y"
        }
       ],
       "layout": {
        "boxmode": "group",
        "height": 600,
        "legend": {
         "title": {
          "text": "method"
         },
         "tracegroupgap": 0
        },
        "paper_bgcolor": "rgba(0, 0, 0, 0)",
        "plot_bgcolor": "rgba(0, 0, 0, 0)",
        "template": {
         "data": {
          "bar": [
           {
            "error_x": {
             "color": "#2a3f5f"
            },
            "error_y": {
             "color": "#2a3f5f"
            },
            "marker": {
             "line": {
              "color": "#E5ECF6",
              "width": 0.5
             },
             "pattern": {
              "fillmode": "overlay",
              "size": 10,
              "solidity": 0.2
             }
            },
            "type": "bar"
           }
          ],
          "barpolar": [
           {
            "marker": {
             "line": {
              "color": "#E5ECF6",
              "width": 0.5
             },
             "pattern": {
              "fillmode": "overlay",
              "size": 10,
              "solidity": 0.2
             }
            },
            "type": "barpolar"
           }
          ],
          "carpet": [
           {
            "aaxis": {
             "endlinecolor": "#2a3f5f",
             "gridcolor": "white",
             "linecolor": "white",
             "minorgridcolor": "white",
             "startlinecolor": "#2a3f5f"
            },
            "baxis": {
             "endlinecolor": "#2a3f5f",
             "gridcolor": "white",
             "linecolor": "white",
             "minorgridcolor": "white",
             "startlinecolor": "#2a3f5f"
            },
            "type": "carpet"
           }
          ],
          "choropleth": [
           {
            "colorbar": {
             "outlinewidth": 0,
             "ticks": ""
            },
            "type": "choropleth"
           }
          ],
          "contour": [
           {
            "colorbar": {
             "outlinewidth": 0,
             "ticks": ""
            },
            "colorscale": [
             [
              0,
              "#0d0887"
             ],
             [
              0.1111111111111111,
              "#46039f"
             ],
             [
              0.2222222222222222,
              "#7201a8"
             ],
             [
              0.3333333333333333,
              "#9c179e"
             ],
             [
              0.4444444444444444,
              "#bd3786"
             ],
             [
              0.5555555555555556,
              "#d8576b"
             ],
             [
              0.6666666666666666,
              "#ed7953"
             ],
             [
              0.7777777777777778,
              "#fb9f3a"
             ],
             [
              0.8888888888888888,
              "#fdca26"
             ],
             [
              1,
              "#f0f921"
             ]
            ],
            "type": "contour"
           }
          ],
          "contourcarpet": [
           {
            "colorbar": {
             "outlinewidth": 0,
             "ticks": ""
            },
            "type": "contourcarpet"
           }
          ],
          "heatmap": [
           {
            "colorbar": {
             "outlinewidth": 0,
             "ticks": ""
            },
            "colorscale": [
             [
              0,
              "#0d0887"
             ],
             [
              0.1111111111111111,
              "#46039f"
             ],
             [
              0.2222222222222222,
              "#7201a8"
             ],
             [
              0.3333333333333333,
              "#9c179e"
             ],
             [
              0.4444444444444444,
              "#bd3786"
             ],
             [
              0.5555555555555556,
              "#d8576b"
             ],
             [
              0.6666666666666666,
              "#ed7953"
             ],
             [
              0.7777777777777778,
              "#fb9f3a"
             ],
             [
              0.8888888888888888,
              "#fdca26"
             ],
             [
              1,
              "#f0f921"
             ]
            ],
            "type": "heatmap"
           }
          ],
          "heatmapgl": [
           {
            "colorbar": {
             "outlinewidth": 0,
             "ticks": ""
            },
            "colorscale": [
             [
              0,
              "#0d0887"
             ],
             [
              0.1111111111111111,
              "#46039f"
             ],
             [
              0.2222222222222222,
              "#7201a8"
             ],
             [
              0.3333333333333333,
              "#9c179e"
             ],
             [
              0.4444444444444444,
              "#bd3786"
             ],
             [
              0.5555555555555556,
              "#d8576b"
             ],
             [
              0.6666666666666666,
              "#ed7953"
             ],
             [
              0.7777777777777778,
              "#fb9f3a"
             ],
             [
              0.8888888888888888,
              "#fdca26"
             ],
             [
              1,
              "#f0f921"
             ]
            ],
            "type": "heatmapgl"
           }
          ],
          "histogram": [
           {
            "marker": {
             "pattern": {
              "fillmode": "overlay",
              "size": 10,
              "solidity": 0.2
             }
            },
            "type": "histogram"
           }
          ],
          "histogram2d": [
           {
            "colorbar": {
             "outlinewidth": 0,
             "ticks": ""
            },
            "colorscale": [
             [
              0,
              "#0d0887"
             ],
             [
              0.1111111111111111,
              "#46039f"
             ],
             [
              0.2222222222222222,
              "#7201a8"
             ],
             [
              0.3333333333333333,
              "#9c179e"
             ],
             [
              0.4444444444444444,
              "#bd3786"
             ],
             [
              0.5555555555555556,
              "#d8576b"
             ],
             [
              0.6666666666666666,
              "#ed7953"
             ],
             [
              0.7777777777777778,
              "#fb9f3a"
             ],
             [
              0.8888888888888888,
              "#fdca26"
             ],
             [
              1,
              "#f0f921"
             ]
            ],
            "type": "histogram2d"
           }
          ],
          "histogram2dcontour": [
           {
            "colorbar": {
             "outlinewidth": 0,
             "ticks": ""
            },
            "colorscale": [
             [
              0,
              "#0d0887"
             ],
             [
              0.1111111111111111,
              "#46039f"
             ],
             [
              0.2222222222222222,
              "#7201a8"
             ],
             [
              0.3333333333333333,
              "#9c179e"
             ],
             [
              0.4444444444444444,
              "#bd3786"
             ],
             [
              0.5555555555555556,
              "#d8576b"
             ],
             [
              0.6666666666666666,
              "#ed7953"
             ],
             [
              0.7777777777777778,
              "#fb9f3a"
             ],
             [
              0.8888888888888888,
              "#fdca26"
             ],
             [
              1,
              "#f0f921"
             ]
            ],
            "type": "histogram2dcontour"
           }
          ],
          "mesh3d": [
           {
            "colorbar": {
             "outlinewidth": 0,
             "ticks": ""
            },
            "type": "mesh3d"
           }
          ],
          "parcoords": [
           {
            "line": {
             "colorbar": {
              "outlinewidth": 0,
              "ticks": ""
             }
            },
            "type": "parcoords"
           }
          ],
          "pie": [
           {
            "automargin": true,
            "type": "pie"
           }
          ],
          "scatter": [
           {
            "marker": {
             "colorbar": {
              "outlinewidth": 0,
              "ticks": ""
             }
            },
            "type": "scatter"
           }
          ],
          "scatter3d": [
           {
            "line": {
             "colorbar": {
              "outlinewidth": 0,
              "ticks": ""
             }
            },
            "marker": {
             "colorbar": {
              "outlinewidth": 0,
              "ticks": ""
             }
            },
            "type": "scatter3d"
           }
          ],
          "scattercarpet": [
           {
            "marker": {
             "colorbar": {
              "outlinewidth": 0,
              "ticks": ""
             }
            },
            "type": "scattercarpet"
           }
          ],
          "scattergeo": [
           {
            "marker": {
             "colorbar": {
              "outlinewidth": 0,
              "ticks": ""
             }
            },
            "type": "scattergeo"
           }
          ],
          "scattergl": [
           {
            "marker": {
             "colorbar": {
              "outlinewidth": 0,
              "ticks": ""
             }
            },
            "type": "scattergl"
           }
          ],
          "scattermapbox": [
           {
            "marker": {
             "colorbar": {
              "outlinewidth": 0,
              "ticks": ""
             }
            },
            "type": "scattermapbox"
           }
          ],
          "scatterpolar": [
           {
            "marker": {
             "colorbar": {
              "outlinewidth": 0,
              "ticks": ""
             }
            },
            "type": "scatterpolar"
           }
          ],
          "scatterpolargl": [
           {
            "marker": {
             "colorbar": {
              "outlinewidth": 0,
              "ticks": ""
             }
            },
            "type": "scatterpolargl"
           }
          ],
          "scatterternary": [
           {
            "marker": {
             "colorbar": {
              "outlinewidth": 0,
              "ticks": ""
             }
            },
            "type": "scatterternary"
           }
          ],
          "surface": [
           {
            "colorbar": {
             "outlinewidth": 0,
             "ticks": ""
            },
            "colorscale": [
             [
              0,
              "#0d0887"
             ],
             [
              0.1111111111111111,
              "#46039f"
             ],
             [
              0.2222222222222222,
              "#7201a8"
             ],
             [
              0.3333333333333333,
              "#9c179e"
             ],
             [
              0.4444444444444444,
              "#bd3786"
             ],
             [
              0.5555555555555556,
              "#d8576b"
             ],
             [
              0.6666666666666666,
              "#ed7953"
             ],
             [
              0.7777777777777778,
              "#fb9f3a"
             ],
             [
              0.8888888888888888,
              "#fdca26"
             ],
             [
              1,
              "#f0f921"
             ]
            ],
            "type": "surface"
           }
          ],
          "table": [
           {
            "cells": {
             "fill": {
              "color": "#EBF0F8"
             },
             "line": {
              "color": "white"
             }
            },
            "header": {
             "fill": {
              "color": "#C8D4E3"
             },
             "line": {
              "color": "white"
             }
            },
            "type": "table"
           }
          ]
         },
         "layout": {
          "annotationdefaults": {
           "arrowcolor": "#2a3f5f",
           "arrowhead": 0,
           "arrowwidth": 1
          },
          "autotypenumbers": "strict",
          "coloraxis": {
           "colorbar": {
            "outlinewidth": 0,
            "ticks": ""
           }
          },
          "colorscale": {
           "diverging": [
            [
             0,
             "#8e0152"
            ],
            [
             0.1,
             "#c51b7d"
            ],
            [
             0.2,
             "#de77ae"
            ],
            [
             0.3,
             "#f1b6da"
            ],
            [
             0.4,
             "#fde0ef"
            ],
            [
             0.5,
             "#f7f7f7"
            ],
            [
             0.6,
             "#e6f5d0"
            ],
            [
             0.7,
             "#b8e186"
            ],
            [
             0.8,
             "#7fbc41"
            ],
            [
             0.9,
             "#4d9221"
            ],
            [
             1,
             "#276419"
            ]
           ],
           "sequential": [
            [
             0,
             "#0d0887"
            ],
            [
             0.1111111111111111,
             "#46039f"
            ],
            [
             0.2222222222222222,
             "#7201a8"
            ],
            [
             0.3333333333333333,
             "#9c179e"
            ],
            [
             0.4444444444444444,
             "#bd3786"
            ],
            [
             0.5555555555555556,
             "#d8576b"
            ],
            [
             0.6666666666666666,
             "#ed7953"
            ],
            [
             0.7777777777777778,
             "#fb9f3a"
            ],
            [
             0.8888888888888888,
             "#fdca26"
            ],
            [
             1,
             "#f0f921"
            ]
           ],
           "sequentialminus": [
            [
             0,
             "#0d0887"
            ],
            [
             0.1111111111111111,
             "#46039f"
            ],
            [
             0.2222222222222222,
             "#7201a8"
            ],
            [
             0.3333333333333333,
             "#9c179e"
            ],
            [
             0.4444444444444444,
             "#bd3786"
            ],
            [
             0.5555555555555556,
             "#d8576b"
            ],
            [
             0.6666666666666666,
             "#ed7953"
            ],
            [
             0.7777777777777778,
             "#fb9f3a"
            ],
            [
             0.8888888888888888,
             "#fdca26"
            ],
            [
             1,
             "#f0f921"
            ]
           ]
          },
          "colorway": [
           "#636efa",
           "#EF553B",
           "#00cc96",
           "#ab63fa",
           "#FFA15A",
           "#19d3f3",
           "#FF6692",
           "#B6E880",
           "#FF97FF",
           "#FECB52"
          ],
          "font": {
           "color": "#2a3f5f"
          },
          "geo": {
           "bgcolor": "white",
           "lakecolor": "white",
           "landcolor": "#E5ECF6",
           "showlakes": true,
           "showland": true,
           "subunitcolor": "white"
          },
          "hoverlabel": {
           "align": "left"
          },
          "hovermode": "closest",
          "mapbox": {
           "style": "light"
          },
          "paper_bgcolor": "white",
          "plot_bgcolor": "#E5ECF6",
          "polar": {
           "angularaxis": {
            "gridcolor": "white",
            "linecolor": "white",
            "ticks": ""
           },
           "bgcolor": "#E5ECF6",
           "radialaxis": {
            "gridcolor": "white",
            "linecolor": "white",
            "ticks": ""
           }
          },
          "scene": {
           "xaxis": {
            "backgroundcolor": "#E5ECF6",
            "gridcolor": "white",
            "gridwidth": 2,
            "linecolor": "white",
            "showbackground": true,
            "ticks": "",
            "zerolinecolor": "white"
           },
           "yaxis": {
            "backgroundcolor": "#E5ECF6",
            "gridcolor": "white",
            "gridwidth": 2,
            "linecolor": "white",
            "showbackground": true,
            "ticks": "",
            "zerolinecolor": "white"
           },
           "zaxis": {
            "backgroundcolor": "#E5ECF6",
            "gridcolor": "white",
            "gridwidth": 2,
            "linecolor": "white",
            "showbackground": true,
            "ticks": "",
            "zerolinecolor": "white"
           }
          },
          "shapedefaults": {
           "line": {
            "color": "#2a3f5f"
           }
          },
          "ternary": {
           "aaxis": {
            "gridcolor": "white",
            "linecolor": "white",
            "ticks": ""
           },
           "baxis": {
            "gridcolor": "white",
            "linecolor": "white",
            "ticks": ""
           },
           "bgcolor": "#E5ECF6",
           "caxis": {
            "gridcolor": "white",
            "linecolor": "white",
            "ticks": ""
           }
          },
          "title": {
           "x": 0.05
          },
          "xaxis": {
           "automargin": true,
           "gridcolor": "white",
           "linecolor": "white",
           "ticks": "",
           "title": {
            "standoff": 15
           },
           "zerolinecolor": "white",
           "zerolinewidth": 2
          },
          "yaxis": {
           "automargin": true,
           "gridcolor": "white",
           "linecolor": "white",
           "ticks": "",
           "title": {
            "standoff": 15
           },
           "zerolinecolor": "white",
           "zerolinewidth": 2
          }
         }
        },
        "title": {
         "text": "method sensetivity"
        },
        "width": 800,
        "xaxis": {
         "anchor": "y",
         "autorange": true,
         "domain": [
          0,
          1
         ],
         "range": [
          -0.8481413985148515,
          4.781481126237624
         ],
         "title": {
          "text": "contrast"
         },
         "type": "category"
        },
        "yaxis": {
         "anchor": "x",
         "domain": [
          0,
          1
         ],
         "range": [
          0.45,
          0.95
         ],
         "title": {
          "text": "accuracy"
         },
         "type": "linear"
        }
       }
      },
      "text/html": [
       "<div>                            <div id=\"28f53660-e743-4f14-8e60-28024f368c19\" class=\"plotly-graph-div\" style=\"height:600px; width:800px;\"></div>            <script type=\"text/javascript\">                require([\"plotly\"], function(Plotly) {                    window.PLOTLYENV=window.PLOTLYENV || {};                                    if (document.getElementById(\"28f53660-e743-4f14-8e60-28024f368c19\")) {                    Plotly.newPlot(                        \"28f53660-e743-4f14-8e60-28024f368c19\",                        [{\"alignmentgroup\":\"True\",\"boxpoints\":\"all\",\"hovertemplate\":\"method=model<br>contrast=%{x}<br>accuracy=%{y}<extra></extra>\",\"legendgroup\":\"model\",\"marker\":{\"color\":\"#636efa\"},\"name\":\"model\",\"notched\":false,\"offsetgroup\":\"model\",\"orientation\":\"v\",\"showlegend\":true,\"type\":\"box\",\"x\":[\"Bortezomib\",\"Bortezomib\",\"Bortezomib\",\"Bortezomib\",\"Bortezomib\",\"Bortezomib\",\"Bortezomib\",\"Bortezomib\",\"Bortezomib\",\"Bortezomib\",\"Bortezomib\",\"Bortezomib\",\"Bortezomib\",\"Bortezomib\",\"Bortezomib\",\"Bortezomib\",\"Bortezomib\",\"Bortezomib\",\"Bortezomib\",\"Bortezomib\",\"Carfilzomib\",\"Carfilzomib\",\"Carfilzomib\",\"Carfilzomib\",\"Carfilzomib\",\"Carfilzomib\",\"Carfilzomib\",\"Carfilzomib\",\"Carfilzomib\",\"Carfilzomib\",\"Carfilzomib\",\"Carfilzomib\",\"Carfilzomib\",\"Carfilzomib\",\"Carfilzomib\",\"Carfilzomib\",\"Carfilzomib\",\"Carfilzomib\",\"Carfilzomib\",\"Carfilzomib\",\"Lenalidomide\",\"Lenalidomide\",\"Lenalidomide\",\"Lenalidomide\",\"Lenalidomide\",\"Lenalidomide\",\"Lenalidomide\",\"Lenalidomide\",\"Lenalidomide\",\"Lenalidomide\",\"Lenalidomide\",\"Lenalidomide\",\"Lenalidomide\",\"Lenalidomide\",\"Lenalidomide\",\"Lenalidomide\",\"Lenalidomide\",\"Lenalidomide\",\"Lenalidomide\",\"Lenalidomide\",\"Pomalidomide\",\"Pomalidomide\",\"Pomalidomide\",\"Pomalidomide\",\"Pomalidomide\",\"Pomalidomide\",\"Pomalidomide\",\"Pomalidomide\",\"Pomalidomide\",\"Pomalidomide\",\"Pomalidomide\",\"Pomalidomide\",\"Pomalidomide\",\"Pomalidomide\",\"Pomalidomide\",\"Pomalidomide\",\"Pomalidomide\",\"Pomalidomide\",\"Pomalidomide\",\"Pomalidomide\",\"DARA\",\"DARA\",\"DARA\",\"DARA\",\"DARA\",\"DARA\",\"DARA\",\"DARA\",\"DARA\",\"DARA\",\"DARA\",\"DARA\",\"DARA\",\"DARA\",\"DARA\",\"DARA\",\"DARA\",\"DARA\",\"DARA\",\"DARA\"],\"x0\":\" \",\"xaxis\":\"x\",\"y\":[0.7894736842105263,0.7368421052631579,0.7631578947368421,0.8947368421052632,0.8157894736842105,0.7894736842105263,0.7368421052631579,0.7105263157894737,0.8421052631578947,0.7894736842105263,0.8157894736842105,0.8157894736842105,0.7368421052631579,0.8421052631578947,0.7368421052631579,0.7631578947368421,0.7368421052631579,0.868421052631579,0.8157894736842105,0.8157894736842105,0.7631578947368421,0.7631578947368421,0.7105263157894737,0.7105263157894737,0.8157894736842105,0.7631578947368421,0.6578947368421053,0.6842105263157895,0.8157894736842105,0.7368421052631579,0.7894736842105263,0.7368421052631579,0.7894736842105263,0.8157894736842105,0.7631578947368421,0.7894736842105263,0.8157894736842105,0.7368421052631579,0.6578947368421053,0.7368421052631579,0.7631578947368421,0.7105263157894737,0.6578947368421053,0.7631578947368421,0.7894736842105263,0.7368421052631579,0.631578947368421,0.7368421052631579,0.8421052631578947,0.7631578947368421,0.8157894736842105,0.7105263157894737,0.6842105263157895,0.8157894736842105,0.6842105263157895,0.5526315789473685,0.7105263157894737,0.8421052631578947,0.7368421052631579,0.7894736842105263,0.6842105263157895,0.6578947368421053,0.6578947368421053,0.7368421052631579,0.7631578947368421,0.7105263157894737,0.6052631578947368,0.7631578947368421,0.8157894736842105,0.7631578947368421,0.8157894736842105,0.7105263157894737,0.631578947368421,0.8157894736842105,0.7105263157894737,0.5263157894736842,0.6842105263157895,0.8157894736842105,0.7105263157894737,0.8421052631578947,0.7894736842105263,0.7631578947368421,0.7631578947368421,0.8947368421052632,0.8421052631578947,0.7894736842105263,0.7368421052631579,0.7631578947368421,0.8421052631578947,0.7894736842105263,0.8421052631578947,0.8157894736842105,0.7368421052631579,0.8421052631578947,0.7368421052631579,0.7631578947368421,0.7368421052631579,0.868421052631579,0.7894736842105263,0.7894736842105263],\"y0\":\" \",\"yaxis\":\"y\"},{\"alignmentgroup\":\"True\",\"boxpoints\":\"all\",\"hovertemplate\":\"method=baseline - random<br>contrast=%{x}<br>accuracy=%{y}<extra></extra>\",\"legendgroup\":\"baseline - random\",\"marker\":{\"color\":\"#EF553B\"},\"name\":\"baseline - random\",\"notched\":false,\"offsetgroup\":\"baseline - random\",\"orientation\":\"v\",\"showlegend\":true,\"type\":\"box\",\"x\":[\"Bortezomib\",\"Bortezomib\",\"Bortezomib\",\"Bortezomib\",\"Bortezomib\",\"Bortezomib\",\"Bortezomib\",\"Bortezomib\",\"Bortezomib\",\"Bortezomib\",\"Bortezomib\",\"Bortezomib\",\"Bortezomib\",\"Bortezomib\",\"Bortezomib\",\"Bortezomib\",\"Bortezomib\",\"Bortezomib\",\"Bortezomib\",\"Bortezomib\",\"Carfilzomib\",\"Carfilzomib\",\"Carfilzomib\",\"Carfilzomib\",\"Carfilzomib\",\"Carfilzomib\",\"Carfilzomib\",\"Carfilzomib\",\"Carfilzomib\",\"Carfilzomib\",\"Carfilzomib\",\"Carfilzomib\",\"Carfilzomib\",\"Carfilzomib\",\"Carfilzomib\",\"Carfilzomib\",\"Carfilzomib\",\"Carfilzomib\",\"Carfilzomib\",\"Carfilzomib\",\"Lenalidomide\",\"Lenalidomide\",\"Lenalidomide\",\"Lenalidomide\",\"Lenalidomide\",\"Lenalidomide\",\"Lenalidomide\",\"Lenalidomide\",\"Lenalidomide\",\"Lenalidomide\",\"Lenalidomide\",\"Lenalidomide\",\"Lenalidomide\",\"Lenalidomide\",\"Lenalidomide\",\"Lenalidomide\",\"Lenalidomide\",\"Lenalidomide\",\"Lenalidomide\",\"Lenalidomide\",\"Pomalidomide\",\"Pomalidomide\",\"Pomalidomide\",\"Pomalidomide\",\"Pomalidomide\",\"Pomalidomide\",\"Pomalidomide\",\"Pomalidomide\",\"Pomalidomide\",\"Pomalidomide\",\"Pomalidomide\",\"Pomalidomide\",\"Pomalidomide\",\"Pomalidomide\",\"Pomalidomide\",\"Pomalidomide\",\"Pomalidomide\",\"Pomalidomide\",\"Pomalidomide\",\"Pomalidomide\",\"DARA\",\"DARA\",\"DARA\",\"DARA\",\"DARA\",\"DARA\",\"DARA\",\"DARA\",\"DARA\",\"DARA\",\"DARA\",\"DARA\",\"DARA\",\"DARA\",\"DARA\",\"DARA\",\"DARA\",\"DARA\",\"DARA\",\"DARA\"],\"x0\":\" \",\"xaxis\":\"x\",\"y\":[0.6578947368421053,0.631578947368421,0.6578947368421053,0.8157894736842105,0.7631578947368421,0.5263157894736842,0.6052631578947368,0.7894736842105263,0.6842105263157895,0.7105263157894737,0.8157894736842105,0.6842105263157895,0.631578947368421,0.7105263157894737,0.7105263157894737,0.631578947368421,0.7368421052631579,0.631578947368421,0.5526315789473685,0.6842105263157895,0.631578947368421,0.631578947368421,0.8421052631578947,0.6052631578947368,0.631578947368421,0.5263157894736842,0.6578947368421053,0.5789473684210527,0.631578947368421,0.6842105263157895,0.6052631578947368,0.6842105263157895,0.631578947368421,0.631578947368421,0.5789473684210527,0.6842105263157895,0.7631578947368421,0.5263157894736842,0.5789473684210527,0.7631578947368421,0.6578947368421053,0.6052631578947368,0.6578947368421053,0.5789473684210527,0.631578947368421,0.6842105263157895,0.6578947368421053,0.6578947368421053,0.6052631578947368,0.631578947368421,0.6842105263157895,0.7105263157894737,0.5526315789473685,0.8157894736842105,0.5526315789473685,0.6842105263157895,0.5789473684210527,0.5,0.5526315789473685,0.7368421052631579,0.6842105263157895,0.7631578947368421,0.6842105263157895,0.631578947368421,0.631578947368421,0.6578947368421053,0.631578947368421,0.6052631578947368,0.7894736842105263,0.631578947368421,0.6052631578947368,0.6052631578947368,0.6578947368421053,0.7105263157894737,0.5789473684210527,0.7368421052631579,0.6052631578947368,0.6842105263157895,0.6052631578947368,0.631578947368421,0.7631578947368421,0.7894736842105263,0.5526315789473685,0.6842105263157895,0.7105263157894737,0.6052631578947368,0.5526315789473685,0.5,0.7894736842105263,0.7368421052631579,0.6842105263157895,0.6052631578947368,0.5,0.6052631578947368,0.6578947368421053,0.631578947368421,0.7105263157894737,0.6052631578947368,0.5526315789473685,0.5789473684210527],\"y0\":\" \",\"yaxis\":\"y\"}],                        {\"boxmode\":\"group\",\"height\":600,\"legend\":{\"title\":{\"text\":\"method\"},\"tracegroupgap\":0},\"paper_bgcolor\":\"rgba(0, 0, 0, 0)\",\"plot_bgcolor\":\"rgba(0, 0, 0, 0)\",\"template\":{\"data\":{\"bar\":[{\"error_x\":{\"color\":\"#2a3f5f\"},\"error_y\":{\"color\":\"#2a3f5f\"},\"marker\":{\"line\":{\"color\":\"#E5ECF6\",\"width\":0.5},\"pattern\":{\"fillmode\":\"overlay\",\"size\":10,\"solidity\":0.2}},\"type\":\"bar\"}],\"barpolar\":[{\"marker\":{\"line\":{\"color\":\"#E5ECF6\",\"width\":0.5},\"pattern\":{\"fillmode\":\"overlay\",\"size\":10,\"solidity\":0.2}},\"type\":\"barpolar\"}],\"carpet\":[{\"aaxis\":{\"endlinecolor\":\"#2a3f5f\",\"gridcolor\":\"white\",\"linecolor\":\"white\",\"minorgridcolor\":\"white\",\"startlinecolor\":\"#2a3f5f\"},\"baxis\":{\"endlinecolor\":\"#2a3f5f\",\"gridcolor\":\"white\",\"linecolor\":\"white\",\"minorgridcolor\":\"white\",\"startlinecolor\":\"#2a3f5f\"},\"type\":\"carpet\"}],\"choropleth\":[{\"colorbar\":{\"outlinewidth\":0,\"ticks\":\"\"},\"type\":\"choropleth\"}],\"contour\":[{\"colorbar\":{\"outlinewidth\":0,\"ticks\":\"\"},\"colorscale\":[[0.0,\"#0d0887\"],[0.1111111111111111,\"#46039f\"],[0.2222222222222222,\"#7201a8\"],[0.3333333333333333,\"#9c179e\"],[0.4444444444444444,\"#bd3786\"],[0.5555555555555556,\"#d8576b\"],[0.6666666666666666,\"#ed7953\"],[0.7777777777777778,\"#fb9f3a\"],[0.8888888888888888,\"#fdca26\"],[1.0,\"#f0f921\"]],\"type\":\"contour\"}],\"contourcarpet\":[{\"colorbar\":{\"outlinewidth\":0,\"ticks\":\"\"},\"type\":\"contourcarpet\"}],\"heatmap\":[{\"colorbar\":{\"outlinewidth\":0,\"ticks\":\"\"},\"colorscale\":[[0.0,\"#0d0887\"],[0.1111111111111111,\"#46039f\"],[0.2222222222222222,\"#7201a8\"],[0.3333333333333333,\"#9c179e\"],[0.4444444444444444,\"#bd3786\"],[0.5555555555555556,\"#d8576b\"],[0.6666666666666666,\"#ed7953\"],[0.7777777777777778,\"#fb9f3a\"],[0.8888888888888888,\"#fdca26\"],[1.0,\"#f0f921\"]],\"type\":\"heatmap\"}],\"heatmapgl\":[{\"colorbar\":{\"outlinewidth\":0,\"ticks\":\"\"},\"colorscale\":[[0.0,\"#0d0887\"],[0.1111111111111111,\"#46039f\"],[0.2222222222222222,\"#7201a8\"],[0.3333333333333333,\"#9c179e\"],[0.4444444444444444,\"#bd3786\"],[0.5555555555555556,\"#d8576b\"],[0.6666666666666666,\"#ed7953\"],[0.7777777777777778,\"#fb9f3a\"],[0.8888888888888888,\"#fdca26\"],[1.0,\"#f0f921\"]],\"type\":\"heatmapgl\"}],\"histogram\":[{\"marker\":{\"pattern\":{\"fillmode\":\"overlay\",\"size\":10,\"solidity\":0.2}},\"type\":\"histogram\"}],\"histogram2d\":[{\"colorbar\":{\"outlinewidth\":0,\"ticks\":\"\"},\"colorscale\":[[0.0,\"#0d0887\"],[0.1111111111111111,\"#46039f\"],[0.2222222222222222,\"#7201a8\"],[0.3333333333333333,\"#9c179e\"],[0.4444444444444444,\"#bd3786\"],[0.5555555555555556,\"#d8576b\"],[0.6666666666666666,\"#ed7953\"],[0.7777777777777778,\"#fb9f3a\"],[0.8888888888888888,\"#fdca26\"],[1.0,\"#f0f921\"]],\"type\":\"histogram2d\"}],\"histogram2dcontour\":[{\"colorbar\":{\"outlinewidth\":0,\"ticks\":\"\"},\"colorscale\":[[0.0,\"#0d0887\"],[0.1111111111111111,\"#46039f\"],[0.2222222222222222,\"#7201a8\"],[0.3333333333333333,\"#9c179e\"],[0.4444444444444444,\"#bd3786\"],[0.5555555555555556,\"#d8576b\"],[0.6666666666666666,\"#ed7953\"],[0.7777777777777778,\"#fb9f3a\"],[0.8888888888888888,\"#fdca26\"],[1.0,\"#f0f921\"]],\"type\":\"histogram2dcontour\"}],\"mesh3d\":[{\"colorbar\":{\"outlinewidth\":0,\"ticks\":\"\"},\"type\":\"mesh3d\"}],\"parcoords\":[{\"line\":{\"colorbar\":{\"outlinewidth\":0,\"ticks\":\"\"}},\"type\":\"parcoords\"}],\"pie\":[{\"automargin\":true,\"type\":\"pie\"}],\"scatter\":[{\"marker\":{\"colorbar\":{\"outlinewidth\":0,\"ticks\":\"\"}},\"type\":\"scatter\"}],\"scatter3d\":[{\"line\":{\"colorbar\":{\"outlinewidth\":0,\"ticks\":\"\"}},\"marker\":{\"colorbar\":{\"outlinewidth\":0,\"ticks\":\"\"}},\"type\":\"scatter3d\"}],\"scattercarpet\":[{\"marker\":{\"colorbar\":{\"outlinewidth\":0,\"ticks\":\"\"}},\"type\":\"scattercarpet\"}],\"scattergeo\":[{\"marker\":{\"colorbar\":{\"outlinewidth\":0,\"ticks\":\"\"}},\"type\":\"scattergeo\"}],\"scattergl\":[{\"marker\":{\"colorbar\":{\"outlinewidth\":0,\"ticks\":\"\"}},\"type\":\"scattergl\"}],\"scattermapbox\":[{\"marker\":{\"colorbar\":{\"outlinewidth\":0,\"ticks\":\"\"}},\"type\":\"scattermapbox\"}],\"scatterpolar\":[{\"marker\":{\"colorbar\":{\"outlinewidth\":0,\"ticks\":\"\"}},\"type\":\"scatterpolar\"}],\"scatterpolargl\":[{\"marker\":{\"colorbar\":{\"outlinewidth\":0,\"ticks\":\"\"}},\"type\":\"scatterpolargl\"}],\"scatterternary\":[{\"marker\":{\"colorbar\":{\"outlinewidth\":0,\"ticks\":\"\"}},\"type\":\"scatterternary\"}],\"surface\":[{\"colorbar\":{\"outlinewidth\":0,\"ticks\":\"\"},\"colorscale\":[[0.0,\"#0d0887\"],[0.1111111111111111,\"#46039f\"],[0.2222222222222222,\"#7201a8\"],[0.3333333333333333,\"#9c179e\"],[0.4444444444444444,\"#bd3786\"],[0.5555555555555556,\"#d8576b\"],[0.6666666666666666,\"#ed7953\"],[0.7777777777777778,\"#fb9f3a\"],[0.8888888888888888,\"#fdca26\"],[1.0,\"#f0f921\"]],\"type\":\"surface\"}],\"table\":[{\"cells\":{\"fill\":{\"color\":\"#EBF0F8\"},\"line\":{\"color\":\"white\"}},\"header\":{\"fill\":{\"color\":\"#C8D4E3\"},\"line\":{\"color\":\"white\"}},\"type\":\"table\"}]},\"layout\":{\"annotationdefaults\":{\"arrowcolor\":\"#2a3f5f\",\"arrowhead\":0,\"arrowwidth\":1},\"autotypenumbers\":\"strict\",\"coloraxis\":{\"colorbar\":{\"outlinewidth\":0,\"ticks\":\"\"}},\"colorscale\":{\"diverging\":[[0,\"#8e0152\"],[0.1,\"#c51b7d\"],[0.2,\"#de77ae\"],[0.3,\"#f1b6da\"],[0.4,\"#fde0ef\"],[0.5,\"#f7f7f7\"],[0.6,\"#e6f5d0\"],[0.7,\"#b8e186\"],[0.8,\"#7fbc41\"],[0.9,\"#4d9221\"],[1,\"#276419\"]],\"sequential\":[[0.0,\"#0d0887\"],[0.1111111111111111,\"#46039f\"],[0.2222222222222222,\"#7201a8\"],[0.3333333333333333,\"#9c179e\"],[0.4444444444444444,\"#bd3786\"],[0.5555555555555556,\"#d8576b\"],[0.6666666666666666,\"#ed7953\"],[0.7777777777777778,\"#fb9f3a\"],[0.8888888888888888,\"#fdca26\"],[1.0,\"#f0f921\"]],\"sequentialminus\":[[0.0,\"#0d0887\"],[0.1111111111111111,\"#46039f\"],[0.2222222222222222,\"#7201a8\"],[0.3333333333333333,\"#9c179e\"],[0.4444444444444444,\"#bd3786\"],[0.5555555555555556,\"#d8576b\"],[0.6666666666666666,\"#ed7953\"],[0.7777777777777778,\"#fb9f3a\"],[0.8888888888888888,\"#fdca26\"],[1.0,\"#f0f921\"]]},\"colorway\":[\"#636efa\",\"#EF553B\",\"#00cc96\",\"#ab63fa\",\"#FFA15A\",\"#19d3f3\",\"#FF6692\",\"#B6E880\",\"#FF97FF\",\"#FECB52\"],\"font\":{\"color\":\"#2a3f5f\"},\"geo\":{\"bgcolor\":\"white\",\"lakecolor\":\"white\",\"landcolor\":\"#E5ECF6\",\"showlakes\":true,\"showland\":true,\"subunitcolor\":\"white\"},\"hoverlabel\":{\"align\":\"left\"},\"hovermode\":\"closest\",\"mapbox\":{\"style\":\"light\"},\"paper_bgcolor\":\"white\",\"plot_bgcolor\":\"#E5ECF6\",\"polar\":{\"angularaxis\":{\"gridcolor\":\"white\",\"linecolor\":\"white\",\"ticks\":\"\"},\"bgcolor\":\"#E5ECF6\",\"radialaxis\":{\"gridcolor\":\"white\",\"linecolor\":\"white\",\"ticks\":\"\"}},\"scene\":{\"xaxis\":{\"backgroundcolor\":\"#E5ECF6\",\"gridcolor\":\"white\",\"gridwidth\":2,\"linecolor\":\"white\",\"showbackground\":true,\"ticks\":\"\",\"zerolinecolor\":\"white\"},\"yaxis\":{\"backgroundcolor\":\"#E5ECF6\",\"gridcolor\":\"white\",\"gridwidth\":2,\"linecolor\":\"white\",\"showbackground\":true,\"ticks\":\"\",\"zerolinecolor\":\"white\"},\"zaxis\":{\"backgroundcolor\":\"#E5ECF6\",\"gridcolor\":\"white\",\"gridwidth\":2,\"linecolor\":\"white\",\"showbackground\":true,\"ticks\":\"\",\"zerolinecolor\":\"white\"}},\"shapedefaults\":{\"line\":{\"color\":\"#2a3f5f\"}},\"ternary\":{\"aaxis\":{\"gridcolor\":\"white\",\"linecolor\":\"white\",\"ticks\":\"\"},\"baxis\":{\"gridcolor\":\"white\",\"linecolor\":\"white\",\"ticks\":\"\"},\"bgcolor\":\"#E5ECF6\",\"caxis\":{\"gridcolor\":\"white\",\"linecolor\":\"white\",\"ticks\":\"\"}},\"title\":{\"x\":0.05},\"xaxis\":{\"automargin\":true,\"gridcolor\":\"white\",\"linecolor\":\"white\",\"ticks\":\"\",\"title\":{\"standoff\":15},\"zerolinecolor\":\"white\",\"zerolinewidth\":2},\"yaxis\":{\"automargin\":true,\"gridcolor\":\"white\",\"linecolor\":\"white\",\"ticks\":\"\",\"title\":{\"standoff\":15},\"zerolinecolor\":\"white\",\"zerolinewidth\":2}}},\"title\":{\"text\":\"method sensetivity\"},\"width\":800,\"xaxis\":{\"anchor\":\"y\",\"domain\":[0.0,1.0],\"title\":{\"text\":\"contrast\"}},\"yaxis\":{\"anchor\":\"x\",\"domain\":[0.0,1.0],\"range\":[0.45,0.95],\"title\":{\"text\":\"accuracy\"}}},                        {\"responsive\": true}                    ).then(function(){\n",
       "                            \n",
       "var gd = document.getElementById('28f53660-e743-4f14-8e60-28024f368c19');\n",
       "var x = new MutationObserver(function (mutations, observer) {{\n",
       "        var display = window.getComputedStyle(gd).display;\n",
       "        if (!display || display === 'none') {{\n",
       "            console.log([gd, 'removed!']);\n",
       "            Plotly.purge(gd);\n",
       "            observer.disconnect();\n",
       "        }}\n",
       "}});\n",
       "\n",
       "// Listen for the removal of the full notebook cells\n",
       "var notebookContainer = gd.closest('#notebook-container');\n",
       "if (notebookContainer) {{\n",
       "    x.observe(notebookContainer, {childList: true});\n",
       "}}\n",
       "\n",
       "// Listen for the clearing of the current output cell\n",
       "var outputEl = gd.closest('.output');\n",
       "if (outputEl) {{\n",
       "    x.observe(outputEl, {childList: true});\n",
       "}}\n",
       "\n",
       "                        })                };                });            </script>        </div>"
      ]
     },
     "metadata": {},
     "output_type": "display_data"
    },
    {
     "data": {
      "application/vnd.plotly.v1+json": {
       "config": {
        "plotlyServerURL": "https://plot.ly"
       },
       "data": [
        {
         "alignmentgroup": "True",
         "boxpoints": "all",
         "hovertemplate": "method=model<br>contrast=%{x}<br>accuracy=%{y}<extra></extra>",
         "legendgroup": "model",
         "marker": {
          "color": "#636efa"
         },
         "name": "model",
         "notched": false,
         "offsetgroup": "model",
         "orientation": "v",
         "showlegend": true,
         "type": "box",
         "x": [
          "Triple.Ref",
          "Triple.Ref",
          "Triple.Ref",
          "Triple.Ref",
          "Triple.Ref",
          "Triple.Ref",
          "Triple.Ref",
          "Triple.Ref",
          "Triple.Ref",
          "Triple.Ref",
          "Triple.Ref",
          "Triple.Ref",
          "Triple.Ref",
          "Triple.Ref",
          "Triple.Ref",
          "Triple.Ref",
          "Triple.Ref",
          "Triple.Ref",
          "Triple.Ref",
          "Triple.Ref",
          "IMiD.Resistance.Len.Pom.Thali",
          "IMiD.Resistance.Len.Pom.Thali",
          "IMiD.Resistance.Len.Pom.Thali",
          "IMiD.Resistance.Len.Pom.Thali",
          "IMiD.Resistance.Len.Pom.Thali",
          "IMiD.Resistance.Len.Pom.Thali",
          "IMiD.Resistance.Len.Pom.Thali",
          "IMiD.Resistance.Len.Pom.Thali",
          "IMiD.Resistance.Len.Pom.Thali",
          "IMiD.Resistance.Len.Pom.Thali",
          "IMiD.Resistance.Len.Pom.Thali",
          "IMiD.Resistance.Len.Pom.Thali",
          "IMiD.Resistance.Len.Pom.Thali",
          "IMiD.Resistance.Len.Pom.Thali",
          "IMiD.Resistance.Len.Pom.Thali",
          "IMiD.Resistance.Len.Pom.Thali",
          "IMiD.Resistance.Len.Pom.Thali",
          "IMiD.Resistance.Len.Pom.Thali",
          "IMiD.Resistance.Len.Pom.Thali",
          "IMiD.Resistance.Len.Pom.Thali",
          "PI.Resistance.Bort.Carf.Ixa",
          "PI.Resistance.Bort.Carf.Ixa",
          "PI.Resistance.Bort.Carf.Ixa",
          "PI.Resistance.Bort.Carf.Ixa",
          "PI.Resistance.Bort.Carf.Ixa",
          "PI.Resistance.Bort.Carf.Ixa",
          "PI.Resistance.Bort.Carf.Ixa",
          "PI.Resistance.Bort.Carf.Ixa",
          "PI.Resistance.Bort.Carf.Ixa",
          "PI.Resistance.Bort.Carf.Ixa",
          "PI.Resistance.Bort.Carf.Ixa",
          "PI.Resistance.Bort.Carf.Ixa",
          "PI.Resistance.Bort.Carf.Ixa",
          "PI.Resistance.Bort.Carf.Ixa",
          "PI.Resistance.Bort.Carf.Ixa",
          "PI.Resistance.Bort.Carf.Ixa",
          "PI.Resistance.Bort.Carf.Ixa",
          "PI.Resistance.Bort.Carf.Ixa",
          "PI.Resistance.Bort.Carf.Ixa",
          "PI.Resistance.Bort.Carf.Ixa"
         ],
         "x0": " ",
         "xaxis": "x",
         "y": [
          0.8421052631578947,
          0.7631578947368421,
          0.7631578947368421,
          0.7631578947368421,
          0.8157894736842105,
          0.7631578947368421,
          0.7105263157894737,
          0.7368421052631579,
          0.8421052631578947,
          0.6578947368421053,
          0.8421052631578947,
          0.7105263157894737,
          0.7631578947368421,
          0.7631578947368421,
          0.6578947368421053,
          0.7894736842105263,
          0.7894736842105263,
          0.7105263157894737,
          0.6842105263157895,
          0.7368421052631579,
          0.7894736842105263,
          0.7631578947368421,
          0.7631578947368421,
          0.8947368421052632,
          0.8421052631578947,
          0.7894736842105263,
          0.7105263157894737,
          0.7631578947368421,
          0.8421052631578947,
          0.7894736842105263,
          0.8421052631578947,
          0.7894736842105263,
          0.7368421052631579,
          0.8421052631578947,
          0.7368421052631579,
          0.7631578947368421,
          0.7368421052631579,
          0.868421052631579,
          0.7894736842105263,
          0.7894736842105263,
          0.7631578947368421,
          0.8157894736842105,
          0.7368421052631579,
          0.7105263157894737,
          0.8421052631578947,
          0.7631578947368421,
          0.7105263157894737,
          0.7105263157894737,
          0.8157894736842105,
          0.7105263157894737,
          0.8157894736842105,
          0.7368421052631579,
          0.7894736842105263,
          0.7631578947368421,
          0.7368421052631579,
          0.7631578947368421,
          0.8947368421052632,
          0.7631578947368421,
          0.6842105263157895,
          0.7368421052631579
         ],
         "y0": " ",
         "yaxis": "y"
        },
        {
         "alignmentgroup": "True",
         "boxpoints": "all",
         "hovertemplate": "method=baseline - random<br>contrast=%{x}<br>accuracy=%{y}<extra></extra>",
         "legendgroup": "baseline - random",
         "marker": {
          "color": "#EF553B"
         },
         "name": "baseline - random",
         "notched": false,
         "offsetgroup": "baseline - random",
         "orientation": "v",
         "showlegend": true,
         "type": "box",
         "x": [
          "Triple.Ref",
          "Triple.Ref",
          "Triple.Ref",
          "Triple.Ref",
          "Triple.Ref",
          "Triple.Ref",
          "Triple.Ref",
          "Triple.Ref",
          "Triple.Ref",
          "Triple.Ref",
          "Triple.Ref",
          "Triple.Ref",
          "Triple.Ref",
          "Triple.Ref",
          "Triple.Ref",
          "Triple.Ref",
          "Triple.Ref",
          "Triple.Ref",
          "Triple.Ref",
          "Triple.Ref",
          "IMiD.Resistance.Len.Pom.Thali",
          "IMiD.Resistance.Len.Pom.Thali",
          "IMiD.Resistance.Len.Pom.Thali",
          "IMiD.Resistance.Len.Pom.Thali",
          "IMiD.Resistance.Len.Pom.Thali",
          "IMiD.Resistance.Len.Pom.Thali",
          "IMiD.Resistance.Len.Pom.Thali",
          "IMiD.Resistance.Len.Pom.Thali",
          "IMiD.Resistance.Len.Pom.Thali",
          "IMiD.Resistance.Len.Pom.Thali",
          "IMiD.Resistance.Len.Pom.Thali",
          "IMiD.Resistance.Len.Pom.Thali",
          "IMiD.Resistance.Len.Pom.Thali",
          "IMiD.Resistance.Len.Pom.Thali",
          "IMiD.Resistance.Len.Pom.Thali",
          "IMiD.Resistance.Len.Pom.Thali",
          "IMiD.Resistance.Len.Pom.Thali",
          "IMiD.Resistance.Len.Pom.Thali",
          "IMiD.Resistance.Len.Pom.Thali",
          "IMiD.Resistance.Len.Pom.Thali",
          "PI.Resistance.Bort.Carf.Ixa",
          "PI.Resistance.Bort.Carf.Ixa",
          "PI.Resistance.Bort.Carf.Ixa",
          "PI.Resistance.Bort.Carf.Ixa",
          "PI.Resistance.Bort.Carf.Ixa",
          "PI.Resistance.Bort.Carf.Ixa",
          "PI.Resistance.Bort.Carf.Ixa",
          "PI.Resistance.Bort.Carf.Ixa",
          "PI.Resistance.Bort.Carf.Ixa",
          "PI.Resistance.Bort.Carf.Ixa",
          "PI.Resistance.Bort.Carf.Ixa",
          "PI.Resistance.Bort.Carf.Ixa",
          "PI.Resistance.Bort.Carf.Ixa",
          "PI.Resistance.Bort.Carf.Ixa",
          "PI.Resistance.Bort.Carf.Ixa",
          "PI.Resistance.Bort.Carf.Ixa",
          "PI.Resistance.Bort.Carf.Ixa",
          "PI.Resistance.Bort.Carf.Ixa",
          "PI.Resistance.Bort.Carf.Ixa",
          "PI.Resistance.Bort.Carf.Ixa"
         ],
         "x0": " ",
         "xaxis": "x",
         "y": [
          0.6052631578947368,
          0.7368421052631579,
          0.631578947368421,
          0.7105263157894737,
          0.5526315789473685,
          0.6578947368421053,
          0.7105263157894737,
          0.5526315789473685,
          0.631578947368421,
          0.631578947368421,
          0.7368421052631579,
          0.6842105263157895,
          0.6842105263157895,
          0.6052631578947368,
          0.5789473684210527,
          0.5789473684210527,
          0.7368421052631579,
          0.7631578947368421,
          0.631578947368421,
          0.5789473684210527,
          0.5789473684210527,
          0.8157894736842105,
          0.6052631578947368,
          0.6578947368421053,
          0.6052631578947368,
          0.5789473684210527,
          0.631578947368421,
          0.6052631578947368,
          0.5526315789473685,
          0.7631578947368421,
          0.6842105263157895,
          0.6842105263157895,
          0.5526315789473685,
          0.5526315789473685,
          0.7631578947368421,
          0.7894736842105263,
          0.7368421052631579,
          0.7368421052631579,
          0.7105263157894737,
          0.631578947368421,
          0.8157894736842105,
          0.7631578947368421,
          0.5263157894736842,
          0.6842105263157895,
          0.7105263157894737,
          0.5789473684210527,
          0.7894736842105263,
          0.6842105263157895,
          0.6578947368421053,
          0.6842105263157895,
          0.631578947368421,
          0.6842105263157895,
          0.7105263157894737,
          0.7894736842105263,
          0.6842105263157895,
          0.631578947368421,
          0.6052631578947368,
          0.6842105263157895,
          0.6578947368421053,
          0.6052631578947368
         ],
         "y0": " ",
         "yaxis": "y"
        }
       ],
       "layout": {
        "boxmode": "group",
        "height": 600,
        "legend": {
         "title": {
          "text": "method"
         },
         "tracegroupgap": 0
        },
        "paper_bgcolor": "rgba(0, 0, 0, 0)",
        "plot_bgcolor": "rgba(0, 0, 0, 0)",
        "template": {
         "data": {
          "bar": [
           {
            "error_x": {
             "color": "#2a3f5f"
            },
            "error_y": {
             "color": "#2a3f5f"
            },
            "marker": {
             "line": {
              "color": "#E5ECF6",
              "width": 0.5
             },
             "pattern": {
              "fillmode": "overlay",
              "size": 10,
              "solidity": 0.2
             }
            },
            "type": "bar"
           }
          ],
          "barpolar": [
           {
            "marker": {
             "line": {
              "color": "#E5ECF6",
              "width": 0.5
             },
             "pattern": {
              "fillmode": "overlay",
              "size": 10,
              "solidity": 0.2
             }
            },
            "type": "barpolar"
           }
          ],
          "carpet": [
           {
            "aaxis": {
             "endlinecolor": "#2a3f5f",
             "gridcolor": "white",
             "linecolor": "white",
             "minorgridcolor": "white",
             "startlinecolor": "#2a3f5f"
            },
            "baxis": {
             "endlinecolor": "#2a3f5f",
             "gridcolor": "white",
             "linecolor": "white",
             "minorgridcolor": "white",
             "startlinecolor": "#2a3f5f"
            },
            "type": "carpet"
           }
          ],
          "choropleth": [
           {
            "colorbar": {
             "outlinewidth": 0,
             "ticks": ""
            },
            "type": "choropleth"
           }
          ],
          "contour": [
           {
            "colorbar": {
             "outlinewidth": 0,
             "ticks": ""
            },
            "colorscale": [
             [
              0,
              "#0d0887"
             ],
             [
              0.1111111111111111,
              "#46039f"
             ],
             [
              0.2222222222222222,
              "#7201a8"
             ],
             [
              0.3333333333333333,
              "#9c179e"
             ],
             [
              0.4444444444444444,
              "#bd3786"
             ],
             [
              0.5555555555555556,
              "#d8576b"
             ],
             [
              0.6666666666666666,
              "#ed7953"
             ],
             [
              0.7777777777777778,
              "#fb9f3a"
             ],
             [
              0.8888888888888888,
              "#fdca26"
             ],
             [
              1,
              "#f0f921"
             ]
            ],
            "type": "contour"
           }
          ],
          "contourcarpet": [
           {
            "colorbar": {
             "outlinewidth": 0,
             "ticks": ""
            },
            "type": "contourcarpet"
           }
          ],
          "heatmap": [
           {
            "colorbar": {
             "outlinewidth": 0,
             "ticks": ""
            },
            "colorscale": [
             [
              0,
              "#0d0887"
             ],
             [
              0.1111111111111111,
              "#46039f"
             ],
             [
              0.2222222222222222,
              "#7201a8"
             ],
             [
              0.3333333333333333,
              "#9c179e"
             ],
             [
              0.4444444444444444,
              "#bd3786"
             ],
             [
              0.5555555555555556,
              "#d8576b"
             ],
             [
              0.6666666666666666,
              "#ed7953"
             ],
             [
              0.7777777777777778,
              "#fb9f3a"
             ],
             [
              0.8888888888888888,
              "#fdca26"
             ],
             [
              1,
              "#f0f921"
             ]
            ],
            "type": "heatmap"
           }
          ],
          "heatmapgl": [
           {
            "colorbar": {
             "outlinewidth": 0,
             "ticks": ""
            },
            "colorscale": [
             [
              0,
              "#0d0887"
             ],
             [
              0.1111111111111111,
              "#46039f"
             ],
             [
              0.2222222222222222,
              "#7201a8"
             ],
             [
              0.3333333333333333,
              "#9c179e"
             ],
             [
              0.4444444444444444,
              "#bd3786"
             ],
             [
              0.5555555555555556,
              "#d8576b"
             ],
             [
              0.6666666666666666,
              "#ed7953"
             ],
             [
              0.7777777777777778,
              "#fb9f3a"
             ],
             [
              0.8888888888888888,
              "#fdca26"
             ],
             [
              1,
              "#f0f921"
             ]
            ],
            "type": "heatmapgl"
           }
          ],
          "histogram": [
           {
            "marker": {
             "pattern": {
              "fillmode": "overlay",
              "size": 10,
              "solidity": 0.2
             }
            },
            "type": "histogram"
           }
          ],
          "histogram2d": [
           {
            "colorbar": {
             "outlinewidth": 0,
             "ticks": ""
            },
            "colorscale": [
             [
              0,
              "#0d0887"
             ],
             [
              0.1111111111111111,
              "#46039f"
             ],
             [
              0.2222222222222222,
              "#7201a8"
             ],
             [
              0.3333333333333333,
              "#9c179e"
             ],
             [
              0.4444444444444444,
              "#bd3786"
             ],
             [
              0.5555555555555556,
              "#d8576b"
             ],
             [
              0.6666666666666666,
              "#ed7953"
             ],
             [
              0.7777777777777778,
              "#fb9f3a"
             ],
             [
              0.8888888888888888,
              "#fdca26"
             ],
             [
              1,
              "#f0f921"
             ]
            ],
            "type": "histogram2d"
           }
          ],
          "histogram2dcontour": [
           {
            "colorbar": {
             "outlinewidth": 0,
             "ticks": ""
            },
            "colorscale": [
             [
              0,
              "#0d0887"
             ],
             [
              0.1111111111111111,
              "#46039f"
             ],
             [
              0.2222222222222222,
              "#7201a8"
             ],
             [
              0.3333333333333333,
              "#9c179e"
             ],
             [
              0.4444444444444444,
              "#bd3786"
             ],
             [
              0.5555555555555556,
              "#d8576b"
             ],
             [
              0.6666666666666666,
              "#ed7953"
             ],
             [
              0.7777777777777778,
              "#fb9f3a"
             ],
             [
              0.8888888888888888,
              "#fdca26"
             ],
             [
              1,
              "#f0f921"
             ]
            ],
            "type": "histogram2dcontour"
           }
          ],
          "mesh3d": [
           {
            "colorbar": {
             "outlinewidth": 0,
             "ticks": ""
            },
            "type": "mesh3d"
           }
          ],
          "parcoords": [
           {
            "line": {
             "colorbar": {
              "outlinewidth": 0,
              "ticks": ""
             }
            },
            "type": "parcoords"
           }
          ],
          "pie": [
           {
            "automargin": true,
            "type": "pie"
           }
          ],
          "scatter": [
           {
            "marker": {
             "colorbar": {
              "outlinewidth": 0,
              "ticks": ""
             }
            },
            "type": "scatter"
           }
          ],
          "scatter3d": [
           {
            "line": {
             "colorbar": {
              "outlinewidth": 0,
              "ticks": ""
             }
            },
            "marker": {
             "colorbar": {
              "outlinewidth": 0,
              "ticks": ""
             }
            },
            "type": "scatter3d"
           }
          ],
          "scattercarpet": [
           {
            "marker": {
             "colorbar": {
              "outlinewidth": 0,
              "ticks": ""
             }
            },
            "type": "scattercarpet"
           }
          ],
          "scattergeo": [
           {
            "marker": {
             "colorbar": {
              "outlinewidth": 0,
              "ticks": ""
             }
            },
            "type": "scattergeo"
           }
          ],
          "scattergl": [
           {
            "marker": {
             "colorbar": {
              "outlinewidth": 0,
              "ticks": ""
             }
            },
            "type": "scattergl"
           }
          ],
          "scattermapbox": [
           {
            "marker": {
             "colorbar": {
              "outlinewidth": 0,
              "ticks": ""
             }
            },
            "type": "scattermapbox"
           }
          ],
          "scatterpolar": [
           {
            "marker": {
             "colorbar": {
              "outlinewidth": 0,
              "ticks": ""
             }
            },
            "type": "scatterpolar"
           }
          ],
          "scatterpolargl": [
           {
            "marker": {
             "colorbar": {
              "outlinewidth": 0,
              "ticks": ""
             }
            },
            "type": "scatterpolargl"
           }
          ],
          "scatterternary": [
           {
            "marker": {
             "colorbar": {
              "outlinewidth": 0,
              "ticks": ""
             }
            },
            "type": "scatterternary"
           }
          ],
          "surface": [
           {
            "colorbar": {
             "outlinewidth": 0,
             "ticks": ""
            },
            "colorscale": [
             [
              0,
              "#0d0887"
             ],
             [
              0.1111111111111111,
              "#46039f"
             ],
             [
              0.2222222222222222,
              "#7201a8"
             ],
             [
              0.3333333333333333,
              "#9c179e"
             ],
             [
              0.4444444444444444,
              "#bd3786"
             ],
             [
              0.5555555555555556,
              "#d8576b"
             ],
             [
              0.6666666666666666,
              "#ed7953"
             ],
             [
              0.7777777777777778,
              "#fb9f3a"
             ],
             [
              0.8888888888888888,
              "#fdca26"
             ],
             [
              1,
              "#f0f921"
             ]
            ],
            "type": "surface"
           }
          ],
          "table": [
           {
            "cells": {
             "fill": {
              "color": "#EBF0F8"
             },
             "line": {
              "color": "white"
             }
            },
            "header": {
             "fill": {
              "color": "#C8D4E3"
             },
             "line": {
              "color": "white"
             }
            },
            "type": "table"
           }
          ]
         },
         "layout": {
          "annotationdefaults": {
           "arrowcolor": "#2a3f5f",
           "arrowhead": 0,
           "arrowwidth": 1
          },
          "autotypenumbers": "strict",
          "coloraxis": {
           "colorbar": {
            "outlinewidth": 0,
            "ticks": ""
           }
          },
          "colorscale": {
           "diverging": [
            [
             0,
             "#8e0152"
            ],
            [
             0.1,
             "#c51b7d"
            ],
            [
             0.2,
             "#de77ae"
            ],
            [
             0.3,
             "#f1b6da"
            ],
            [
             0.4,
             "#fde0ef"
            ],
            [
             0.5,
             "#f7f7f7"
            ],
            [
             0.6,
             "#e6f5d0"
            ],
            [
             0.7,
             "#b8e186"
            ],
            [
             0.8,
             "#7fbc41"
            ],
            [
             0.9,
             "#4d9221"
            ],
            [
             1,
             "#276419"
            ]
           ],
           "sequential": [
            [
             0,
             "#0d0887"
            ],
            [
             0.1111111111111111,
             "#46039f"
            ],
            [
             0.2222222222222222,
             "#7201a8"
            ],
            [
             0.3333333333333333,
             "#9c179e"
            ],
            [
             0.4444444444444444,
             "#bd3786"
            ],
            [
             0.5555555555555556,
             "#d8576b"
            ],
            [
             0.6666666666666666,
             "#ed7953"
            ],
            [
             0.7777777777777778,
             "#fb9f3a"
            ],
            [
             0.8888888888888888,
             "#fdca26"
            ],
            [
             1,
             "#f0f921"
            ]
           ],
           "sequentialminus": [
            [
             0,
             "#0d0887"
            ],
            [
             0.1111111111111111,
             "#46039f"
            ],
            [
             0.2222222222222222,
             "#7201a8"
            ],
            [
             0.3333333333333333,
             "#9c179e"
            ],
            [
             0.4444444444444444,
             "#bd3786"
            ],
            [
             0.5555555555555556,
             "#d8576b"
            ],
            [
             0.6666666666666666,
             "#ed7953"
            ],
            [
             0.7777777777777778,
             "#fb9f3a"
            ],
            [
             0.8888888888888888,
             "#fdca26"
            ],
            [
             1,
             "#f0f921"
            ]
           ]
          },
          "colorway": [
           "#636efa",
           "#EF553B",
           "#00cc96",
           "#ab63fa",
           "#FFA15A",
           "#19d3f3",
           "#FF6692",
           "#B6E880",
           "#FF97FF",
           "#FECB52"
          ],
          "font": {
           "color": "#2a3f5f"
          },
          "geo": {
           "bgcolor": "white",
           "lakecolor": "white",
           "landcolor": "#E5ECF6",
           "showlakes": true,
           "showland": true,
           "subunitcolor": "white"
          },
          "hoverlabel": {
           "align": "left"
          },
          "hovermode": "closest",
          "mapbox": {
           "style": "light"
          },
          "paper_bgcolor": "white",
          "plot_bgcolor": "#E5ECF6",
          "polar": {
           "angularaxis": {
            "gridcolor": "white",
            "linecolor": "white",
            "ticks": ""
           },
           "bgcolor": "#E5ECF6",
           "radialaxis": {
            "gridcolor": "white",
            "linecolor": "white",
            "ticks": ""
           }
          },
          "scene": {
           "xaxis": {
            "backgroundcolor": "#E5ECF6",
            "gridcolor": "white",
            "gridwidth": 2,
            "linecolor": "white",
            "showbackground": true,
            "ticks": "",
            "zerolinecolor": "white"
           },
           "yaxis": {
            "backgroundcolor": "#E5ECF6",
            "gridcolor": "white",
            "gridwidth": 2,
            "linecolor": "white",
            "showbackground": true,
            "ticks": "",
            "zerolinecolor": "white"
           },
           "zaxis": {
            "backgroundcolor": "#E5ECF6",
            "gridcolor": "white",
            "gridwidth": 2,
            "linecolor": "white",
            "showbackground": true,
            "ticks": "",
            "zerolinecolor": "white"
           }
          },
          "shapedefaults": {
           "line": {
            "color": "#2a3f5f"
           }
          },
          "ternary": {
           "aaxis": {
            "gridcolor": "white",
            "linecolor": "white",
            "ticks": ""
           },
           "baxis": {
            "gridcolor": "white",
            "linecolor": "white",
            "ticks": ""
           },
           "bgcolor": "#E5ECF6",
           "caxis": {
            "gridcolor": "white",
            "linecolor": "white",
            "ticks": ""
           }
          },
          "title": {
           "x": 0.05
          },
          "xaxis": {
           "automargin": true,
           "gridcolor": "white",
           "linecolor": "white",
           "ticks": "",
           "title": {
            "standoff": 15
           },
           "zerolinecolor": "white",
           "zerolinewidth": 2
          },
          "yaxis": {
           "automargin": true,
           "gridcolor": "white",
           "linecolor": "white",
           "ticks": "",
           "title": {
            "standoff": 15
           },
           "zerolinecolor": "white",
           "zerolinewidth": 2
          }
         }
        },
        "title": {
         "text": "method sensetivity"
        },
        "width": 600,
        "xaxis": {
         "anchor": "y",
         "autorange": true,
         "domain": [
          0,
          1
         ],
         "range": [
          -0.7353075551232165,
          2.670279345006485
         ],
         "title": {
          "text": "contrast"
         },
         "type": "category"
        },
        "yaxis": {
         "anchor": "x",
         "domain": [
          0,
          1
         ],
         "range": [
          0.45,
          0.95
         ],
         "title": {
          "text": "accuracy"
         },
         "type": "linear"
        }
       }
      },
      "text/html": [
       "<div>                            <div id=\"3cca273e-dc82-4af7-a1a4-ff661962841a\" class=\"plotly-graph-div\" style=\"height:600px; width:600px;\"></div>            <script type=\"text/javascript\">                require([\"plotly\"], function(Plotly) {                    window.PLOTLYENV=window.PLOTLYENV || {};                                    if (document.getElementById(\"3cca273e-dc82-4af7-a1a4-ff661962841a\")) {                    Plotly.newPlot(                        \"3cca273e-dc82-4af7-a1a4-ff661962841a\",                        [{\"alignmentgroup\":\"True\",\"boxpoints\":\"all\",\"hovertemplate\":\"method=model<br>contrast=%{x}<br>accuracy=%{y}<extra></extra>\",\"legendgroup\":\"model\",\"marker\":{\"color\":\"#636efa\"},\"name\":\"model\",\"notched\":false,\"offsetgroup\":\"model\",\"orientation\":\"v\",\"showlegend\":true,\"type\":\"box\",\"x\":[\"Triple.Ref\",\"Triple.Ref\",\"Triple.Ref\",\"Triple.Ref\",\"Triple.Ref\",\"Triple.Ref\",\"Triple.Ref\",\"Triple.Ref\",\"Triple.Ref\",\"Triple.Ref\",\"Triple.Ref\",\"Triple.Ref\",\"Triple.Ref\",\"Triple.Ref\",\"Triple.Ref\",\"Triple.Ref\",\"Triple.Ref\",\"Triple.Ref\",\"Triple.Ref\",\"Triple.Ref\",\"IMiD.Resistance.Len.Pom.Thali\",\"IMiD.Resistance.Len.Pom.Thali\",\"IMiD.Resistance.Len.Pom.Thali\",\"IMiD.Resistance.Len.Pom.Thali\",\"IMiD.Resistance.Len.Pom.Thali\",\"IMiD.Resistance.Len.Pom.Thali\",\"IMiD.Resistance.Len.Pom.Thali\",\"IMiD.Resistance.Len.Pom.Thali\",\"IMiD.Resistance.Len.Pom.Thali\",\"IMiD.Resistance.Len.Pom.Thali\",\"IMiD.Resistance.Len.Pom.Thali\",\"IMiD.Resistance.Len.Pom.Thali\",\"IMiD.Resistance.Len.Pom.Thali\",\"IMiD.Resistance.Len.Pom.Thali\",\"IMiD.Resistance.Len.Pom.Thali\",\"IMiD.Resistance.Len.Pom.Thali\",\"IMiD.Resistance.Len.Pom.Thali\",\"IMiD.Resistance.Len.Pom.Thali\",\"IMiD.Resistance.Len.Pom.Thali\",\"IMiD.Resistance.Len.Pom.Thali\",\"PI.Resistance.Bort.Carf.Ixa\",\"PI.Resistance.Bort.Carf.Ixa\",\"PI.Resistance.Bort.Carf.Ixa\",\"PI.Resistance.Bort.Carf.Ixa\",\"PI.Resistance.Bort.Carf.Ixa\",\"PI.Resistance.Bort.Carf.Ixa\",\"PI.Resistance.Bort.Carf.Ixa\",\"PI.Resistance.Bort.Carf.Ixa\",\"PI.Resistance.Bort.Carf.Ixa\",\"PI.Resistance.Bort.Carf.Ixa\",\"PI.Resistance.Bort.Carf.Ixa\",\"PI.Resistance.Bort.Carf.Ixa\",\"PI.Resistance.Bort.Carf.Ixa\",\"PI.Resistance.Bort.Carf.Ixa\",\"PI.Resistance.Bort.Carf.Ixa\",\"PI.Resistance.Bort.Carf.Ixa\",\"PI.Resistance.Bort.Carf.Ixa\",\"PI.Resistance.Bort.Carf.Ixa\",\"PI.Resistance.Bort.Carf.Ixa\",\"PI.Resistance.Bort.Carf.Ixa\"],\"x0\":\" \",\"xaxis\":\"x\",\"y\":[0.8421052631578947,0.7631578947368421,0.7631578947368421,0.7631578947368421,0.8157894736842105,0.7631578947368421,0.7105263157894737,0.7368421052631579,0.8421052631578947,0.6578947368421053,0.8421052631578947,0.7105263157894737,0.7631578947368421,0.7631578947368421,0.6578947368421053,0.7894736842105263,0.7894736842105263,0.7105263157894737,0.6842105263157895,0.7368421052631579,0.7894736842105263,0.7631578947368421,0.7631578947368421,0.8947368421052632,0.8421052631578947,0.7894736842105263,0.7105263157894737,0.7631578947368421,0.8421052631578947,0.7894736842105263,0.8421052631578947,0.7894736842105263,0.7368421052631579,0.8421052631578947,0.7368421052631579,0.7631578947368421,0.7368421052631579,0.868421052631579,0.7894736842105263,0.7894736842105263,0.7631578947368421,0.8157894736842105,0.7368421052631579,0.7105263157894737,0.8421052631578947,0.7631578947368421,0.7105263157894737,0.7105263157894737,0.8157894736842105,0.7105263157894737,0.8157894736842105,0.7368421052631579,0.7894736842105263,0.7631578947368421,0.7368421052631579,0.7631578947368421,0.8947368421052632,0.7631578947368421,0.6842105263157895,0.7368421052631579],\"y0\":\" \",\"yaxis\":\"y\"},{\"alignmentgroup\":\"True\",\"boxpoints\":\"all\",\"hovertemplate\":\"method=baseline - random<br>contrast=%{x}<br>accuracy=%{y}<extra></extra>\",\"legendgroup\":\"baseline - random\",\"marker\":{\"color\":\"#EF553B\"},\"name\":\"baseline - random\",\"notched\":false,\"offsetgroup\":\"baseline - random\",\"orientation\":\"v\",\"showlegend\":true,\"type\":\"box\",\"x\":[\"Triple.Ref\",\"Triple.Ref\",\"Triple.Ref\",\"Triple.Ref\",\"Triple.Ref\",\"Triple.Ref\",\"Triple.Ref\",\"Triple.Ref\",\"Triple.Ref\",\"Triple.Ref\",\"Triple.Ref\",\"Triple.Ref\",\"Triple.Ref\",\"Triple.Ref\",\"Triple.Ref\",\"Triple.Ref\",\"Triple.Ref\",\"Triple.Ref\",\"Triple.Ref\",\"Triple.Ref\",\"IMiD.Resistance.Len.Pom.Thali\",\"IMiD.Resistance.Len.Pom.Thali\",\"IMiD.Resistance.Len.Pom.Thali\",\"IMiD.Resistance.Len.Pom.Thali\",\"IMiD.Resistance.Len.Pom.Thali\",\"IMiD.Resistance.Len.Pom.Thali\",\"IMiD.Resistance.Len.Pom.Thali\",\"IMiD.Resistance.Len.Pom.Thali\",\"IMiD.Resistance.Len.Pom.Thali\",\"IMiD.Resistance.Len.Pom.Thali\",\"IMiD.Resistance.Len.Pom.Thali\",\"IMiD.Resistance.Len.Pom.Thali\",\"IMiD.Resistance.Len.Pom.Thali\",\"IMiD.Resistance.Len.Pom.Thali\",\"IMiD.Resistance.Len.Pom.Thali\",\"IMiD.Resistance.Len.Pom.Thali\",\"IMiD.Resistance.Len.Pom.Thali\",\"IMiD.Resistance.Len.Pom.Thali\",\"IMiD.Resistance.Len.Pom.Thali\",\"IMiD.Resistance.Len.Pom.Thali\",\"PI.Resistance.Bort.Carf.Ixa\",\"PI.Resistance.Bort.Carf.Ixa\",\"PI.Resistance.Bort.Carf.Ixa\",\"PI.Resistance.Bort.Carf.Ixa\",\"PI.Resistance.Bort.Carf.Ixa\",\"PI.Resistance.Bort.Carf.Ixa\",\"PI.Resistance.Bort.Carf.Ixa\",\"PI.Resistance.Bort.Carf.Ixa\",\"PI.Resistance.Bort.Carf.Ixa\",\"PI.Resistance.Bort.Carf.Ixa\",\"PI.Resistance.Bort.Carf.Ixa\",\"PI.Resistance.Bort.Carf.Ixa\",\"PI.Resistance.Bort.Carf.Ixa\",\"PI.Resistance.Bort.Carf.Ixa\",\"PI.Resistance.Bort.Carf.Ixa\",\"PI.Resistance.Bort.Carf.Ixa\",\"PI.Resistance.Bort.Carf.Ixa\",\"PI.Resistance.Bort.Carf.Ixa\",\"PI.Resistance.Bort.Carf.Ixa\",\"PI.Resistance.Bort.Carf.Ixa\"],\"x0\":\" \",\"xaxis\":\"x\",\"y\":[0.6052631578947368,0.7368421052631579,0.631578947368421,0.7105263157894737,0.5526315789473685,0.6578947368421053,0.7105263157894737,0.5526315789473685,0.631578947368421,0.631578947368421,0.7368421052631579,0.6842105263157895,0.6842105263157895,0.6052631578947368,0.5789473684210527,0.5789473684210527,0.7368421052631579,0.7631578947368421,0.631578947368421,0.5789473684210527,0.5789473684210527,0.8157894736842105,0.6052631578947368,0.6578947368421053,0.6052631578947368,0.5789473684210527,0.631578947368421,0.6052631578947368,0.5526315789473685,0.7631578947368421,0.6842105263157895,0.6842105263157895,0.5526315789473685,0.5526315789473685,0.7631578947368421,0.7894736842105263,0.7368421052631579,0.7368421052631579,0.7105263157894737,0.631578947368421,0.8157894736842105,0.7631578947368421,0.5263157894736842,0.6842105263157895,0.7105263157894737,0.5789473684210527,0.7894736842105263,0.6842105263157895,0.6578947368421053,0.6842105263157895,0.631578947368421,0.6842105263157895,0.7105263157894737,0.7894736842105263,0.6842105263157895,0.631578947368421,0.6052631578947368,0.6842105263157895,0.6578947368421053,0.6052631578947368],\"y0\":\" \",\"yaxis\":\"y\"}],                        {\"boxmode\":\"group\",\"height\":600,\"legend\":{\"title\":{\"text\":\"method\"},\"tracegroupgap\":0},\"paper_bgcolor\":\"rgba(0, 0, 0, 0)\",\"plot_bgcolor\":\"rgba(0, 0, 0, 0)\",\"template\":{\"data\":{\"bar\":[{\"error_x\":{\"color\":\"#2a3f5f\"},\"error_y\":{\"color\":\"#2a3f5f\"},\"marker\":{\"line\":{\"color\":\"#E5ECF6\",\"width\":0.5},\"pattern\":{\"fillmode\":\"overlay\",\"size\":10,\"solidity\":0.2}},\"type\":\"bar\"}],\"barpolar\":[{\"marker\":{\"line\":{\"color\":\"#E5ECF6\",\"width\":0.5},\"pattern\":{\"fillmode\":\"overlay\",\"size\":10,\"solidity\":0.2}},\"type\":\"barpolar\"}],\"carpet\":[{\"aaxis\":{\"endlinecolor\":\"#2a3f5f\",\"gridcolor\":\"white\",\"linecolor\":\"white\",\"minorgridcolor\":\"white\",\"startlinecolor\":\"#2a3f5f\"},\"baxis\":{\"endlinecolor\":\"#2a3f5f\",\"gridcolor\":\"white\",\"linecolor\":\"white\",\"minorgridcolor\":\"white\",\"startlinecolor\":\"#2a3f5f\"},\"type\":\"carpet\"}],\"choropleth\":[{\"colorbar\":{\"outlinewidth\":0,\"ticks\":\"\"},\"type\":\"choropleth\"}],\"contour\":[{\"colorbar\":{\"outlinewidth\":0,\"ticks\":\"\"},\"colorscale\":[[0.0,\"#0d0887\"],[0.1111111111111111,\"#46039f\"],[0.2222222222222222,\"#7201a8\"],[0.3333333333333333,\"#9c179e\"],[0.4444444444444444,\"#bd3786\"],[0.5555555555555556,\"#d8576b\"],[0.6666666666666666,\"#ed7953\"],[0.7777777777777778,\"#fb9f3a\"],[0.8888888888888888,\"#fdca26\"],[1.0,\"#f0f921\"]],\"type\":\"contour\"}],\"contourcarpet\":[{\"colorbar\":{\"outlinewidth\":0,\"ticks\":\"\"},\"type\":\"contourcarpet\"}],\"heatmap\":[{\"colorbar\":{\"outlinewidth\":0,\"ticks\":\"\"},\"colorscale\":[[0.0,\"#0d0887\"],[0.1111111111111111,\"#46039f\"],[0.2222222222222222,\"#7201a8\"],[0.3333333333333333,\"#9c179e\"],[0.4444444444444444,\"#bd3786\"],[0.5555555555555556,\"#d8576b\"],[0.6666666666666666,\"#ed7953\"],[0.7777777777777778,\"#fb9f3a\"],[0.8888888888888888,\"#fdca26\"],[1.0,\"#f0f921\"]],\"type\":\"heatmap\"}],\"heatmapgl\":[{\"colorbar\":{\"outlinewidth\":0,\"ticks\":\"\"},\"colorscale\":[[0.0,\"#0d0887\"],[0.1111111111111111,\"#46039f\"],[0.2222222222222222,\"#7201a8\"],[0.3333333333333333,\"#9c179e\"],[0.4444444444444444,\"#bd3786\"],[0.5555555555555556,\"#d8576b\"],[0.6666666666666666,\"#ed7953\"],[0.7777777777777778,\"#fb9f3a\"],[0.8888888888888888,\"#fdca26\"],[1.0,\"#f0f921\"]],\"type\":\"heatmapgl\"}],\"histogram\":[{\"marker\":{\"pattern\":{\"fillmode\":\"overlay\",\"size\":10,\"solidity\":0.2}},\"type\":\"histogram\"}],\"histogram2d\":[{\"colorbar\":{\"outlinewidth\":0,\"ticks\":\"\"},\"colorscale\":[[0.0,\"#0d0887\"],[0.1111111111111111,\"#46039f\"],[0.2222222222222222,\"#7201a8\"],[0.3333333333333333,\"#9c179e\"],[0.4444444444444444,\"#bd3786\"],[0.5555555555555556,\"#d8576b\"],[0.6666666666666666,\"#ed7953\"],[0.7777777777777778,\"#fb9f3a\"],[0.8888888888888888,\"#fdca26\"],[1.0,\"#f0f921\"]],\"type\":\"histogram2d\"}],\"histogram2dcontour\":[{\"colorbar\":{\"outlinewidth\":0,\"ticks\":\"\"},\"colorscale\":[[0.0,\"#0d0887\"],[0.1111111111111111,\"#46039f\"],[0.2222222222222222,\"#7201a8\"],[0.3333333333333333,\"#9c179e\"],[0.4444444444444444,\"#bd3786\"],[0.5555555555555556,\"#d8576b\"],[0.6666666666666666,\"#ed7953\"],[0.7777777777777778,\"#fb9f3a\"],[0.8888888888888888,\"#fdca26\"],[1.0,\"#f0f921\"]],\"type\":\"histogram2dcontour\"}],\"mesh3d\":[{\"colorbar\":{\"outlinewidth\":0,\"ticks\":\"\"},\"type\":\"mesh3d\"}],\"parcoords\":[{\"line\":{\"colorbar\":{\"outlinewidth\":0,\"ticks\":\"\"}},\"type\":\"parcoords\"}],\"pie\":[{\"automargin\":true,\"type\":\"pie\"}],\"scatter\":[{\"marker\":{\"colorbar\":{\"outlinewidth\":0,\"ticks\":\"\"}},\"type\":\"scatter\"}],\"scatter3d\":[{\"line\":{\"colorbar\":{\"outlinewidth\":0,\"ticks\":\"\"}},\"marker\":{\"colorbar\":{\"outlinewidth\":0,\"ticks\":\"\"}},\"type\":\"scatter3d\"}],\"scattercarpet\":[{\"marker\":{\"colorbar\":{\"outlinewidth\":0,\"ticks\":\"\"}},\"type\":\"scattercarpet\"}],\"scattergeo\":[{\"marker\":{\"colorbar\":{\"outlinewidth\":0,\"ticks\":\"\"}},\"type\":\"scattergeo\"}],\"scattergl\":[{\"marker\":{\"colorbar\":{\"outlinewidth\":0,\"ticks\":\"\"}},\"type\":\"scattergl\"}],\"scattermapbox\":[{\"marker\":{\"colorbar\":{\"outlinewidth\":0,\"ticks\":\"\"}},\"type\":\"scattermapbox\"}],\"scatterpolar\":[{\"marker\":{\"colorbar\":{\"outlinewidth\":0,\"ticks\":\"\"}},\"type\":\"scatterpolar\"}],\"scatterpolargl\":[{\"marker\":{\"colorbar\":{\"outlinewidth\":0,\"ticks\":\"\"}},\"type\":\"scatterpolargl\"}],\"scatterternary\":[{\"marker\":{\"colorbar\":{\"outlinewidth\":0,\"ticks\":\"\"}},\"type\":\"scatterternary\"}],\"surface\":[{\"colorbar\":{\"outlinewidth\":0,\"ticks\":\"\"},\"colorscale\":[[0.0,\"#0d0887\"],[0.1111111111111111,\"#46039f\"],[0.2222222222222222,\"#7201a8\"],[0.3333333333333333,\"#9c179e\"],[0.4444444444444444,\"#bd3786\"],[0.5555555555555556,\"#d8576b\"],[0.6666666666666666,\"#ed7953\"],[0.7777777777777778,\"#fb9f3a\"],[0.8888888888888888,\"#fdca26\"],[1.0,\"#f0f921\"]],\"type\":\"surface\"}],\"table\":[{\"cells\":{\"fill\":{\"color\":\"#EBF0F8\"},\"line\":{\"color\":\"white\"}},\"header\":{\"fill\":{\"color\":\"#C8D4E3\"},\"line\":{\"color\":\"white\"}},\"type\":\"table\"}]},\"layout\":{\"annotationdefaults\":{\"arrowcolor\":\"#2a3f5f\",\"arrowhead\":0,\"arrowwidth\":1},\"autotypenumbers\":\"strict\",\"coloraxis\":{\"colorbar\":{\"outlinewidth\":0,\"ticks\":\"\"}},\"colorscale\":{\"diverging\":[[0,\"#8e0152\"],[0.1,\"#c51b7d\"],[0.2,\"#de77ae\"],[0.3,\"#f1b6da\"],[0.4,\"#fde0ef\"],[0.5,\"#f7f7f7\"],[0.6,\"#e6f5d0\"],[0.7,\"#b8e186\"],[0.8,\"#7fbc41\"],[0.9,\"#4d9221\"],[1,\"#276419\"]],\"sequential\":[[0.0,\"#0d0887\"],[0.1111111111111111,\"#46039f\"],[0.2222222222222222,\"#7201a8\"],[0.3333333333333333,\"#9c179e\"],[0.4444444444444444,\"#bd3786\"],[0.5555555555555556,\"#d8576b\"],[0.6666666666666666,\"#ed7953\"],[0.7777777777777778,\"#fb9f3a\"],[0.8888888888888888,\"#fdca26\"],[1.0,\"#f0f921\"]],\"sequentialminus\":[[0.0,\"#0d0887\"],[0.1111111111111111,\"#46039f\"],[0.2222222222222222,\"#7201a8\"],[0.3333333333333333,\"#9c179e\"],[0.4444444444444444,\"#bd3786\"],[0.5555555555555556,\"#d8576b\"],[0.6666666666666666,\"#ed7953\"],[0.7777777777777778,\"#fb9f3a\"],[0.8888888888888888,\"#fdca26\"],[1.0,\"#f0f921\"]]},\"colorway\":[\"#636efa\",\"#EF553B\",\"#00cc96\",\"#ab63fa\",\"#FFA15A\",\"#19d3f3\",\"#FF6692\",\"#B6E880\",\"#FF97FF\",\"#FECB52\"],\"font\":{\"color\":\"#2a3f5f\"},\"geo\":{\"bgcolor\":\"white\",\"lakecolor\":\"white\",\"landcolor\":\"#E5ECF6\",\"showlakes\":true,\"showland\":true,\"subunitcolor\":\"white\"},\"hoverlabel\":{\"align\":\"left\"},\"hovermode\":\"closest\",\"mapbox\":{\"style\":\"light\"},\"paper_bgcolor\":\"white\",\"plot_bgcolor\":\"#E5ECF6\",\"polar\":{\"angularaxis\":{\"gridcolor\":\"white\",\"linecolor\":\"white\",\"ticks\":\"\"},\"bgcolor\":\"#E5ECF6\",\"radialaxis\":{\"gridcolor\":\"white\",\"linecolor\":\"white\",\"ticks\":\"\"}},\"scene\":{\"xaxis\":{\"backgroundcolor\":\"#E5ECF6\",\"gridcolor\":\"white\",\"gridwidth\":2,\"linecolor\":\"white\",\"showbackground\":true,\"ticks\":\"\",\"zerolinecolor\":\"white\"},\"yaxis\":{\"backgroundcolor\":\"#E5ECF6\",\"gridcolor\":\"white\",\"gridwidth\":2,\"linecolor\":\"white\",\"showbackground\":true,\"ticks\":\"\",\"zerolinecolor\":\"white\"},\"zaxis\":{\"backgroundcolor\":\"#E5ECF6\",\"gridcolor\":\"white\",\"gridwidth\":2,\"linecolor\":\"white\",\"showbackground\":true,\"ticks\":\"\",\"zerolinecolor\":\"white\"}},\"shapedefaults\":{\"line\":{\"color\":\"#2a3f5f\"}},\"ternary\":{\"aaxis\":{\"gridcolor\":\"white\",\"linecolor\":\"white\",\"ticks\":\"\"},\"baxis\":{\"gridcolor\":\"white\",\"linecolor\":\"white\",\"ticks\":\"\"},\"bgcolor\":\"#E5ECF6\",\"caxis\":{\"gridcolor\":\"white\",\"linecolor\":\"white\",\"ticks\":\"\"}},\"title\":{\"x\":0.05},\"xaxis\":{\"automargin\":true,\"gridcolor\":\"white\",\"linecolor\":\"white\",\"ticks\":\"\",\"title\":{\"standoff\":15},\"zerolinecolor\":\"white\",\"zerolinewidth\":2},\"yaxis\":{\"automargin\":true,\"gridcolor\":\"white\",\"linecolor\":\"white\",\"ticks\":\"\",\"title\":{\"standoff\":15},\"zerolinecolor\":\"white\",\"zerolinewidth\":2}}},\"title\":{\"text\":\"method sensetivity\"},\"width\":600,\"xaxis\":{\"anchor\":\"y\",\"domain\":[0.0,1.0],\"title\":{\"text\":\"contrast\"}},\"yaxis\":{\"anchor\":\"x\",\"domain\":[0.0,1.0],\"range\":[0.45,0.95],\"title\":{\"text\":\"accuracy\"}}},                        {\"responsive\": true}                    ).then(function(){\n",
       "                            \n",
       "var gd = document.getElementById('3cca273e-dc82-4af7-a1a4-ff661962841a');\n",
       "var x = new MutationObserver(function (mutations, observer) {{\n",
       "        var display = window.getComputedStyle(gd).display;\n",
       "        if (!display || display === 'none') {{\n",
       "            console.log([gd, 'removed!']);\n",
       "            Plotly.purge(gd);\n",
       "            observer.disconnect();\n",
       "        }}\n",
       "}});\n",
       "\n",
       "// Listen for the removal of the full notebook cells\n",
       "var notebookContainer = gd.closest('#notebook-container');\n",
       "if (notebookContainer) {{\n",
       "    x.observe(notebookContainer, {childList: true});\n",
       "}}\n",
       "\n",
       "// Listen for the clearing of the current output cell\n",
       "var outputEl = gd.closest('.output');\n",
       "if (outputEl) {{\n",
       "    x.observe(outputEl, {childList: true});\n",
       "}}\n",
       "\n",
       "                        })                };                });            </script>        </div>"
      ]
     },
     "metadata": {},
     "output_type": "display_data"
    },
    {
     "data": {
      "application/vnd.plotly.v1+json": {
       "config": {
        "plotlyServerURL": "https://plot.ly"
       },
       "data": [
        {
         "alignmentgroup": "True",
         "boxpoints": "all",
         "hovertemplate": "method=model<br>contrast=%{x}<br>accuracy=%{y}<extra></extra>",
         "legendgroup": "model",
         "marker": {
          "color": "#636efa"
         },
         "name": "model",
         "notched": false,
         "offsetgroup": "model",
         "orientation": "v",
         "showlegend": true,
         "type": "box",
         "x": [
          "Stage",
          "Stage",
          "Stage",
          "Stage",
          "Stage",
          "Stage",
          "Stage",
          "Stage",
          "Stage",
          "Stage",
          "Stage",
          "Stage",
          "Stage",
          "Stage",
          "Stage",
          "Stage",
          "Stage",
          "Stage",
          "Stage",
          "Stage"
         ],
         "x0": " ",
         "xaxis": "x",
         "y": [
          0.7894736842105263,
          0.8157894736842105,
          0.7368421052631579,
          0.8947368421052632,
          0.8421052631578947,
          0.7631578947368421,
          0.6842105263157895,
          0.8157894736842105,
          0.868421052631579,
          0.7631578947368421,
          0.868421052631579,
          0.8157894736842105,
          0.7368421052631579,
          0.868421052631579,
          0.7894736842105263,
          0.7368421052631579,
          0.8157894736842105,
          0.8421052631578947,
          0.7894736842105263,
          0.7894736842105263
         ],
         "y0": " ",
         "yaxis": "y"
        },
        {
         "alignmentgroup": "True",
         "boxpoints": "all",
         "hovertemplate": "method=baseline - random<br>contrast=%{x}<br>accuracy=%{y}<extra></extra>",
         "legendgroup": "baseline - random",
         "marker": {
          "color": "#EF553B"
         },
         "name": "baseline - random",
         "notched": false,
         "offsetgroup": "baseline - random",
         "orientation": "v",
         "showlegend": true,
         "type": "box",
         "x": [
          "Stage",
          "Stage",
          "Stage",
          "Stage",
          "Stage",
          "Stage",
          "Stage",
          "Stage",
          "Stage",
          "Stage",
          "Stage",
          "Stage",
          "Stage",
          "Stage",
          "Stage",
          "Stage",
          "Stage",
          "Stage",
          "Stage",
          "Stage"
         ],
         "x0": " ",
         "xaxis": "x",
         "y": [
          0.7631578947368421,
          0.6578947368421053,
          0.7105263157894737,
          0.7105263157894737,
          0.6842105263157895,
          0.6052631578947368,
          0.6842105263157895,
          0.6842105263157895,
          0.7105263157894737,
          0.5789473684210527,
          0.7368421052631579,
          0.631578947368421,
          0.6842105263157895,
          0.6578947368421053,
          0.6842105263157895,
          0.6842105263157895,
          0.6052631578947368,
          0.6052631578947368,
          0.6052631578947368,
          0.8157894736842105
         ],
         "y0": " ",
         "yaxis": "y"
        }
       ],
       "layout": {
        "boxmode": "group",
        "height": 600,
        "legend": {
         "title": {
          "text": "method"
         },
         "tracegroupgap": 0
        },
        "paper_bgcolor": "rgba(0, 0, 0, 0)",
        "plot_bgcolor": "rgba(0, 0, 0, 0)",
        "template": {
         "data": {
          "bar": [
           {
            "error_x": {
             "color": "#2a3f5f"
            },
            "error_y": {
             "color": "#2a3f5f"
            },
            "marker": {
             "line": {
              "color": "#E5ECF6",
              "width": 0.5
             },
             "pattern": {
              "fillmode": "overlay",
              "size": 10,
              "solidity": 0.2
             }
            },
            "type": "bar"
           }
          ],
          "barpolar": [
           {
            "marker": {
             "line": {
              "color": "#E5ECF6",
              "width": 0.5
             },
             "pattern": {
              "fillmode": "overlay",
              "size": 10,
              "solidity": 0.2
             }
            },
            "type": "barpolar"
           }
          ],
          "carpet": [
           {
            "aaxis": {
             "endlinecolor": "#2a3f5f",
             "gridcolor": "white",
             "linecolor": "white",
             "minorgridcolor": "white",
             "startlinecolor": "#2a3f5f"
            },
            "baxis": {
             "endlinecolor": "#2a3f5f",
             "gridcolor": "white",
             "linecolor": "white",
             "minorgridcolor": "white",
             "startlinecolor": "#2a3f5f"
            },
            "type": "carpet"
           }
          ],
          "choropleth": [
           {
            "colorbar": {
             "outlinewidth": 0,
             "ticks": ""
            },
            "type": "choropleth"
           }
          ],
          "contour": [
           {
            "colorbar": {
             "outlinewidth": 0,
             "ticks": ""
            },
            "colorscale": [
             [
              0,
              "#0d0887"
             ],
             [
              0.1111111111111111,
              "#46039f"
             ],
             [
              0.2222222222222222,
              "#7201a8"
             ],
             [
              0.3333333333333333,
              "#9c179e"
             ],
             [
              0.4444444444444444,
              "#bd3786"
             ],
             [
              0.5555555555555556,
              "#d8576b"
             ],
             [
              0.6666666666666666,
              "#ed7953"
             ],
             [
              0.7777777777777778,
              "#fb9f3a"
             ],
             [
              0.8888888888888888,
              "#fdca26"
             ],
             [
              1,
              "#f0f921"
             ]
            ],
            "type": "contour"
           }
          ],
          "contourcarpet": [
           {
            "colorbar": {
             "outlinewidth": 0,
             "ticks": ""
            },
            "type": "contourcarpet"
           }
          ],
          "heatmap": [
           {
            "colorbar": {
             "outlinewidth": 0,
             "ticks": ""
            },
            "colorscale": [
             [
              0,
              "#0d0887"
             ],
             [
              0.1111111111111111,
              "#46039f"
             ],
             [
              0.2222222222222222,
              "#7201a8"
             ],
             [
              0.3333333333333333,
              "#9c179e"
             ],
             [
              0.4444444444444444,
              "#bd3786"
             ],
             [
              0.5555555555555556,
              "#d8576b"
             ],
             [
              0.6666666666666666,
              "#ed7953"
             ],
             [
              0.7777777777777778,
              "#fb9f3a"
             ],
             [
              0.8888888888888888,
              "#fdca26"
             ],
             [
              1,
              "#f0f921"
             ]
            ],
            "type": "heatmap"
           }
          ],
          "heatmapgl": [
           {
            "colorbar": {
             "outlinewidth": 0,
             "ticks": ""
            },
            "colorscale": [
             [
              0,
              "#0d0887"
             ],
             [
              0.1111111111111111,
              "#46039f"
             ],
             [
              0.2222222222222222,
              "#7201a8"
             ],
             [
              0.3333333333333333,
              "#9c179e"
             ],
             [
              0.4444444444444444,
              "#bd3786"
             ],
             [
              0.5555555555555556,
              "#d8576b"
             ],
             [
              0.6666666666666666,
              "#ed7953"
             ],
             [
              0.7777777777777778,
              "#fb9f3a"
             ],
             [
              0.8888888888888888,
              "#fdca26"
             ],
             [
              1,
              "#f0f921"
             ]
            ],
            "type": "heatmapgl"
           }
          ],
          "histogram": [
           {
            "marker": {
             "pattern": {
              "fillmode": "overlay",
              "size": 10,
              "solidity": 0.2
             }
            },
            "type": "histogram"
           }
          ],
          "histogram2d": [
           {
            "colorbar": {
             "outlinewidth": 0,
             "ticks": ""
            },
            "colorscale": [
             [
              0,
              "#0d0887"
             ],
             [
              0.1111111111111111,
              "#46039f"
             ],
             [
              0.2222222222222222,
              "#7201a8"
             ],
             [
              0.3333333333333333,
              "#9c179e"
             ],
             [
              0.4444444444444444,
              "#bd3786"
             ],
             [
              0.5555555555555556,
              "#d8576b"
             ],
             [
              0.6666666666666666,
              "#ed7953"
             ],
             [
              0.7777777777777778,
              "#fb9f3a"
             ],
             [
              0.8888888888888888,
              "#fdca26"
             ],
             [
              1,
              "#f0f921"
             ]
            ],
            "type": "histogram2d"
           }
          ],
          "histogram2dcontour": [
           {
            "colorbar": {
             "outlinewidth": 0,
             "ticks": ""
            },
            "colorscale": [
             [
              0,
              "#0d0887"
             ],
             [
              0.1111111111111111,
              "#46039f"
             ],
             [
              0.2222222222222222,
              "#7201a8"
             ],
             [
              0.3333333333333333,
              "#9c179e"
             ],
             [
              0.4444444444444444,
              "#bd3786"
             ],
             [
              0.5555555555555556,
              "#d8576b"
             ],
             [
              0.6666666666666666,
              "#ed7953"
             ],
             [
              0.7777777777777778,
              "#fb9f3a"
             ],
             [
              0.8888888888888888,
              "#fdca26"
             ],
             [
              1,
              "#f0f921"
             ]
            ],
            "type": "histogram2dcontour"
           }
          ],
          "mesh3d": [
           {
            "colorbar": {
             "outlinewidth": 0,
             "ticks": ""
            },
            "type": "mesh3d"
           }
          ],
          "parcoords": [
           {
            "line": {
             "colorbar": {
              "outlinewidth": 0,
              "ticks": ""
             }
            },
            "type": "parcoords"
           }
          ],
          "pie": [
           {
            "automargin": true,
            "type": "pie"
           }
          ],
          "scatter": [
           {
            "marker": {
             "colorbar": {
              "outlinewidth": 0,
              "ticks": ""
             }
            },
            "type": "scatter"
           }
          ],
          "scatter3d": [
           {
            "line": {
             "colorbar": {
              "outlinewidth": 0,
              "ticks": ""
             }
            },
            "marker": {
             "colorbar": {
              "outlinewidth": 0,
              "ticks": ""
             }
            },
            "type": "scatter3d"
           }
          ],
          "scattercarpet": [
           {
            "marker": {
             "colorbar": {
              "outlinewidth": 0,
              "ticks": ""
             }
            },
            "type": "scattercarpet"
           }
          ],
          "scattergeo": [
           {
            "marker": {
             "colorbar": {
              "outlinewidth": 0,
              "ticks": ""
             }
            },
            "type": "scattergeo"
           }
          ],
          "scattergl": [
           {
            "marker": {
             "colorbar": {
              "outlinewidth": 0,
              "ticks": ""
             }
            },
            "type": "scattergl"
           }
          ],
          "scattermapbox": [
           {
            "marker": {
             "colorbar": {
              "outlinewidth": 0,
              "ticks": ""
             }
            },
            "type": "scattermapbox"
           }
          ],
          "scatterpolar": [
           {
            "marker": {
             "colorbar": {
              "outlinewidth": 0,
              "ticks": ""
             }
            },
            "type": "scatterpolar"
           }
          ],
          "scatterpolargl": [
           {
            "marker": {
             "colorbar": {
              "outlinewidth": 0,
              "ticks": ""
             }
            },
            "type": "scatterpolargl"
           }
          ],
          "scatterternary": [
           {
            "marker": {
             "colorbar": {
              "outlinewidth": 0,
              "ticks": ""
             }
            },
            "type": "scatterternary"
           }
          ],
          "surface": [
           {
            "colorbar": {
             "outlinewidth": 0,
             "ticks": ""
            },
            "colorscale": [
             [
              0,
              "#0d0887"
             ],
             [
              0.1111111111111111,
              "#46039f"
             ],
             [
              0.2222222222222222,
              "#7201a8"
             ],
             [
              0.3333333333333333,
              "#9c179e"
             ],
             [
              0.4444444444444444,
              "#bd3786"
             ],
             [
              0.5555555555555556,
              "#d8576b"
             ],
             [
              0.6666666666666666,
              "#ed7953"
             ],
             [
              0.7777777777777778,
              "#fb9f3a"
             ],
             [
              0.8888888888888888,
              "#fdca26"
             ],
             [
              1,
              "#f0f921"
             ]
            ],
            "type": "surface"
           }
          ],
          "table": [
           {
            "cells": {
             "fill": {
              "color": "#EBF0F8"
             },
             "line": {
              "color": "white"
             }
            },
            "header": {
             "fill": {
              "color": "#C8D4E3"
             },
             "line": {
              "color": "white"
             }
            },
            "type": "table"
           }
          ]
         },
         "layout": {
          "annotationdefaults": {
           "arrowcolor": "#2a3f5f",
           "arrowhead": 0,
           "arrowwidth": 1
          },
          "autotypenumbers": "strict",
          "coloraxis": {
           "colorbar": {
            "outlinewidth": 0,
            "ticks": ""
           }
          },
          "colorscale": {
           "diverging": [
            [
             0,
             "#8e0152"
            ],
            [
             0.1,
             "#c51b7d"
            ],
            [
             0.2,
             "#de77ae"
            ],
            [
             0.3,
             "#f1b6da"
            ],
            [
             0.4,
             "#fde0ef"
            ],
            [
             0.5,
             "#f7f7f7"
            ],
            [
             0.6,
             "#e6f5d0"
            ],
            [
             0.7,
             "#b8e186"
            ],
            [
             0.8,
             "#7fbc41"
            ],
            [
             0.9,
             "#4d9221"
            ],
            [
             1,
             "#276419"
            ]
           ],
           "sequential": [
            [
             0,
             "#0d0887"
            ],
            [
             0.1111111111111111,
             "#46039f"
            ],
            [
             0.2222222222222222,
             "#7201a8"
            ],
            [
             0.3333333333333333,
             "#9c179e"
            ],
            [
             0.4444444444444444,
             "#bd3786"
            ],
            [
             0.5555555555555556,
             "#d8576b"
            ],
            [
             0.6666666666666666,
             "#ed7953"
            ],
            [
             0.7777777777777778,
             "#fb9f3a"
            ],
            [
             0.8888888888888888,
             "#fdca26"
            ],
            [
             1,
             "#f0f921"
            ]
           ],
           "sequentialminus": [
            [
             0,
             "#0d0887"
            ],
            [
             0.1111111111111111,
             "#46039f"
            ],
            [
             0.2222222222222222,
             "#7201a8"
            ],
            [
             0.3333333333333333,
             "#9c179e"
            ],
            [
             0.4444444444444444,
             "#bd3786"
            ],
            [
             0.5555555555555556,
             "#d8576b"
            ],
            [
             0.6666666666666666,
             "#ed7953"
            ],
            [
             0.7777777777777778,
             "#fb9f3a"
            ],
            [
             0.8888888888888888,
             "#fdca26"
            ],
            [
             1,
             "#f0f921"
            ]
           ]
          },
          "colorway": [
           "#636efa",
           "#EF553B",
           "#00cc96",
           "#ab63fa",
           "#FFA15A",
           "#19d3f3",
           "#FF6692",
           "#B6E880",
           "#FF97FF",
           "#FECB52"
          ],
          "font": {
           "color": "#2a3f5f"
          },
          "geo": {
           "bgcolor": "white",
           "lakecolor": "white",
           "landcolor": "#E5ECF6",
           "showlakes": true,
           "showland": true,
           "subunitcolor": "white"
          },
          "hoverlabel": {
           "align": "left"
          },
          "hovermode": "closest",
          "mapbox": {
           "style": "light"
          },
          "paper_bgcolor": "white",
          "plot_bgcolor": "#E5ECF6",
          "polar": {
           "angularaxis": {
            "gridcolor": "white",
            "linecolor": "white",
            "ticks": ""
           },
           "bgcolor": "#E5ECF6",
           "radialaxis": {
            "gridcolor": "white",
            "linecolor": "white",
            "ticks": ""
           }
          },
          "scene": {
           "xaxis": {
            "backgroundcolor": "#E5ECF6",
            "gridcolor": "white",
            "gridwidth": 2,
            "linecolor": "white",
            "showbackground": true,
            "ticks": "",
            "zerolinecolor": "white"
           },
           "yaxis": {
            "backgroundcolor": "#E5ECF6",
            "gridcolor": "white",
            "gridwidth": 2,
            "linecolor": "white",
            "showbackground": true,
            "ticks": "",
            "zerolinecolor": "white"
           },
           "zaxis": {
            "backgroundcolor": "#E5ECF6",
            "gridcolor": "white",
            "gridwidth": 2,
            "linecolor": "white",
            "showbackground": true,
            "ticks": "",
            "zerolinecolor": "white"
           }
          },
          "shapedefaults": {
           "line": {
            "color": "#2a3f5f"
           }
          },
          "ternary": {
           "aaxis": {
            "gridcolor": "white",
            "linecolor": "white",
            "ticks": ""
           },
           "baxis": {
            "gridcolor": "white",
            "linecolor": "white",
            "ticks": ""
           },
           "bgcolor": "#E5ECF6",
           "caxis": {
            "gridcolor": "white",
            "linecolor": "white",
            "ticks": ""
           }
          },
          "title": {
           "x": 0.05
          },
          "xaxis": {
           "automargin": true,
           "gridcolor": "white",
           "linecolor": "white",
           "ticks": "",
           "title": {
            "standoff": 15
           },
           "zerolinecolor": "white",
           "zerolinewidth": 2
          },
          "yaxis": {
           "automargin": true,
           "gridcolor": "white",
           "linecolor": "white",
           "ticks": "",
           "title": {
            "standoff": 15
           },
           "zerolinecolor": "white",
           "zerolinewidth": 2
          }
         }
        },
        "title": {
         "text": "method sensetivity"
        },
        "width": 400,
        "xaxis": {
         "anchor": "y",
         "autorange": true,
         "domain": [
          0,
          1
         ],
         "range": [
          -0.6178693181818181,
          0.5588352272727273
         ],
         "title": {
          "text": "contrast"
         },
         "type": "category"
        },
        "yaxis": {
         "anchor": "x",
         "domain": [
          0,
          1
         ],
         "range": [
          0.45,
          0.95
         ],
         "title": {
          "text": "accuracy"
         },
         "type": "linear"
        }
       }
      },
      "text/html": [
       "<div>                            <div id=\"a25b34a9-d090-4164-aef8-958c8cb1078c\" class=\"plotly-graph-div\" style=\"height:600px; width:400px;\"></div>            <script type=\"text/javascript\">                require([\"plotly\"], function(Plotly) {                    window.PLOTLYENV=window.PLOTLYENV || {};                                    if (document.getElementById(\"a25b34a9-d090-4164-aef8-958c8cb1078c\")) {                    Plotly.newPlot(                        \"a25b34a9-d090-4164-aef8-958c8cb1078c\",                        [{\"alignmentgroup\":\"True\",\"boxpoints\":\"all\",\"hovertemplate\":\"method=model<br>contrast=%{x}<br>accuracy=%{y}<extra></extra>\",\"legendgroup\":\"model\",\"marker\":{\"color\":\"#636efa\"},\"name\":\"model\",\"notched\":false,\"offsetgroup\":\"model\",\"orientation\":\"v\",\"showlegend\":true,\"type\":\"box\",\"x\":[\"Stage\",\"Stage\",\"Stage\",\"Stage\",\"Stage\",\"Stage\",\"Stage\",\"Stage\",\"Stage\",\"Stage\",\"Stage\",\"Stage\",\"Stage\",\"Stage\",\"Stage\",\"Stage\",\"Stage\",\"Stage\",\"Stage\",\"Stage\"],\"x0\":\" \",\"xaxis\":\"x\",\"y\":[0.7894736842105263,0.8157894736842105,0.7368421052631579,0.8947368421052632,0.8421052631578947,0.7631578947368421,0.6842105263157895,0.8157894736842105,0.868421052631579,0.7631578947368421,0.868421052631579,0.8157894736842105,0.7368421052631579,0.868421052631579,0.7894736842105263,0.7368421052631579,0.8157894736842105,0.8421052631578947,0.7894736842105263,0.7894736842105263],\"y0\":\" \",\"yaxis\":\"y\"},{\"alignmentgroup\":\"True\",\"boxpoints\":\"all\",\"hovertemplate\":\"method=baseline - random<br>contrast=%{x}<br>accuracy=%{y}<extra></extra>\",\"legendgroup\":\"baseline - random\",\"marker\":{\"color\":\"#EF553B\"},\"name\":\"baseline - random\",\"notched\":false,\"offsetgroup\":\"baseline - random\",\"orientation\":\"v\",\"showlegend\":true,\"type\":\"box\",\"x\":[\"Stage\",\"Stage\",\"Stage\",\"Stage\",\"Stage\",\"Stage\",\"Stage\",\"Stage\",\"Stage\",\"Stage\",\"Stage\",\"Stage\",\"Stage\",\"Stage\",\"Stage\",\"Stage\",\"Stage\",\"Stage\",\"Stage\",\"Stage\"],\"x0\":\" \",\"xaxis\":\"x\",\"y\":[0.7631578947368421,0.6578947368421053,0.7105263157894737,0.7105263157894737,0.6842105263157895,0.6052631578947368,0.6842105263157895,0.6842105263157895,0.7105263157894737,0.5789473684210527,0.7368421052631579,0.631578947368421,0.6842105263157895,0.6578947368421053,0.6842105263157895,0.6842105263157895,0.6052631578947368,0.6052631578947368,0.6052631578947368,0.8157894736842105],\"y0\":\" \",\"yaxis\":\"y\"}],                        {\"boxmode\":\"group\",\"height\":600,\"legend\":{\"title\":{\"text\":\"method\"},\"tracegroupgap\":0},\"paper_bgcolor\":\"rgba(0, 0, 0, 0)\",\"plot_bgcolor\":\"rgba(0, 0, 0, 0)\",\"template\":{\"data\":{\"bar\":[{\"error_x\":{\"color\":\"#2a3f5f\"},\"error_y\":{\"color\":\"#2a3f5f\"},\"marker\":{\"line\":{\"color\":\"#E5ECF6\",\"width\":0.5},\"pattern\":{\"fillmode\":\"overlay\",\"size\":10,\"solidity\":0.2}},\"type\":\"bar\"}],\"barpolar\":[{\"marker\":{\"line\":{\"color\":\"#E5ECF6\",\"width\":0.5},\"pattern\":{\"fillmode\":\"overlay\",\"size\":10,\"solidity\":0.2}},\"type\":\"barpolar\"}],\"carpet\":[{\"aaxis\":{\"endlinecolor\":\"#2a3f5f\",\"gridcolor\":\"white\",\"linecolor\":\"white\",\"minorgridcolor\":\"white\",\"startlinecolor\":\"#2a3f5f\"},\"baxis\":{\"endlinecolor\":\"#2a3f5f\",\"gridcolor\":\"white\",\"linecolor\":\"white\",\"minorgridcolor\":\"white\",\"startlinecolor\":\"#2a3f5f\"},\"type\":\"carpet\"}],\"choropleth\":[{\"colorbar\":{\"outlinewidth\":0,\"ticks\":\"\"},\"type\":\"choropleth\"}],\"contour\":[{\"colorbar\":{\"outlinewidth\":0,\"ticks\":\"\"},\"colorscale\":[[0.0,\"#0d0887\"],[0.1111111111111111,\"#46039f\"],[0.2222222222222222,\"#7201a8\"],[0.3333333333333333,\"#9c179e\"],[0.4444444444444444,\"#bd3786\"],[0.5555555555555556,\"#d8576b\"],[0.6666666666666666,\"#ed7953\"],[0.7777777777777778,\"#fb9f3a\"],[0.8888888888888888,\"#fdca26\"],[1.0,\"#f0f921\"]],\"type\":\"contour\"}],\"contourcarpet\":[{\"colorbar\":{\"outlinewidth\":0,\"ticks\":\"\"},\"type\":\"contourcarpet\"}],\"heatmap\":[{\"colorbar\":{\"outlinewidth\":0,\"ticks\":\"\"},\"colorscale\":[[0.0,\"#0d0887\"],[0.1111111111111111,\"#46039f\"],[0.2222222222222222,\"#7201a8\"],[0.3333333333333333,\"#9c179e\"],[0.4444444444444444,\"#bd3786\"],[0.5555555555555556,\"#d8576b\"],[0.6666666666666666,\"#ed7953\"],[0.7777777777777778,\"#fb9f3a\"],[0.8888888888888888,\"#fdca26\"],[1.0,\"#f0f921\"]],\"type\":\"heatmap\"}],\"heatmapgl\":[{\"colorbar\":{\"outlinewidth\":0,\"ticks\":\"\"},\"colorscale\":[[0.0,\"#0d0887\"],[0.1111111111111111,\"#46039f\"],[0.2222222222222222,\"#7201a8\"],[0.3333333333333333,\"#9c179e\"],[0.4444444444444444,\"#bd3786\"],[0.5555555555555556,\"#d8576b\"],[0.6666666666666666,\"#ed7953\"],[0.7777777777777778,\"#fb9f3a\"],[0.8888888888888888,\"#fdca26\"],[1.0,\"#f0f921\"]],\"type\":\"heatmapgl\"}],\"histogram\":[{\"marker\":{\"pattern\":{\"fillmode\":\"overlay\",\"size\":10,\"solidity\":0.2}},\"type\":\"histogram\"}],\"histogram2d\":[{\"colorbar\":{\"outlinewidth\":0,\"ticks\":\"\"},\"colorscale\":[[0.0,\"#0d0887\"],[0.1111111111111111,\"#46039f\"],[0.2222222222222222,\"#7201a8\"],[0.3333333333333333,\"#9c179e\"],[0.4444444444444444,\"#bd3786\"],[0.5555555555555556,\"#d8576b\"],[0.6666666666666666,\"#ed7953\"],[0.7777777777777778,\"#fb9f3a\"],[0.8888888888888888,\"#fdca26\"],[1.0,\"#f0f921\"]],\"type\":\"histogram2d\"}],\"histogram2dcontour\":[{\"colorbar\":{\"outlinewidth\":0,\"ticks\":\"\"},\"colorscale\":[[0.0,\"#0d0887\"],[0.1111111111111111,\"#46039f\"],[0.2222222222222222,\"#7201a8\"],[0.3333333333333333,\"#9c179e\"],[0.4444444444444444,\"#bd3786\"],[0.5555555555555556,\"#d8576b\"],[0.6666666666666666,\"#ed7953\"],[0.7777777777777778,\"#fb9f3a\"],[0.8888888888888888,\"#fdca26\"],[1.0,\"#f0f921\"]],\"type\":\"histogram2dcontour\"}],\"mesh3d\":[{\"colorbar\":{\"outlinewidth\":0,\"ticks\":\"\"},\"type\":\"mesh3d\"}],\"parcoords\":[{\"line\":{\"colorbar\":{\"outlinewidth\":0,\"ticks\":\"\"}},\"type\":\"parcoords\"}],\"pie\":[{\"automargin\":true,\"type\":\"pie\"}],\"scatter\":[{\"marker\":{\"colorbar\":{\"outlinewidth\":0,\"ticks\":\"\"}},\"type\":\"scatter\"}],\"scatter3d\":[{\"line\":{\"colorbar\":{\"outlinewidth\":0,\"ticks\":\"\"}},\"marker\":{\"colorbar\":{\"outlinewidth\":0,\"ticks\":\"\"}},\"type\":\"scatter3d\"}],\"scattercarpet\":[{\"marker\":{\"colorbar\":{\"outlinewidth\":0,\"ticks\":\"\"}},\"type\":\"scattercarpet\"}],\"scattergeo\":[{\"marker\":{\"colorbar\":{\"outlinewidth\":0,\"ticks\":\"\"}},\"type\":\"scattergeo\"}],\"scattergl\":[{\"marker\":{\"colorbar\":{\"outlinewidth\":0,\"ticks\":\"\"}},\"type\":\"scattergl\"}],\"scattermapbox\":[{\"marker\":{\"colorbar\":{\"outlinewidth\":0,\"ticks\":\"\"}},\"type\":\"scattermapbox\"}],\"scatterpolar\":[{\"marker\":{\"colorbar\":{\"outlinewidth\":0,\"ticks\":\"\"}},\"type\":\"scatterpolar\"}],\"scatterpolargl\":[{\"marker\":{\"colorbar\":{\"outlinewidth\":0,\"ticks\":\"\"}},\"type\":\"scatterpolargl\"}],\"scatterternary\":[{\"marker\":{\"colorbar\":{\"outlinewidth\":0,\"ticks\":\"\"}},\"type\":\"scatterternary\"}],\"surface\":[{\"colorbar\":{\"outlinewidth\":0,\"ticks\":\"\"},\"colorscale\":[[0.0,\"#0d0887\"],[0.1111111111111111,\"#46039f\"],[0.2222222222222222,\"#7201a8\"],[0.3333333333333333,\"#9c179e\"],[0.4444444444444444,\"#bd3786\"],[0.5555555555555556,\"#d8576b\"],[0.6666666666666666,\"#ed7953\"],[0.7777777777777778,\"#fb9f3a\"],[0.8888888888888888,\"#fdca26\"],[1.0,\"#f0f921\"]],\"type\":\"surface\"}],\"table\":[{\"cells\":{\"fill\":{\"color\":\"#EBF0F8\"},\"line\":{\"color\":\"white\"}},\"header\":{\"fill\":{\"color\":\"#C8D4E3\"},\"line\":{\"color\":\"white\"}},\"type\":\"table\"}]},\"layout\":{\"annotationdefaults\":{\"arrowcolor\":\"#2a3f5f\",\"arrowhead\":0,\"arrowwidth\":1},\"autotypenumbers\":\"strict\",\"coloraxis\":{\"colorbar\":{\"outlinewidth\":0,\"ticks\":\"\"}},\"colorscale\":{\"diverging\":[[0,\"#8e0152\"],[0.1,\"#c51b7d\"],[0.2,\"#de77ae\"],[0.3,\"#f1b6da\"],[0.4,\"#fde0ef\"],[0.5,\"#f7f7f7\"],[0.6,\"#e6f5d0\"],[0.7,\"#b8e186\"],[0.8,\"#7fbc41\"],[0.9,\"#4d9221\"],[1,\"#276419\"]],\"sequential\":[[0.0,\"#0d0887\"],[0.1111111111111111,\"#46039f\"],[0.2222222222222222,\"#7201a8\"],[0.3333333333333333,\"#9c179e\"],[0.4444444444444444,\"#bd3786\"],[0.5555555555555556,\"#d8576b\"],[0.6666666666666666,\"#ed7953\"],[0.7777777777777778,\"#fb9f3a\"],[0.8888888888888888,\"#fdca26\"],[1.0,\"#f0f921\"]],\"sequentialminus\":[[0.0,\"#0d0887\"],[0.1111111111111111,\"#46039f\"],[0.2222222222222222,\"#7201a8\"],[0.3333333333333333,\"#9c179e\"],[0.4444444444444444,\"#bd3786\"],[0.5555555555555556,\"#d8576b\"],[0.6666666666666666,\"#ed7953\"],[0.7777777777777778,\"#fb9f3a\"],[0.8888888888888888,\"#fdca26\"],[1.0,\"#f0f921\"]]},\"colorway\":[\"#636efa\",\"#EF553B\",\"#00cc96\",\"#ab63fa\",\"#FFA15A\",\"#19d3f3\",\"#FF6692\",\"#B6E880\",\"#FF97FF\",\"#FECB52\"],\"font\":{\"color\":\"#2a3f5f\"},\"geo\":{\"bgcolor\":\"white\",\"lakecolor\":\"white\",\"landcolor\":\"#E5ECF6\",\"showlakes\":true,\"showland\":true,\"subunitcolor\":\"white\"},\"hoverlabel\":{\"align\":\"left\"},\"hovermode\":\"closest\",\"mapbox\":{\"style\":\"light\"},\"paper_bgcolor\":\"white\",\"plot_bgcolor\":\"#E5ECF6\",\"polar\":{\"angularaxis\":{\"gridcolor\":\"white\",\"linecolor\":\"white\",\"ticks\":\"\"},\"bgcolor\":\"#E5ECF6\",\"radialaxis\":{\"gridcolor\":\"white\",\"linecolor\":\"white\",\"ticks\":\"\"}},\"scene\":{\"xaxis\":{\"backgroundcolor\":\"#E5ECF6\",\"gridcolor\":\"white\",\"gridwidth\":2,\"linecolor\":\"white\",\"showbackground\":true,\"ticks\":\"\",\"zerolinecolor\":\"white\"},\"yaxis\":{\"backgroundcolor\":\"#E5ECF6\",\"gridcolor\":\"white\",\"gridwidth\":2,\"linecolor\":\"white\",\"showbackground\":true,\"ticks\":\"\",\"zerolinecolor\":\"white\"},\"zaxis\":{\"backgroundcolor\":\"#E5ECF6\",\"gridcolor\":\"white\",\"gridwidth\":2,\"linecolor\":\"white\",\"showbackground\":true,\"ticks\":\"\",\"zerolinecolor\":\"white\"}},\"shapedefaults\":{\"line\":{\"color\":\"#2a3f5f\"}},\"ternary\":{\"aaxis\":{\"gridcolor\":\"white\",\"linecolor\":\"white\",\"ticks\":\"\"},\"baxis\":{\"gridcolor\":\"white\",\"linecolor\":\"white\",\"ticks\":\"\"},\"bgcolor\":\"#E5ECF6\",\"caxis\":{\"gridcolor\":\"white\",\"linecolor\":\"white\",\"ticks\":\"\"}},\"title\":{\"x\":0.05},\"xaxis\":{\"automargin\":true,\"gridcolor\":\"white\",\"linecolor\":\"white\",\"ticks\":\"\",\"title\":{\"standoff\":15},\"zerolinecolor\":\"white\",\"zerolinewidth\":2},\"yaxis\":{\"automargin\":true,\"gridcolor\":\"white\",\"linecolor\":\"white\",\"ticks\":\"\",\"title\":{\"standoff\":15},\"zerolinecolor\":\"white\",\"zerolinewidth\":2}}},\"title\":{\"text\":\"method sensetivity\"},\"width\":400,\"xaxis\":{\"anchor\":\"y\",\"domain\":[0.0,1.0],\"title\":{\"text\":\"contrast\"}},\"yaxis\":{\"anchor\":\"x\",\"domain\":[0.0,1.0],\"range\":[0.45,0.95],\"title\":{\"text\":\"accuracy\"}}},                        {\"responsive\": true}                    ).then(function(){\n",
       "                            \n",
       "var gd = document.getElementById('a25b34a9-d090-4164-aef8-958c8cb1078c');\n",
       "var x = new MutationObserver(function (mutations, observer) {{\n",
       "        var display = window.getComputedStyle(gd).display;\n",
       "        if (!display || display === 'none') {{\n",
       "            console.log([gd, 'removed!']);\n",
       "            Plotly.purge(gd);\n",
       "            observer.disconnect();\n",
       "        }}\n",
       "}});\n",
       "\n",
       "// Listen for the removal of the full notebook cells\n",
       "var notebookContainer = gd.closest('#notebook-container');\n",
       "if (notebookContainer) {{\n",
       "    x.observe(notebookContainer, {childList: true});\n",
       "}}\n",
       "\n",
       "// Listen for the clearing of the current output cell\n",
       "var outputEl = gd.closest('.output');\n",
       "if (outputEl) {{\n",
       "    x.observe(outputEl, {childList: true});\n",
       "}}\n",
       "\n",
       "                        })                };                });            </script>        </div>"
      ]
     },
     "metadata": {},
     "output_type": "display_data"
    }
   ],
   "source": [
    "import plotly.express as px\n",
    "import plotly.graph_objects as go\n",
    "from plotly.subplots import make_subplots\n",
    "\n",
    "all_types = { \n",
    "    \"treatments\" : ['Bortezomib', 'DARA', 'Lenalidomide', 'Pomalidomide', 'Carfilzomib'],\n",
    "    \"treatments_groups\": ['IMiD.Resistance.Len.Pom.Thali', 'Triple.Ref', 'PI.Resistance.Bort.Carf.Ixa'],\n",
    "    \"stage\": [\"Stage\"]\n",
    "}\n",
    "\n",
    "widths = {\n",
    "    \"treatments\" : 800,\n",
    "    \"treatments_groups\": 600,\n",
    "    \"stage\": 400\n",
    "}\n",
    "\n",
    "for key in all_types:\n",
    "    f1_df_parial = f1_df[f1_df[\"contrast\"].apply(lambda x: x in all_types[key])]\n",
    "    fig = px.box(f1_df_parial, color=\"method\", x=\"contrast\" ,y=metric_name, points=\"all\",  width=widths[key], height=600, title = \"method sensetivity\") \n",
    "    # fig.add_trace(go.Box(f1_df, color=\"method\", x=\"contrast\" ,y=metric_name,  width=800, height=600, title = \"method sensetivity\"), row=1, col=1)\n",
    "    fig.update(layout_yaxis_range = [0.45,0.95])\n",
    "    fig.update_layout(\n",
    "        # template='plotly_dark',\n",
    "        plot_bgcolor='rgba(0, 0, 0, 0)',\n",
    "        paper_bgcolor='rgba(0, 0, 0, 0)',\n",
    "    )\n",
    "    fig.show()"
   ]
  },
  {
   "cell_type": "code",
   "execution_count": 71,
   "metadata": {
    "scrolled": true
   },
   "outputs": [
    {
     "name": "stdout",
     "output_type": "stream",
     "text": [
      "dict_keys(['Bortezomib', 'Carfilzomib', 'Lenalidomide', 'Pomalidomide', 'DARA', 'Triple.Ref', 'IMiD.Resistance.Len.Pom.Thali', 'PI.Resistance.Bort.Carf.Ixa'])\n"
     ]
    },
    {
     "data": {
      "text/plain": [
       "[LogisticRegression(C=5.502004429600403, solver='liblinear'),\n",
       " XGBClassifier(base_score=None, booster='dart', callbacks=None,\n",
       "               colsample_bylevel=None, colsample_bynode=None,\n",
       "               colsample_bytree=None, device=None, early_stopping_rounds=None,\n",
       "               enable_categorical=False, eval_metric=None, feature_types=None,\n",
       "               gamma=None, grow_policy=None, importance_type=None,\n",
       "               interaction_constraints=None, learning_rate=None, max_bin=None,\n",
       "               max_cat_threshold=None, max_cat_to_onehot=None,\n",
       "               max_delta_step=None, max_depth=3, max_leaves=None,\n",
       "               min_child_weight=None, missing=nan, monotone_constraints=None,\n",
       "               multi_strategy=None, n_estimators=9, n_jobs=None,\n",
       "               num_parallel_tree=None, random_state=None, ...),\n",
       " LogisticRegression(C=1.02625866098346, penalty='l1', solver='liblinear'),\n",
       " LogisticRegression(C=5.505053338271812, penalty='l1', solver='liblinear'),\n",
       " LogisticRegression(C=0.5398110952583985, solver='liblinear'),\n",
       " XGBClassifier(base_score=None, booster='gbtree', callbacks=None,\n",
       "               colsample_bylevel=None, colsample_bynode=None,\n",
       "               colsample_bytree=None, device=None, early_stopping_rounds=None,\n",
       "               enable_categorical=False, eval_metric=None, feature_types=None,\n",
       "               gamma=None, grow_policy=None, importance_type=None,\n",
       "               interaction_constraints=None, learning_rate=None, max_bin=None,\n",
       "               max_cat_threshold=None, max_cat_to_onehot=None,\n",
       "               max_delta_step=None, max_depth=1, max_leaves=None,\n",
       "               min_child_weight=None, missing=nan, monotone_constraints=None,\n",
       "               multi_strategy=None, n_estimators=15, n_jobs=None,\n",
       "               num_parallel_tree=None, random_state=None, ...),\n",
       " LogisticRegression(C=0.4547621452980507, solver='liblinear'),\n",
       " XGBClassifier(base_score=None, booster='dart', callbacks=None,\n",
       "               colsample_bylevel=None, colsample_bynode=None,\n",
       "               colsample_bytree=None, device=None, early_stopping_rounds=None,\n",
       "               enable_categorical=False, eval_metric=None, feature_types=None,\n",
       "               gamma=None, grow_policy=None, importance_type=None,\n",
       "               interaction_constraints=None, learning_rate=None, max_bin=None,\n",
       "               max_cat_threshold=None, max_cat_to_onehot=None,\n",
       "               max_delta_step=None, max_depth=2, max_leaves=None,\n",
       "               min_child_weight=None, missing=nan, monotone_constraints=None,\n",
       "               multi_strategy=None, n_estimators=15, n_jobs=None,\n",
       "               num_parallel_tree=None, random_state=None, ...)]"
      ]
     },
     "execution_count": 71,
     "metadata": {},
     "output_type": "execute_result"
    }
   ],
   "source": [
    "print(monitor.keys())\n",
    "[exp_data.model for exp_data in monitor.values()]"
   ]
  },
  {
   "cell_type": "code",
   "execution_count": 81,
   "metadata": {
    "scrolled": true
   },
   "outputs": [
    {
     "name": "stderr",
     "output_type": "stream",
     "text": [
      "/home/labs/amit/noamsh/.conda/envs/sc_clustering_noam/lib/python3.9/site-packages/xgboost/core.py:160: UserWarning:\n",
      "\n",
      "[22:46:17] WARNING: /workspace/src/c_api/c_api.cc:1240: Saving into deprecated binary model format, please consider using `json` or `ubj`. Model format will default to JSON in XGBoost 2.2 if not specified.\n",
      "\n"
     ]
    },
    {
     "ename": "TypeError",
     "evalue": "The passed model is not callable and cannot be analyzed directly with the given masker! Model: XGBClassifier(base_score=None, booster='dart', callbacks=None,\n              colsample_bylevel=None, colsample_bynode=None,\n              colsample_bytree=None, device=None, early_stopping_rounds=None,\n              enable_categorical=False, eval_metric=None, feature_types=None,\n              gamma=None, grow_policy=None, importance_type=None,\n              interaction_constraints=None, learning_rate=None, max_bin=None,\n              max_cat_threshold=None, max_cat_to_onehot=None,\n              max_delta_step=None, max_depth=3, max_leaves=None,\n              min_child_weight=None, missing=nan, monotone_constraints=None,\n              multi_strategy=None, n_estimators=9, n_jobs=None,\n              num_parallel_tree=None, random_state=None, ...)",
     "output_type": "error",
     "traceback": [
      "\u001b[0;31m---------------------------------------------------------------------------\u001b[0m",
      "\u001b[0;31mAssertionError\u001b[0m                            Traceback (most recent call last)",
      "\u001b[0;32m<ipython-input-63-fbe74da9ed7c>\u001b[0m in \u001b[0;36mprint_shap_plots\u001b[0;34m(model, X)\u001b[0m\n\u001b[1;32m      4\u001b[0m     \u001b[0;32mtry\u001b[0m\u001b[0;34m:\u001b[0m \u001b[0;31m# tree\u001b[0m\u001b[0;34m\u001b[0m\u001b[0;34m\u001b[0m\u001b[0m\n\u001b[0;32m----> 5\u001b[0;31m         \u001b[0mexplainer\u001b[0m \u001b[0;34m=\u001b[0m \u001b[0mshap\u001b[0m\u001b[0;34m.\u001b[0m\u001b[0mTreeExplainer\u001b[0m\u001b[0;34m(\u001b[0m\u001b[0mmodel\u001b[0m\u001b[0;34m)\u001b[0m\u001b[0;34m\u001b[0m\u001b[0;34m\u001b[0m\u001b[0m\n\u001b[0m\u001b[1;32m      6\u001b[0m         \u001b[0;31m# shap_values = explainer(X)\u001b[0m\u001b[0;34m\u001b[0m\u001b[0;34m\u001b[0m\u001b[0;34m\u001b[0m\u001b[0m\n",
      "\u001b[0;32m~/.conda/envs/sc_clustering_noam/lib/python3.9/site-packages/shap/explainers/_tree.py\u001b[0m in \u001b[0;36m__init__\u001b[0;34m(self, model, data, model_output, feature_perturbation, feature_names, approximate, **deprecated_options)\u001b[0m\n\u001b[1;32m    165\u001b[0m         \u001b[0mself\u001b[0m\u001b[0;34m.\u001b[0m\u001b[0mexpected_value\u001b[0m \u001b[0;34m=\u001b[0m \u001b[0;32mNone\u001b[0m\u001b[0;34m\u001b[0m\u001b[0;34m\u001b[0m\u001b[0m\n\u001b[0;32m--> 166\u001b[0;31m         \u001b[0mself\u001b[0m\u001b[0;34m.\u001b[0m\u001b[0mmodel\u001b[0m \u001b[0;34m=\u001b[0m \u001b[0mTreeEnsemble\u001b[0m\u001b[0;34m(\u001b[0m\u001b[0mmodel\u001b[0m\u001b[0;34m,\u001b[0m \u001b[0mself\u001b[0m\u001b[0;34m.\u001b[0m\u001b[0mdata\u001b[0m\u001b[0;34m,\u001b[0m \u001b[0mself\u001b[0m\u001b[0;34m.\u001b[0m\u001b[0mdata_missing\u001b[0m\u001b[0;34m,\u001b[0m \u001b[0mmodel_output\u001b[0m\u001b[0;34m)\u001b[0m\u001b[0;34m\u001b[0m\u001b[0;34m\u001b[0m\u001b[0m\n\u001b[0m\u001b[1;32m    167\u001b[0m         \u001b[0mself\u001b[0m\u001b[0;34m.\u001b[0m\u001b[0mmodel_output\u001b[0m \u001b[0;34m=\u001b[0m \u001b[0mmodel_output\u001b[0m\u001b[0;34m\u001b[0m\u001b[0;34m\u001b[0m\u001b[0m\n",
      "\u001b[0;32m~/.conda/envs/sc_clustering_noam/lib/python3.9/site-packages/shap/explainers/_tree.py\u001b[0m in \u001b[0;36m__init__\u001b[0;34m(self, model, data, data_missing, model_output)\u001b[0m\n\u001b[1;32m    974\u001b[0m             \u001b[0mself\u001b[0m\u001b[0;34m.\u001b[0m\u001b[0moriginal_model\u001b[0m \u001b[0;34m=\u001b[0m \u001b[0mmodel\u001b[0m\u001b[0;34m.\u001b[0m\u001b[0mget_booster\u001b[0m\u001b[0;34m(\u001b[0m\u001b[0;34m)\u001b[0m\u001b[0;34m\u001b[0m\u001b[0;34m\u001b[0m\u001b[0m\n\u001b[0;32m--> 975\u001b[0;31m             \u001b[0mxgb_loader\u001b[0m \u001b[0;34m=\u001b[0m \u001b[0mXGBTreeModelLoader\u001b[0m\u001b[0;34m(\u001b[0m\u001b[0mself\u001b[0m\u001b[0;34m.\u001b[0m\u001b[0moriginal_model\u001b[0m\u001b[0;34m)\u001b[0m\u001b[0;34m\u001b[0m\u001b[0;34m\u001b[0m\u001b[0m\n\u001b[0m\u001b[1;32m    976\u001b[0m             \u001b[0mself\u001b[0m\u001b[0;34m.\u001b[0m\u001b[0mtrees\u001b[0m \u001b[0;34m=\u001b[0m \u001b[0mxgb_loader\u001b[0m\u001b[0;34m.\u001b[0m\u001b[0mget_trees\u001b[0m\u001b[0;34m(\u001b[0m\u001b[0mdata\u001b[0m\u001b[0;34m=\u001b[0m\u001b[0mdata\u001b[0m\u001b[0;34m,\u001b[0m \u001b[0mdata_missing\u001b[0m\u001b[0;34m=\u001b[0m\u001b[0mdata_missing\u001b[0m\u001b[0;34m)\u001b[0m\u001b[0;34m\u001b[0m\u001b[0;34m\u001b[0m\u001b[0m\n",
      "\u001b[0;32m~/.conda/envs/sc_clustering_noam/lib/python3.9/site-packages/shap/explainers/_tree.py\u001b[0m in \u001b[0;36m__init__\u001b[0;34m(self, xgb_model)\u001b[0m\n\u001b[1;32m   1697\u001b[0m \u001b[0;34m\u001b[0m\u001b[0m\n\u001b[0;32m-> 1698\u001b[0;31m         \u001b[0;32massert\u001b[0m \u001b[0mself\u001b[0m\u001b[0;34m.\u001b[0m\u001b[0mname_gbm\u001b[0m \u001b[0;34m==\u001b[0m \u001b[0;34m\"gbtree\"\u001b[0m\u001b[0;34m,\u001b[0m \u001b[0;34m\"Only the 'gbtree' model type is supported, not '%s'!\"\u001b[0m \u001b[0;34m%\u001b[0m \u001b[0mself\u001b[0m\u001b[0;34m.\u001b[0m\u001b[0mname_gbm\u001b[0m\u001b[0;34m\u001b[0m\u001b[0;34m\u001b[0m\u001b[0m\n\u001b[0m\u001b[1;32m   1699\u001b[0m \u001b[0;34m\u001b[0m\u001b[0m\n",
      "\u001b[0;31mAssertionError\u001b[0m: Only the 'gbtree' model type is supported, not 'dart'!",
      "\nDuring handling of the above exception, another exception occurred:\n",
      "\u001b[0;31mTypeError\u001b[0m                                 Traceback (most recent call last)",
      "\u001b[0;32m<ipython-input-81-5382267168d3>\u001b[0m in \u001b[0;36m<module>\u001b[0;34m\u001b[0m\n\u001b[1;32m      8\u001b[0m \u001b[0;31m# shap_values = explainer(X)\u001b[0m\u001b[0;34m\u001b[0m\u001b[0;34m\u001b[0m\u001b[0;34m\u001b[0m\u001b[0m\n\u001b[1;32m      9\u001b[0m \u001b[0;31m# shap.summary_plot(shap_values, X)\u001b[0m\u001b[0;34m\u001b[0m\u001b[0;34m\u001b[0m\u001b[0;34m\u001b[0m\u001b[0m\n\u001b[0;32m---> 10\u001b[0;31m \u001b[0mshap_values\u001b[0m \u001b[0;34m=\u001b[0m \u001b[0mprint_shap_plots\u001b[0m\u001b[0;34m(\u001b[0m\u001b[0mmodel\u001b[0m\u001b[0;34m,\u001b[0m \u001b[0mX\u001b[0m\u001b[0;34m)\u001b[0m\u001b[0;34m\u001b[0m\u001b[0;34m\u001b[0m\u001b[0m\n\u001b[0m\u001b[1;32m     11\u001b[0m \u001b[0;31m# shap.plots.scatter(shap_values.values[:, \"CD48\"])\u001b[0m\u001b[0;34m\u001b[0m\u001b[0;34m\u001b[0m\u001b[0;34m\u001b[0m\u001b[0m\n",
      "\u001b[0;32m<ipython-input-63-fbe74da9ed7c>\u001b[0m in \u001b[0;36mprint_shap_plots\u001b[0;34m(model, X)\u001b[0m\n\u001b[1;32m      8\u001b[0m         \u001b[0;31m# shap.plots.bar(explanation)\u001b[0m\u001b[0;34m\u001b[0m\u001b[0;34m\u001b[0m\u001b[0;34m\u001b[0m\u001b[0m\n\u001b[1;32m      9\u001b[0m     \u001b[0;32mexcept\u001b[0m\u001b[0;34m:\u001b[0m\u001b[0;34m\u001b[0m\u001b[0;34m\u001b[0m\u001b[0m\n\u001b[0;32m---> 10\u001b[0;31m         \u001b[0mexplainer\u001b[0m \u001b[0;34m=\u001b[0m \u001b[0mshap\u001b[0m\u001b[0;34m.\u001b[0m\u001b[0mExplainer\u001b[0m\u001b[0;34m(\u001b[0m\u001b[0mmodel\u001b[0m\u001b[0;34m,\u001b[0m \u001b[0mX\u001b[0m\u001b[0;34m)\u001b[0m\u001b[0;34m\u001b[0m\u001b[0;34m\u001b[0m\u001b[0m\n\u001b[0m\u001b[1;32m     11\u001b[0m     \u001b[0mshap_values\u001b[0m \u001b[0;34m=\u001b[0m \u001b[0mexplainer\u001b[0m\u001b[0;34m(\u001b[0m\u001b[0mX\u001b[0m\u001b[0;34m)\u001b[0m\u001b[0;34m\u001b[0m\u001b[0;34m\u001b[0m\u001b[0m\n\u001b[1;32m     12\u001b[0m     \u001b[0mshap\u001b[0m\u001b[0;34m.\u001b[0m\u001b[0mplots\u001b[0m\u001b[0;34m.\u001b[0m\u001b[0mbeeswarm\u001b[0m\u001b[0;34m(\u001b[0m\u001b[0mshap_values\u001b[0m\u001b[0;34m)\u001b[0m\u001b[0;34m\u001b[0m\u001b[0;34m\u001b[0m\u001b[0m\n",
      "\u001b[0;32m~/.conda/envs/sc_clustering_noam/lib/python3.9/site-packages/shap/explainers/_explainer.py\u001b[0m in \u001b[0;36m__init__\u001b[0;34m(self, model, masker, link, algorithm, output_names, feature_names, linearize_link, seed, **kwargs)\u001b[0m\n\u001b[1;32m    169\u001b[0m                 \u001b[0;31m# if we get here then we don't know how to handle what was given to us\u001b[0m\u001b[0;34m\u001b[0m\u001b[0;34m\u001b[0m\u001b[0;34m\u001b[0m\u001b[0m\n\u001b[1;32m    170\u001b[0m                 \u001b[0;32melse\u001b[0m\u001b[0;34m:\u001b[0m\u001b[0;34m\u001b[0m\u001b[0;34m\u001b[0m\u001b[0m\n\u001b[0;32m--> 171\u001b[0;31m                     \u001b[0;32mraise\u001b[0m \u001b[0mTypeError\u001b[0m\u001b[0;34m(\u001b[0m\u001b[0;34m\"The passed model is not callable and cannot be analyzed directly with the given masker! Model: \"\u001b[0m \u001b[0;34m+\u001b[0m \u001b[0mstr\u001b[0m\u001b[0;34m(\u001b[0m\u001b[0mmodel\u001b[0m\u001b[0;34m)\u001b[0m\u001b[0;34m)\u001b[0m\u001b[0;34m\u001b[0m\u001b[0;34m\u001b[0m\u001b[0m\n\u001b[0m\u001b[1;32m    172\u001b[0m \u001b[0;34m\u001b[0m\u001b[0m\n\u001b[1;32m    173\u001b[0m             \u001b[0;31m# build the right subclass\u001b[0m\u001b[0;34m\u001b[0m\u001b[0;34m\u001b[0m\u001b[0;34m\u001b[0m\u001b[0m\n",
      "\u001b[0;31mTypeError\u001b[0m: The passed model is not callable and cannot be analyzed directly with the given masker! Model: XGBClassifier(base_score=None, booster='dart', callbacks=None,\n              colsample_bylevel=None, colsample_bynode=None,\n              colsample_bytree=None, device=None, early_stopping_rounds=None,\n              enable_categorical=False, eval_metric=None, feature_types=None,\n              gamma=None, grow_policy=None, importance_type=None,\n              interaction_constraints=None, learning_rate=None, max_bin=None,\n              max_cat_threshold=None, max_cat_to_onehot=None,\n              max_delta_step=None, max_depth=3, max_leaves=None,\n              min_child_weight=None, missing=nan, monotone_constraints=None,\n              multi_strategy=None, n_estimators=9, n_jobs=None,\n              num_parallel_tree=None, random_state=None, ...)"
     ]
    }
   ],
   "source": [
    "treatment_shap = 'Carfilzomib'\n",
    "# print_shap_plots(monitor[treatment_shap].model, monitor[treatment_shap].X_train)\n",
    "# exp_data = train_and_eval_model(X_train, X_test, y_train, y_test, model, extra_for_report=best_trial.params)\n",
    "model, X = monitor[treatment_shap].model, monitor[treatment_shap].X_train\n",
    "# model = XGBClassifier(n_estimators=5,  max_depth=3, learning_rate=1).fit(X, monitor[treatment_shap].y_train)\n",
    "\n",
    "# explainer = shap.Explainer(model, X)\n",
    "# shap_values = explainer(X)\n",
    "# shap.summary_plot(shap_values, X)\n",
    "shap_values = print_shap_plots(model, X)\n",
    "# shap.plots.scatter(shap_values.values[:, \"CD48\"])"
   ]
  },
  {
   "cell_type": "code",
   "execution_count": null,
   "metadata": {},
   "outputs": [],
   "source": [
    "[col for col in X.columns if \"CD\" in col]"
   ]
  },
  {
   "cell_type": "markdown",
   "metadata": {},
   "source": [
    "## predict stage scores per patient"
   ]
  },
  {
   "cell_type": "code",
   "execution_count": null,
   "metadata": {},
   "outputs": [],
   "source": [
    "model = monitor_stage[\"Stage\"].model\n",
    "X = X_stage\n",
    "y = y_is_stage_3\n",
    "\n",
    "y_pred = {}\n",
    "for pid in y.index:\n",
    "    X_train = X.drop(pid)\n",
    "    y_train = y.drop(pid)\n",
    "    model.fit(X_train, y_train)\n",
    "    X_pred = X.loc[pid]\n",
    "    proba_ref = model.predict_proba(pd.DataFrame(X_pred).T)[0][1]\n",
    "    y_pred[pid] = proba_ref\n",
    "\n",
    "y_proba_pred = pd.Series(y_pred)\n",
    "y_proba_pred.hist()"
   ]
  },
  {
   "cell_type": "code",
   "execution_count": null,
   "metadata": {},
   "outputs": [],
   "source": [
    "predictions_df = pd.concat([dataset[\"Stage\"] , y_proba_pred], axis = 1)\n",
    "predictions_df[predictions_df[\"Stage\"] == 3][0].hist()\n",
    "predictions_df.to_excel(\"predictions.xlsx\")"
   ]
  },
  {
   "cell_type": "markdown",
   "metadata": {},
   "source": [
    "### train STAGES WHITH 0 AND 1 Combibed"
   ]
  },
  {
   "cell_type": "raw",
   "metadata": {},
   "source": [
    "# monitor_stage = {}\n",
    "\n",
    "# model = XGBClassifier(n_estimators=10, max_depth=3, learning_rate=1)\n",
    "\n",
    "# X_train, X_test, y_train, y_test = train_test_split(X_stage, y_0_is_1, test_size=0.3, random_state=42)\n",
    "# monitor_stage[\"Stage\"] = train_and_eval_model(X_train, X_test, y_train, y_test, model)\n",
    "\n",
    "# monitor_stage[\"Stage\"].report"
   ]
  },
  {
   "cell_type": "code",
   "execution_count": null,
   "metadata": {},
   "outputs": [],
   "source": [
    "\n",
    "# y_pred = monitor_stage[\"Stage\"].y_pred\n",
    "# y_test = monitor_stage[\"Stage\"].y_test\n",
    "# cm = confusion_matrix(y_test, y_pred, labels=model.classes_)\n",
    "# disp = ConfusionMatrixDisplay(confusion_matrix=cm, display_labels=model.classes_)\n",
    "# disp.plot()\n",
    "# plt.show()"
   ]
  },
  {
   "cell_type": "code",
   "execution_count": null,
   "metadata": {},
   "outputs": [],
   "source": []
  }
 ],
 "metadata": {
  "kernelspec": {
   "display_name": "Python 3",
   "language": "python",
   "name": "python3"
  },
  "language_info": {
   "codemirror_mode": {
    "name": "ipython",
    "version": 3
   },
   "file_extension": ".py",
   "mimetype": "text/x-python",
   "name": "python",
   "nbconvert_exporter": "python",
   "pygments_lexer": "ipython3",
   "version": "3.9.5"
  }
 },
 "nbformat": 4,
 "nbformat_minor": 4
}
