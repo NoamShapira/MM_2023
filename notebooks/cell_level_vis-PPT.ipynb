{
 "cells": [
  {
   "cell_type": "code",
   "execution_count": null,
   "id": "ec3b2c3d-0956-4b17-9e05-6365b6c86662",
   "metadata": {},
   "outputs": [],
   "source": [
    "import sys\n",
    "repo_dir = '/home/labs/amit/noamsh/repos/MM_2023'\n",
    "sys.path.append(repo_dir)\n",
    "\n",
    "%load_ext autoreload\n",
    "%autoreload 2"
   ]
  },
  {
   "cell_type": "code",
   "execution_count": null,
   "id": "6ffb3281-e018-4e0e-83d1-3c357207fa97",
   "metadata": {},
   "outputs": [],
   "source": [
    "from pathlib import Path\n",
    "import os\n",
    "\n",
    "from omegaconf import OmegaConf\n",
    "import scanpy as sc\n",
    "import numpy as np\n",
    "import pandas as pd\n",
    "import anndata as ad\n",
    "\n",
    "from io_utils import generate_path_in_output_dir\n",
    "from data_loading.utils import load_dataframe_from_file"
   ]
  },
  {
   "cell_type": "code",
   "execution_count": null,
   "id": "1d3b3a53-a1f0-4018-8709-d65d428db77d",
   "metadata": {},
   "outputs": [],
   "source": [
    "config_path = Path(repo_dir, 'config.yaml')\n",
    "conf = OmegaConf.load(config_path)\n",
    "update_results = False\n",
    "\n",
    "from datetime import date\n",
    "ts_iso = date.today().isoformat()\n",
    "\n",
    "sc.set_figure_params(dpi=100, dpi_save=150)\n",
    "figures_dir = Path(conf.outputs.output_dir, \"figures\", ts_iso)\n",
    "update_figures = True"
   ]
  },
  {
   "cell_type": "code",
   "execution_count": null,
   "id": "9a07d2be-03c3-429a-8e4f-2b5a9a724398",
   "metadata": {},
   "outputs": [],
   "source": [
    "load_ts_iso = \"2024-05-19\"\n",
    "data_version = \"20240515\""
   ]
  },
  {
   "cell_type": "markdown",
   "id": "a0d3a93d-bf05-49a4-a387-5693c51070a4",
   "metadata": {},
   "source": [
    "## all cells"
   ]
  },
  {
   "cell_type": "code",
   "execution_count": null,
   "id": "234d5122-9fd5-4e0b-bcca-a8cdba27eb71",
   "metadata": {},
   "outputs": [],
   "source": [
    "adata_for_clustering = ad.read_h5ad(generate_path_in_output_dir(conf, conf.outputs.inferred_missing_annotation_file_name,\n",
    "                                                 with_version=data_version, with_date_timestamp=load_ts_iso))\n",
    "adata_for_clustering"
   ]
  },
  {
   "cell_type": "code",
   "execution_count": null,
   "id": "cd98f0b1-4c19-4d58-83d0-3ad3dd721659",
   "metadata": {},
   "outputs": [],
   "source": [
    "drop_diseases = ('In_vitro', 'Ex_vivo')\n",
    "adata_for_clustering = adata_for_clustering[adata_for_clustering.obs[conf.annotation.Disease].apply(lambda x: x not in drop_diseases)].copy()\n",
    "adata_for_clustering.obs[\"Populations\"][adata_for_clustering.obs[\"super_Population\"] == \"PC\"] = \"PC\"\n",
    "# adata_for_clustering.obs[\"Populations\"][adata_for_clustering.obs[\"Populations\"].apply(lambda x: x in ('UN', 'Malignant'))] = \"\"\n",
    "adata_for_clustering = adata_for_clustering[adata_for_clustering.obs[\"Populations\"].apply(lambda x: x not in (\"Erythrocytes\", 'UN', 'Malignant'))]\n"
   ]
  },
  {
   "cell_type": "code",
   "execution_count": null,
   "id": "7030ee72-8cf9-48a0-94ce-7952a6f61a27",
   "metadata": {},
   "outputs": [],
   "source": [
    "adata_for_clustering.obs[\"Populations\"].value_counts()"
   ]
  },
  {
   "cell_type": "code",
   "execution_count": null,
   "id": "67477197-1718-4edb-a6e1-9338c1b75b42",
   "metadata": {},
   "outputs": [],
   "source": [
    "def update_disease_col(adata, pateint_disease_map, rename_disease_map):\n",
    "    new_disease_col = []\n",
    "    c_ids = []\n",
    "    for cid, row in adata.obs.iterrows():\n",
    "        # print(row)\n",
    "        # break\n",
    "        c_ids.append(cid)\n",
    "        if row['Hospital.Code'] in pateint_disease_map:\n",
    "            new_disease_col.append(pateint_disease_map[row['Hospital.Code']])\n",
    "        else:\n",
    "            new_disease_col.append(row['Disease'])\n",
    "    \n",
    "    adata.obs['Disease'] = pd.Series(new_disease_col, index=c_ids)\n",
    "    adata.obs['Disease'] = adata.obs['Disease'].apply(lambda x: rename_disease_map[x] if x in rename_disease_map else x)"
   ]
  },
  {
   "cell_type": "code",
   "execution_count": null,
   "id": "f4695b49-00bb-4f8b-86f4-a4bde4eb2b4d",
   "metadata": {},
   "outputs": [],
   "source": [
    "wrong_labeling_patient_map = {\n",
    "\"TLV07\": \"MGUS\" ,\n",
    "\"TLV14\": \"MGUS\",\n",
    "\"TLV18\": \"SMM\",\n",
    "\"TLV20\": \"NDMM\",\n",
    "\"HMC11\": \"SMM\",\n",
    "\"TLV22\": \"NDMM\",\n",
    "\"HMC12\": \"NDMM\",\n",
    "\"HMC13\": \"MGUS\",\n",
    "\"TLV25\": \"NDMM\" ,\n",
    "\"HMC13\": \"MGUS\",\n",
    "\"TLV26\": \"SMM\",\n",
    "\"TLV27\": \"PRMM\",\n",
    "\"HMC19\": \"NDMM\"\n",
    "}\n",
    "\n",
    "disease_map = {\"PRMM\": \"RRMM\", \"NDAL\": \"AL\"}\n",
    "\n",
    "update_disease_col(adata_for_clustering, wrong_labeling_patient_map, disease_map)"
   ]
  },
  {
   "cell_type": "code",
   "execution_count": null,
   "id": "c1b42361-5a1a-4c64-8dac-b558bf3a8c4c",
   "metadata": {},
   "outputs": [],
   "source": [
    "Disease_patients_count = adata_for_clustering.obs.groupby('Disease')['Hospital.Code'].nunique()\n",
    "Disease_patients_count[[ \"Healthy\", \"MGUS\", \"SMM\", \"NDMM\", \"RRMM\"]]"
   ]
  },
  {
   "cell_type": "code",
   "execution_count": null,
   "id": "4ea1a317-c5bf-4fb3-8a5e-6553a1dbef77",
   "metadata": {},
   "outputs": [],
   "source": [
    "# report \n",
    "print(f\"\"\"\n",
    "Hip Controls: {Disease_patients_count['Healthy']}\n",
    "MM Patients: {Disease_patients_count[[ \"MGUS\", \"SMM\", \"NDMM\", \"RRMM\"]].sum()}\n",
    "Plasma cells: {(adata_for_clustering.obs[\"super_Population\"]==\"PC\").sum()}\n",
    "Immune cells: {(adata_for_clustering.obs[\"super_Population\"]==\"CD45\").sum() }\n",
    "Total cells: {adata_for_clustering.n_obs}\n",
    "\"\"\")"
   ]
  },
  {
   "cell_type": "code",
   "execution_count": null,
   "id": "1a02c11b-1a63-4712-bb71-3accf693c834",
   "metadata": {},
   "outputs": [],
   "source": [
    "sc.tl.umap(adata_for_clustering, neighbors_key=None, min_dist=conf.umap_settings.umap_min_dist)"
   ]
  },
  {
   "cell_type": "code",
   "execution_count": null,
   "id": "eb12820b-07df-426c-b3c6-4ef18e0891b7",
   "metadata": {
    "scrolled": true
   },
   "outputs": [],
   "source": [
    "from matplotlib import rcParams\n",
    "FIGSIZE = (10, 10)\n",
    "rcParams[\"figure.figsize\"] = FIGSIZE\n",
    "# rcParams.update({'font.size': 16})\n",
    "\n",
    "sc.pl.umap(adata_for_clustering, color=['Populations', 'super_Population'], size=1,\n",
    "           ncols=1, legend_loc='on data',legend_fontsize='medium', frameon=False, palette=\"tab20\")"
   ]
  },
  {
   "cell_type": "markdown",
   "id": "69bd6265-74b4-4a9f-ab94-1c0aa3236052",
   "metadata": {},
   "source": [
    "### targets"
   ]
  },
  {
   "cell_type": "code",
   "execution_count": null,
   "id": "3ed1c8bb-c251-4449-8993-0298a7ae4c53",
   "metadata": {},
   "outputs": [],
   "source": [
    "mor_markers_df = load_dataframe_from_file(Path(\"/home/labs/amit/noamsh/data/mm_2023/MM targets and genes.xlsx\"))\n",
    "mor_markers_df.drop(columns=[\"Unnamed: 0\"])\n",
    "PC_markers = mor_markers_df['Known PC markers'].dropna().tolist()\n",
    "MM_drivers = mor_markers_df['Known MM drivers'].dropna().tolist()\n",
    "MM_drivers.remove(\"ITF4\")\n",
    "MM_drivers.append(\"IRF4\")\n",
    "MM_targets = mor_markers_df['MM targets'].dropna().tolist()\n",
    "Clinical_trials = mor_markers_df['Clinical trials'].dropna().tolist()\n",
    "Clinical_trials.remove('CD73')\n",
    "Clinical_trials.append(\"NT5E\")\n",
    "Clinical_trials.remove('eIF2a')\n",
    "Clinical_trials.append(\"EIF2A\")"
   ]
  },
  {
   "cell_type": "code",
   "execution_count": null,
   "id": "9654547c-aba5-4ab8-adf1-3abd26a7f533",
   "metadata": {},
   "outputs": [],
   "source": [
    "PPT_PC_markers = [\"CD38\", \"SDC1\", \"XBP1\", \"SSR4\", \"MZB1\"]\n",
    "PPT_MM_drivers = [\"CCND1\", \"CCND2\", \"FRZB\", \"LAMP5\", \"ITGB7\", \"CDR1\", \"NSD2\", \"FGFR3\", \"SPP1\"]\n",
    "PPT_current_targets = [\"CD38\", \"SDC1\", \"TNFRSF17\", \"GPRC5D\", \"SLAMF7\"]\n",
    "new_targets_PPT = [\"TNFRSF13B\", \"FCRLA\", \"CCR10\", \"KCNN3\", \"BFSP2\"]\n",
    "new_targets_after_PPT = [\"ITM2C\", \"FCGR2B\", \"FCRL2\", \"ITGA8\", \"BTLA\", \"IL5RA\", \"LIME1\", \"BST2\", \"SELPLG\", \"CD180\", \"SLAMF1\", \"ADORA2A\", \"PERP\", \"P2RX5\", \"RASGRP3\" , \"ORAI2\" ]"
   ]
  },
  {
   "cell_type": "code",
   "execution_count": null,
   "id": "f1b0f765-ef1d-4e55-8068-4846d18de5c1",
   "metadata": {},
   "outputs": [],
   "source": [
    "FIGSIZE = (5, 5)\n",
    "rcParams[\"figure.figsize\"] = FIGSIZE"
   ]
  },
  {
   "cell_type": "code",
   "execution_count": null,
   "id": "5cf17528-cb24-4131-b54f-fd8529e7cc28",
   "metadata": {
    "scrolled": true
   },
   "outputs": [],
   "source": [
    "# sc.pl.umap(adata_for_clustering, color=PC_markers, ncols=3, frameon=False, colorbar_loc=None)\n",
    "sc.pl.umap(adata_for_clustering, color=PPT_PC_markers, ncols=5, frameon=False, colorbar_loc=None, size=0.8)"
   ]
  },
  {
   "cell_type": "code",
   "execution_count": null,
   "id": "3514eeff-a773-4f50-bec3-4948bbfbd1ed",
   "metadata": {
    "scrolled": true
   },
   "outputs": [],
   "source": [
    "# sc.pl.umap(adata_for_clustering, color=MM_drivers, ncols=3, frameon=False, colorbar_loc=None)\n",
    "sc.pl.umap(adata_for_clustering, color=PPT_MM_drivers, ncols=5, frameon=False, colorbar_loc=None, size=0.8)"
   ]
  },
  {
   "cell_type": "code",
   "execution_count": null,
   "id": "e746b02a-d2b8-40b6-b24c-f35f72c47f01",
   "metadata": {
    "scrolled": true
   },
   "outputs": [],
   "source": [
    "# sc.pl.umap(adata_for_clustering, color=MM_targets, ncols=3, frameon=False, colorbar_loc=None)\n",
    "sc.pl.umap(adata_for_clustering, color=PPT_current_targets, ncols=5, frameon=False, colorbar_loc=None, size=1)\n"
   ]
  },
  {
   "cell_type": "code",
   "execution_count": null,
   "id": "2a21a9ec-22a0-49af-876f-a2da71981fcc",
   "metadata": {
    "scrolled": true
   },
   "outputs": [],
   "source": [
    "sc.pl.umap(adata_for_clustering, color=Clinical_trials, ncols=3, frameon=False, colorbar_loc=None)"
   ]
  },
  {
   "cell_type": "code",
   "execution_count": null,
   "id": "d0ff2753-f774-4adf-a6e1-2854d96adda1",
   "metadata": {
    "scrolled": true
   },
   "outputs": [],
   "source": [
    "targets_mor = pd.read_excel('/home/labs/amit/noamsh/data/mm_2023/targets/Genes_combined_mor.xls')\n",
    "sc.pl.umap(adata_for_clustering, color=targets_mor['Gene_name'], ncols=3, frameon=False, colorbar_loc=None)"
   ]
  },
  {
   "cell_type": "code",
   "execution_count": null,
   "id": "87cde5f5-c3a8-4762-bd8f-673d9af2b83d",
   "metadata": {
    "scrolled": true
   },
   "outputs": [],
   "source": [
    "# sc.pl.umap(adata_for_clustering, color=[\"BMP6\", \"DERL3\", \"FCRLA\", \"HLA-DOB\", \"KCNN3\", \"MOXD1\", \"TNFRSF13B\", \"AMPD1\", \"MYEOV\", \"TXNDC5\", \"BFSP2\", \"CCR10\", \"JSRP1\"], ncols=3, frameon=False, colorbar_loc=None)\n",
    "sc.pl.umap(adata_for_clustering, color=new_targets_PPT, ncols=4, frameon=False, colorbar_loc=None, vmax=4, size=1)"
   ]
  },
  {
   "cell_type": "code",
   "execution_count": null,
   "id": "9e611129-38e6-4dc9-a945-d18501424f2c",
   "metadata": {},
   "outputs": [],
   "source": [
    "sc.pl.umap(adata_for_clustering, color=new_targets_PPT, ncols=3, frameon=False, colorbar_loc=None, vmax=4, size=1)"
   ]
  },
  {
   "cell_type": "code",
   "execution_count": null,
   "id": "baf9d9f0-41f2-4423-b8ba-17b1d59cbf7a",
   "metadata": {},
   "outputs": [],
   "source": [
    "sc.pl.umap(adata_for_clustering, color=new_targets_after_PPT, ncols=3, frameon=False, colorbar_loc=None, vmax=4, size=1)"
   ]
  },
  {
   "cell_type": "markdown",
   "id": "269406e4-38c6-4e49-9bf2-8469951e97dd",
   "metadata": {},
   "source": [
    "## only PC"
   ]
  },
  {
   "cell_type": "code",
   "execution_count": null,
   "id": "c6717ec1-d92e-4867-b66f-1fd8aaf4d9a6",
   "metadata": {},
   "outputs": [],
   "source": [
    "annotated_only_pc_path = Path(conf.outputs.output_dir, f\"adata_with_scvi_annot_pred_data_v_{data_version}_ts_{load_ts_iso}_only_pc_annotated.h5ad\")\n",
    "annotated_filtered_only_pc_path = Path(conf.outputs.output_dir, f\"adata_with_scvi_annot_pred_data_v_{data_version}_ts_{load_ts_iso}_only_pc_annotated_filtered.h5ad\")\n",
    "\n",
    "adata_only_pc = ad.read_h5ad(annotated_only_pc_path)\n",
    "non_noisy_malignant = ad.read_h5ad(annotated_filtered_only_pc_path)"
   ]
  },
  {
   "cell_type": "code",
   "execution_count": null,
   "id": "9efb45ba-24ad-45b8-944d-4d0b02337afb",
   "metadata": {
    "scrolled": true
   },
   "outputs": [],
   "source": [
    "# sc.pl.umap(non_noisy_malignant, color=PC_markers, ncols=3 , size=2, frameon=False, colorbar_loc=None)\n",
    "sc.pl.umap(non_noisy_malignant, color=PPT_PC_markers, ncols=5 , size=5, frameon=False, colorbar_loc=None)"
   ]
  },
  {
   "cell_type": "code",
   "execution_count": null,
   "id": "a1ac1783-8d48-4721-98c0-a7376c004578",
   "metadata": {
    "scrolled": true
   },
   "outputs": [],
   "source": [
    "# sc.pl.umap(non_noisy_malignant, color=MM_drivers, ncols=3, size=2, frameon=False, colorbar_loc=None)\n",
    "sc.pl.umap(non_noisy_malignant, color=PPT_MM_drivers, ncols=5 , size=5, frameon=False, colorbar_loc=None)"
   ]
  },
  {
   "cell_type": "code",
   "execution_count": null,
   "id": "61be5c61-9a70-444b-806e-dd919746fc08",
   "metadata": {
    "scrolled": true
   },
   "outputs": [],
   "source": [
    "# sc.pl.umap(non_noisy_malignant, color=MM_targets, ncols=3, size=2, frameon=False, colorbar_loc=None)\n",
    "sc.pl.umap(non_noisy_malignant, color=PPT_current_targets, ncols=5 , size=5, frameon=False, colorbar_loc=None)\n"
   ]
  },
  {
   "cell_type": "code",
   "execution_count": null,
   "id": "1ca7dcab-308b-4e16-88f6-1cdb6d440e57",
   "metadata": {
    "scrolled": true
   },
   "outputs": [],
   "source": [
    "sc.pl.umap(non_noisy_malignant, color=Clinical_trials, ncols=3, size=2, frameon=False, colorbar_loc=None)"
   ]
  },
  {
   "cell_type": "code",
   "execution_count": null,
   "id": "518f5a9d-00b4-470a-aa13-33c5e21301a2",
   "metadata": {
    "scrolled": true
   },
   "outputs": [],
   "source": [
    "# metabolism\n",
    "# sc.pl.umap(non_noisy_malignant, color=[\"HIF1A\", \"LDHA\", \"LDHB\", \"SLC2A1\", \"SLC2A3\", \"ODC1\", \"SMS\", \"SMOX\", \"SAT1\", \"SRM\"], ncols=3, palette=\"Paired\", legend_loc='on data', size=10)"
   ]
  },
  {
   "cell_type": "code",
   "execution_count": null,
   "id": "c1c8cea7-e5c2-4df4-8099-3f63400349ab",
   "metadata": {
    "scrolled": true
   },
   "outputs": [],
   "source": [
    "targets_mor = pd.read_excel('/home/labs/amit/noamsh/data/mm_2023/targets/Genes_combined_mor.xls')\n",
    "sc.pl.umap(non_noisy_malignant, color=targets_mor['Gene_name'], ncols=3, size=2, frameon=False, colorbar_loc=None)"
   ]
  },
  {
   "cell_type": "code",
   "execution_count": null,
   "id": "55d4320c-f3c4-4a4e-8b83-9a57e6b59780",
   "metadata": {
    "scrolled": true
   },
   "outputs": [],
   "source": [
    "# sc.pl.umap(non_noisy_malignant, color=[\"BMP6\", \"DERL3\", \"FCRLA\", \"HLA-DOB\", \"KCNN3\", \"MOXD1\", \"TNFRSF13B\", \"AMPD1\", \"MYEOV\", \"TXNDC5\", \"BFSP2\", \"CCR10\", \"JSRP1\"], ncols=3, size=2, frameon=False, colorbar_loc=None)\n",
    "sc.pl.umap(non_noisy_malignant, color=new_targets_PPT, ncols=3, size=4, frameon=False, color_map='viridis', vmax=4, colorbar_loc=None) # colorbar_loc=None\n"
   ]
  },
  {
   "cell_type": "code",
   "execution_count": null,
   "id": "462a88f9-19e6-4add-85e9-cd18682f225a",
   "metadata": {},
   "outputs": [],
   "source": [
    "sc.pl.umap(non_noisy_malignant, color=new_targets_after_PPT, ncols=3, size=4, frameon=False, color_map='viridis', vmax=5, colorbar_loc=None) # colorbar_loc=None\n"
   ]
  },
  {
   "cell_type": "code",
   "execution_count": null,
   "id": "56355550-9b23-4843-bb52-a8c67d7a32bf",
   "metadata": {
    "scrolled": true
   },
   "outputs": [],
   "source": [
    "\n",
    "mye_genes = [\"MAF\", 'MAFA','CYBB', 'CXCL12', 'C1QB', 'TLR4','S100A10','S100A11','S100A4']\n",
    "sc.pl.umap(non_noisy_malignant, color=mye_genes, ncols=3, vmax=4 , size=2, frameon=False, color_map='viridis', colorbar_loc=None) # colorbar_loc=None\n"
   ]
  },
  {
   "cell_type": "code",
   "execution_count": null,
   "id": "f0909e5d-3d14-47e8-b6c6-9131ee09d9bb",
   "metadata": {},
   "outputs": [],
   "source": [
    "sc.pl.umap(non_noisy_malignant, color='BCL2', ncols=3, vmax=4 , size=2, frameon=False, color_map='viridis', colorbar_loc=None) # colorbar_loc=None\n"
   ]
  },
  {
   "cell_type": "markdown",
   "id": "867ea11f-2bee-4e18-80ca-a3febdb53f0b",
   "metadata": {},
   "source": [
    "### exploration"
   ]
  },
  {
   "cell_type": "code",
   "execution_count": null,
   "id": "987583e3-5d8d-475e-9f10-4c6852e14b69",
   "metadata": {},
   "outputs": [],
   "source": [
    "non_noisy_malignant"
   ]
  },
  {
   "cell_type": "code",
   "execution_count": null,
   "id": "9b0fde0b-3957-4109-a675-90e7e593731b",
   "metadata": {
    "scrolled": true
   },
   "outputs": [],
   "source": [
    "non_noisy_malignant.obs['pc_annotation'] = non_noisy_malignant.obs['pc_annotation'].apply(lambda x: x if x != 'non Healthy' else 'Malignant')\n",
    "non_noisy_malignant.obs['pc_annotation'] = non_noisy_malignant.obs['pc_annotation'].cat.add_categories(\"Healthy like\")\n",
    "non_noisy_malignant.obs['pc_annotation'][non_noisy_malignant.obs['leiden'] == '8'] = \"Healthy like\""
   ]
  },
  {
   "cell_type": "code",
   "execution_count": null,
   "id": "4e28330d-b3d4-4e7f-87de-470d53f61f68",
   "metadata": {},
   "outputs": [],
   "source": [
    "sc.pl.umap(non_noisy_malignant, color='pc_annotation', ncols=1, palette=\"brc\", frameon=False, legend_loc='on data', title=\"only PC\")"
   ]
  },
  {
   "cell_type": "code",
   "execution_count": null,
   "id": "5322275f-e755-493e-9de9-a1133a5deaca",
   "metadata": {},
   "outputs": [],
   "source": [
    "\n",
    "    "
   ]
  },
  {
   "cell_type": "code",
   "execution_count": null,
   "id": "d568d2e3-6506-441a-bf1c-d35fce5d2701",
   "metadata": {},
   "outputs": [],
   "source": [
    "wrong_labeling_patient_map = {\n",
    "\"TLV07\": \"MGUS\" ,\n",
    "\"TLV14\": \"MGUS\",\n",
    "\"TLV18\": \"SMM\",\n",
    "\"TLV20\": \"NDMM\",\n",
    "\"HMC11\": \"SMM\",\n",
    "\"TLV22\": \"NDMM\",\n",
    "\"HMC12\": \"NDMM\",\n",
    "\"HMC13\": \"MGUS\",\n",
    "\"TLV25\": \"NDMM\" ,\n",
    "\"HMC13\": \"MGUS\",\n",
    "\"TLV26\": \"SMM\",\n",
    "\"TLV27\": \"PRMM\",\n",
    "\"HMC19\": \"NDMM\"\n",
    "}\n",
    "\n",
    "disease_map = {\"PRMM\": \"RRMM\", \"NDAL\": \"AL\"}\n",
    "\n",
    "update_disease_col(non_noisy_malignant, wrong_labeling_patient_map, disease_map)\n"
   ]
  },
  {
   "cell_type": "code",
   "execution_count": null,
   "id": "ed0ad347-1017-4e1a-a04c-718c3553d77e",
   "metadata": {
    "scrolled": true
   },
   "outputs": [],
   "source": [
    "\n",
    "Diseases = non_noisy_malignant.obs['Disease'].unique()\n",
    "for d in Diseases:\n",
    "    disease_map = non_noisy_malignant.obs['Disease'] == d\n",
    "    non_noisy_malignant.obs[d] = np.nan\n",
    "    non_noisy_malignant.obs[d][disease_map] = d"
   ]
  },
  {
   "cell_type": "code",
   "execution_count": null,
   "id": "97ad7443-3227-4474-937d-3a2d9423f114",
   "metadata": {},
   "outputs": [],
   "source": [
    "\n",
    "# show_Diseases = list(Diseases)\n",
    "# show_Diseases.remove(\"MM_Unknown\") \n",
    "# show_Diseases.remove(\"EMD\")\n",
    "# show_Diseases.remove(\"AL\")\n",
    "# show_Diseases\n",
    "show_Diseases = ['Healthy', 'MGUS', 'SMM', 'NDMM', 'RRMM']"
   ]
  },
  {
   "cell_type": "code",
   "execution_count": null,
   "id": "7c1b388f-82e2-4b1c-8868-4f411ac69dd0",
   "metadata": {},
   "outputs": [],
   "source": [
    "sc.pl.umap(non_noisy_malignant, color=show_Diseases, ncols=5, frameon=False, legend_loc=None, palette=\"gist_gray\", size=1.5)"
   ]
  },
  {
   "cell_type": "code",
   "execution_count": null,
   "id": "40fff53e-4ccd-490d-8c34-c60c8dde9aeb",
   "metadata": {},
   "outputs": [],
   "source": [
    "sc.pl.umap(non_noisy_malignant,\n",
    "               color=[\"number_of_diffrent_patients_in_nighborhood\"],\n",
    "           ncols=2 ,color_map=\"magma\", frameon=False)"
   ]
  },
  {
   "cell_type": "code",
   "execution_count": null,
   "id": "43c265dd-746a-42db-a420-1390f414394f",
   "metadata": {},
   "outputs": [],
   "source": [
    "new_potential_targets = [\"UBA52\", \"RACK1\", \"CST3\", \"TIMP1\", \"FTH1\", \"FTL\"]\n",
    "sc.pl.umap(non_noisy_malignant,  color=new_potential_targets,\n",
    "           ncols=3 ,color_map=\"magma\", palette='Paired')"
   ]
  },
  {
   "cell_type": "code",
   "execution_count": null,
   "id": "5bc7f0f8-e40d-4889-b13e-49ce5d6e2eaa",
   "metadata": {},
   "outputs": [],
   "source": [
    "# patients_with_no_coverage = ['01-001', '01-006', '01-011', '028-0601-005', '028-0608-008', '03-001', '04-002', '04-003', '04-004', '05-001', '08-001', '09-001', '10-005', '11-005', '12-001', '14-001', 'ASF1', 'BEL04', 'P19', 'P20', 'P24', 'CSA-01-02', 'CSA-01-04', 'HMC02', 'HMC06', 'HMC10', 'HMC18', 'HMC20', 'KydarNDMM01', 'KydarNDMM03', 'TLV01', 'TLV12', 'TLV13', 'TLV18', 'TLV19', 'TLV27', 'TLV34', 'TLV41', 'TLV48', 'TLV50-DN', 'TLV53', 'P03', 'P16', 'P35', 'P45', 'P46', 'P54', 'P71', 'P103', 'P208', 'P225', 'P258', 'P300', 'P309', 'P653', 'P659', 'P683', 'P792', 'P818', 'P822', 'P85', 'P942', 'TLV75', 'TLV77', 'TLV85', 'TLV86', 'RMC002']\n",
    "patients_with_no_coverage = ['01-001', '028-0608-008', '04-002', '04-003', '08-001', 'BEL04', 'HMC20', 'KydarNDMM01', 'TLV13', 'TLV34', 'TLV48', 'P03', 'P46', 'P54', 'P103', 'P309', 'P683', 'TLV85']\n",
    "non_noisy_malignant.obs[\"patients_with_no_coverage\"] = non_noisy_malignant.obs[\"Hospital.Code\"].apply(lambda x: x in patients_with_no_coverage)\n",
    "sc.pl.umap(non_noisy_malignant,  color=[\"patients_with_no_coverage\"],\n",
    "           ncols=3 ,color_map=\"magma\", palette='Paired')"
   ]
  },
  {
   "cell_type": "code",
   "execution_count": null,
   "id": "2c70011c-ba07-43c4-baa1-adf9b18f6c64",
   "metadata": {},
   "outputs": [],
   "source": [
    "patients_with_low_coverage = ['01-001', '01-004', '01-011', '028-0603-001', '028-0606-001', '028-0608-008', '04-002', '04-003', '04-005', '05-002', '08-001', '09-001', '09-002', '10-005', '11-003', '11-005', 'ASF1', 'BEL04', 'P19', 'P20', 'CSA-01-02', 'CSA-01-04', 'HMC05', 'HMC06', 'HMC10', 'HMC11', 'HMC18', 'HMC20', 'KydarNDMM01', 'KydarNDMM03', 'TLV01', 'TLV12', 'TLV13', 'TLV18', 'TLV19', 'TLV25', 'TLV27', 'TLV34', 'TLV48', 'TLV51', 'P03', 'P16', 'P35', 'P45', 'P46', 'P48', 'P54', 'P103', 'P225', 'P258', 'P309', 'P659', 'P683', 'P792', 'P85', 'TLV53', 'TLV77', 'TLV85']\n",
    "non_noisy_malignant.obs[\"patients_with_low_coverage\"] = non_noisy_malignant.obs[\"Hospital.Code\"].apply(lambda x: x in patients_with_low_coverage)\n",
    "sc.pl.umap(non_noisy_malignant,  color=[\"patients_with_low_coverage\"],\n",
    "           ncols=3 ,color_map=\"magma\", palette='Paired')"
   ]
  },
  {
   "cell_type": "code",
   "execution_count": null,
   "id": "96dd0cda-5851-45e1-b499-f8e8892d64e5",
   "metadata": {},
   "outputs": [],
   "source": []
  }
 ],
 "metadata": {
  "kernelspec": {
   "display_name": "Python 3 (ipykernel)",
   "language": "python",
   "name": "python3"
  },
  "language_info": {
   "codemirror_mode": {
    "name": "ipython",
    "version": 3
   },
   "file_extension": ".py",
   "mimetype": "text/x-python",
   "name": "python",
   "nbconvert_exporter": "python",
   "pygments_lexer": "ipython3",
   "version": "3.9.18"
  }
 },
 "nbformat": 4,
 "nbformat_minor": 5
}
