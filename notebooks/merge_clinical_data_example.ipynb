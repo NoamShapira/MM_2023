{
 "cells": [
  {
   "cell_type": "markdown",
   "id": "cbf78cd0-89a0-4145-b703-486afa208bb9",
   "metadata": {},
   "source": [
    "go to  brach 'update_data_version_2024_06_19' I will probably merge thisto dev soon\n",
    "this brach has teh columns names in the config"
   ]
  },
  {
   "cell_type": "code",
   "execution_count": 1,
   "id": "d0b6b76b-fff1-4231-ac79-1490f89c5f03",
   "metadata": {},
   "outputs": [],
   "source": [
    "%load_ext autoreload\n",
    "%autoreload 2\n",
    "import sys\n",
    "repo_dir = '/home/labs/amit/noamsh/repos/MM_2023'\n",
    "sys.path.append(repo_dir)"
   ]
  },
  {
   "cell_type": "code",
   "execution_count": 9,
   "id": "4ec5aeed-4654-4e7d-94af-267c54f0ab96",
   "metadata": {},
   "outputs": [],
   "source": [
    "from pathlib import Path\n",
    "from omegaconf import OmegaConf\n",
    "\n",
    "import pandas as pd\n",
    "\n",
    "import anndata as ad\n",
    "\n",
    "from data_loading.utils import load_dataframe_from_file\n",
    "from io_utils import generate_path_in_output_dir"
   ]
  },
  {
   "cell_type": "code",
   "execution_count": 3,
   "id": "ca858404-6d69-41de-bdf7-fcf49f818412",
   "metadata": {},
   "outputs": [],
   "source": [
    "config_path = Path(repo_dir, 'config.yaml')\n",
    "conf = OmegaConf.load(config_path)"
   ]
  },
  {
   "cell_type": "code",
   "execution_count": 4,
   "id": "09b0ddee-2e11-4903-b480-053285d97d4a",
   "metadata": {},
   "outputs": [],
   "source": [
    "new_hospital_path = Path(conf.annotation.clinical_data.clinical_data_file_path)\n",
    "new_hospital_dataset = load_dataframe_from_file(new_hospital_path)"
   ]
  },
  {
   "cell_type": "markdown",
   "id": "dfc0f410-5228-4bd7-9494-192d36cde5ca",
   "metadata": {},
   "source": [
    "get the data you want to merge to - I will use the pp_adata for example\n",
    "this need to be from dataversion 20240619 and forward"
   ]
  },
  {
   "cell_type": "code",
   "execution_count": 10,
   "id": "3f9d00ad-af70-482e-81ba-4f47637e5313",
   "metadata": {},
   "outputs": [],
   "source": [
    "adata_path = generate_path_in_output_dir(conf, conf.outputs.processed_adata_file_name, add_version=True)\n",
    "adata = ad.read_h5ad(adata_path)"
   ]
  },
  {
   "cell_type": "code",
   "execution_count": null,
   "id": "6462c17b-99dd-459b-af14-040a7e1e897d",
   "metadata": {},
   "outputs": [],
   "source": [
    "ada"
   ]
  }
 ],
 "metadata": {
  "kernelspec": {
   "display_name": "Python 3 (ipykernel)",
   "language": "python",
   "name": "python3"
  },
  "language_info": {
   "codemirror_mode": {
    "name": "ipython",
    "version": 3
   },
   "file_extension": ".py",
   "mimetype": "text/x-python",
   "name": "python",
   "nbconvert_exporter": "python",
   "pygments_lexer": "ipython3",
   "version": "3.9.18"
  }
 },
 "nbformat": 4,
 "nbformat_minor": 5
}
