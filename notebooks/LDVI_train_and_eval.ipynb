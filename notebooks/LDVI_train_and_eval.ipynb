{
 "cells": [
  {
   "cell_type": "code",
   "execution_count": null,
   "id": "fba69825-7bc4-4081-83e7-73b22c43f868",
   "metadata": {},
   "outputs": [],
   "source": [
    "%load_ext autoreload\n",
    "%autoreload 2\n",
    "\n",
    "import sys\n",
    "repo_dir = '/home/labs/amit/noamsh/repos/MM_2023'\n",
    "sys.path.append(repo_dir)"
   ]
  },
  {
   "cell_type": "code",
   "execution_count": null,
   "id": "aacdac70-ca39-4ccc-baa6-cd4c8940c2b1",
   "metadata": {},
   "outputs": [],
   "source": [
    "from pathlib import Path\n",
    "from datetime import date\n",
    "from omegaconf import OmegaConf\n",
    "\n",
    "import pandas as pd\n",
    "import scanpy as sc\n",
    "import anndata as ad\n",
    "import scvi\n",
    "import torch\n",
    "\n",
    "from train_scvi_model import train_scvi_model\n",
    "from io_utils import generate_path_in_output_dir"
   ]
  },
  {
   "cell_type": "code",
   "execution_count": null,
   "id": "40fe103f-c455-490c-b5ef-d4fbfcecf1d4",
   "metadata": {},
   "outputs": [],
   "source": [
    "config_path = Path(repo_dir, 'config.yaml')\n",
    "conf = OmegaConf.load(config_path)\n",
    "\n",
    "ts_iso = date.today().isoformat()\n",
    "sc.set_figure_params(dpi=150, dpi_save=300)\n",
    "figures_dir = Path(conf.outputs.output_dir, \"figures\", ts_iso)"
   ]
  },
  {
   "cell_type": "code",
   "execution_count": null,
   "id": "a277dc4d-0a87-4682-ab64-90ae010fa8f5",
   "metadata": {},
   "outputs": [],
   "source": [
    "# load_ts_iso = \"2024-06-20\" \n",
    "load_ts_iso = '2024-06-28'\n",
    "data_version = \"20240619\""
   ]
  },
  {
   "cell_type": "code",
   "execution_count": null,
   "id": "270b3b20-4000-4426-bdd5-2e073d18c7d4",
   "metadata": {},
   "outputs": [],
   "source": [
    "adata_pc_with_annot_and_scvi_path = Path(conf.outputs.output_dir,\n",
    "                                         f\"adata_with_scvi_annot_pred_data_v_{data_version}_ts_{load_ts_iso}_only_pc_annotated_filtered.h5ad\")\n",
    "adata_only_pc = ad.read_h5ad(adata_pc_with_annot_and_scvi_path)\n",
    "adata_only_pc"
   ]
  },
  {
   "cell_type": "code",
   "execution_count": null,
   "id": "ec370204-eb70-47b6-8f4e-589773545150",
   "metadata": {},
   "outputs": [],
   "source": [
    "scvi.settings.seed = 0\n",
    "print(\"Last run with scvi-tools version:\", scvi.__version__)\n",
    "torch.set_float32_matmul_precision(\"high\")"
   ]
  },
  {
   "cell_type": "code",
   "execution_count": null,
   "id": "2a4a7c76-7e42-4f8f-97e1-14a6d67048bb",
   "metadata": {},
   "outputs": [],
   "source": [
    "sc.pl.umap(adata_only_pc, color=[\"Method\", 'pc_annotation'], ncols=2, wspace=0.3)\n",
    "# sc.pl.umap(backup_adata, color=[\"Method\", 'pc_annotation'], ncols=2, wspace=0.3)"
   ]
  },
  {
   "cell_type": "code",
   "execution_count": null,
   "id": "16d21042-3753-4dcc-a44b-061c6142acad",
   "metadata": {},
   "outputs": [],
   "source": [
    "backup_adata = adata_only_pc.copy()"
   ]
  },
  {
   "cell_type": "markdown",
   "id": "1b9f9c07-42dd-4995-86c8-09381c483edf",
   "metadata": {
    "jp-MarkdownHeadingCollapsed": true
   },
   "source": [
    "### train LDAE"
   ]
  },
  {
   "cell_type": "code",
   "execution_count": null,
   "id": "c8262283-6270-4d92-9564-a651a2154dbe",
   "metadata": {
    "scrolled": true
   },
   "outputs": [],
   "source": [
    "model_ldae = train_scvi_model(adata_only_pc, counts_layer = \"counts\", batch_key = \"Method\",\n",
    "                         scvi_model_type=scvi.model.LinearSCVI, \n",
    "                         model_kwargs={\"dropout_rate\": 0.1},\n",
    "                         trainer_kwargs={\"batch_size\": 512, 'max_epochs':200, 'plan_kwargs':{\"lr\": 5e-3}, 'check_val_every_n_epoch':10}\n",
    "                        )"
   ]
  },
  {
   "cell_type": "code",
   "execution_count": null,
   "id": "0bf781ca-a53f-49ca-b85b-6dabcfb3ee61",
   "metadata": {},
   "outputs": [],
   "source": [
    "train_elbo = model_ldae.history[\"elbo_train\"][1:]\n",
    "test_elbo = model_ldae.history[\"elbo_validation\"]\n",
    "\n",
    "ax = train_elbo.plot()\n",
    "test_elbo.plot(ax=ax)"
   ]
  },
  {
   "cell_type": "code",
   "execution_count": null,
   "id": "37b170a9-60c5-4f08-8ce1-b8cd7549a61d",
   "metadata": {},
   "outputs": [],
   "source": [
    "Z_hat = model_ldae.get_latent_representation()\n",
    "for i, z in enumerate(Z_hat.T):\n",
    "    adata_only_pc.obs[f\"Z_{i}\"] = z"
   ]
  },
  {
   "cell_type": "code",
   "execution_count": null,
   "id": "27deb6c2-744d-4061-be4a-f63310b77702",
   "metadata": {
    "scrolled": true
   },
   "outputs": [],
   "source": [
    "loadings = model_ldae.get_loadings()\n",
    "print(\n",
    "    \"Top loadings by magnitude\\n---------------------------------------------------------------------------------------\"\n",
    ")\n",
    "for clmn_ in loadings:\n",
    "    loading_ = loadings[clmn_].sort_values()\n",
    "    fstr = clmn_ + \":\\t\"\n",
    "    fstr += \"\\t\".join([f\"{i}, {loading_[i]:.2}\" for i in loading_.head(5).index])\n",
    "    fstr += \"\\n\\t...\\n\\t\"\n",
    "    fstr += \"\\t\".join([f\"{i}, {loading_[i]:.2}\" for i in loading_.tail(5).index])\n",
    "    print(\n",
    "        fstr\n",
    "        + \"\\n---------------------------------------------------------------------------------------\\n\"\n",
    "    )"
   ]
  },
  {
   "cell_type": "code",
   "execution_count": null,
   "id": "7eacc4ed-b99e-4137-88fd-b3ab2c430c5c",
   "metadata": {
    "scrolled": true
   },
   "outputs": [],
   "source": [
    "zs = [f\"Z_{i}\" for i in range(model_ldae.n_latent)]\n",
    "sc.pl.umap(adata_only_pc, color=zs, ncols=4)"
   ]
  },
  {
   "cell_type": "markdown",
   "id": "3d666044-17ca-4e9b-8bbc-42c663f64897",
   "metadata": {
    "jp-MarkdownHeadingCollapsed": true
   },
   "source": [
    "### create new neigborhood graph"
   ]
  },
  {
   "cell_type": "code",
   "execution_count": null,
   "id": "bdfb4cbc-bb5f-46cd-ae12-095324566a36",
   "metadata": {},
   "outputs": [],
   "source": [
    "LDVI_LATENT_KEY = \"X_LDVI\"\n",
    "LDVI_CLUSTERS_KEY = \"leiden_LDVI\"\n",
    "\n",
    "adata_only_pc.obsm[LDVI_LATENT_KEY] = Z_hat\n",
    "sc.pp.neighbors(adata_only_pc, use_rep=LDVI_LATENT_KEY, n_neighbors=20)\n",
    "sc.tl.umap(adata_only_pc, min_dist=0.3)\n",
    "# sc.tl.leiden(adata_only_pc, key_added=LDVI_CLUSTERS_KEY, resolution=1.2)"
   ]
  },
  {
   "cell_type": "code",
   "execution_count": null,
   "id": "7735d2a5-322d-4e79-9393-442297476342",
   "metadata": {},
   "outputs": [],
   "source": [
    "sc.pl.umap(adata_only_pc, color=[\"Method\", 'pc_annotation'], ncols=2, wspace=0.3)"
   ]
  },
  {
   "cell_type": "code",
   "execution_count": null,
   "id": "40837f18-3438-4abe-9d9b-9e2b49ad7c2b",
   "metadata": {
    "scrolled": true
   },
   "outputs": [],
   "source": [
    "sc.pl.umap(adata_only_pc, color=zs, ncols=4)"
   ]
  },
  {
   "cell_type": "markdown",
   "id": "e6f0b40a-14e6-460f-9690-e90487e5843b",
   "metadata": {},
   "source": [
    "### re-train again SCVI on all PC"
   ]
  },
  {
   "cell_type": "code",
   "execution_count": null,
   "id": "4fddbce4-baef-4d1b-8d5b-a3e7cb5f259a",
   "metadata": {
    "scrolled": true
   },
   "outputs": [],
   "source": [
    "model_scvi = train_scvi_model(adata_only_pc, counts_layer = \"counts\", batch_key = \"Method\",\n",
    "                         scvi_model_type=scvi.model.SCVI, \n",
    "                         model_kwargs={\"dropout_rate\": 0.1},\n",
    "                         trainer_kwargs={\"batch_size\": 512, 'max_epochs':250, 'plan_kwargs':{\"lr\": 5e-3}, 'check_val_every_n_epoch':10}\n",
    "                        )\n",
    "\n",
    "train_elbo = model_scvi.history[\"elbo_train\"][1:]\n",
    "test_elbo = model_scvi.history[\"elbo_validation\"]\n",
    "\n",
    "ax = train_elbo.plot()\n",
    "test_elbo.plot(ax=ax)"
   ]
  },
  {
   "cell_type": "code",
   "execution_count": null,
   "id": "87834528-2956-4494-949b-4d7252adac72",
   "metadata": {},
   "outputs": [],
   "source": [
    "scvi_latent_key = \"X_SCVI\"\n",
    "adata_only_pc.obsm[scvi_latent_key] = model_scvi.get_latent_representation()\n",
    "sc.pp.neighbors(adata_only_pc, use_rep=scvi_latent_key, n_neighbors=20)\n",
    "sc.tl.umap(adata_only_pc, min_dist=0.3)"
   ]
  },
  {
   "cell_type": "code",
   "execution_count": null,
   "id": "2dffb704-d2ed-4dc1-b7cc-46bec58fc58f",
   "metadata": {},
   "outputs": [],
   "source": [
    "sc.pl.umap(adata_only_pc, color=[\"Method\", \"pc_annotation\"])"
   ]
  },
  {
   "cell_type": "markdown",
   "id": "54a3dcf2-bc75-4d01-a02b-a27a95428cb5",
   "metadata": {},
   "source": [
    "### train on only PC var genes"
   ]
  },
  {
   "cell_type": "code",
   "execution_count": null,
   "id": "0555dd3d-7928-4533-be20-3da189058a23",
   "metadata": {},
   "outputs": [],
   "source": [
    "adata_only_pc.layers[\"counts\"].shape"
   ]
  },
  {
   "cell_type": "code",
   "execution_count": null,
   "id": "3b160fe0-3517-4a40-92f2-e04e81c84289",
   "metadata": {},
   "outputs": [],
   "source": [
    "from io_utils import generate_path_in_output_dir\n",
    "from sc_classification.var_genes import normalize_and_choose_genes"
   ]
  },
  {
   "cell_type": "code",
   "execution_count": null,
   "id": "69e54e78-4161-4776-a47a-656fd5fc53f4",
   "metadata": {},
   "outputs": [],
   "source": [
    "adata_path = generate_path_in_output_dir(conf, conf.outputs.processed_adata_file_name, with_version=data_version)\n",
    "adata_pc_new_vars = ad.read_h5ad(adata_path)\n",
    "adata_pc_new_vars = adata_pc_new_vars[adata_only_pc.obs_names,:]\n",
    "adata_pc_new_vars"
   ]
  },
  {
   "cell_type": "code",
   "execution_count": null,
   "id": "261d4c4b-39c3-4b6d-b0bb-5ce26473589c",
   "metadata": {},
   "outputs": [],
   "source": [
    "adata_pc_new_vars_mars = normalize_and_choose_genes(adata_pc_new_vars[adata_pc_new_vars.obs[\"Method\"]==\"MARS\"], conf, n_top_genes=2000)\n",
    "adata_pc_new_vars_SPID = normalize_and_choose_genes(adata_pc_new_vars[adata_pc_new_vars.obs[\"Method\"]==\"SPID\"], conf, n_top_genes=2000)"
   ]
  },
  {
   "cell_type": "code",
   "execution_count": null,
   "id": "789ced8b-2d3e-4540-a5ed-42aef8c75625",
   "metadata": {},
   "outputs": [],
   "source": [
    "print(len(set(adata_pc_new_vars_SPID.var_names)), \n",
    "      len(set(adata_pc_new_vars_mars.var_names)),\n",
    "      len(set(adata_pc_new_vars_SPID.var_names).intersection(set(adata_pc_new_vars_mars.var_names)))\n",
    "     )"
   ]
  },
  {
   "cell_type": "code",
   "execution_count": null,
   "id": "ab098c05-6bb9-4467-9043-aad4bb6c2db8",
   "metadata": {},
   "outputs": [],
   "source": [
    "MARS_var_genes_path = '/home/labs/amit/noamsh/data/mm_2023/feats/pc_mars_genes.csv'\n",
    "SPID_var_genes_path = '/home/labs/amit/noamsh/data/mm_2023/feats/pc_spid_genes.csv'\n",
    "\n",
    "MARS_var_genes = pd.read_csv(MARS_var_genes_path)\n",
    "SPID_var_genes = pd.read_csv(SPID_var_genes_path)"
   ]
  },
  {
   "cell_type": "code",
   "execution_count": null,
   "id": "0a375fee-3891-40bc-95ee-c2a9d7058e05",
   "metadata": {},
   "outputs": [],
   "source": [
    "MARS_pc_genes = list(MARS_var_genes['Unnamed: 0'])\n",
    "SPID_pc_genes = list(SPID_var_genes['Unnamed: 0'])\n",
    "\n",
    "print(len(MARS_pc_genes), \n",
    "      len(set(adata_pc_new_vars_mars.var_names)),\n",
    "      len(set(adata_pc_new_vars_SPID.var_names).intersection(set(adata_pc_new_vars_mars.var_names)))\n",
    "     )"
   ]
  },
  {
   "cell_type": "code",
   "execution_count": null,
   "id": "fd87e327-f08c-4be6-b7ab-b9537485bf31",
   "metadata": {},
   "outputs": [],
   "source": [
    "# genes = list(set(list(adata_pc_new_vars_SPID.var_names) + list(adata_pc_new_vars_mars.var_names))) + list(adata_pc_new_vars_mars.var_names)))\n",
    "genes = list(set(SPID_pc_genes + MARS_pc_genes).intersection(set(adata_pc_new_vars.var_names)))\n",
    "\n",
    "adata_pc_new_vars.layers[conf.scvi_settings.counts_layer_name] = adata_pc_new_vars.X.copy()\n",
    "adata_pc_new_vars = adata_pc_new_vars[:, genes]\n",
    "adata_pc_new_vars = adata_pc_new_vars.copy()"
   ]
  },
  {
   "cell_type": "code",
   "execution_count": null,
   "id": "6f7d3aa3-3b75-48cf-95fd-c65989df05b6",
   "metadata": {},
   "outputs": [],
   "source": [
    "adata_pc_new_vars.obs[\"pc_annotation\"] = adata_only_pc.obs[\"pc_annotation\"]"
   ]
  },
  {
   "cell_type": "code",
   "execution_count": null,
   "id": "f5798346-d127-4ef4-9ce2-61820ff754d3",
   "metadata": {},
   "outputs": [],
   "source": [
    "adata_pc_new_vars"
   ]
  },
  {
   "cell_type": "markdown",
   "id": "f3e07d3f-769e-4a47-8327-4a3e7c41a315",
   "metadata": {},
   "source": [
    "#### LDAE"
   ]
  },
  {
   "cell_type": "code",
   "execution_count": null,
   "id": "c8bbfa1c-9218-4acb-adfc-9754618b00ac",
   "metadata": {},
   "outputs": [],
   "source": [
    "model_ldae_new = train_scvi_model(adata_pc_new_vars, counts_layer = \"counts\", batch_key = \"Method\",\n",
    "                         scvi_model_type=scvi.model.LinearSCVI, \n",
    "                         model_kwargs={\"dropout_rate\": 0.1},\n",
    "                         trainer_kwargs={\"batch_size\": 512, 'max_epochs':300, 'plan_kwargs':{\"lr\": 5e-3}, 'check_val_every_n_epoch':10}\n",
    "                        )\n",
    "\n",
    "train_elbo = model_ldae_new.history[\"elbo_train\"][1:]\n",
    "test_elbo = model_ldae_new.history[\"elbo_validation\"]\n",
    "\n",
    "ax = train_elbo.plot()\n",
    "test_elbo.plot(ax=ax)"
   ]
  },
  {
   "cell_type": "code",
   "execution_count": null,
   "id": "418686ef-7267-4e16-8a7a-fb0eba174e4f",
   "metadata": {
    "scrolled": true
   },
   "outputs": [],
   "source": [
    "loadings = model_ldae_new.get_loadings()\n",
    "print(\n",
    "    \"Top loadings by magnitude\\n---------------------------------------------------------------------------------------\"\n",
    ")\n",
    "for clmn_ in loadings:\n",
    "    loading_ = loadings[clmn_].sort_values()\n",
    "    fstr = clmn_ + \":\\t\"\n",
    "    fstr += \"\\t\".join([f\"{i}, {loading_[i]:.2}\" for i in loading_.head(5).index])\n",
    "    fstr += \"\\n\\t...\\n\\t\"\n",
    "    fstr += \"\\t\".join([f\"{i}, {loading_[i]:.2}\" for i in loading_.tail(5).index])\n",
    "    print(\n",
    "        fstr\n",
    "        + \"\\n---------------------------------------------------------------------------------------\\n\"\n",
    "    )"
   ]
  },
  {
   "cell_type": "code",
   "execution_count": null,
   "id": "a07b5cb4-373b-414a-bf1b-dbd9a1360176",
   "metadata": {},
   "outputs": [],
   "source": [
    "Z_hat = model_ldae_new.get_latent_representation()\n",
    "for i, z in enumerate(Z_hat.T):\n",
    "    adata_pc_new_vars.obs[f\"Z_{i}\"] = z"
   ]
  },
  {
   "cell_type": "code",
   "execution_count": null,
   "id": "ab513bd0-be7b-4f58-9fb9-da3338d828b9",
   "metadata": {},
   "outputs": [],
   "source": [
    "LDVI_LATENT_KEY = \"X_LDVI\"\n",
    "LDVI_CLUSTERS_KEY = \"leiden_LDVI\"\n",
    "\n",
    "adata_pc_new_vars.obsm[LDVI_LATENT_KEY] = Z_hat\n",
    "sc.pp.neighbors(adata_pc_new_vars, use_rep=LDVI_LATENT_KEY, n_neighbors=20)\n",
    "sc.tl.umap(adata_pc_new_vars, min_dist=0.3)"
   ]
  },
  {
   "cell_type": "code",
   "execution_count": null,
   "id": "c977c5d1-0ab0-440f-9b4d-4473c8c6132a",
   "metadata": {},
   "outputs": [],
   "source": [
    "sc.pl.umap(adata_pc_new_vars, color=[\"Method\", \"pc_annotation\"], wspace=0.3)"
   ]
  },
  {
   "cell_type": "code",
   "execution_count": null,
   "id": "c0f24e51-094b-4852-8b77-fdad91a63ed8",
   "metadata": {},
   "outputs": [],
   "source": [
    "zs = [f\"Z_{i}\" for i in range(model_ldae_new.n_latent)]\n",
    "sc.pl.umap(adata_pc_new_vars, color=zs)"
   ]
  },
  {
   "cell_type": "code",
   "execution_count": null,
   "id": "7094963c-0ead-4d86-9433-a5df1e88b5db",
   "metadata": {},
   "outputs": [],
   "source": [
    "# sc.tl.leiden(adata_pc_new_vars, key_added=LDVI_CLUSTERS_KEY, resolution=1.2)"
   ]
  },
  {
   "cell_type": "markdown",
   "id": "6770fa77-fd42-4b9e-acd6-e25bb8663a79",
   "metadata": {},
   "source": [
    "#### train SCVI on new features"
   ]
  },
  {
   "cell_type": "code",
   "execution_count": null,
   "id": "76040055-645a-4a84-8966-c2e579a0278c",
   "metadata": {},
   "outputs": [],
   "source": [
    "model_scvi_new = train_scvi_model(adata_pc_new_vars, counts_layer = \"counts\", batch_key = \"Method\",\n",
    "                         scvi_model_type=scvi.model.SCVI, \n",
    "                         model_kwargs={\"dropout_rate\": 0.1},\n",
    "                         trainer_kwargs={\"batch_size\": 512, 'max_epochs':350, 'plan_kwargs':{\"lr\": 5e-3}, 'check_val_every_n_epoch':10}\n",
    "                        )\n",
    "\n",
    "train_elbo = model_scvi_new.history[\"elbo_train\"][1:]\n",
    "test_elbo = model_scvi_new.history[\"elbo_validation\"]\n",
    "\n",
    "ax = train_elbo.plot()\n",
    "test_elbo.plot(ax=ax)"
   ]
  },
  {
   "cell_type": "code",
   "execution_count": null,
   "id": "42aa5d03-aaea-4959-8ee4-1cfef070a2ed",
   "metadata": {},
   "outputs": [],
   "source": [
    "scvi_latent_key = \"X_SCVI\"\n",
    "adata_pc_new_vars.obsm[scvi_latent_key] = model_scvi_new.get_latent_representation()\n",
    "sc.pp.neighbors(adata_pc_new_vars, use_rep=scvi_latent_key, n_neighbors=20)\n",
    "sc.tl.umap(adata_pc_new_vars, min_dist=0.3)\n"
   ]
  },
  {
   "cell_type": "code",
   "execution_count": null,
   "id": "9942e5ce-7a30-46f5-866e-be1cc4ac0e0d",
   "metadata": {},
   "outputs": [],
   "source": [
    "sc.pl.umap(adata_pc_new_vars, color=[\"Method\", \"pc_annotation\"],wspace=0.3)"
   ]
  },
  {
   "cell_type": "markdown",
   "id": "bea39b1e-1ee6-4a52-a702-410f667f16e1",
   "metadata": {},
   "source": [
    "### save"
   ]
  },
  {
   "cell_type": "code",
   "execution_count": null,
   "id": "2d166181-4077-4d7e-94b2-39c1ce8a4de1",
   "metadata": {},
   "outputs": [],
   "source": [
    "pc_LDAE_path = Path(conf.outputs.output_dir, f\"adata_with_pc_LDAE_data_v_{data_version}_ts_{load_ts_iso}.h5ad\")\n",
    "adata_only_pc.write(pc_LDAE_path)\n",
    "model_path = generate_path_in_output_dir(conf, f\"LDAE_only_pc_model_data_v_{data_version}\", add_date_timestamp=True)\n",
    "model.save(model_path)"
   ]
  },
  {
   "cell_type": "code",
   "execution_count": null,
   "id": "635aa45c-c689-4ed1-a643-e27c92cb63b9",
   "metadata": {},
   "outputs": [],
   "source": []
  }
 ],
 "metadata": {
  "kernelspec": {
   "display_name": "Python 3 (ipykernel)",
   "language": "python",
   "name": "python3"
  },
  "language_info": {
   "codemirror_mode": {
    "name": "ipython",
    "version": 3
   },
   "file_extension": ".py",
   "mimetype": "text/x-python",
   "name": "python",
   "nbconvert_exporter": "python",
   "pygments_lexer": "ipython3",
   "version": "3.9.18"
  }
 },
 "nbformat": 4,
 "nbformat_minor": 5
}
