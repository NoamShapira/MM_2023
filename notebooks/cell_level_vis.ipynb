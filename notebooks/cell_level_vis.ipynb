{
 "cells": [
  {
   "cell_type": "code",
   "execution_count": null,
   "id": "ec3b2c3d-0956-4b17-9e05-6365b6c86662",
   "metadata": {},
   "outputs": [],
   "source": [
    "import sys\n",
    "repo_dir = '/home/labs/amit/noamsh/repos/MM_2023'\n",
    "sys.path.append(repo_dir)\n",
    "\n",
    "%load_ext autoreload\n",
    "%autoreload 2"
   ]
  },
  {
   "cell_type": "code",
   "execution_count": null,
   "id": "6ffb3281-e018-4e0e-83d1-3c357207fa97",
   "metadata": {},
   "outputs": [],
   "source": [
    "from pathlib import Path\n",
    "import os\n",
    "\n",
    "from omegaconf import OmegaConf\n",
    "import scanpy as sc\n",
    "import numpy as np\n",
    "import pandas as pd\n",
    "import anndata as ad\n",
    "import pyreadr\n",
    "\n",
    "from matplotlib import rcParams\n",
    "import plotly.express as px\n",
    "import plotly.graph_objects as go\n",
    "from plotly.subplots import make_subplots\n",
    "\n",
    "from io_utils import generate_path_in_output_dir\n",
    "from data_loading.utils import load_dataframe_from_file, get_updated_disease_col\n",
    "from clinical_predictions.clinical_data_loading import load_and_process_clinical_data"
   ]
  },
  {
   "cell_type": "code",
   "execution_count": null,
   "id": "1d3b3a53-a1f0-4018-8709-d65d428db77d",
   "metadata": {},
   "outputs": [],
   "source": [
    "config_path = Path(repo_dir, 'config.yaml')\n",
    "conf = OmegaConf.load(config_path)\n",
    "update_results = False\n",
    "\n",
    "from datetime import date\n",
    "ts_iso = date.today().isoformat()\n",
    "\n",
    "sc.set_figure_params(dpi=100, dpi_save=150)\n",
    "figures_dir = Path(conf.outputs.output_dir, \"figures\", ts_iso)\n",
    "update_figures = True\n",
    "\n",
    "import warnings\n",
    "warnings.simplefilter(action='ignore', category=FutureWarning)"
   ]
  },
  {
   "cell_type": "code",
   "execution_count": null,
   "id": "9a07d2be-03c3-429a-8e4f-2b5a9a724398",
   "metadata": {},
   "outputs": [],
   "source": [
    "# load_ts_iso = \"2024-05-21\"\n",
    "# data_version = \"20240519\"\n",
    "\n",
    "# load_ts_iso = \"2024-06-20\"\n",
    "# data_version = \"20240619\"\n",
    "\n",
    "load_ts_iso = \"2024-08-18\"\n",
    "data_version = \"20240813\"\n"
   ]
  },
  {
   "cell_type": "markdown",
   "id": "a0d3a93d-bf05-49a4-a387-5693c51070a4",
   "metadata": {},
   "source": [
    "## all cells"
   ]
  },
  {
   "cell_type": "code",
   "execution_count": null,
   "id": "234d5122-9fd5-4e0b-bcca-a8cdba27eb71",
   "metadata": {},
   "outputs": [],
   "source": [
    "adata_for_clustering = ad.read_h5ad(generate_path_in_output_dir(conf, conf.outputs.inferred_missing_annotation_file_name,\n",
    "                                                 with_version=data_version, with_date_timestamp=load_ts_iso))\n",
    "adata_for_clustering"
   ]
  },
  {
   "cell_type": "code",
   "execution_count": null,
   "id": "09b6e157-e7fd-4a68-bfa0-d71a0b39805b",
   "metadata": {},
   "outputs": [],
   "source": [
    "hospital_crf_path = Path('/home/labs/amit/noamsh/data/mm_2023/clinical_prediction/Anonymized_CRF_BP_01082024.xlsx')\n",
    "clinical_disease = load_and_process_clinical_data(hospital_crf_path, code_lower_case=False, get_hospital_stage=True,\n",
    "                                                 get_post_treatment=False, get_treatment_history=True,\n",
    "                                                 get_combination_exposure=False, get_pfs_data=False)\n",
    "adata_for_clustering.obs['Biopsy.Sequence'] = adata_for_clustering.obs['Biopsy.Sequence'].astype(int)\n",
    "merged = adata_for_clustering.obs.merge(clinical_disease, how='left', \n",
    "                                        left_on=['Hospital.Code', 'Biopsy.Sequence'],\n",
    "                                        right_on=['Code', 'Biopsy sequence No.'])"
   ]
  },
  {
   "cell_type": "code",
   "execution_count": null,
   "id": "86f57b00-f2d3-4d7c-aecc-3bf6977a66fb",
   "metadata": {},
   "outputs": [],
   "source": [
    "updated_disease_col = get_updated_disease_col(merged, \"Disease\", \"Disease Stage Hospital\", \n",
    "                                              update_non_naive_NDMM=True, remove_PRMM=False)\n",
    "updated_disease_col.index = adata_for_clustering.obs_names\n",
    "adata_for_clustering.obs['Disease'] = updated_disease_col\n",
    "Disease_patients_count = adata_for_clustering.obs.groupby('Disease')['Hospital.Code'].nunique()\n",
    "# Disease_patients_count"
   ]
  },
  {
   "cell_type": "code",
   "execution_count": null,
   "id": "cd98f0b1-4c19-4d58-83d0-3ad3dd721659",
   "metadata": {},
   "outputs": [],
   "source": [
    "adata_for_clustering.obs[\"Populations\"][adata_for_clustering.obs[\"super_Population\"] == \"PC\"] = \"PC\"\n",
    "adata_for_clustering = adata_for_clustering[adata_for_clustering.obs[\"Populations\"].apply(lambda x: x not in (\"Erythrocytes\", 'UN', 'Malignant'))]\n",
    "adata_for_clustering.obs[\"Populations\"].value_counts()"
   ]
  },
  {
   "cell_type": "code",
   "execution_count": null,
   "id": "c573a6ae-7198-4c98-85f6-0d8b5a952e8d",
   "metadata": {},
   "outputs": [],
   "source": [
    "sid = merged['Hospital.Code'] + \"_\" + merged['Biopsy.Sequence'].astype(str)"
   ]
  },
  {
   "cell_type": "code",
   "execution_count": null,
   "id": "4ea1a317-c5bf-4fb3-8a5e-6553a1dbef77",
   "metadata": {},
   "outputs": [],
   "source": [
    "# report \n",
    "print(f\"sequenced BM samples: {len(sid.unique())}\")\n",
    "print(f\"samples with clinical data: {len(clinical_disease)}\")\n",
    "\n",
    "print(\"\\npatients by disease stage\")\n",
    "print(Disease_patients_count.sort_values(ascending=False))\n",
    "\n",
    "print(\"\\ncells sequenced\")\n",
    "print(f\"\"\"\n",
    "Plasma cells: {(adata_for_clustering.obs[\"super_Population\"]==\"PC\").sum()}\n",
    "Immune cells: {(adata_for_clustering.obs[\"super_Population\"]==\"CD45\").sum() }\n",
    "Total cells: {adata_for_clustering.n_obs}\n",
    "\"\"\")"
   ]
  },
  {
   "cell_type": "code",
   "execution_count": null,
   "id": "eb12820b-07df-426c-b3c6-4ef18e0891b7",
   "metadata": {
    "scrolled": true
   },
   "outputs": [],
   "source": [
    "FIGSIZE = (6, 6)\n",
    "rcParams[\"figure.figsize\"] = FIGSIZE\n",
    "# rcParams.update({'font.size': 16})\n",
    "\n",
    "sc.pl.umap(adata_for_clustering, color=['Populations', 'super_Population'], size=1,\n",
    "           ncols=1, legend_loc='on data',legend_fontsize='small', frameon=False, palette=\"tab20\")"
   ]
  },
  {
   "cell_type": "markdown",
   "id": "69bd6265-74b4-4a9f-ab94-1c0aa3236052",
   "metadata": {},
   "source": [
    "### targets"
   ]
  },
  {
   "cell_type": "code",
   "execution_count": null,
   "id": "3ed1c8bb-c251-4449-8993-0298a7ae4c53",
   "metadata": {},
   "outputs": [],
   "source": [
    "mor_markers_df = load_dataframe_from_file(Path(\"/home/labs/amit/noamsh/data/mm_2023/MM targets and genes.xlsx\"))\n",
    "mor_markers_df.drop(columns=[\"Unnamed: 0\"])\n",
    "PC_markers = mor_markers_df['Known PC markers'].dropna().tolist()\n",
    "MM_drivers = mor_markers_df['Known MM drivers'].dropna().tolist()\n",
    "MM_drivers.remove(\"ITF4\")\n",
    "MM_drivers.append(\"IRF4\")\n",
    "MM_targets = mor_markers_df['MM targets'].dropna().tolist()\n",
    "Clinical_trials = mor_markers_df['Clinical trials'].dropna().tolist()\n",
    "Clinical_trials.remove('CD73')\n",
    "Clinical_trials.append(\"NT5E\")\n",
    "Clinical_trials.remove('eIF2a')\n",
    "Clinical_trials.append(\"EIF2A\")"
   ]
  },
  {
   "cell_type": "code",
   "execution_count": null,
   "id": "9654547c-aba5-4ab8-adf1-3abd26a7f533",
   "metadata": {},
   "outputs": [],
   "source": [
    "PPT_PC_markers = [\"CD38\", \"SDC1\", \"XBP1\", \"SSR4\", \"MZB1\"]\n",
    "PPT_MM_drivers = [\"CCND1\", \"CCND2\", \"FRZB\", \"LAMP5\", \"ITGB7\", \"CDR1\", \"NSD2\", \"FGFR3\", \"SPP1\"]\n",
    "PPT_current_targets = [\"CD38\", \"SDC1\", \"TNFRSF17\", \"GPRC5D\", \"SLAMF7\"]\n",
    "new_targets_PPT = [\"TNFRSF13B\", \"FCRLA\", \"CCR10\", \"KCNN3\"]"
   ]
  },
  {
   "cell_type": "code",
   "execution_count": null,
   "id": "f1b0f765-ef1d-4e55-8068-4846d18de5c1",
   "metadata": {},
   "outputs": [],
   "source": [
    "FIGSIZE = (5, 5)\n",
    "rcParams[\"figure.figsize\"] = FIGSIZE"
   ]
  },
  {
   "cell_type": "code",
   "execution_count": null,
   "id": "5cf17528-cb24-4131-b54f-fd8529e7cc28",
   "metadata": {
    "scrolled": true
   },
   "outputs": [],
   "source": [
    "# sc.pl.umap(adata_for_clustering, color=PC_markers, ncols=3, frameon=False, colorbar_loc=None)\n",
    "sc.pl.umap(adata_for_clustering, color=PPT_PC_markers, ncols=5, frameon=False, colorbar_loc=None, size=0.8)"
   ]
  },
  {
   "cell_type": "code",
   "execution_count": null,
   "id": "3514eeff-a773-4f50-bec3-4948bbfbd1ed",
   "metadata": {
    "scrolled": true
   },
   "outputs": [],
   "source": [
    "# sc.pl.umap(adata_for_clustering, color=MM_drivers, ncols=3, frameon=False, colorbar_loc=None)\n",
    "sc.pl.umap(adata_for_clustering, color=PPT_MM_drivers, ncols=5, frameon=False, colorbar_loc=None, size=0.8)"
   ]
  },
  {
   "cell_type": "code",
   "execution_count": null,
   "id": "e746b02a-d2b8-40b6-b24c-f35f72c47f01",
   "metadata": {
    "scrolled": true
   },
   "outputs": [],
   "source": [
    "# sc.pl.umap(adata_for_clustering, color=MM_targets, ncols=3, frameon=False, colorbar_loc=None)\n",
    "sc.pl.umap(adata_for_clustering, color=PPT_current_targets, ncols=5, frameon=False, colorbar_loc=None, size=1)"
   ]
  },
  {
   "cell_type": "code",
   "execution_count": null,
   "id": "2a21a9ec-22a0-49af-876f-a2da71981fcc",
   "metadata": {
    "scrolled": true
   },
   "outputs": [],
   "source": [
    "sc.pl.umap(adata_for_clustering, color=Clinical_trials, ncols=3, frameon=False, colorbar_loc=None)"
   ]
  },
  {
   "cell_type": "code",
   "execution_count": null,
   "id": "d0ff2753-f774-4adf-a6e1-2854d96adda1",
   "metadata": {
    "scrolled": true
   },
   "outputs": [],
   "source": [
    "targets_mor = pd.read_excel('/home/labs/amit/noamsh/data/mm_2023/targets/Genes_combined_mor.xls')\n",
    "sc.pl.umap(adata_for_clustering, color=targets_mor['Gene_name'], ncols=3, frameon=False, colorbar_loc=None)"
   ]
  },
  {
   "cell_type": "code",
   "execution_count": null,
   "id": "87cde5f5-c3a8-4762-bd8f-673d9af2b83d",
   "metadata": {
    "scrolled": true
   },
   "outputs": [],
   "source": [
    "# sc.pl.umap(adata_for_clustering, color=[\"BMP6\", \"DERL3\", \"FCRLA\", \"HLA-DOB\", \"KCNN3\", \"MOXD1\", \"TNFRSF13B\", \"AMPD1\", \"MYEOV\", \"TXNDC5\", \"BFSP2\", \"CCR10\", \"JSRP1\"], ncols=3, frameon=False, colorbar_loc=None)\n",
    "sc.pl.umap(adata_for_clustering, color=new_targets_PPT, ncols=4, frameon=False, colorbar_loc=None, vmax=4, size=1)"
   ]
  },
  {
   "cell_type": "code",
   "execution_count": null,
   "id": "43332391-5957-4d28-b1df-6e6dd4ac482a",
   "metadata": {},
   "outputs": [],
   "source": [
    "sc.pl.umap(adata_for_clustering, color=['BCL2'], ncols=4, frameon=False, colorbar_loc=None, vmax=4, size=1)"
   ]
  },
  {
   "cell_type": "markdown",
   "id": "269406e4-38c6-4e49-9bf2-8469951e97dd",
   "metadata": {},
   "source": [
    "## only PC"
   ]
  },
  {
   "cell_type": "code",
   "execution_count": null,
   "id": "c6717ec1-d92e-4867-b66f-1fd8aaf4d9a6",
   "metadata": {},
   "outputs": [],
   "source": [
    "annotated_only_pc_path = Path(conf.outputs.output_dir, f\"adata_with_scvi_annot_pred_data_v_{data_version}_ts_{load_ts_iso}_only_pc_annotated.h5ad\")\n",
    "annotated_filtered_only_pc_path = Path(conf.outputs.output_dir, f\"adata_with_scvi_annot_pred_data_v_{data_version}_ts_{load_ts_iso}_only_pc_annotated_filtered.h5ad\")\n",
    "\n",
    "adata_only_pc = ad.read_h5ad(annotated_only_pc_path)\n",
    "non_noisy_malignant = ad.read_h5ad(annotated_filtered_only_pc_path)"
   ]
  },
  {
   "cell_type": "code",
   "execution_count": null,
   "id": "9efb45ba-24ad-45b8-944d-4d0b02337afb",
   "metadata": {
    "scrolled": true
   },
   "outputs": [],
   "source": [
    "sc.pl.umap(non_noisy_malignant, color=PC_markers, ncols=3 , size=2, frameon=False, colorbar_loc=None)\n",
    "# sc.pl.umap(non_noisy_malignant, color=PPT_PC_markers, ncols=5 , size=5, frameon=False, colorbar_loc=None)"
   ]
  },
  {
   "cell_type": "code",
   "execution_count": null,
   "id": "a1ac1783-8d48-4721-98c0-a7376c004578",
   "metadata": {
    "scrolled": true
   },
   "outputs": [],
   "source": [
    "sc.pl.umap(non_noisy_malignant, color=MM_drivers, ncols=3, size=2, frameon=False, colorbar_loc=None)\n",
    "# sc.pl.umap(non_noisy_malignant, color=PPT_MM_drivers, ncols=5 , size=5, frameon=False, colorbar_loc=None)"
   ]
  },
  {
   "cell_type": "code",
   "execution_count": null,
   "id": "61be5c61-9a70-444b-806e-dd919746fc08",
   "metadata": {
    "scrolled": true
   },
   "outputs": [],
   "source": [
    "sc.pl.umap(non_noisy_malignant, color=MM_targets, ncols=3, size=2, frameon=False, colorbar_loc=None)\n",
    "# sc.pl.umap(non_noisy_malignant, color=PPT_current_targets, ncols=5 , size=5, frameon=False, colorbar_loc=None)\n"
   ]
  },
  {
   "cell_type": "code",
   "execution_count": null,
   "id": "1ca7dcab-308b-4e16-88f6-1cdb6d440e57",
   "metadata": {
    "scrolled": true
   },
   "outputs": [],
   "source": [
    "sc.pl.umap(non_noisy_malignant, color=Clinical_trials, ncols=3, size=2, frameon=False, colorbar_loc=None)"
   ]
  },
  {
   "cell_type": "code",
   "execution_count": null,
   "id": "518f5a9d-00b4-470a-aa13-33c5e21301a2",
   "metadata": {
    "scrolled": true
   },
   "outputs": [],
   "source": [
    "# metabolism\n",
    "# sc.pl.umap(non_noisy_malignant, color=[\"HIF1A\", \"LDHA\", \"LDHB\", \"SLC2A1\", \"SLC2A3\", \"ODC1\", \"SMS\", \"SMOX\", \"SAT1\", \"SRM\"], ncols=3, palette=\"Paired\", legend_loc='on data', size=10)"
   ]
  },
  {
   "cell_type": "code",
   "execution_count": null,
   "id": "c1c8cea7-e5c2-4df4-8099-3f63400349ab",
   "metadata": {
    "scrolled": true
   },
   "outputs": [],
   "source": [
    "targets_mor = pd.read_excel('/home/labs/amit/noamsh/data/mm_2023/targets/Genes_combined_mor.xls')\n",
    "sc.pl.umap(non_noisy_malignant, color=targets_mor['Gene_name'], ncols=3, size=2, frameon=False, colorbar_loc=None)"
   ]
  },
  {
   "cell_type": "code",
   "execution_count": null,
   "id": "55d4320c-f3c4-4a4e-8b83-9a57e6b59780",
   "metadata": {
    "scrolled": true
   },
   "outputs": [],
   "source": [
    "# sc.pl.umap(non_noisy_malignant, color=[\"BMP6\", \"DERL3\", \"FCRLA\", \"HLA-DOB\", \"KCNN3\", \"MOXD1\", \"TNFRSF13B\", \"AMPD1\", \"MYEOV\", \"TXNDC5\", \"BFSP2\", \"CCR10\", \"JSRP1\"], ncols=3, size=2, frameon=False, colorbar_loc=None)\n",
    "sc.pl.umap(non_noisy_malignant, color=new_targets_PPT, ncols=4, size=4, frameon=False, color_map='viridis', vmax=4, colorbar_loc=None) # colorbar_loc=None\n"
   ]
  },
  {
   "cell_type": "code",
   "execution_count": null,
   "id": "56355550-9b23-4843-bb52-a8c67d7a32bf",
   "metadata": {
    "scrolled": true
   },
   "outputs": [],
   "source": [
    "\n",
    "mye_genes = [\"MAF\", 'MAFA','CYBB', 'CXCL12', 'C1QB', 'TLR4','S100A10','S100A11','S100A4']\n",
    "sc.pl.umap(non_noisy_malignant, color=mye_genes, ncols=3, vmax=4 , size=2, frameon=False, color_map='viridis', colorbar_loc=None) # colorbar_loc=None\n"
   ]
  },
  {
   "cell_type": "code",
   "execution_count": null,
   "id": "f0909e5d-3d14-47e8-b6c6-9131ee09d9bb",
   "metadata": {},
   "outputs": [],
   "source": [
    "sc.pl.umap(non_noisy_malignant, color='BCL2', ncols=3, vmax=4 , size=2, frameon=False, color_map='viridis', colorbar_loc=None) # colorbar_loc=None\n"
   ]
  },
  {
   "cell_type": "markdown",
   "id": "867ea11f-2bee-4e18-80ca-a3febdb53f0b",
   "metadata": {},
   "source": [
    "### exploration"
   ]
  },
  {
   "cell_type": "code",
   "execution_count": null,
   "id": "987583e3-5d8d-475e-9f10-4c6852e14b69",
   "metadata": {},
   "outputs": [],
   "source": [
    "non_noisy_malignant"
   ]
  },
  {
   "cell_type": "code",
   "execution_count": null,
   "id": "4e28330d-b3d4-4e7f-87de-470d53f61f68",
   "metadata": {},
   "outputs": [],
   "source": [
    "sc.pl.umap(non_noisy_malignant, color='pc_annotation', ncols=1, palette=\"brc\", frameon=False, legend_loc='on data', title=\"only PC\")"
   ]
  },
  {
   "cell_type": "code",
   "execution_count": null,
   "id": "5322275f-e755-493e-9de9-a1133a5deaca",
   "metadata": {},
   "outputs": [],
   "source": [
    "# sample_cell_counts\n",
    "cells = non_noisy_malignant.obs[['Hospital.Code','Biopsy.Sequence', 'pc_annotation', 'Disease']]\n",
    "cells = cells[cells['Biopsy.Sequence']!=4]\n",
    "\n",
    "total_sample_cells = cells.groupby(['Hospital.Code','Biopsy.Sequence','Disease'])['pc_annotation'].count()\n",
    "total_sample_cells = total_sample_cells[total_sample_cells!=0].reset_index()\n",
    "total_sample_cells = total_sample_cells.rename(columns={'pc_annotation': \"total_pc\"})"
   ]
  },
  {
   "cell_type": "code",
   "execution_count": null,
   "id": "b5f87d96-df15-4f90-861b-78a1a1f9339a",
   "metadata": {},
   "outputs": [],
   "source": [
    "# cell_counts = cells.groupby(['Hospital.Code','Biopsy.Sequence','Disease'])['pc_annotation'].value_counts(normalize=norm_counts)\n",
    "# cell_counts[cell_counts!=0].reset_index()"
   ]
  },
  {
   "cell_type": "code",
   "execution_count": null,
   "id": "9b0fde0b-3957-4109-a675-90e7e593731b",
   "metadata": {},
   "outputs": [],
   "source": [
    "norm_counts = True\n",
    "low_pc_thesh = 50\n",
    "\n",
    "sample_cell_counts = cells.groupby(['Hospital.Code','Biopsy.Sequence','Disease'])['pc_annotation'].value_counts(normalize=norm_counts)\n",
    "sample_cell_counts = sample_cell_counts[sample_cell_counts!=0].reset_index()\n",
    "sample_cell_counts = sample_cell_counts.merge(total_sample_cells, on=['Hospital.Code','Biopsy.Sequence','Disease'], how='left')\n",
    "sample_cell_counts = sample_cell_counts[sample_cell_counts['total_pc']>low_pc_thesh]\n",
    "\n",
    "for cell_population_to_plot in ['Healthy' , 'Healthy_Like', 'Malignant']:\n",
    "    f = px.box(sample_cell_counts[sample_cell_counts['pc_annotation'] == cell_population_to_plot],\n",
    "               x='Biopsy.Sequence', y='proportion' if norm_counts else 'count',\n",
    "               color='Disease', points=\"all\", hover_data=['Hospital.Code', 'total_pc'], \n",
    "               title=f\"{'proportion' if norm_counts else 'count'} of {cell_population_to_plot} in samples\")\n",
    "    f.show()"
   ]
  },
  {
   "cell_type": "code",
   "execution_count": null,
   "id": "f3d269db-de75-4744-afd1-d7cfdfded034",
   "metadata": {},
   "outputs": [],
   "source": [
    "sample_cell_counts\n",
    "\n",
    "hl_porportions = sample_cell_counts[sample_cell_counts['pc_annotation']=='Healthy_Like'][['Hospital.Code','Biopsy.Sequence', 'Disease','proportion']]\n",
    "mal_porportions = sample_cell_counts[sample_cell_counts['pc_annotation']=='Malignant'][['Hospital.Code','Biopsy.Sequence', 'Disease','proportion']]\n",
    "\n",
    "merged_proportions = mal_porportions.merge(hl_porportions, how='outer', on=['Hospital.Code', 'Biopsy.Sequence', 'Disease'], suffixes=('_mal', '_hl'))\n",
    "merged_proportions[['proportion_hl', 'proportion_mal']] = merged_proportions[['proportion_hl', 'proportion_mal']].fillna(0)\n",
    "\n",
    "merged_proportions\n",
    "px.scatter(merged_proportions, x='proportion_hl', y='proportion_mal', color='Disease', hover_data=['Hospital.Code', 'Biopsy.Sequence'])"
   ]
  },
  {
   "cell_type": "markdown",
   "id": "5c217b98-1372-4c99-88ba-31ac53c624b9",
   "metadata": {},
   "source": [
    "### problems\n",
    "healthy - \n",
    "hipb13 has only 6 pc 2 are mal\n",
    "hip16 and hip17 have more than 20% mal (from 246 and 365 cell respectively)\n",
    "controls with very low PC (ctrl052, control_sa, control_meit, tlv91, contril_keren, ctrl020)(less than 15)- some times have Healthy like instead of Healthy\n",
    "\n"
   ]
  },
  {
   "cell_type": "code",
   "execution_count": null,
   "id": "d568d2e3-6506-441a-bf1c-d35fce5d2701",
   "metadata": {},
   "outputs": [],
   "source": [
    "wrong_labeling_patient_map = {\n",
    "\"TLV07\": \"MGUS\" ,\n",
    "\"TLV14\": \"MGUS\",\n",
    "\"TLV18\": \"SMM\",\n",
    "\"TLV20\": \"NDMM\",\n",
    "\"HMC11\": \"SMM\",\n",
    "\"TLV22\": \"NDMM\",\n",
    "\"HMC12\": \"NDMM\",\n",
    "\"HMC13\": \"MGUS\",\n",
    "\"TLV25\": \"NDMM\" ,\n",
    "\"HMC13\": \"MGUS\",\n",
    "\"TLV26\": \"SMM\",\n",
    "\"TLV27\": \"PRMM\",\n",
    "\"HMC19\": \"NDMM\"\n",
    "}\n",
    "\n",
    "# disease_map = {\"PRMM\": \"RRMM\", \"NDAL\": \"AL\"}\n",
    "\n",
    "# update_disease_col(non_noisy_malignant, wrong_labeling_patient_map, disease_map)\n"
   ]
  },
  {
   "cell_type": "code",
   "execution_count": null,
   "id": "ed0ad347-1017-4e1a-a04c-718c3553d77e",
   "metadata": {
    "scrolled": true
   },
   "outputs": [],
   "source": [
    "\n",
    "Diseases = non_noisy_malignant.obs['Disease'].unique()\n",
    "for d in Diseases:\n",
    "    disease_map = non_noisy_malignant.obs['Disease'] == d\n",
    "    non_noisy_malignant.obs[d] = np.nan\n",
    "    non_noisy_malignant.obs[d][disease_map] = d"
   ]
  },
  {
   "cell_type": "code",
   "execution_count": null,
   "id": "97ad7443-3227-4474-937d-3a2d9423f114",
   "metadata": {},
   "outputs": [],
   "source": [
    "\n",
    "# show_Diseases = list(Diseases)\n",
    "# show_Diseases.remove(\"MM_Unknown\") \n",
    "# show_Diseases.remove(\"EMD\")\n",
    "# show_Diseases.remove(\"AL\")\n",
    "# show_Diseases\n",
    "show_Diseases = ['Healthy', 'MGUS', 'SMM', 'NDMM','non_naive_NDMM', 'RRMM']"
   ]
  },
  {
   "cell_type": "code",
   "execution_count": null,
   "id": "7c1b388f-82e2-4b1c-8868-4f411ac69dd0",
   "metadata": {},
   "outputs": [],
   "source": [
    "sc.pl.umap(non_noisy_malignant, color=show_Diseases, ncols=3, frameon=False, legend_loc=None, palette=\"gist_gray\", size=1)"
   ]
  },
  {
   "cell_type": "code",
   "execution_count": null,
   "id": "40fff53e-4ccd-490d-8c34-c60c8dde9aeb",
   "metadata": {},
   "outputs": [],
   "source": [
    "sc.pl.umap(non_noisy_malignant,\n",
    "               color=[\"number_of_diffrent_patients_in_nighborhood\"],\n",
    "           ncols=2 ,color_map=\"magma\", frameon=False)"
   ]
  },
  {
   "cell_type": "code",
   "execution_count": null,
   "id": "43c265dd-746a-42db-a420-1390f414394f",
   "metadata": {},
   "outputs": [],
   "source": [
    "new_potential_targets = [\"UBA52\", \"RACK1\", \"CST3\", \"TIMP1\", \"FTH1\", \"FTL\"]\n",
    "sc.pl.umap(non_noisy_malignant,  color=new_potential_targets,\n",
    "           ncols=3 ,color_map=\"magma\", palette='Paired')"
   ]
  },
  {
   "cell_type": "code",
   "execution_count": null,
   "id": "5bc7f0f8-e40d-4889-b13e-49ce5d6e2eaa",
   "metadata": {},
   "outputs": [],
   "source": [
    "# patients_with_no_coverage = ['01-001', '01-006', '01-011', '028-0601-005', '028-0608-008', '03-001', '04-002', '04-003', '04-004', '05-001', '08-001', '09-001', '10-005', '11-005', '12-001', '14-001', 'ASF1', 'BEL04', 'P19', 'P20', 'P24', 'CSA-01-02', 'CSA-01-04', 'HMC02', 'HMC06', 'HMC10', 'HMC18', 'HMC20', 'KydarNDMM01', 'KydarNDMM03', 'TLV01', 'TLV12', 'TLV13', 'TLV18', 'TLV19', 'TLV27', 'TLV34', 'TLV41', 'TLV48', 'TLV50-DN', 'TLV53', 'P03', 'P16', 'P35', 'P45', 'P46', 'P54', 'P71', 'P103', 'P208', 'P225', 'P258', 'P300', 'P309', 'P653', 'P659', 'P683', 'P792', 'P818', 'P822', 'P85', 'P942', 'TLV75', 'TLV77', 'TLV85', 'TLV86', 'RMC002']\n",
    "patients_with_no_coverage = ['01-001', '028-0608-008', '04-002', '04-003', '08-001', 'BEL04', 'HMC20', 'KydarNDMM01', 'TLV13', 'TLV34', 'TLV48', 'P03', 'P46', 'P54', 'P103', 'P309', 'P683', 'TLV85']\n",
    "non_noisy_malignant.obs[\"patients_with_no_coverage\"] = non_noisy_malignant.obs[\"Hospital.Code\"].apply(lambda x: x in patients_with_no_coverage)\n",
    "sc.pl.umap(non_noisy_malignant,  color=[\"patients_with_no_coverage\"],\n",
    "           ncols=3 ,color_map=\"magma\", palette='Paired')"
   ]
  },
  {
   "cell_type": "code",
   "execution_count": null,
   "id": "2c70011c-ba07-43c4-baa1-adf9b18f6c64",
   "metadata": {},
   "outputs": [],
   "source": [
    "patients_with_low_coverage = ['01-001', '01-004', '01-011', '028-0603-001', '028-0606-001', '028-0608-008', '04-002', '04-003', '04-005', '05-002', '08-001', '09-001', '09-002', '10-005', '11-003', '11-005', 'ASF1', 'BEL04', 'P19', 'P20', 'CSA-01-02', 'CSA-01-04', 'HMC05', 'HMC06', 'HMC10', 'HMC11', 'HMC18', 'HMC20', 'KydarNDMM01', 'KydarNDMM03', 'TLV01', 'TLV12', 'TLV13', 'TLV18', 'TLV19', 'TLV25', 'TLV27', 'TLV34', 'TLV48', 'TLV51', 'P03', 'P16', 'P35', 'P45', 'P46', 'P48', 'P54', 'P103', 'P225', 'P258', 'P309', 'P659', 'P683', 'P792', 'P85', 'TLV53', 'TLV77', 'TLV85']\n",
    "non_noisy_malignant.obs[\"patients_with_low_coverage\"] = non_noisy_malignant.obs[\"Hospital.Code\"].apply(lambda x: x in patients_with_low_coverage)\n",
    "sc.pl.umap(non_noisy_malignant,  color=[\"patients_with_low_coverage\"],\n",
    "           ncols=3 ,color_map=\"magma\", palette='Paired')"
   ]
  },
  {
   "cell_type": "markdown",
   "id": "94634f5c-9104-4ba9-a8f4-9cc84305282a",
   "metadata": {},
   "source": [
    "### cell level arch vis"
   ]
  },
  {
   "cell_type": "code",
   "execution_count": null,
   "id": "92ea9722-210c-4d25-999a-1448143d694f",
   "metadata": {},
   "outputs": [],
   "source": [
    "from sklearn.metrics import confusion_matrix, ConfusionMatrixDisplay\n",
    "\n",
    "\n",
    "sample_level = False\n",
    "\n",
    "if sample_level:\n",
    "    # nmf_path = \"/home/labs/amit/annaku/repos/MM_2024_AK/Shuang_scripts/outputs/arch_sample_v5_without_drivers.csv\"\n",
    "    nmf_path = \"/home/labs/amit/annaku/repos/MM_2024_AK/Shuang_scripts/outputs/arch_sample_v5_with_drivers.csv\"\n",
    "else:\n",
    "    nmf_path = \"/home/labs/amit/annaku/repos/MM_2024_AK/Shuang_scripts/outputs/arch_sample_v4_without_drivers.csv\"\n",
    "\n",
    "# load old shuang architypes to rename our new ones\n",
    "path_sh = '/home/labs/amit/shuangyi/Project_MM3/Atlas/scvi_diff/z_v4_cl_clus.Rds'\n",
    "result = pyreadr.read_r(path_sh)\n",
    "df_sh = result[None]\n",
    "df_sh['PID'] = df_sh['PID'].str.lower()\n",
    "\n",
    "if not sample_level:\n",
    "    arch_score_df = pd.read_csv(nmf_path)\n",
    "    arch_score_df['index'] = arch_score_df['index'].str.lower()\n",
    "    arch_score_df = arch_score_df.set_index('index').drop(columns=['Unnamed: 0', 'Row.names'])\n",
    "    \n",
    "    print(\"make sure that the following manual cluster map match the print\")\n",
    "    print(pd.concat([arch_score_df['Cluster'], df_sh.set_index(\"PID\")['clus_new']], axis=1).value_counts().sort_index())\n",
    "    arch_map = {'1': '2', '2': '8', '3': '7', '4':'6', '5':'5', '6':'1', '7':'4', '8':'3'}\n",
    "    \n",
    "    arch_score_df = arch_score_df.rename(columns=arch_map)\n",
    "    arch_score_df = arch_score_df.drop(columns='Cluster')\n",
    "    arch_score_df = arch_score_df.merge(df_sh[[\"PID\", \"clus_new\"]], how='inner', left_index=True, right_on='PID')\n",
    "    arch_score_df = arch_score_df.set_index('PID')\n",
    "    arch_score_df = arch_score_df.rename(columns={'clus_new': 'architype'})\n",
    "    arch_score_df['architype'] = arch_score_df['architype'].astype(str)\n",
    "else:\n",
    "    arch_score_df = arch_score_df = pd.read_csv(nmf_path)\n",
    "    arch_score_df['index'] = arch_score_df['index'].str.lower()\n",
    "    arch_score_df['SID'] = arch_score_df['index']\n",
    "    arch_score_df = arch_score_df.set_index('SID').drop(columns=['Unnamed: 0', 'Row.names', 'index'])\n",
    "    arch_score_df = arch_score_df.rename(columns={'Cluster': 'architype'})\n",
    "\n",
    "    print(\"make sure that the following manual cluster map match the print\")\n",
    "    arch_score_df['PID'] = pd.Series([str(sid)[:-2] for sid in arch_score_df.index], index=arch_score_df.index)\n",
    "    cm = confusion_matrix(arch_score_df.merge(df_sh, how='inner', on=\"PID\")['clus_new'].astype(int),\n",
    "                      arch_score_df.merge(df_sh, how='inner', on=\"PID\")['architype'].astype(int))\n",
    "    disp = ConfusionMatrixDisplay(confusion_matrix=cm,\n",
    "                                  display_labels=[int(i) for i in range(1,9)])\n",
    "    disp.plot()\n",
    "    disp.ax_.set_title('before renameing')\n",
    "    \n",
    "    # arch_map = {'1': '4', '2': '2', '3': '3', '4': '5', '5': '6', '6': '8',  '7': '1', '8': '7'} # for version with no MM drivers\n",
    "    arch_map = {'1': '8', '2': '3', '3': '5', '4': '4', '5': '7', '6': '1', '7': '6', '8': '2'}\n",
    "    \n",
    "    arch_score_df = arch_score_df.rename(columns=arch_map)\n",
    "    arch_score_df['architype'] = arch_score_df['architype'].apply(lambda x: arch_map[str(x)])\n",
    "    \n",
    "    cm = confusion_matrix(arch_score_df.merge(df_sh, how='inner', on=\"PID\")['clus_new'].astype(int),\n",
    "                      arch_score_df.merge(df_sh, how='inner', on=\"PID\")['architype'].astype(int))\n",
    "    disp = ConfusionMatrixDisplay(confusion_matrix=cm,\n",
    "                                  display_labels=[int(i) for i in range(1,9)])\n",
    "    disp.plot()\n",
    "    disp.ax_.set_title('after renameing')"
   ]
  },
  {
   "cell_type": "code",
   "execution_count": null,
   "id": "e491f71a-530c-420b-8dfc-f03522e168ae",
   "metadata": {},
   "outputs": [],
   "source": [
    "arch_score_df"
   ]
  },
  {
   "cell_type": "code",
   "execution_count": null,
   "id": "b8d432cc-8a42-422f-a2cc-406de7973623",
   "metadata": {},
   "outputs": [],
   "source": [
    "non_noisy_malignant.obs['PID'] = 'z.' + non_noisy_malignant.obs['Method'].astype(str) + '_malignant_' + non_noisy_malignant.obs['Hospital.Code'].astype(str)\n",
    "non_noisy_malignant.obs['PID'] = non_noisy_malignant.obs['PID'].str.lower()\n",
    "non_noisy_malignant.obs['PID_HL'] = 'z.' + non_noisy_malignant.obs['Method'].astype(str) + '_healthy_like_' + non_noisy_malignant.obs['Hospital.Code'].astype(str)\n",
    "non_noisy_malignant.obs['PID_HL'] = non_noisy_malignant.obs['PID_HL'].str.lower()"
   ]
  },
  {
   "cell_type": "code",
   "execution_count": null,
   "id": "0343bbc5-0f7a-469a-9b14-6bc6fecfcb18",
   "metadata": {},
   "outputs": [],
   "source": [
    "if not sample_level:\n",
    "    non_noisy_malignant.obs = non_noisy_malignant.obs.merge(arch_score_df, how='left', left_on='PID', right_index=True)\n",
    "else:\n",
    "    non_noisy_malignant.obs = non_noisy_malignant.obs.merge(arch_score_df, how='left', on='PID')\n",
    "non_noisy_malignant.obs['architype'] = non_noisy_malignant.obs['architype'].astype('category')\n"
   ]
  },
  {
   "cell_type": "code",
   "execution_count": null,
   "id": "cef7d4f6-a871-441d-b6a0-bc5e8e3f80d9",
   "metadata": {},
   "outputs": [],
   "source": [
    "sc.pl.umap(non_noisy_malignant,  color=[str(i) for i in range(2,9)] + ['architype'],\n",
    "           ncols=3 ,color_map=\"viridis\", palette='tab10')"
   ]
  },
  {
   "cell_type": "code",
   "execution_count": null,
   "id": "0efb12dd-9349-4825-9649-46f131f87e12",
   "metadata": {},
   "outputs": [],
   "source": []
  }
 ],
 "metadata": {
  "kernelspec": {
   "display_name": "Python 3 (ipykernel)",
   "language": "python",
   "name": "python3"
  },
  "language_info": {
   "codemirror_mode": {
    "name": "ipython",
    "version": 3
   },
   "file_extension": ".py",
   "mimetype": "text/x-python",
   "name": "python",
   "nbconvert_exporter": "python",
   "pygments_lexer": "ipython3",
   "version": "3.9.18"
  }
 },
 "nbformat": 4,
 "nbformat_minor": 5
}
